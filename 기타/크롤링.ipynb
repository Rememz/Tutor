{
 "cells": [
  {
   "cell_type": "code",
   "execution_count": 6,
   "metadata": {},
   "outputs": [],
   "source": [
    "from selenium import webdriver\n",
    "from selenium.webdriver.chrome.service import Service\n",
    "from selenium.webdriver.common.by import By\n",
    "from selenium.webdriver.support.ui import WebDriverWait\n",
    "from selenium.webdriver.support import expected_conditions as EC\n",
    "from selenium.common.exceptions import TimeoutException, NoSuchElementException\n",
    "\n",
    "driver = webdriver.Chrome()\n",
    "root = 'https://www.fundguide.net/Fund/SimpleSearch'\n",
    "driver.get(root)\n",
    "\n",
    "\n",
    "from bs4 import BeautifulSoup\n",
    "import time\n",
    "import math\n",
    "import pandas as pd\n",
    "import pickle"
   ]
  },
  {
   "cell_type": "code",
   "execution_count": 7,
   "metadata": {},
   "outputs": [],
   "source": [
    "wait = WebDriverWait(driver, 1)\n",
    "domestic_stock_label = wait.until(EC.element_to_be_clickable((By.XPATH, \"//label[@for='chkListA0']\")))\n",
    "domestic_stock_label.click()"
   ]
  },
  {
   "cell_type": "code",
   "execution_count": 8,
   "metadata": {},
   "outputs": [],
   "source": [
    " # 검색 버튼 클릭\n",
    "search_button = wait.until(EC.element_to_be_clickable((By.XPATH, \"//button[@class='btn btn--basic2']\")))\n",
    "search_button.click()\n",
    "time.sleep(5)"
   ]
  },
  {
   "cell_type": "code",
   "execution_count": 9,
   "metadata": {},
   "outputs": [
    {
     "data": {
      "text/plain": [
       "['NH-AmundiHANARO원자력iSelect증권상장지수투자신탁(주식)',\n",
       " '미래에셋TIGER코스닥150바이오테크증권상장지수투자신탁(주식)',\n",
       " '한국투자ACE원자력테마딥서치증권상장지수투자신탁(주식)',\n",
       " '미래에셋TIGER은행증권상장지수투자신탁(주식)',\n",
       " '삼성KODEX은행증권상장지수투자신탁[주식]',\n",
       " 'KBRISE200금융증권상장지수투자신탁(주식)',\n",
       " '미래에셋TIGER화장품증권상장지수투자신탁(주식)',\n",
       " '미래에셋TIGER200금융증권상장지수투자신탁(주식)',\n",
       " '한화PLUS고배당주증권상장지수투자신탁(주식)',\n",
       " '삼성KODEX보험증권상장지수투자신탁[주식]']"
      ]
     },
     "execution_count": 9,
     "metadata": {},
     "output_type": "execute_result"
    }
   ],
   "source": [
    "# fund_detail 클래스를 가진 모든 <a> 태그 찾기\n",
    "fund_details = driver.find_elements(By.CSS_SELECTOR, \"a.fund_detail\")\n",
    "\n",
    "# 각 <a> 태그에서 텍스트 추출\n",
    "fund_names = [fund_detail.text for fund_detail in fund_details]\n",
    "fund_names"
   ]
  },
  {
   "cell_type": "code",
   "execution_count": 10,
   "metadata": {},
   "outputs": [],
   "source": [
    "# 첫 번째 펀드명 클릭\n",
    "first_fund_detail = fund_details[0]\n",
    "first_fund_detail.click()"
   ]
  },
  {
   "cell_type": "code",
   "execution_count": null,
   "metadata": {},
   "outputs": [],
   "source": []
  },
  {
   "cell_type": "code",
   "execution_count": 11,
   "metadata": {},
   "outputs": [],
   "source": [
    "# '성과' 버튼이 포함된 <li> 요소 찾기 및 클릭\n",
    "performance_li = wait.until(EC.element_to_be_clickable((By.XPATH, \"//li[button[@class='btn--tab__fund' and @value='1']]\")))\n",
    "performance_button = performance_li.find_element(By.XPATH, \".//button\")\n",
    "performance_button.click()"
   ]
  },
  {
   "cell_type": "code",
   "execution_count": 12,
   "metadata": {},
   "outputs": [],
   "source": [
    "last_button = driver.find_element(By.XPATH, '//*[@id=\"tabPaging_info\"]/div/tr/button[13]')\n",
    "last_button.click()\n",
    "time.sleep(3)"
   ]
  },
  {
   "cell_type": "code",
   "execution_count": null,
   "metadata": {},
   "outputs": [],
   "source": []
  },
  {
   "cell_type": "code",
   "execution_count": 13,
   "metadata": {},
   "outputs": [
    {
     "name": "stdout",
     "output_type": "stream",
     "text": [
      "0\n",
      "1\n",
      "2\n",
      "3\n",
      "4\n",
      "5\n",
      "6\n",
      "7\n",
      "8\n",
      "9\n",
      "10\n",
      "11\n",
      "12\n",
      "13\n",
      "14\n",
      "15\n",
      "16\n",
      "17\n",
      "18\n",
      "19\n",
      "20\n",
      "21\n",
      "22\n",
      "23\n",
      "24\n",
      "25\n",
      "26\n",
      "27\n",
      "28\n",
      "29\n"
     ]
    }
   ],
   "source": [
    "table_data = []\n",
    "for i in range(100):\n",
    "    if i < 30:\n",
    "        \n",
    "        time.sleep(2)\n",
    "        table = driver.find_element(By.ID, 'tbl_rate')\n",
    "        headers = [header.text for header in table.find_elements(By.XPATH, \".//thead//th\")]\n",
    "        rows = table.find_elements(By.XPATH, \".//tbody//tr\")\n",
    "\n",
    "        for row in rows:\n",
    "            cells = row.find_elements(By.XPATH, \".//td\")\n",
    "            cell_data = [cell.text for cell in cells]\n",
    "            table_data.append(cell_data)\n",
    "\n",
    "        prev_button = driver.find_element(By.XPATH, '//*[@id=\"tabPaging_info\"]/div/tr/button[2]')\n",
    "        prev_button.click()\n",
    "\n",
    "        print(i)\n",
    "    else :\n",
    "        break\n",
    "\n",
    "            "
   ]
  },
  {
   "cell_type": "code",
   "execution_count": 14,
   "metadata": {},
   "outputs": [
    {
     "data": {
      "text/html": [
       "<div>\n",
       "<style scoped>\n",
       "    .dataframe tbody tr th:only-of-type {\n",
       "        vertical-align: middle;\n",
       "    }\n",
       "\n",
       "    .dataframe tbody tr th {\n",
       "        vertical-align: top;\n",
       "    }\n",
       "\n",
       "    .dataframe thead th {\n",
       "        text-align: right;\n",
       "    }\n",
       "</style>\n",
       "<table border=\"1\" class=\"dataframe\">\n",
       "  <thead>\n",
       "    <tr style=\"text-align: right;\">\n",
       "      <th></th>\n",
       "      <th>기준일</th>\n",
       "      <th>기준가(원)</th>\n",
       "      <th>전일대비</th>\n",
       "      <th>등락률(%)</th>\n",
       "      <th>과표기준가(원)</th>\n",
       "      <th>설정액(억원)</th>\n",
       "      <th>KOSPI</th>\n",
       "    </tr>\n",
       "  </thead>\n",
       "  <tbody>\n",
       "    <tr>\n",
       "      <th>0</th>\n",
       "      <td>2023.08.01</td>\n",
       "      <td>11,971.52</td>\n",
       "      <td>348.92</td>\n",
       "      <td>3.00</td>\n",
       "      <td>10,715.41</td>\n",
       "      <td>69.75</td>\n",
       "      <td>2,632.58</td>\n",
       "    </tr>\n",
       "    <tr>\n",
       "      <th>1</th>\n",
       "      <td>2023.07.31</td>\n",
       "      <td>11,622.60</td>\n",
       "      <td>281.94</td>\n",
       "      <td>2.49</td>\n",
       "      <td>10,715.58</td>\n",
       "      <td>69.75</td>\n",
       "      <td>2,608.32</td>\n",
       "    </tr>\n",
       "    <tr>\n",
       "      <th>2</th>\n",
       "      <td>2023.07.28</td>\n",
       "      <td>11,340.66</td>\n",
       "      <td>121.99</td>\n",
       "      <td>1.09</td>\n",
       "      <td>10,716.10</td>\n",
       "      <td>64.38</td>\n",
       "      <td>2,603.81</td>\n",
       "    </tr>\n",
       "    <tr>\n",
       "      <th>3</th>\n",
       "      <td>2023.07.27</td>\n",
       "      <td>11,218.67</td>\n",
       "      <td>-896.57</td>\n",
       "      <td>-7.40</td>\n",
       "      <td>10,716.27</td>\n",
       "      <td>64.38</td>\n",
       "      <td>2,592.36</td>\n",
       "    </tr>\n",
       "    <tr>\n",
       "      <th>4</th>\n",
       "      <td>2023.07.26</td>\n",
       "      <td>12,115.24</td>\n",
       "      <td>615.11</td>\n",
       "      <td>5.35</td>\n",
       "      <td>10,716.44</td>\n",
       "      <td>64.38</td>\n",
       "      <td>2,636.46</td>\n",
       "    </tr>\n",
       "    <tr>\n",
       "      <th>...</th>\n",
       "      <td>...</td>\n",
       "      <td>...</td>\n",
       "      <td>...</td>\n",
       "      <td>...</td>\n",
       "      <td>...</td>\n",
       "      <td>...</td>\n",
       "      <td>...</td>\n",
       "    </tr>\n",
       "    <tr>\n",
       "      <th>242</th>\n",
       "      <td>2024.07.17</td>\n",
       "      <td>19,626.65</td>\n",
       "      <td>-260.90</td>\n",
       "      <td>-1.31</td>\n",
       "      <td>10,711.00</td>\n",
       "      <td>321.90</td>\n",
       "      <td>2,866.09</td>\n",
       "    </tr>\n",
       "    <tr>\n",
       "      <th>243</th>\n",
       "      <td>2024.07.16</td>\n",
       "      <td>19,887.55</td>\n",
       "      <td>584.73</td>\n",
       "      <td>3.03</td>\n",
       "      <td>10,711.28</td>\n",
       "      <td>321.90</td>\n",
       "      <td>2,860.92</td>\n",
       "    </tr>\n",
       "    <tr>\n",
       "      <th>244</th>\n",
       "      <td>2024.07.15</td>\n",
       "      <td>19,302.82</td>\n",
       "      <td>-202.48</td>\n",
       "      <td>-1.04</td>\n",
       "      <td>10,711.56</td>\n",
       "      <td>321.90</td>\n",
       "      <td>2,857.00</td>\n",
       "    </tr>\n",
       "    <tr>\n",
       "      <th>245</th>\n",
       "      <td>2024.07.12</td>\n",
       "      <td>19,505.30</td>\n",
       "      <td>-67.20</td>\n",
       "      <td>-0.34</td>\n",
       "      <td>10,712.36</td>\n",
       "      <td>289.71</td>\n",
       "      <td>2,891.35</td>\n",
       "    </tr>\n",
       "    <tr>\n",
       "      <th>246</th>\n",
       "      <td>2024.07.11</td>\n",
       "      <td>19,572.50</td>\n",
       "      <td>337.93</td>\n",
       "      <td>1.76</td>\n",
       "      <td>10,712.61</td>\n",
       "      <td>268.25</td>\n",
       "      <td>2,867.99</td>\n",
       "    </tr>\n",
       "  </tbody>\n",
       "</table>\n",
       "<p>247 rows × 7 columns</p>\n",
       "</div>"
      ],
      "text/plain": [
       "            기준일     기준가(원)     전일대비 등락률(%)   과표기준가(원) 설정액(억원)     KOSPI\n",
       "0    2023.08.01  11,971.52   348.92   3.00  10,715.41   69.75  2,632.58\n",
       "1    2023.07.31  11,622.60   281.94   2.49  10,715.58   69.75  2,608.32\n",
       "2    2023.07.28  11,340.66   121.99   1.09  10,716.10   64.38  2,603.81\n",
       "3    2023.07.27  11,218.67  -896.57  -7.40  10,716.27   64.38  2,592.36\n",
       "4    2023.07.26  12,115.24   615.11   5.35  10,716.44   64.38  2,636.46\n",
       "..          ...        ...      ...    ...        ...     ...       ...\n",
       "242  2024.07.17  19,626.65  -260.90  -1.31  10,711.00  321.90  2,866.09\n",
       "243  2024.07.16  19,887.55   584.73   3.03  10,711.28  321.90  2,860.92\n",
       "244  2024.07.15  19,302.82  -202.48  -1.04  10,711.56  321.90  2,857.00\n",
       "245  2024.07.12  19,505.30   -67.20  -0.34  10,712.36  289.71  2,891.35\n",
       "246  2024.07.11  19,572.50   337.93   1.76  10,712.61  268.25  2,867.99\n",
       "\n",
       "[247 rows x 7 columns]"
      ]
     },
     "execution_count": 14,
     "metadata": {},
     "output_type": "execute_result"
    }
   ],
   "source": [
    "# 데이터 출력\n",
    "df = pd.DataFrame(table_data, columns=headers)\n",
    "df.drop_duplicates()"
   ]
  },
  {
   "cell_type": "code",
   "execution_count": 15,
   "metadata": {},
   "outputs": [
    {
     "data": {
      "text/plain": [
       "'NH-AmundiHANARO원자력iSelect증권상장지수투자신탁(주식)'"
      ]
     },
     "execution_count": 15,
     "metadata": {},
     "output_type": "execute_result"
    }
   ],
   "source": [
    "fund_names[0]"
   ]
  },
  {
   "cell_type": "code",
   "execution_count": 16,
   "metadata": {},
   "outputs": [
    {
     "data": {
      "text/plain": [
       "'NH-AmundiHANARO원자력iSelect증권상장지수투자신탁(주식)'"
      ]
     },
     "execution_count": 16,
     "metadata": {},
     "output_type": "execute_result"
    }
   ],
   "source": [
    "file_name =fund_names[0]\n",
    "file_name"
   ]
  },
  {
   "cell_type": "code",
   "execution_count": 17,
   "metadata": {},
   "outputs": [],
   "source": [
    "df.to_csv(file_name, index=False)"
   ]
  },
  {
   "cell_type": "code",
   "execution_count": null,
   "metadata": {},
   "outputs": [],
   "source": []
  }
 ],
 "metadata": {
  "kernelspec": {
   "display_name": "Python 3",
   "language": "python",
   "name": "python3"
  },
  "language_info": {
   "codemirror_mode": {
    "name": "ipython",
    "version": 3
   },
   "file_extension": ".py",
   "mimetype": "text/x-python",
   "name": "python",
   "nbconvert_exporter": "python",
   "pygments_lexer": "ipython3",
   "version": "3.9.6"
  }
 },
 "nbformat": 4,
 "nbformat_minor": 2
}

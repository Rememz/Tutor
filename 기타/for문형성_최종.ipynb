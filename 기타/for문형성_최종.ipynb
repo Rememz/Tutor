{
 "cells": [
  {
   "cell_type": "code",
   "execution_count": 9,
   "metadata": {},
   "outputs": [],
   "source": [
    "from selenium import webdriver\n",
    "from selenium.webdriver.chrome.service import Service\n",
    "from selenium.webdriver.common.by import By\n",
    "from selenium.webdriver.support.ui import WebDriverWait\n",
    "from selenium.webdriver.support import expected_conditions as EC\n",
    "from selenium.common.exceptions import TimeoutException, NoSuchElementException\n",
    "from bs4 import BeautifulSoup as bs\n",
    "\n",
    "import time\n",
    "import math\n",
    "import pandas as pd\n",
    "import pickle\n",
    "\n",
    "from tqdm import trange, tqdm"
   ]
  },
  {
   "cell_type": "code",
   "execution_count": 10,
   "metadata": {},
   "outputs": [],
   "source": [
    "driver = webdriver.Chrome()\n",
    "driver.maximize_window()\n",
    "root = 'https://www.fundguide.net/Fund/SimpleSearch'\n",
    "driver.get(root)"
   ]
  },
  {
   "cell_type": "code",
   "execution_count": 11,
   "metadata": {},
   "outputs": [],
   "source": [
    "# 투자유형 - 국내주식형 체크\n",
    "wait = WebDriverWait(driver, 1)\n",
    "domestic_stock_label = wait.until(EC.element_to_be_clickable((By.XPATH, \"//label[@for='chkListA0']\")))\n",
    "domestic_stock_label.click()"
   ]
  },
  {
   "cell_type": "code",
   "execution_count": 12,
   "metadata": {},
   "outputs": [],
   "source": [
    " # 검색 버튼 클릭\n",
    "search_button = wait.until(EC.element_to_be_clickable((By.XPATH, \"//button[@class='btn btn--basic2']\")))\n",
    "search_button.click()\n",
    "time.sleep(2)"
   ]
  },
  {
   "cell_type": "code",
   "execution_count": 13,
   "metadata": {},
   "outputs": [],
   "source": [
    "# 맨 마지막(462페이지)으로 가기\n",
    "search_button = wait.until(EC.element_to_be_clickable((By.XPATH, \"//*[@id='tabPaging']/div/tr/button[13]\")))\n",
    "search_button.click()\n",
    "time.sleep(2)"
   ]
  },
  {
   "cell_type": "code",
   "execution_count": 14,
   "metadata": {},
   "outputs": [
    {
     "name": "stderr",
     "output_type": "stream",
     "text": [
      "100%|██████████| 4/4 [00:08<00:00,  2.11s/it]\n",
      "100%|██████████| 51/51 [02:06<00:00,  2.47s/it]t]\n",
      "100%|██████████| 7/7 [00:14<00:00,  2.12s/it]\n"
     ]
    },
    {
     "name": "stdout",
     "output_type": "stream",
     "text": [
      "461페이지 3번째 펀드 : 우리WOORI반도체밸류체인액티브증권상장지수투자신탁(주식) : 코로나 데이터 없음\n",
      "461페이지 4번째 펀드 : 우리나라신성장TOP20증권자투자신탁 1(주식)ClassC : 코로나 데이터 없음\n"
     ]
    },
    {
     "name": "stderr",
     "output_type": "stream",
     "text": [
      "100%|██████████| 72/72 [02:27<00:00,  2.05s/it]\n"
     ]
    },
    {
     "name": "stdout",
     "output_type": "stream",
     "text": [
      "461페이지 6번째 펀드 : 삼성코스닥150인덱스증권투자신탁[주식-파생형]_C-Pe : 코로나 데이터 없음\n",
      "461페이지 7번째 펀드 : 우리나라신성장TOP20증권자투자신탁 1(주식)ClassS-P(퇴직) : 코로나 데이터 없음\n",
      "461페이지 8번째 펀드 : BNK삼성전자중소형증권투자신탁 1(주식)ClassS-P : 코로나 데이터 없음\n",
      "461페이지 9번째 펀드 : 하나K-ing증권투자신탁[주식]ClassC-P : 코로나 데이터 없음\n",
      "461페이지 10번째 펀드 : 우리중소형고배당증권자투자신탁 1(주식)ClassS-P(퇴직) : 코로나 데이터 없음\n"
     ]
    },
    {
     "name": "stderr",
     "output_type": "stream",
     "text": [
      "100%|██████████| 51/51 [01:23<00:00,  1.64s/it]/it]\n",
      "100%|██████████| 7/7 [00:10<00:00,  1.46s/it]\n"
     ]
    },
    {
     "name": "stdout",
     "output_type": "stream",
     "text": [
      "460페이지 3번째 펀드 : 우리WOORI반도체밸류체인액티브증권상장지수투자신탁(주식) : 코로나 데이터 없음\n",
      "460페이지 4번째 펀드 : 우리나라신성장TOP20증권자투자신탁 1(주식)ClassC : 코로나 데이터 없음\n"
     ]
    },
    {
     "name": "stderr",
     "output_type": "stream",
     "text": [
      "100%|██████████| 72/72 [01:47<00:00,  1.49s/it]\n"
     ]
    },
    {
     "name": "stdout",
     "output_type": "stream",
     "text": [
      "460페이지 6번째 펀드 : 삼성코스닥150인덱스증권투자신탁[주식-파생형]_C-Pe : 코로나 데이터 없음\n",
      "460페이지 7번째 펀드 : 우리나라신성장TOP20증권자투자신탁 1(주식)ClassS-P(퇴직) : 코로나 데이터 없음\n",
      "460페이지 8번째 펀드 : BNK삼성전자중소형증권투자신탁 1(주식)ClassS-P : 코로나 데이터 없음\n",
      "460페이지 9번째 펀드 : 하나K-ing증권투자신탁[주식]ClassC-P : 코로나 데이터 없음\n",
      "460페이지 10번째 펀드 : 우리중소형고배당증권자투자신탁 1(주식)ClassS-P(퇴직) : 코로나 데이터 없음\n"
     ]
    },
    {
     "name": "stderr",
     "output_type": "stream",
     "text": [
      "100%|██████████| 51/51 [01:15<00:00,  1.49s/it]/it]\n",
      "100%|██████████| 7/7 [00:10<00:00,  1.46s/it]\n"
     ]
    },
    {
     "name": "stdout",
     "output_type": "stream",
     "text": [
      "459페이지 3번째 펀드 : 우리WOORI반도체밸류체인액티브증권상장지수투자신탁(주식) : 코로나 데이터 없음\n",
      "459페이지 4번째 펀드 : 우리나라신성장TOP20증권자투자신탁 1(주식)ClassC : 코로나 데이터 없음\n"
     ]
    },
    {
     "name": "stderr",
     "output_type": "stream",
     "text": [
      "100%|██████████| 72/72 [01:48<00:00,  1.50s/it]\n"
     ]
    },
    {
     "name": "stdout",
     "output_type": "stream",
     "text": [
      "459페이지 6번째 펀드 : 삼성코스닥150인덱스증권투자신탁[주식-파생형]_C-Pe : 코로나 데이터 없음\n",
      "459페이지 7번째 펀드 : 우리나라신성장TOP20증권자투자신탁 1(주식)ClassS-P(퇴직) : 코로나 데이터 없음\n",
      "459페이지 8번째 펀드 : BNK삼성전자중소형증권투자신탁 1(주식)ClassS-P : 코로나 데이터 없음\n",
      "459페이지 9번째 펀드 : 하나K-ing증권투자신탁[주식]ClassC-P : 코로나 데이터 없음\n",
      "459페이지 10번째 펀드 : 우리중소형고배당증권자투자신탁 1(주식)ClassS-P(퇴직) : 코로나 데이터 없음\n"
     ]
    },
    {
     "name": "stderr",
     "output_type": "stream",
     "text": [
      "100%|██████████| 51/51 [01:14<00:00,  1.46s/it]/it]\n",
      "100%|██████████| 7/7 [00:09<00:00,  1.43s/it]\n"
     ]
    },
    {
     "name": "stdout",
     "output_type": "stream",
     "text": [
      "458페이지 3번째 펀드 : 우리WOORI반도체밸류체인액티브증권상장지수투자신탁(주식) : 코로나 데이터 없음\n",
      "458페이지 4번째 펀드 : 우리나라신성장TOP20증권자투자신탁 1(주식)ClassC : 코로나 데이터 없음\n"
     ]
    },
    {
     "name": "stderr",
     "output_type": "stream",
     "text": [
      "100%|██████████| 72/72 [01:52<00:00,  1.56s/it]\n"
     ]
    },
    {
     "name": "stdout",
     "output_type": "stream",
     "text": [
      "458페이지 6번째 펀드 : 삼성코스닥150인덱스증권투자신탁[주식-파생형]_C-Pe : 코로나 데이터 없음\n",
      "458페이지 7번째 펀드 : 우리나라신성장TOP20증권자투자신탁 1(주식)ClassS-P(퇴직) : 코로나 데이터 없음\n",
      "458페이지 8번째 펀드 : BNK삼성전자중소형증권투자신탁 1(주식)ClassS-P : 코로나 데이터 없음\n",
      "458페이지 9번째 펀드 : 하나K-ing증권투자신탁[주식]ClassC-P : 코로나 데이터 없음\n",
      "458페이지 10번째 펀드 : 우리중소형고배당증권자투자신탁 1(주식)ClassS-P(퇴직) : 코로나 데이터 없음\n"
     ]
    },
    {
     "name": "stderr",
     "output_type": "stream",
     "text": [
      "100%|██████████| 51/51 [01:15<00:00,  1.47s/it]/it]\n",
      "100%|██████████| 7/7 [00:10<00:00,  1.45s/it]\n"
     ]
    },
    {
     "name": "stdout",
     "output_type": "stream",
     "text": [
      "457페이지 3번째 펀드 : 우리WOORI반도체밸류체인액티브증권상장지수투자신탁(주식) : 코로나 데이터 없음\n",
      "457페이지 4번째 펀드 : 우리나라신성장TOP20증권자투자신탁 1(주식)ClassC : 코로나 데이터 없음\n"
     ]
    },
    {
     "name": "stderr",
     "output_type": "stream",
     "text": [
      "100%|██████████| 72/72 [01:54<00:00,  1.60s/it]\n"
     ]
    },
    {
     "name": "stdout",
     "output_type": "stream",
     "text": [
      "457페이지 6번째 펀드 : 삼성코스닥150인덱스증권투자신탁[주식-파생형]_C-Pe : 코로나 데이터 없음\n",
      "457페이지 7번째 펀드 : 우리나라신성장TOP20증권자투자신탁 1(주식)ClassS-P(퇴직) : 코로나 데이터 없음\n",
      "457페이지 8번째 펀드 : BNK삼성전자중소형증권투자신탁 1(주식)ClassS-P : 코로나 데이터 없음\n",
      "457페이지 9번째 펀드 : 하나K-ing증권투자신탁[주식]ClassC-P : 코로나 데이터 없음\n",
      "457페이지 10번째 펀드 : 우리중소형고배당증권자투자신탁 1(주식)ClassS-P(퇴직) : 코로나 데이터 없음\n"
     ]
    },
    {
     "name": "stderr",
     "output_type": "stream",
     "text": [
      "100%|██████████| 51/51 [01:11<00:00,  1.39s/it]/it]\n",
      "100%|██████████| 7/7 [00:10<00:00,  1.44s/it]\n"
     ]
    },
    {
     "name": "stdout",
     "output_type": "stream",
     "text": [
      "456페이지 3번째 펀드 : 우리WOORI반도체밸류체인액티브증권상장지수투자신탁(주식) : 코로나 데이터 없음\n",
      "456페이지 4번째 펀드 : 우리나라신성장TOP20증권자투자신탁 1(주식)ClassC : 코로나 데이터 없음\n"
     ]
    },
    {
     "name": "stderr",
     "output_type": "stream",
     "text": [
      "100%|██████████| 72/72 [01:47<00:00,  1.49s/it]\n"
     ]
    },
    {
     "name": "stdout",
     "output_type": "stream",
     "text": [
      "456페이지 6번째 펀드 : 삼성코스닥150인덱스증권투자신탁[주식-파생형]_C-Pe : 코로나 데이터 없음\n",
      "456페이지 7번째 펀드 : 우리나라신성장TOP20증권자투자신탁 1(주식)ClassS-P(퇴직) : 코로나 데이터 없음\n",
      "456페이지 8번째 펀드 : BNK삼성전자중소형증권투자신탁 1(주식)ClassS-P : 코로나 데이터 없음\n",
      "456페이지 9번째 펀드 : 하나K-ing증권투자신탁[주식]ClassC-P : 코로나 데이터 없음\n",
      "456페이지 10번째 펀드 : 우리중소형고배당증권자투자신탁 1(주식)ClassS-P(퇴직) : 코로나 데이터 없음\n"
     ]
    },
    {
     "name": "stderr",
     "output_type": "stream",
     "text": [
      "100%|██████████| 51/51 [01:11<00:00,  1.39s/it]/it]\n",
      "100%|██████████| 7/7 [00:10<00:00,  1.44s/it]\n"
     ]
    },
    {
     "name": "stdout",
     "output_type": "stream",
     "text": [
      "455페이지 3번째 펀드 : 우리WOORI반도체밸류체인액티브증권상장지수투자신탁(주식) : 코로나 데이터 없음\n",
      "455페이지 4번째 펀드 : 우리나라신성장TOP20증권자투자신탁 1(주식)ClassC : 코로나 데이터 없음\n"
     ]
    },
    {
     "name": "stderr",
     "output_type": "stream",
     "text": [
      "100%|██████████| 72/72 [01:46<00:00,  1.48s/it]\n"
     ]
    },
    {
     "name": "stdout",
     "output_type": "stream",
     "text": [
      "455페이지 6번째 펀드 : 삼성코스닥150인덱스증권투자신탁[주식-파생형]_C-Pe : 코로나 데이터 없음\n",
      "455페이지 7번째 펀드 : 우리나라신성장TOP20증권자투자신탁 1(주식)ClassS-P(퇴직) : 코로나 데이터 없음\n",
      "455페이지 8번째 펀드 : BNK삼성전자중소형증권투자신탁 1(주식)ClassS-P : 코로나 데이터 없음\n",
      "455페이지 9번째 펀드 : 하나K-ing증권투자신탁[주식]ClassC-P : 코로나 데이터 없음\n",
      "455페이지 10번째 펀드 : 우리중소형고배당증권자투자신탁 1(주식)ClassS-P(퇴직) : 코로나 데이터 없음\n"
     ]
    },
    {
     "name": "stderr",
     "output_type": "stream",
     "text": [
      "100%|██████████| 51/51 [01:11<00:00,  1.39s/it]/it]\n",
      "100%|██████████| 7/7 [00:10<00:00,  1.47s/it]\n"
     ]
    },
    {
     "name": "stdout",
     "output_type": "stream",
     "text": [
      "454페이지 3번째 펀드 : 우리WOORI반도체밸류체인액티브증권상장지수투자신탁(주식) : 코로나 데이터 없음\n",
      "454페이지 4번째 펀드 : 우리나라신성장TOP20증권자투자신탁 1(주식)ClassC : 코로나 데이터 없음\n"
     ]
    },
    {
     "name": "stderr",
     "output_type": "stream",
     "text": [
      "100%|██████████| 72/72 [01:44<00:00,  1.46s/it]\n"
     ]
    },
    {
     "name": "stdout",
     "output_type": "stream",
     "text": [
      "454페이지 6번째 펀드 : 삼성코스닥150인덱스증권투자신탁[주식-파생형]_C-Pe : 코로나 데이터 없음\n",
      "454페이지 7번째 펀드 : 우리나라신성장TOP20증권자투자신탁 1(주식)ClassS-P(퇴직) : 코로나 데이터 없음\n",
      "454페이지 8번째 펀드 : BNK삼성전자중소형증권투자신탁 1(주식)ClassS-P : 코로나 데이터 없음\n",
      "454페이지 9번째 펀드 : 하나K-ing증권투자신탁[주식]ClassC-P : 코로나 데이터 없음\n",
      "454페이지 10번째 펀드 : 우리중소형고배당증권자투자신탁 1(주식)ClassS-P(퇴직) : 코로나 데이터 없음\n"
     ]
    },
    {
     "name": "stderr",
     "output_type": "stream",
     "text": [
      "100%|██████████| 51/51 [01:11<00:00,  1.40s/it]/it]\n",
      "100%|██████████| 7/7 [00:10<00:00,  1.50s/it]\n"
     ]
    },
    {
     "name": "stdout",
     "output_type": "stream",
     "text": [
      "453페이지 3번째 펀드 : 우리WOORI반도체밸류체인액티브증권상장지수투자신탁(주식) : 코로나 데이터 없음\n",
      "453페이지 4번째 펀드 : 우리나라신성장TOP20증권자투자신탁 1(주식)ClassC : 코로나 데이터 없음\n"
     ]
    },
    {
     "name": "stderr",
     "output_type": "stream",
     "text": [
      "100%|██████████| 72/72 [01:53<00:00,  1.58s/it]\n"
     ]
    },
    {
     "name": "stdout",
     "output_type": "stream",
     "text": [
      "453페이지 6번째 펀드 : 삼성코스닥150인덱스증권투자신탁[주식-파생형]_C-Pe : 코로나 데이터 없음\n",
      "453페이지 7번째 펀드 : 우리나라신성장TOP20증권자투자신탁 1(주식)ClassS-P(퇴직) : 코로나 데이터 없음\n",
      "453페이지 8번째 펀드 : BNK삼성전자중소형증권투자신탁 1(주식)ClassS-P : 코로나 데이터 없음\n",
      "453페이지 9번째 펀드 : 하나K-ing증권투자신탁[주식]ClassC-P : 코로나 데이터 없음\n",
      "453페이지 10번째 펀드 : 우리중소형고배당증권자투자신탁 1(주식)ClassS-P(퇴직) : 코로나 데이터 없음\n"
     ]
    },
    {
     "name": "stderr",
     "output_type": "stream",
     "text": [
      "100%|██████████| 51/51 [01:10<00:00,  1.38s/it]s/it]\n",
      "100%|██████████| 7/7 [00:10<00:00,  1.48s/it]\n"
     ]
    },
    {
     "name": "stdout",
     "output_type": "stream",
     "text": [
      "452페이지 3번째 펀드 : 우리WOORI반도체밸류체인액티브증권상장지수투자신탁(주식) : 코로나 데이터 없음\n",
      "452페이지 4번째 펀드 : 우리나라신성장TOP20증권자투자신탁 1(주식)ClassC : 코로나 데이터 없음\n"
     ]
    },
    {
     "name": "stderr",
     "output_type": "stream",
     "text": [
      "100%|██████████| 72/72 [01:46<00:00,  1.47s/it]\n"
     ]
    },
    {
     "name": "stdout",
     "output_type": "stream",
     "text": [
      "452페이지 6번째 펀드 : 삼성코스닥150인덱스증권투자신탁[주식-파생형]_C-Pe : 코로나 데이터 없음\n",
      "452페이지 7번째 펀드 : 우리나라신성장TOP20증권자투자신탁 1(주식)ClassS-P(퇴직) : 코로나 데이터 없음\n",
      "452페이지 8번째 펀드 : BNK삼성전자중소형증권투자신탁 1(주식)ClassS-P : 코로나 데이터 없음\n",
      "452페이지 9번째 펀드 : 하나K-ing증권투자신탁[주식]ClassC-P : 코로나 데이터 없음\n",
      "452페이지 10번째 펀드 : 우리중소형고배당증권자투자신탁 1(주식)ClassS-P(퇴직) : 코로나 데이터 없음\n"
     ]
    },
    {
     "name": "stderr",
     "output_type": "stream",
     "text": [
      "  2%|▏         | 11/462 [51:24<36:52:36, 294.36s/it]"
     ]
    },
    {
     "name": "stdout",
     "output_type": "stream",
     "text": [
      "451페이지 1번째 펀드 : 신한SOL자동차TOP3플러스증권상장지수투자신탁[주식] : 코로나 데이터 없음\n"
     ]
    },
    {
     "name": "stderr",
     "output_type": "stream",
     "text": [
      "100%|██████████| 102/102 [02:30<00:00,  1.48s/it]\n",
      "100%|██████████| 51/51 [01:14<00:00,  1.45s/it]\n",
      "100%|██████████| 7/7 [00:09<00:00,  1.42s/it]\n"
     ]
    },
    {
     "name": "stdout",
     "output_type": "stream",
     "text": [
      "451페이지 5번째 펀드 : 우리WOORI반도체밸류체인액티브증권상장지수투자신탁(주식) : 코로나 데이터 없음\n",
      "451페이지 6번째 펀드 : 우리나라신성장TOP20증권자투자신탁 1(주식)ClassC : 코로나 데이터 없음\n"
     ]
    },
    {
     "name": "stderr",
     "output_type": "stream",
     "text": [
      "100%|██████████| 72/72 [01:46<00:00,  1.48s/it]\n"
     ]
    },
    {
     "name": "stdout",
     "output_type": "stream",
     "text": [
      "451페이지 8번째 펀드 : 삼성코스닥150인덱스증권투자신탁[주식-파생형]_C-Pe : 코로나 데이터 없음\n",
      "451페이지 9번째 펀드 : 우리나라신성장TOP20증권자투자신탁 1(주식)ClassS-P(퇴직) : 코로나 데이터 없음\n",
      "451페이지 10번째 펀드 : BNK삼성전자중소형증권투자신탁 1(주식)ClassS-P : 코로나 데이터 없음\n"
     ]
    },
    {
     "name": "stderr",
     "output_type": "stream",
     "text": [
      "  3%|▎         | 12/462 [58:55<42:45:57, 342.13s/it]"
     ]
    },
    {
     "name": "stdout",
     "output_type": "stream",
     "text": [
      "450페이지 1번째 펀드 : 신한SOL자동차TOP3플러스증권상장지수투자신탁[주식] : 코로나 데이터 없음\n"
     ]
    },
    {
     "name": "stderr",
     "output_type": "stream",
     "text": [
      "100%|██████████| 102/102 [02:31<00:00,  1.48s/it]\n",
      "100%|██████████| 51/51 [01:13<00:00,  1.45s/it]\n",
      "100%|██████████| 7/7 [00:10<00:00,  1.46s/it]\n"
     ]
    },
    {
     "name": "stdout",
     "output_type": "stream",
     "text": [
      "450페이지 5번째 펀드 : 우리WOORI반도체밸류체인액티브증권상장지수투자신탁(주식) : 코로나 데이터 없음\n",
      "450페이지 6번째 펀드 : 우리나라신성장TOP20증권자투자신탁 1(주식)ClassC : 코로나 데이터 없음\n"
     ]
    },
    {
     "name": "stderr",
     "output_type": "stream",
     "text": [
      "100%|██████████| 72/72 [01:47<00:00,  1.49s/it]\n"
     ]
    },
    {
     "name": "stdout",
     "output_type": "stream",
     "text": [
      "450페이지 8번째 펀드 : 삼성코스닥150인덱스증권투자신탁[주식-파생형]_C-Pe : 코로나 데이터 없음\n",
      "450페이지 9번째 펀드 : 우리나라신성장TOP20증권자투자신탁 1(주식)ClassS-P(퇴직) : 코로나 데이터 없음\n",
      "450페이지 10번째 펀드 : BNK삼성전자중소형증권투자신탁 1(주식)ClassS-P : 코로나 데이터 없음\n"
     ]
    },
    {
     "name": "stderr",
     "output_type": "stream",
     "text": [
      "  3%|▎         | 13/462 [1:06:22<46:38:38, 373.98s/it]"
     ]
    },
    {
     "name": "stdout",
     "output_type": "stream",
     "text": [
      "449페이지 1번째 펀드 : 신한SOL자동차TOP3플러스증권상장지수투자신탁[주식] : 코로나 데이터 없음\n"
     ]
    },
    {
     "name": "stderr",
     "output_type": "stream",
     "text": [
      "100%|██████████| 102/102 [02:31<00:00,  1.48s/it]\n",
      "100%|██████████| 51/51 [01:16<00:00,  1.49s/it]\n",
      "100%|██████████| 7/7 [00:10<00:00,  1.46s/it]\n"
     ]
    },
    {
     "name": "stdout",
     "output_type": "stream",
     "text": [
      "449페이지 5번째 펀드 : 우리WOORI반도체밸류체인액티브증권상장지수투자신탁(주식) : 코로나 데이터 없음\n",
      "449페이지 6번째 펀드 : 우리나라신성장TOP20증권자투자신탁 1(주식)ClassC : 코로나 데이터 없음\n"
     ]
    },
    {
     "name": "stderr",
     "output_type": "stream",
     "text": [
      "100%|██████████| 72/72 [01:47<00:00,  1.49s/it]\n"
     ]
    },
    {
     "name": "stdout",
     "output_type": "stream",
     "text": [
      "449페이지 8번째 펀드 : 삼성코스닥150인덱스증권투자신탁[주식-파생형]_C-Pe : 코로나 데이터 없음\n",
      "449페이지 9번째 펀드 : 우리나라신성장TOP20증권자투자신탁 1(주식)ClassS-P(퇴직) : 코로나 데이터 없음\n",
      "449페이지 10번째 펀드 : BNK삼성전자중소형증권투자신탁 1(주식)ClassS-P : 코로나 데이터 없음\n"
     ]
    },
    {
     "name": "stderr",
     "output_type": "stream",
     "text": [
      "  3%|▎         | 14/462 [1:13:57<49:34:00, 398.30s/it]"
     ]
    },
    {
     "name": "stdout",
     "output_type": "stream",
     "text": [
      "448페이지 1번째 펀드 : 미래에셋TIGERAI반도체핵심공정증권상장지수투자신탁(주식) : 코로나 데이터 없음\n",
      "448페이지 2번째 펀드 : 신한SOL자동차TOP3플러스증권상장지수투자신탁[주식] : 코로나 데이터 없음\n"
     ]
    },
    {
     "name": "stderr",
     "output_type": "stream",
     "text": [
      "100%|██████████| 102/102 [02:31<00:00,  1.49s/it]\n",
      "100%|██████████| 51/51 [01:15<00:00,  1.48s/it]\n",
      "100%|██████████| 7/7 [00:10<00:00,  1.46s/it]\n"
     ]
    },
    {
     "name": "stdout",
     "output_type": "stream",
     "text": [
      "448페이지 6번째 펀드 : 우리WOORI반도체밸류체인액티브증권상장지수투자신탁(주식) : 코로나 데이터 없음\n",
      "448페이지 7번째 펀드 : 우리나라신성장TOP20증권자투자신탁 1(주식)ClassC : 코로나 데이터 없음\n"
     ]
    },
    {
     "name": "stderr",
     "output_type": "stream",
     "text": [
      "100%|██████████| 72/72 [01:47<00:00,  1.50s/it]\n"
     ]
    },
    {
     "name": "stdout",
     "output_type": "stream",
     "text": [
      "448페이지 9번째 펀드 : 삼성코스닥150인덱스증권투자신탁[주식-파생형]_C-Pe : 코로나 데이터 없음\n",
      "448페이지 10번째 펀드 : 우리나라신성장TOP20증권자투자신탁 1(주식)ClassS-P(퇴직) : 코로나 데이터 없음\n"
     ]
    },
    {
     "name": "stderr",
     "output_type": "stream",
     "text": [
      "  3%|▎         | 15/462 [1:21:36<51:44:40, 416.73s/it]"
     ]
    },
    {
     "name": "stdout",
     "output_type": "stream",
     "text": [
      "447페이지 1번째 펀드 : 타임폴리오TIMEFOLIOK바이오액티브증권상장지수투자신탁[주식] : 코로나 데이터 없음\n",
      "447페이지 2번째 펀드 : 미래에셋TIGERAI반도체핵심공정증권상장지수투자신탁(주식) : 코로나 데이터 없음\n",
      "447페이지 3번째 펀드 : 신한SOL자동차TOP3플러스증권상장지수투자신탁[주식] : 코로나 데이터 없음\n"
     ]
    },
    {
     "name": "stderr",
     "output_type": "stream",
     "text": [
      "100%|██████████| 102/102 [02:32<00:00,  1.49s/it]\n",
      "100%|██████████| 51/51 [01:14<00:00,  1.47s/it]\n",
      "100%|██████████| 7/7 [00:10<00:00,  1.53s/it]\n"
     ]
    },
    {
     "name": "stdout",
     "output_type": "stream",
     "text": [
      "447페이지 7번째 펀드 : 우리WOORI반도체밸류체인액티브증권상장지수투자신탁(주식) : 코로나 데이터 없음\n",
      "447페이지 8번째 펀드 : 우리나라신성장TOP20증권자투자신탁 1(주식)ClassC : 코로나 데이터 없음\n"
     ]
    },
    {
     "name": "stderr",
     "output_type": "stream",
     "text": [
      "100%|██████████| 72/72 [01:47<00:00,  1.49s/it]\n"
     ]
    },
    {
     "name": "stdout",
     "output_type": "stream",
     "text": [
      "447페이지 10번째 펀드 : 삼성코스닥150인덱스증권투자신탁[주식-파생형]_C-Pe : 코로나 데이터 없음\n"
     ]
    },
    {
     "name": "stderr",
     "output_type": "stream",
     "text": [
      "  3%|▎         | 16/462 [1:29:17<53:15:53, 429.94s/it]"
     ]
    },
    {
     "name": "stdout",
     "output_type": "stream",
     "text": [
      "446페이지 1번째 펀드 : 타임폴리오TIMEFOLIOK바이오액티브증권상장지수투자신탁[주식] : 코로나 데이터 없음\n",
      "446페이지 2번째 펀드 : 미래에셋TIGERAI반도체핵심공정증권상장지수투자신탁(주식) : 코로나 데이터 없음\n",
      "446페이지 3번째 펀드 : 신한SOL자동차TOP3플러스증권상장지수투자신탁[주식] : 코로나 데이터 없음\n"
     ]
    },
    {
     "name": "stderr",
     "output_type": "stream",
     "text": [
      "100%|██████████| 102/102 [02:30<00:00,  1.47s/it]\n",
      "100%|██████████| 51/51 [01:15<00:00,  1.48s/it]\n",
      "100%|██████████| 7/7 [00:10<00:00,  1.50s/it]\n"
     ]
    },
    {
     "name": "stdout",
     "output_type": "stream",
     "text": [
      "446페이지 7번째 펀드 : 우리WOORI반도체밸류체인액티브증권상장지수투자신탁(주식) : 코로나 데이터 없음\n",
      "446페이지 8번째 펀드 : 우리나라신성장TOP20증권자투자신탁 1(주식)ClassC : 코로나 데이터 없음\n"
     ]
    },
    {
     "name": "stderr",
     "output_type": "stream",
     "text": [
      "100%|██████████| 72/72 [01:45<00:00,  1.46s/it]\n"
     ]
    },
    {
     "name": "stdout",
     "output_type": "stream",
     "text": [
      "446페이지 10번째 펀드 : 삼성코스닥150인덱스증권투자신탁[주식-파생형]_C-Pe : 코로나 데이터 없음\n"
     ]
    },
    {
     "name": "stderr",
     "output_type": "stream",
     "text": [
      "100%|██████████| 151/151 [03:31<00:00,  1.40s/it]s/it]\n"
     ]
    },
    {
     "name": "stdout",
     "output_type": "stream",
     "text": [
      "445페이지 2번째 펀드 : 타임폴리오TIMEFOLIOK바이오액티브증권상장지수투자신탁[주식] : 코로나 데이터 없음\n",
      "445페이지 3번째 펀드 : 미래에셋TIGERAI반도체핵심공정증권상장지수투자신탁(주식) : 코로나 데이터 없음\n",
      "445페이지 4번째 펀드 : 신한SOL자동차TOP3플러스증권상장지수투자신탁[주식] : 코로나 데이터 없음\n"
     ]
    },
    {
     "name": "stderr",
     "output_type": "stream",
     "text": [
      "100%|██████████| 102/102 [02:31<00:00,  1.48s/it]\n",
      "100%|██████████| 51/51 [01:15<00:00,  1.48s/it]\n",
      "100%|██████████| 7/7 [00:10<00:00,  1.45s/it]\n"
     ]
    },
    {
     "name": "stdout",
     "output_type": "stream",
     "text": [
      "445페이지 8번째 펀드 : 우리WOORI반도체밸류체인액티브증권상장지수투자신탁(주식) : 코로나 데이터 없음\n",
      "445페이지 9번째 펀드 : 우리나라신성장TOP20증권자투자신탁 1(주식)ClassC : 코로나 데이터 없음\n"
     ]
    },
    {
     "name": "stderr",
     "output_type": "stream",
     "text": [
      "100%|██████████| 72/72 [01:45<00:00,  1.46s/it]\n",
      "  4%|▍         | 18/462 [1:48:09<62:48:49, 509.30s/it]"
     ]
    },
    {
     "name": "stdout",
     "output_type": "stream",
     "text": [
      "444페이지 1번째 펀드 : 하나K-ing증권투자신탁[주식]ClassC : 코로나 데이터 없음\n"
     ]
    },
    {
     "name": "stderr",
     "output_type": "stream",
     "text": [
      "100%|██████████| 151/151 [03:41<00:00,  1.47s/it]\n"
     ]
    },
    {
     "name": "stdout",
     "output_type": "stream",
     "text": [
      "444페이지 3번째 펀드 : 타임폴리오TIMEFOLIOK바이오액티브증권상장지수투자신탁[주식] : 코로나 데이터 없음\n",
      "444페이지 4번째 펀드 : 미래에셋TIGERAI반도체핵심공정증권상장지수투자신탁(주식) : 코로나 데이터 없음\n",
      "444페이지 5번째 펀드 : 신한SOL자동차TOP3플러스증권상장지수투자신탁[주식] : 코로나 데이터 없음\n"
     ]
    },
    {
     "name": "stderr",
     "output_type": "stream",
     "text": [
      "100%|██████████| 102/102 [02:30<00:00,  1.47s/it]\n",
      "100%|██████████| 51/51 [01:14<00:00,  1.47s/it]\n",
      "100%|██████████| 7/7 [00:10<00:00,  1.49s/it]\n"
     ]
    },
    {
     "name": "stdout",
     "output_type": "stream",
     "text": [
      "444페이지 9번째 펀드 : 우리WOORI반도체밸류체인액티브증권상장지수투자신탁(주식) : 코로나 데이터 없음\n",
      "444페이지 10번째 펀드 : 우리나라신성장TOP20증권자투자신탁 1(주식)ClassC : 코로나 데이터 없음\n"
     ]
    },
    {
     "name": "stderr",
     "output_type": "stream",
     "text": [
      "  4%|▍         | 19/462 [1:57:58<65:37:57, 533.36s/it]"
     ]
    },
    {
     "name": "stdout",
     "output_type": "stream",
     "text": [
      "443페이지 1번째 펀드 : 삼성KODEX2차전지핵심소재10Fn증권상장지수투자신탁[주식] : 코로나 데이터 없음\n",
      "443페이지 2번째 펀드 : 삼성KODEX2차전지산업레버리지증권상장지수투자신탁[주식-파생형] : 코로나 데이터 없음\n"
     ]
    },
    {
     "name": "stderr",
     "output_type": "stream",
     "text": [
      "100%|██████████| 33/33 [00:48<00:00,  1.48s/it]\n",
      "100%|██████████| 151/151 [03:46<00:00,  1.50s/it]\n"
     ]
    },
    {
     "name": "stdout",
     "output_type": "stream",
     "text": [
      "443페이지 5번째 펀드 : 신한SOL자동차TOP3플러스증권상장지수투자신탁[주식] : 코로나 데이터 없음\n"
     ]
    },
    {
     "name": "stderr",
     "output_type": "stream",
     "text": [
      "100%|██████████| 102/102 [02:31<00:00,  1.48s/it]\n",
      "100%|██████████| 51/51 [01:15<00:00,  1.49s/it]\n",
      "100%|██████████| 7/7 [00:10<00:00,  1.50s/it]\n"
     ]
    },
    {
     "name": "stdout",
     "output_type": "stream",
     "text": [
      "443페이지 9번째 펀드 : 우리WOORI반도체밸류체인액티브증권상장지수투자신탁(주식) : 코로나 데이터 없음\n",
      "443페이지 10번째 펀드 : 우리나라신성장TOP20증권자투자신탁 1(주식)ClassC : 코로나 데이터 없음\n"
     ]
    },
    {
     "name": "stderr",
     "output_type": "stream",
     "text": [
      "100%|██████████| 42/42 [00:59<00:00,  1.41s/it]11s/it]\n",
      "100%|██████████| 11/11 [00:16<00:00,  1.51s/it]\n",
      "100%|██████████| 25/25 [00:36<00:00,  1.47s/it]\n",
      "100%|██████████| 113/113 [02:48<00:00,  1.50s/it]\n",
      "100%|██████████| 112/112 [02:46<00:00,  1.49s/it]\n",
      "100%|██████████| 113/113 [02:48<00:00,  1.49s/it]\n"
     ]
    },
    {
     "name": "stdout",
     "output_type": "stream",
     "text": [
      "442페이지 7번째 펀드 : 신한SOL2차전지소부장Fn증권상장지수투자신탁[주식] : 코로나 데이터 없음\n",
      "442페이지 8번째 펀드 : 미래에셋TIGER2차전지소재Fn증권상장지수투자신탁(주식) : 코로나 데이터 없음\n"
     ]
    },
    {
     "name": "stderr",
     "output_type": "stream",
     "text": [
      "100%|██████████| 62/62 [01:32<00:00,  1.49s/it]\n",
      "100%|██████████| 151/151 [03:46<00:00,  1.50s/it]\n",
      "100%|██████████| 50/50 [01:14<00:00,  1.50s/it]05s/it]\n",
      "100%|██████████| 127/127 [03:10<00:00,  1.50s/it]\n",
      "100%|██████████| 128/128 [03:08<00:00,  1.47s/it]\n",
      "100%|██████████| 127/127 [03:08<00:00,  1.48s/it]\n",
      "100%|██████████| 151/151 [03:41<00:00,  1.47s/it]\n",
      "100%|██████████| 128/128 [03:11<00:00,  1.49s/it]\n",
      "100%|██████████| 47/47 [01:09<00:00,  1.47s/it]\n",
      "100%|██████████| 33/33 [00:47<00:00,  1.43s/it]\n",
      "100%|██████████| 151/151 [03:44<00:00,  1.49s/it]\n",
      "100%|██████████| 151/151 [03:45<00:00,  1.49s/it]\n",
      "100%|██████████| 42/42 [01:03<00:00,  1.50s/it]2.19s/it]\n",
      "100%|██████████| 129/129 [03:12<00:00,  1.49s/it]\n",
      "100%|██████████| 128/128 [03:09<00:00,  1.48s/it]\n",
      "100%|██████████| 129/129 [03:12<00:00,  1.49s/it]\n",
      "100%|██████████| 128/128 [03:10<00:00,  1.49s/it]\n",
      "100%|██████████| 129/129 [03:12<00:00,  1.50s/it]\n",
      "100%|██████████| 151/151 [03:44<00:00,  1.49s/it]\n",
      "100%|██████████| 128/128 [03:11<00:00,  1.49s/it]\n",
      "100%|██████████| 46/46 [01:08<00:00,  1.48s/it]\n",
      " 62%|██████▏   | 93/151 [02:22<01:28,  1.53s/it]\n",
      "  5%|▍         | 22/462 [3:26:10<68:43:28, 562.29s/it]  \n"
     ]
    },
    {
     "ename": "StaleElementReferenceException",
     "evalue": "Message: stale element reference: stale element not found in the current frame\n  (Session info: chrome=126.0.6478.182); For documentation on this error, please visit: https://www.selenium.dev/documentation/webdriver/troubleshooting/errors#stale-element-reference-exception\nStacktrace:\n\tGetHandleVerifier [0x00007FF6D38DEEB2+31554]\n\t(No symbol) [0x00007FF6D3857EE9]\n\t(No symbol) [0x00007FF6D371872A]\n\t(No symbol) [0x00007FF6D371E55E]\n\t(No symbol) [0x00007FF6D3720EB1]\n\t(No symbol) [0x00007FF6D3720F50]\n\t(No symbol) [0x00007FF6D37621DB]\n\t(No symbol) [0x00007FF6D378D02A]\n\t(No symbol) [0x00007FF6D375BA76]\n\t(No symbol) [0x00007FF6D378D240]\n\t(No symbol) [0x00007FF6D37AC977]\n\t(No symbol) [0x00007FF6D378CDD3]\n\t(No symbol) [0x00007FF6D375A33B]\n\t(No symbol) [0x00007FF6D375AED1]\n\tGetHandleVerifier [0x00007FF6D3BE8B2D+3217341]\n\tGetHandleVerifier [0x00007FF6D3C35AF3+3532675]\n\tGetHandleVerifier [0x00007FF6D3C2B0F0+3489152]\n\tGetHandleVerifier [0x00007FF6D398E786+750614]\n\t(No symbol) [0x00007FF6D386376F]\n\t(No symbol) [0x00007FF6D385EB24]\n\t(No symbol) [0x00007FF6D385ECB2]\n\t(No symbol) [0x00007FF6D384E17F]\n\tBaseThreadInitThunk [0x00007FFD32EE257D+29]\n\tRtlUserThreadStart [0x00007FFD3436AF28+40]\n",
     "output_type": "error",
     "traceback": [
      "\u001b[1;31m---------------------------------------------------------------------------\u001b[0m",
      "\u001b[1;31mStaleElementReferenceException\u001b[0m            Traceback (most recent call last)",
      "Cell \u001b[1;32mIn[14], line 72\u001b[0m\n\u001b[0;32m     70\u001b[0m \u001b[38;5;28;01mfor\u001b[39;00m row \u001b[38;5;129;01min\u001b[39;00m rows:\n\u001b[0;32m     71\u001b[0m     cells \u001b[38;5;241m=\u001b[39m row\u001b[38;5;241m.\u001b[39mfind_elements(By\u001b[38;5;241m.\u001b[39mXPATH, \u001b[38;5;124m\"\u001b[39m\u001b[38;5;124m.//td\u001b[39m\u001b[38;5;124m\"\u001b[39m)\n\u001b[1;32m---> 72\u001b[0m     cell_data \u001b[38;5;241m=\u001b[39m [cell\u001b[38;5;241m.\u001b[39mtext \u001b[38;5;28;01mfor\u001b[39;00m cell \u001b[38;5;129;01min\u001b[39;00m cells]\n\u001b[0;32m     73\u001b[0m     table_data\u001b[38;5;241m.\u001b[39mappend(cell_data)\n\u001b[0;32m     75\u001b[0m \u001b[38;5;66;03m# 이전 페이지로 이동\u001b[39;00m\n",
      "Cell \u001b[1;32mIn[14], line 72\u001b[0m, in \u001b[0;36m<listcomp>\u001b[1;34m(.0)\u001b[0m\n\u001b[0;32m     70\u001b[0m \u001b[38;5;28;01mfor\u001b[39;00m row \u001b[38;5;129;01min\u001b[39;00m rows:\n\u001b[0;32m     71\u001b[0m     cells \u001b[38;5;241m=\u001b[39m row\u001b[38;5;241m.\u001b[39mfind_elements(By\u001b[38;5;241m.\u001b[39mXPATH, \u001b[38;5;124m\"\u001b[39m\u001b[38;5;124m.//td\u001b[39m\u001b[38;5;124m\"\u001b[39m)\n\u001b[1;32m---> 72\u001b[0m     cell_data \u001b[38;5;241m=\u001b[39m [\u001b[43mcell\u001b[49m\u001b[38;5;241;43m.\u001b[39;49m\u001b[43mtext\u001b[49m \u001b[38;5;28;01mfor\u001b[39;00m cell \u001b[38;5;129;01min\u001b[39;00m cells]\n\u001b[0;32m     73\u001b[0m     table_data\u001b[38;5;241m.\u001b[39mappend(cell_data)\n\u001b[0;32m     75\u001b[0m \u001b[38;5;66;03m# 이전 페이지로 이동\u001b[39;00m\n",
      "File \u001b[1;32mc:\\Users\\tlsdm\\AppData\\Local\\Programs\\Python\\Python39\\lib\\site-packages\\selenium\\webdriver\\remote\\webelement.py:90\u001b[0m, in \u001b[0;36mWebElement.text\u001b[1;34m(self)\u001b[0m\n\u001b[0;32m     87\u001b[0m \u001b[38;5;129m@property\u001b[39m\n\u001b[0;32m     88\u001b[0m \u001b[38;5;28;01mdef\u001b[39;00m \u001b[38;5;21mtext\u001b[39m(\u001b[38;5;28mself\u001b[39m) \u001b[38;5;241m-\u001b[39m\u001b[38;5;241m>\u001b[39m \u001b[38;5;28mstr\u001b[39m:\n\u001b[0;32m     89\u001b[0m \u001b[38;5;250m    \u001b[39m\u001b[38;5;124;03m\"\"\"The text of the element.\"\"\"\u001b[39;00m\n\u001b[1;32m---> 90\u001b[0m     \u001b[38;5;28;01mreturn\u001b[39;00m \u001b[38;5;28;43mself\u001b[39;49m\u001b[38;5;241;43m.\u001b[39;49m\u001b[43m_execute\u001b[49m\u001b[43m(\u001b[49m\u001b[43mCommand\u001b[49m\u001b[38;5;241;43m.\u001b[39;49m\u001b[43mGET_ELEMENT_TEXT\u001b[49m\u001b[43m)\u001b[49m[\u001b[38;5;124m\"\u001b[39m\u001b[38;5;124mvalue\u001b[39m\u001b[38;5;124m\"\u001b[39m]\n",
      "File \u001b[1;32mc:\\Users\\tlsdm\\AppData\\Local\\Programs\\Python\\Python39\\lib\\site-packages\\selenium\\webdriver\\remote\\webelement.py:395\u001b[0m, in \u001b[0;36mWebElement._execute\u001b[1;34m(self, command, params)\u001b[0m\n\u001b[0;32m    393\u001b[0m     params \u001b[38;5;241m=\u001b[39m {}\n\u001b[0;32m    394\u001b[0m params[\u001b[38;5;124m\"\u001b[39m\u001b[38;5;124mid\u001b[39m\u001b[38;5;124m\"\u001b[39m] \u001b[38;5;241m=\u001b[39m \u001b[38;5;28mself\u001b[39m\u001b[38;5;241m.\u001b[39m_id\n\u001b[1;32m--> 395\u001b[0m \u001b[38;5;28;01mreturn\u001b[39;00m \u001b[38;5;28;43mself\u001b[39;49m\u001b[38;5;241;43m.\u001b[39;49m\u001b[43m_parent\u001b[49m\u001b[38;5;241;43m.\u001b[39;49m\u001b[43mexecute\u001b[49m\u001b[43m(\u001b[49m\u001b[43mcommand\u001b[49m\u001b[43m,\u001b[49m\u001b[43m \u001b[49m\u001b[43mparams\u001b[49m\u001b[43m)\u001b[49m\n",
      "File \u001b[1;32mc:\\Users\\tlsdm\\AppData\\Local\\Programs\\Python\\Python39\\lib\\site-packages\\selenium\\webdriver\\remote\\webdriver.py:354\u001b[0m, in \u001b[0;36mWebDriver.execute\u001b[1;34m(self, driver_command, params)\u001b[0m\n\u001b[0;32m    352\u001b[0m response \u001b[38;5;241m=\u001b[39m \u001b[38;5;28mself\u001b[39m\u001b[38;5;241m.\u001b[39mcommand_executor\u001b[38;5;241m.\u001b[39mexecute(driver_command, params)\n\u001b[0;32m    353\u001b[0m \u001b[38;5;28;01mif\u001b[39;00m response:\n\u001b[1;32m--> 354\u001b[0m     \u001b[38;5;28;43mself\u001b[39;49m\u001b[38;5;241;43m.\u001b[39;49m\u001b[43merror_handler\u001b[49m\u001b[38;5;241;43m.\u001b[39;49m\u001b[43mcheck_response\u001b[49m\u001b[43m(\u001b[49m\u001b[43mresponse\u001b[49m\u001b[43m)\u001b[49m\n\u001b[0;32m    355\u001b[0m     response[\u001b[38;5;124m\"\u001b[39m\u001b[38;5;124mvalue\u001b[39m\u001b[38;5;124m\"\u001b[39m] \u001b[38;5;241m=\u001b[39m \u001b[38;5;28mself\u001b[39m\u001b[38;5;241m.\u001b[39m_unwrap_value(response\u001b[38;5;241m.\u001b[39mget(\u001b[38;5;124m\"\u001b[39m\u001b[38;5;124mvalue\u001b[39m\u001b[38;5;124m\"\u001b[39m, \u001b[38;5;28;01mNone\u001b[39;00m))\n\u001b[0;32m    356\u001b[0m     \u001b[38;5;28;01mreturn\u001b[39;00m response\n",
      "File \u001b[1;32mc:\\Users\\tlsdm\\AppData\\Local\\Programs\\Python\\Python39\\lib\\site-packages\\selenium\\webdriver\\remote\\errorhandler.py:229\u001b[0m, in \u001b[0;36mErrorHandler.check_response\u001b[1;34m(self, response)\u001b[0m\n\u001b[0;32m    227\u001b[0m         alert_text \u001b[38;5;241m=\u001b[39m value[\u001b[38;5;124m\"\u001b[39m\u001b[38;5;124malert\u001b[39m\u001b[38;5;124m\"\u001b[39m]\u001b[38;5;241m.\u001b[39mget(\u001b[38;5;124m\"\u001b[39m\u001b[38;5;124mtext\u001b[39m\u001b[38;5;124m\"\u001b[39m)\n\u001b[0;32m    228\u001b[0m     \u001b[38;5;28;01mraise\u001b[39;00m exception_class(message, screen, stacktrace, alert_text)  \u001b[38;5;66;03m# type: ignore[call-arg]  # mypy is not smart enough here\u001b[39;00m\n\u001b[1;32m--> 229\u001b[0m \u001b[38;5;28;01mraise\u001b[39;00m exception_class(message, screen, stacktrace)\n",
      "\u001b[1;31mStaleElementReferenceException\u001b[0m: Message: stale element reference: stale element not found in the current frame\n  (Session info: chrome=126.0.6478.182); For documentation on this error, please visit: https://www.selenium.dev/documentation/webdriver/troubleshooting/errors#stale-element-reference-exception\nStacktrace:\n\tGetHandleVerifier [0x00007FF6D38DEEB2+31554]\n\t(No symbol) [0x00007FF6D3857EE9]\n\t(No symbol) [0x00007FF6D371872A]\n\t(No symbol) [0x00007FF6D371E55E]\n\t(No symbol) [0x00007FF6D3720EB1]\n\t(No symbol) [0x00007FF6D3720F50]\n\t(No symbol) [0x00007FF6D37621DB]\n\t(No symbol) [0x00007FF6D378D02A]\n\t(No symbol) [0x00007FF6D375BA76]\n\t(No symbol) [0x00007FF6D378D240]\n\t(No symbol) [0x00007FF6D37AC977]\n\t(No symbol) [0x00007FF6D378CDD3]\n\t(No symbol) [0x00007FF6D375A33B]\n\t(No symbol) [0x00007FF6D375AED1]\n\tGetHandleVerifier [0x00007FF6D3BE8B2D+3217341]\n\tGetHandleVerifier [0x00007FF6D3C35AF3+3532675]\n\tGetHandleVerifier [0x00007FF6D3C2B0F0+3489152]\n\tGetHandleVerifier [0x00007FF6D398E786+750614]\n\t(No symbol) [0x00007FF6D386376F]\n\t(No symbol) [0x00007FF6D385EB24]\n\t(No symbol) [0x00007FF6D385ECB2]\n\t(No symbol) [0x00007FF6D384E17F]\n\tBaseThreadInitThunk [0x00007FFD32EE257D+29]\n\tRtlUserThreadStart [0x00007FFD3436AF28+40]\n"
     ]
    }
   ],
   "source": [
    "for _ in trange(462):\n",
    "    # 현재 페이지 번호 : 462 ~ 1\n",
    "    page_num = driver.find_element(By.TAG_NAME, 'em').text\n",
    "\n",
    "    # 펀드명 리스트\n",
    "    fund_details = driver.find_elements(By.CSS_SELECTOR, \"a.fund_detail\")\n",
    "    #     # 각 <a> 태그에서 텍스트 추출\n",
    "    fund_names = [fund_detail.text for fund_detail in fund_details]\n",
    "    # fund_names\n",
    "    \n",
    "    for i in range(1,len(fund_names)+1):\n",
    "        flag_rtns = True\n",
    "        # print(f'{page_num}페이지 {i}번째 펀드 : {fund_names[i-1]}')\n",
    "\n",
    "        # 첫 번째 펀드명 클릭\n",
    "        a = f\"//*[@id='resultList']/tr[{i}]/td[2]/a/span\"\n",
    "        # print(a)\n",
    "        first_fund_detail = wait.until(EC.element_to_be_clickable((By.XPATH, a)))\n",
    "        first_fund_detail.click()\n",
    "        # print(i)\n",
    "\n",
    "        # '성과' 버튼이 포함된 <li> 요소 찾기 및 클릭\n",
    "        performance_li = wait.until(EC.element_to_be_clickable((By.XPATH, \"//li[button[@class='btn--tab__fund' and @value='1']]\")))\n",
    "        performance_button = performance_li.find_element(By.XPATH, \".//button\")\n",
    "        performance_button.click()\n",
    "\n",
    "        # 코로나 버튼\n",
    "        corona_button = driver.find_element(By.XPATH, '//*[@id=\"btnRatetime\"]/button[2]/span')\n",
    "        corona_button.click()\n",
    "        time.sleep(3)\n",
    "        \n",
    "        # 3년치 버튼\n",
    "        three_button = driver.find_element(By.XPATH, '//*[@id=\"radio_rate\"]/span[5]/label/span')\n",
    "        three_button.click()\n",
    "        time.sleep(3)\n",
    "        \n",
    "        # 수익률 마지막 페이지로 이동\n",
    "        try:\n",
    "            # 마지막 으로 가는 버튼\n",
    "            last_button = driver.find_element(By.XPATH, '//*[@id=\"tabPaging_info\"]/div/tr/button[13]')\n",
    "            last_button.click()\n",
    "\n",
    "        except:\n",
    "            try:\n",
    "                # 페이지 수가 10 미만인 경우\n",
    "                html_data = driver.page_source\n",
    "                soup = bs(html_data, 'html.parser')\n",
    "                btns = soup.find_all('button', attrs={'class' : 'btn--cur'})\n",
    "                page_cnt = int(btns[-1].text)\n",
    "\n",
    "                last_button = driver.find_element(By.XPATH, f'//*[@id=\"tabPaging_info\"]/div/tr/button[{page_cnt+3}]')\n",
    "                last_button.click()\n",
    "                # print(\"페이지 번호 10 미만\")\n",
    "            except:\n",
    "                print(f'{page_num}페이지 {i}번째 펀드 : {fund_names[i-1]}', \": 코로나 데이터 없음\")\n",
    "                flag_rtns = False # x누르고 다음 펀드로\n",
    "        time.sleep(3)\n",
    "\n",
    "        \"\"\"수익률 데이터 추출\"\"\"\n",
    "        if flag_rtns==True:\n",
    "            table_data = []\n",
    "            rtn_page = int(driver.find_element(By.XPATH, '//*[@id=\"tabPaging_info\"]/div/tr/em').text) # 마지막 페이지 번호\n",
    "\n",
    "            for j in trange(rtn_page):\n",
    "                time.sleep(1)\n",
    "                table = driver.find_element(By.ID, 'tbl_rate')\n",
    "                headers = [header.text for header in table.find_elements(By.XPATH, \".//thead//th\")]\n",
    "                rows = table.find_elements(By.XPATH, \".//tbody//tr\")\n",
    "\n",
    "                for row in rows:\n",
    "                    cells = row.find_elements(By.XPATH, \".//td\")\n",
    "                    cell_data = [cell.text for cell in cells]\n",
    "                    table_data.append(cell_data)\n",
    "                \n",
    "                # 이전 페이지로 이동\n",
    "                prev_button = driver.find_element(By.XPATH, '//*[@id=\"tabPaging_info\"]/div/tr/button[2]')\n",
    "                prev_button.click()\n",
    "\n",
    "            # 데이터 출력\n",
    "            df = pd.DataFrame(table_data, columns=headers)\n",
    "            df.drop_duplicates()\n",
    "\n",
    "            file_name =fund_names[i-1]\n",
    "            df.to_csv(f'data/{file_name}.csv', index=False)\n",
    "\n",
    "        # 펀드 상세 창 닫기\n",
    "        end = wait.until(EC.element_to_be_clickable((By.ID, 'btnClose')))\n",
    "        end.click()\n",
    "    \n",
    "    # 이전 페이지로 가기\n",
    "    search_button = wait.until(EC.element_to_be_clickable(\n",
    "        (By.XPATH, \"//*[@id='tabPaging']/div/tr/button[2]\")\n",
    "    ))\n",
    "    search_button.click()  \n",
    "    time.sleep(2)"
   ]
  },
  {
   "cell_type": "code",
   "execution_count": null,
   "metadata": {},
   "outputs": [],
   "source": []
  },
  {
   "cell_type": "code",
   "execution_count": null,
   "metadata": {},
   "outputs": [],
   "source": []
  },
  {
   "cell_type": "markdown",
   "metadata": {},
   "source": [
    "수정전 코드"
   ]
  },
  {
   "cell_type": "code",
   "execution_count": null,
   "metadata": {},
   "outputs": [],
   "source": [
    "# for i in range(1,462):\n",
    "#     # 이전 페이지로 가기\n",
    "#     search_button = wait.until(EC.element_to_be_clickable(\n",
    "#         (By.XPATH, \"//*[@id='tabPaging']/div/tr/button[2]\")\n",
    "#     ))\n",
    "#     search_button.click()  \n",
    "#     time.sleep(2)\n",
    "\n",
    "#     fund_details = driver.find_elements(By.CSS_SELECTOR, \"a.fund_detail\")\n",
    "#     #     # 각 <a> 태그에서 텍스트 추출\n",
    "#     fund_names = [fund_detail.text for fund_detail in fund_details]\n",
    "#     fund_names\n",
    "    \n",
    "#     for i in range(1,len(fund_names)+1):\n",
    "#         print(i)\n",
    "#         # 첫 번째 펀드명 클릭\n",
    "#         a = \"//*[@id='resultList']/tr[\"+ str(i) +\"]/td[2]/a/span\"\n",
    "#         print(a)\n",
    "#         first_fund_detail = wait.until(EC.element_to_be_clickable((By.XPATH, a)))\n",
    "#         first_fund_detail.click()\n",
    "#         print(i)\n",
    "#         # '성과' 버튼이 포함된 <li> 요소 찾기 및 클릭\n",
    "#         performance_li = wait.until(EC.element_to_be_clickable((By.XPATH, \"//li[button[@class='btn--tab__fund' and @value='1']]\")))\n",
    "#         performance_button = performance_li.find_element(By.XPATH, \".//button\")\n",
    "#         performance_button.click()\n",
    "\n",
    "#         # 코로나 버튼\n",
    "#         corona_button = driver.find_element(By.XPATH, '//*[@id=\"btnRatetime\"]/button[2]/span')\n",
    "#         corona_button.click()\n",
    "#         time.sleep(3)\n",
    "        \n",
    "#         # 3년치 버튼\n",
    "#         three_button = driver.find_element(By.XPATH, '//*[@id=\"radio_rate\"]/span[5]/label/span')\n",
    "#         three_button.click()\n",
    "#         time.sleep(3)\n",
    "        \n",
    "#         # 마지막 으로 가는 버튼\n",
    "#         try:\n",
    "#             last_button = driver.find_element(By.XPATH, '//*[@id=\"tabPaging_info\"]/div/tr/button[13]')\n",
    "#             last_button.click()\n",
    "\n",
    "#         except:\n",
    "            \n",
    "\n",
    "#             html_data = driver.page_source\n",
    "#             soup = bs(html_data, 'html.parser')\n",
    "#             btns = soup.find_all('button', attrs={'class' : 'btn--cur'})\n",
    "#             page_cnt = int(btns[-1].text)\n",
    "\n",
    "#             last_button = driver.find_element(By.XPATH, f'//*[@id=\"tabPaging_info\"]/div/tr/button[{page_cnt+3}]')\n",
    "#             last_button.click()\n",
    "\n",
    "            \n",
    "#         time.sleep(3)\n",
    "            \n",
    "#         table_data = []\n",
    "#         for j in range(100):\n",
    "#             if j < 1:\n",
    "                \n",
    "#                 time.sleep(1)\n",
    "#                 table = driver.find_element(By.ID, 'tbl_rate')\n",
    "#                 headers = [header.text for header in table.find_elements(By.XPATH, \".//thead//th\")]\n",
    "#                 rows = table.find_elements(By.XPATH, \".//tbody//tr\")\n",
    "\n",
    "#                 for row in rows:\n",
    "#                     cells = row.find_elements(By.XPATH, \".//td\")\n",
    "#                     cell_data = [cell.text for cell in cells]\n",
    "#                     table_data.append(cell_data)\n",
    "\n",
    "#                 prev_button = driver.find_element(By.XPATH, '//*[@id=\"tabPaging_info\"]/div/tr/button[2]')\n",
    "#                 prev_button.click()\n",
    "\n",
    "#                 print(j)\n",
    "#             else:\n",
    "        \n",
    "#                 # 데이터 출력\n",
    "#                 df = pd.DataFrame(table_data, columns=headers)\n",
    "#                 df.drop_duplicates()\n",
    "\n",
    "#                 file_name =fund_names[i-1]\n",
    "#                 file_name          \n",
    "#                 df.to_csv(file_name, index=False)\n",
    "#         end = wait.until(EC.element_to_be_clickable((By.ID, 'btnClose')))\n",
    "#         end.click()\n",
    "#     else:\n",
    "#         break"
   ]
  }
 ],
 "metadata": {
  "kernelspec": {
   "display_name": "Python 3",
   "language": "python",
   "name": "python3"
  },
  "language_info": {
   "codemirror_mode": {
    "name": "ipython",
    "version": 3
   },
   "file_extension": ".py",
   "mimetype": "text/x-python",
   "name": "python",
   "nbconvert_exporter": "python",
   "pygments_lexer": "ipython3",
   "version": "3.9.12"
  }
 },
 "nbformat": 4,
 "nbformat_minor": 2
}

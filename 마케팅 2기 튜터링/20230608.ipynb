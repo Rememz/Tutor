{
 "cells": [
  {
   "attachments": {},
   "cell_type": "markdown",
   "metadata": {},
   "source": [
    "# Data Scaling"
   ]
  },
  {
   "attachments": {},
   "cell_type": "markdown",
   "metadata": {},
   "source": [
    "주로 사용되는 스케일링 개념\n",
    "# Standardization (표준화)\n",
    "- 특성들의 평균을 0, 분산을 1 로 스케일링하는 것입니다.\n",
    "- 즉, 특성들을 정규분포로 만드는 것입니다.\n",
    "\n",
    "# Normalization (정규화)\n",
    "- 특성들을 특정 범위(주로 [0,1]) 로 스케일링 하는 것입니다.\n",
    "- 가작 작은 값은 0, 가장 큰 값은 1 로 변환되므로, 모든 특성들은 [0, 1] 범위를 갖게됩니다.\n",
    "\n",
    "# scikit-learn 의 scaler 사용 전, 주의 사항\n",
    "- 우선, scikit-learn 의 scaler 를 사용하기전에, 주의해야할 점을 먼저 살펴보겠습니다.\n",
    "- scaler 는 fit 과 transform 메서드를 지니고 있습니다.\n",
    "- fit 메서드는 훈련 데이터에만 적용해, 훈련 데이터의 분포를 먼저 학습하고\n",
    "- 그 이후, transform 메서드를 훈련 데이터와 테스트 데이터에 적용해 스케일을 조정해야합니다.\n",
    "- 따라서, 훈련 데이터에는 fit_transform() 메서드를 적용하고, 테스트 데이터에는 transform() 메서드를 적용해야합니다.\n",
    "- fit_transform() 은 fit 과 transform 이 결합된 단축 메서드입니다.\n",
    "또한, 스케일링할 때, 모든 특성의 범위를 유사하게 만드는 것은 중요하지만, 그렇다고 모두 같은 분포로 만들 필요는 없습니다.\n",
    "특성에 따라 각기 다른 스케일링을 적용하는게 유리할 수도 있기 때문입니다.\n",
    "이제 scikit-learn 에서 제공하는 5가지 스케일링 방법을 알아보겠습니다.\n",
    "StandardScaler()\n",
    "특성들의 평균을 0, 분산을 1 로 스케일링하는 것입니다.\n",
    "즉, 특성들을 정규분포로 만드는 것입니다.\n",
    "최솟값과 최댓값의 크기를 제한하지 않기 때문에, 어떤 알고리즘에서는 문제가 있을 수 있으며\n",
    "이상치에 매우 민감합니다.\n",
    "회귀보다 분류에 유용합니다."
   ]
  },
  {
   "cell_type": "code",
   "execution_count": 1,
   "metadata": {},
   "outputs": [],
   "source": [
    "import pandas as pd\n",
    "import numpy as np\n",
    "from sklearn.preprocessing import StandardScaler, MinMaxScaler"
   ]
  },
  {
   "cell_type": "code",
   "execution_count": 2,
   "metadata": {},
   "outputs": [],
   "source": [
    "a =[2,4,6,8,10]\n",
    "b = [3,5,7]\n",
    "df_a = pd.DataFrame(a)\n",
    "df_b = pd.DataFrame(b)\n",
    "std = StandardScaler()"
   ]
  },
  {
   "cell_type": "code",
   "execution_count": 3,
   "metadata": {},
   "outputs": [
    {
     "data": {
      "text/plain": [
       "StandardScaler()"
      ]
     },
     "execution_count": 3,
     "metadata": {},
     "output_type": "execute_result"
    }
   ],
   "source": [
    "std.fit(df_a)"
   ]
  },
  {
   "cell_type": "code",
   "execution_count": 4,
   "metadata": {},
   "outputs": [],
   "source": [
    "a_scaled = std.transform(df_a)\n",
    "\n",
    "# 테스트 데이터의 스케일링\n",
    "b_scaled = std.transform(df_b)"
   ]
  },
  {
   "cell_type": "code",
   "execution_count": 5,
   "metadata": {},
   "outputs": [
    {
     "data": {
      "text/plain": [
       "array([[-1.41421356],\n",
       "       [-0.70710678],\n",
       "       [ 0.        ],\n",
       "       [ 0.70710678],\n",
       "       [ 1.41421356]])"
      ]
     },
     "execution_count": 5,
     "metadata": {},
     "output_type": "execute_result"
    }
   ],
   "source": [
    "a_scaled "
   ]
  },
  {
   "cell_type": "code",
   "execution_count": 6,
   "metadata": {},
   "outputs": [
    {
     "data": {
      "text/plain": [
       "0.0"
      ]
     },
     "execution_count": 6,
     "metadata": {},
     "output_type": "execute_result"
    }
   ],
   "source": [
    "a_scaled.mean()"
   ]
  },
  {
   "cell_type": "code",
   "execution_count": 7,
   "metadata": {},
   "outputs": [
    {
     "data": {
      "text/plain": [
       "0.9999999999999999"
      ]
     },
     "execution_count": 7,
     "metadata": {},
     "output_type": "execute_result"
    }
   ],
   "source": [
    "a_scaled.std()"
   ]
  },
  {
   "cell_type": "code",
   "execution_count": 8,
   "metadata": {},
   "outputs": [
    {
     "data": {
      "text/plain": [
       "array([[-1.06066017],\n",
       "       [-0.35355339],\n",
       "       [ 0.35355339]])"
      ]
     },
     "execution_count": 8,
     "metadata": {},
     "output_type": "execute_result"
    }
   ],
   "source": [
    "b_scaled"
   ]
  },
  {
   "cell_type": "code",
   "execution_count": 9,
   "metadata": {},
   "outputs": [
    {
     "data": {
      "text/plain": [
       "-0.35355339059327373"
      ]
     },
     "execution_count": 9,
     "metadata": {},
     "output_type": "execute_result"
    }
   ],
   "source": [
    "b_scaled.mean()"
   ]
  },
  {
   "cell_type": "code",
   "execution_count": 10,
   "metadata": {},
   "outputs": [
    {
     "data": {
      "text/plain": [
       "0.5773502691896257"
      ]
     },
     "execution_count": 10,
     "metadata": {},
     "output_type": "execute_result"
    }
   ],
   "source": [
    "b_scaled.std()"
   ]
  },
  {
   "cell_type": "code",
   "execution_count": 11,
   "metadata": {},
   "outputs": [],
   "source": [
    "c = [2,3,4,5,6,7,8,10]\n",
    "df_c = pd.DataFrame(c)"
   ]
  },
  {
   "cell_type": "code",
   "execution_count": 12,
   "metadata": {},
   "outputs": [
    {
     "data": {
      "text/plain": [
       "StandardScaler()"
      ]
     },
     "execution_count": 12,
     "metadata": {},
     "output_type": "execute_result"
    }
   ],
   "source": [
    "std.fit(df_c)"
   ]
  },
  {
   "cell_type": "code",
   "execution_count": 13,
   "metadata": {},
   "outputs": [
    {
     "data": {
      "text/plain": [
       "array([[-1.45181591],\n",
       "       [-1.05131497],\n",
       "       [-0.65081403],\n",
       "       [-0.25031309],\n",
       "       [ 0.15018785],\n",
       "       [ 0.55068879],\n",
       "       [ 0.95118973],\n",
       "       [ 1.75219161]])"
      ]
     },
     "execution_count": 13,
     "metadata": {},
     "output_type": "execute_result"
    }
   ],
   "source": [
    "c_scaled = std.transform(df_c)\n",
    "c_scaled"
   ]
  },
  {
   "cell_type": "code",
   "execution_count": 14,
   "metadata": {},
   "outputs": [],
   "source": [
    "a =[2,4,6,8,10]\n",
    "b = [3,5,7]\n",
    "df_a = pd.DataFrame(a)\n",
    "df_b = pd.DataFrame(b)\n",
    "mm = MinMaxScaler()"
   ]
  },
  {
   "cell_type": "code",
   "execution_count": 15,
   "metadata": {},
   "outputs": [],
   "source": [
    "mm.fit(df_a)\n",
    "\n",
    "a_scaled = mm.transform(df_a)\n",
    "\n",
    "# 테스트 데이터의 스케일링\n",
    "b_scaled = mm.transform(df_b)"
   ]
  },
  {
   "cell_type": "code",
   "execution_count": 16,
   "metadata": {},
   "outputs": [
    {
     "data": {
      "text/plain": [
       "array([[0.  ],\n",
       "       [0.25],\n",
       "       [0.5 ],\n",
       "       [0.75],\n",
       "       [1.  ]])"
      ]
     },
     "execution_count": 16,
     "metadata": {},
     "output_type": "execute_result"
    }
   ],
   "source": [
    "a_scaled "
   ]
  },
  {
   "cell_type": "code",
   "execution_count": 17,
   "metadata": {},
   "outputs": [
    {
     "data": {
      "text/plain": [
       "array([[0.125],\n",
       "       [0.375],\n",
       "       [0.625]])"
      ]
     },
     "execution_count": 17,
     "metadata": {},
     "output_type": "execute_result"
    }
   ],
   "source": [
    "b_scaled"
   ]
  },
  {
   "cell_type": "code",
   "execution_count": 18,
   "metadata": {},
   "outputs": [],
   "source": [
    "c = [2,3,4,5,6,7,8,10]\n",
    "df_c = pd.DataFrame(c)"
   ]
  },
  {
   "cell_type": "code",
   "execution_count": 19,
   "metadata": {},
   "outputs": [],
   "source": [
    "mm.fit(df_c)\n",
    "c_scaled = mm.transform(df_c)"
   ]
  },
  {
   "cell_type": "code",
   "execution_count": 20,
   "metadata": {},
   "outputs": [
    {
     "data": {
      "text/plain": [
       "array([[0.   ],\n",
       "       [0.125],\n",
       "       [0.25 ],\n",
       "       [0.375],\n",
       "       [0.5  ],\n",
       "       [0.625],\n",
       "       [0.75 ],\n",
       "       [1.   ]])"
      ]
     },
     "execution_count": 20,
     "metadata": {},
     "output_type": "execute_result"
    }
   ],
   "source": [
    "c_scaled "
   ]
  },
  {
   "attachments": {},
   "cell_type": "markdown",
   "metadata": {},
   "source": [
    "# MaxAbsScaler\n",
    "각 특성의 절대값이 0 과 1 사이가 되도록 스케일링합니다.\\\n",
    "즉, 모든 값은 -1 과 1 사이로 표현되며, 데이터가 양수일 경우 MinMaxScaler 와 같습니다.\\\n",
    "이상치에 매우 민감합니다."
   ]
  },
  {
   "cell_type": "code",
   "execution_count": 21,
   "metadata": {},
   "outputs": [],
   "source": [
    "from sklearn.preprocessing import MaxAbsScaler\n",
    "\n",
    "ma = MaxAbsScaler()\n",
    "ma.fit(df_a)\n",
    "a_scaled = ma.transform(df_a)\n",
    "\n",
    "# 테스트 데이터의 스케일링\n",
    "b_scaled = ma.transform(df_b)"
   ]
  },
  {
   "cell_type": "code",
   "execution_count": 22,
   "metadata": {},
   "outputs": [
    {
     "data": {
      "text/plain": [
       "array([[0.2],\n",
       "       [0.4],\n",
       "       [0.6],\n",
       "       [0.8],\n",
       "       [1. ]])"
      ]
     },
     "execution_count": 22,
     "metadata": {},
     "output_type": "execute_result"
    }
   ],
   "source": [
    "a_scaled"
   ]
  },
  {
   "cell_type": "code",
   "execution_count": 23,
   "metadata": {},
   "outputs": [
    {
     "data": {
      "text/plain": [
       "array([[0.3],\n",
       "       [0.5],\n",
       "       [0.7]])"
      ]
     },
     "execution_count": 23,
     "metadata": {},
     "output_type": "execute_result"
    }
   ],
   "source": [
    "b_scaled"
   ]
  },
  {
   "cell_type": "code",
   "execution_count": 24,
   "metadata": {},
   "outputs": [
    {
     "data": {
      "text/plain": [
       "MaxAbsScaler()"
      ]
     },
     "execution_count": 24,
     "metadata": {},
     "output_type": "execute_result"
    }
   ],
   "source": [
    "e = [-10,-6,-2,2,6,10]\n",
    "df_e = pd.DataFrame(e)\n",
    "ma.fit(df_e)"
   ]
  },
  {
   "cell_type": "code",
   "execution_count": 25,
   "metadata": {},
   "outputs": [
    {
     "data": {
      "text/plain": [
       "array([[-1. ],\n",
       "       [-0.6],\n",
       "       [-0.2],\n",
       "       [ 0.2],\n",
       "       [ 0.6],\n",
       "       [ 1. ]])"
      ]
     },
     "execution_count": 25,
     "metadata": {},
     "output_type": "execute_result"
    }
   ],
   "source": [
    "e_scaled = ma.transform(df_e)\n",
    "e_scaled"
   ]
  },
  {
   "attachments": {},
   "cell_type": "markdown",
   "metadata": {},
   "source": [
    "# RobustScaler()\n",
    "평균과 분산 대신에 중간 값과 사분위 값을 사용합니다.\\\n",
    "중간 값은 정렬시 중간에 있는 값을 의미하고\\\n",
    "사분위값은 1/4, 3/4에 위치한 값을 의미합니다.\\\n",
    "이상치 영향을 최소화할 수 있습니다."
   ]
  },
  {
   "cell_type": "code",
   "execution_count": 26,
   "metadata": {},
   "outputs": [],
   "source": [
    "from sklearn.preprocessing import RobustScaler\n",
    "\n",
    "rb = RobustScaler()\n",
    "rb.fit(df_a)\n",
    "a_scaled = rb.transform(df_a)\n",
    "\n",
    "# 테스트 데이터의 스케일링\n",
    "b_scaled = rb.transform(df_b)"
   ]
  },
  {
   "cell_type": "code",
   "execution_count": 27,
   "metadata": {},
   "outputs": [
    {
     "data": {
      "text/plain": [
       "array([[-1. ],\n",
       "       [-0.5],\n",
       "       [ 0. ],\n",
       "       [ 0.5],\n",
       "       [ 1. ]])"
      ]
     },
     "execution_count": 27,
     "metadata": {},
     "output_type": "execute_result"
    }
   ],
   "source": [
    "a_scaled "
   ]
  },
  {
   "cell_type": "code",
   "execution_count": 28,
   "metadata": {},
   "outputs": [
    {
     "data": {
      "text/plain": [
       "0.7071067811865476"
      ]
     },
     "execution_count": 28,
     "metadata": {},
     "output_type": "execute_result"
    }
   ],
   "source": [
    "a_scaled.std()"
   ]
  },
  {
   "cell_type": "code",
   "execution_count": 29,
   "metadata": {},
   "outputs": [
    {
     "data": {
      "text/plain": [
       "0.0"
      ]
     },
     "execution_count": 29,
     "metadata": {},
     "output_type": "execute_result"
    }
   ],
   "source": [
    "a_scaled.mean()"
   ]
  },
  {
   "cell_type": "code",
   "execution_count": 30,
   "metadata": {},
   "outputs": [
    {
     "data": {
      "text/plain": [
       "array([[-0.75],\n",
       "       [-0.25],\n",
       "       [ 0.25]])"
      ]
     },
     "execution_count": 30,
     "metadata": {},
     "output_type": "execute_result"
    }
   ],
   "source": [
    "b_scaled"
   ]
  },
  {
   "attachments": {},
   "cell_type": "markdown",
   "metadata": {},
   "source": [
    "# Normalizer\n",
    "- 앞의 4가지 스케일러는 각 특성(열)의 통계치를 이용하여 진행됩니다.\n",
    "- 그러나 Normalizer 의 경우 각 샘플(행)마다 적용되는 방식입니다.\n",
    "- 이는 한 행의 모든 특성들 사이의 유클리드 거리(L2 norm)가 1이 되도록 스케일링합니다.\n",
    "- 일반적인 데이터 전처리의 상황에서 사용되는 것이 아니라\n",
    "- 모델(특히나 딥러닝) 내 학습 벡터에 적용하며,\n",
    "- 특히나 피쳐들이 다른 단위(키, 나이, 소득 등)라면 더더욱 사용하지 않습니다."
   ]
  },
  {
   "cell_type": "code",
   "execution_count": null,
   "metadata": {},
   "outputs": [],
   "source": []
  },
  {
   "cell_type": "code",
   "execution_count": 31,
   "metadata": {},
   "outputs": [],
   "source": [
    "from sklearn.preprocessing import Normalizer\n",
    "\n",
    "nm = Normalizer()\n",
    "nm.fit(df_a)\n",
    "a_scaled = nm.transform(df_a)\n",
    "\n",
    "# 테스트 데이터의 스케일링\n",
    "b_scaled = nm.transform(df_b)"
   ]
  },
  {
   "cell_type": "code",
   "execution_count": 32,
   "metadata": {},
   "outputs": [
    {
     "data": {
      "text/plain": [
       "array([[1.],\n",
       "       [1.],\n",
       "       [1.],\n",
       "       [1.],\n",
       "       [1.]])"
      ]
     },
     "execution_count": 32,
     "metadata": {},
     "output_type": "execute_result"
    }
   ],
   "source": [
    "a_scaled"
   ]
  },
  {
   "cell_type": "code",
   "execution_count": 33,
   "metadata": {},
   "outputs": [
    {
     "data": {
      "text/plain": [
       "array([[1.],\n",
       "       [1.],\n",
       "       [1.]])"
      ]
     },
     "execution_count": 33,
     "metadata": {},
     "output_type": "execute_result"
    }
   ],
   "source": [
    "b_scaled"
   ]
  },
  {
   "cell_type": "code",
   "execution_count": null,
   "metadata": {},
   "outputs": [],
   "source": []
  },
  {
   "attachments": {},
   "cell_type": "markdown",
   "metadata": {},
   "source": [
    "## 데이터를 가지고 직접해보기"
   ]
  },
  {
   "cell_type": "code",
   "execution_count": 34,
   "metadata": {},
   "outputs": [],
   "source": [
    "df = pd.read_csv(\"./data/성장성 지표.csv\")"
   ]
  },
  {
   "cell_type": "code",
   "execution_count": 35,
   "metadata": {},
   "outputs": [],
   "source": [
    "df.fillna(0,inplace=True)"
   ]
  },
  {
   "cell_type": "code",
   "execution_count": 36,
   "metadata": {},
   "outputs": [],
   "source": [
    "from sklearn.preprocessing import StandardScaler\n",
    "\n",
    "std = StandardScaler()"
   ]
  },
  {
   "cell_type": "code",
   "execution_count": 37,
   "metadata": {},
   "outputs": [
    {
     "data": {
      "text/plain": [
       "Index(['통계표', '업종코드', '규모선택', '지표선택', '단위', '변환', '2022/Q3', '2022/Q2',\n",
       "       '2022/Q1', '2021/Q4', '2021/Q3', '2021/Q2', '2021/Q1', '2020/Q4',\n",
       "       '2020/Q3', '2020/Q2', '2020/Q1', '2019/Q4', '2019/Q3'],\n",
       "      dtype='object')"
      ]
     },
     "execution_count": 37,
     "metadata": {},
     "output_type": "execute_result"
    }
   ],
   "source": [
    "df.columns"
   ]
  },
  {
   "cell_type": "code",
   "execution_count": 38,
   "metadata": {},
   "outputs": [
    {
     "data": {
      "text/html": [
       "<div>\n",
       "<style scoped>\n",
       "    .dataframe tbody tr th:only-of-type {\n",
       "        vertical-align: middle;\n",
       "    }\n",
       "\n",
       "    .dataframe tbody tr th {\n",
       "        vertical-align: top;\n",
       "    }\n",
       "\n",
       "    .dataframe thead th {\n",
       "        text-align: right;\n",
       "    }\n",
       "</style>\n",
       "<table border=\"1\" class=\"dataframe\">\n",
       "  <thead>\n",
       "    <tr style=\"text-align: right;\">\n",
       "      <th></th>\n",
       "      <th>2022/Q3</th>\n",
       "      <th>2022/Q2</th>\n",
       "      <th>2022/Q1</th>\n",
       "      <th>2021/Q4</th>\n",
       "      <th>2021/Q3</th>\n",
       "      <th>2021/Q2</th>\n",
       "      <th>2021/Q1</th>\n",
       "      <th>2020/Q4</th>\n",
       "      <th>2020/Q3</th>\n",
       "      <th>2020/Q2</th>\n",
       "      <th>2020/Q1</th>\n",
       "      <th>2019/Q4</th>\n",
       "      <th>2019/Q3</th>\n",
       "    </tr>\n",
       "  </thead>\n",
       "  <tbody>\n",
       "    <tr>\n",
       "      <th>0</th>\n",
       "      <td>2.76</td>\n",
       "      <td>2.33</td>\n",
       "      <td>3.73</td>\n",
       "      <td>0.0</td>\n",
       "      <td>3.05</td>\n",
       "      <td>1.40</td>\n",
       "      <td>3.29</td>\n",
       "      <td>0.0</td>\n",
       "      <td>1.87</td>\n",
       "      <td>1.10</td>\n",
       "      <td>1.52</td>\n",
       "      <td>0.0</td>\n",
       "      <td>1.12</td>\n",
       "    </tr>\n",
       "    <tr>\n",
       "      <th>1</th>\n",
       "      <td>17.52</td>\n",
       "      <td>20.51</td>\n",
       "      <td>17.04</td>\n",
       "      <td>0.0</td>\n",
       "      <td>15.44</td>\n",
       "      <td>18.65</td>\n",
       "      <td>7.37</td>\n",
       "      <td>0.0</td>\n",
       "      <td>-3.17</td>\n",
       "      <td>-10.11</td>\n",
       "      <td>-1.86</td>\n",
       "      <td>0.0</td>\n",
       "      <td>-2.79</td>\n",
       "    </tr>\n",
       "    <tr>\n",
       "      <th>2</th>\n",
       "      <td>2.72</td>\n",
       "      <td>2.21</td>\n",
       "      <td>3.78</td>\n",
       "      <td>0.0</td>\n",
       "      <td>2.86</td>\n",
       "      <td>0.79</td>\n",
       "      <td>3.19</td>\n",
       "      <td>0.0</td>\n",
       "      <td>1.72</td>\n",
       "      <td>0.78</td>\n",
       "      <td>1.16</td>\n",
       "      <td>0.0</td>\n",
       "      <td>0.85</td>\n",
       "    </tr>\n",
       "    <tr>\n",
       "      <th>3</th>\n",
       "      <td>19.00</td>\n",
       "      <td>23.02</td>\n",
       "      <td>20.15</td>\n",
       "      <td>0.0</td>\n",
       "      <td>16.74</td>\n",
       "      <td>20.22</td>\n",
       "      <td>7.09</td>\n",
       "      <td>0.0</td>\n",
       "      <td>-3.60</td>\n",
       "      <td>-11.34</td>\n",
       "      <td>-1.87</td>\n",
       "      <td>0.0</td>\n",
       "      <td>-3.34</td>\n",
       "    </tr>\n",
       "    <tr>\n",
       "      <th>4</th>\n",
       "      <td>2.95</td>\n",
       "      <td>2.86</td>\n",
       "      <td>3.55</td>\n",
       "      <td>0.0</td>\n",
       "      <td>3.70</td>\n",
       "      <td>3.50</td>\n",
       "      <td>3.76</td>\n",
       "      <td>0.0</td>\n",
       "      <td>2.52</td>\n",
       "      <td>2.49</td>\n",
       "      <td>3.12</td>\n",
       "      <td>0.0</td>\n",
       "      <td>2.33</td>\n",
       "    </tr>\n",
       "    <tr>\n",
       "      <th>...</th>\n",
       "      <td>...</td>\n",
       "      <td>...</td>\n",
       "      <td>...</td>\n",
       "      <td>...</td>\n",
       "      <td>...</td>\n",
       "      <td>...</td>\n",
       "      <td>...</td>\n",
       "      <td>...</td>\n",
       "      <td>...</td>\n",
       "      <td>...</td>\n",
       "      <td>...</td>\n",
       "      <td>...</td>\n",
       "      <td>...</td>\n",
       "    </tr>\n",
       "    <tr>\n",
       "      <th>121</th>\n",
       "      <td>24.72</td>\n",
       "      <td>23.36</td>\n",
       "      <td>18.65</td>\n",
       "      <td>0.0</td>\n",
       "      <td>26.07</td>\n",
       "      <td>33.88</td>\n",
       "      <td>-6.60</td>\n",
       "      <td>0.0</td>\n",
       "      <td>-23.38</td>\n",
       "      <td>-27.84</td>\n",
       "      <td>-11.79</td>\n",
       "      <td>0.0</td>\n",
       "      <td>13.24</td>\n",
       "    </tr>\n",
       "    <tr>\n",
       "      <th>122</th>\n",
       "      <td>0.00</td>\n",
       "      <td>0.00</td>\n",
       "      <td>0.00</td>\n",
       "      <td>0.0</td>\n",
       "      <td>0.00</td>\n",
       "      <td>0.00</td>\n",
       "      <td>0.00</td>\n",
       "      <td>0.0</td>\n",
       "      <td>0.00</td>\n",
       "      <td>0.00</td>\n",
       "      <td>0.00</td>\n",
       "      <td>0.0</td>\n",
       "      <td>0.00</td>\n",
       "    </tr>\n",
       "    <tr>\n",
       "      <th>123</th>\n",
       "      <td>0.00</td>\n",
       "      <td>0.00</td>\n",
       "      <td>0.00</td>\n",
       "      <td>0.0</td>\n",
       "      <td>0.00</td>\n",
       "      <td>0.00</td>\n",
       "      <td>0.00</td>\n",
       "      <td>0.0</td>\n",
       "      <td>0.00</td>\n",
       "      <td>0.00</td>\n",
       "      <td>0.00</td>\n",
       "      <td>0.0</td>\n",
       "      <td>0.00</td>\n",
       "    </tr>\n",
       "    <tr>\n",
       "      <th>124</th>\n",
       "      <td>0.00</td>\n",
       "      <td>0.00</td>\n",
       "      <td>0.00</td>\n",
       "      <td>0.0</td>\n",
       "      <td>0.00</td>\n",
       "      <td>0.00</td>\n",
       "      <td>0.00</td>\n",
       "      <td>0.0</td>\n",
       "      <td>0.00</td>\n",
       "      <td>0.00</td>\n",
       "      <td>0.00</td>\n",
       "      <td>0.0</td>\n",
       "      <td>0.00</td>\n",
       "    </tr>\n",
       "    <tr>\n",
       "      <th>125</th>\n",
       "      <td>0.00</td>\n",
       "      <td>0.00</td>\n",
       "      <td>0.00</td>\n",
       "      <td>0.0</td>\n",
       "      <td>0.00</td>\n",
       "      <td>0.00</td>\n",
       "      <td>0.00</td>\n",
       "      <td>0.0</td>\n",
       "      <td>0.00</td>\n",
       "      <td>0.00</td>\n",
       "      <td>0.00</td>\n",
       "      <td>0.0</td>\n",
       "      <td>0.00</td>\n",
       "    </tr>\n",
       "  </tbody>\n",
       "</table>\n",
       "<p>126 rows × 13 columns</p>\n",
       "</div>"
      ],
      "text/plain": [
       "     2022/Q3  2022/Q2  2022/Q1  2021/Q4  2021/Q3  2021/Q2  2021/Q1  2020/Q4  \\\n",
       "0       2.76     2.33     3.73      0.0     3.05     1.40     3.29      0.0   \n",
       "1      17.52    20.51    17.04      0.0    15.44    18.65     7.37      0.0   \n",
       "2       2.72     2.21     3.78      0.0     2.86     0.79     3.19      0.0   \n",
       "3      19.00    23.02    20.15      0.0    16.74    20.22     7.09      0.0   \n",
       "4       2.95     2.86     3.55      0.0     3.70     3.50     3.76      0.0   \n",
       "..       ...      ...      ...      ...      ...      ...      ...      ...   \n",
       "121    24.72    23.36    18.65      0.0    26.07    33.88    -6.60      0.0   \n",
       "122     0.00     0.00     0.00      0.0     0.00     0.00     0.00      0.0   \n",
       "123     0.00     0.00     0.00      0.0     0.00     0.00     0.00      0.0   \n",
       "124     0.00     0.00     0.00      0.0     0.00     0.00     0.00      0.0   \n",
       "125     0.00     0.00     0.00      0.0     0.00     0.00     0.00      0.0   \n",
       "\n",
       "     2020/Q3  2020/Q2  2020/Q1  2019/Q4  2019/Q3  \n",
       "0       1.87     1.10     1.52      0.0     1.12  \n",
       "1      -3.17   -10.11    -1.86      0.0    -2.79  \n",
       "2       1.72     0.78     1.16      0.0     0.85  \n",
       "3      -3.60   -11.34    -1.87      0.0    -3.34  \n",
       "4       2.52     2.49     3.12      0.0     2.33  \n",
       "..       ...      ...      ...      ...      ...  \n",
       "121   -23.38   -27.84   -11.79      0.0    13.24  \n",
       "122     0.00     0.00     0.00      0.0     0.00  \n",
       "123     0.00     0.00     0.00      0.0     0.00  \n",
       "124     0.00     0.00     0.00      0.0     0.00  \n",
       "125     0.00     0.00     0.00      0.0     0.00  \n",
       "\n",
       "[126 rows x 13 columns]"
      ]
     },
     "execution_count": 38,
     "metadata": {},
     "output_type": "execute_result"
    }
   ],
   "source": [
    "df_data = df[['2022/Q3', '2022/Q2','2022/Q1', '2021/Q4', '2021/Q3', '2021/Q2', '2021/Q1', '2020/Q4',\n",
    "       '2020/Q3', '2020/Q2', '2020/Q1', '2019/Q4', '2019/Q3']]\n",
    "df_data"
   ]
  },
  {
   "cell_type": "code",
   "execution_count": 39,
   "metadata": {},
   "outputs": [
    {
     "data": {
      "text/plain": [
       "StandardScaler()"
      ]
     },
     "execution_count": 39,
     "metadata": {},
     "output_type": "execute_result"
    }
   ],
   "source": [
    "std.fit(df_data)"
   ]
  },
  {
   "cell_type": "code",
   "execution_count": 40,
   "metadata": {},
   "outputs": [
    {
     "data": {
      "text/plain": [
       "array([[-0.19724402, -0.27259568, -0.06540187, ...,  0.71426371,\n",
       "         0.        ,  0.46469538],\n",
       "       [ 1.57898362,  1.80523432,  1.57778714, ..., -0.67740354,\n",
       "         0.        , -1.22300698],\n",
       "       [-0.20205764, -0.28631073, -0.05922911, ...,  0.56603879,\n",
       "         0.        ,  0.34815327],\n",
       "       ...,\n",
       "       [-0.52938414, -0.53889622, -0.52588986, ...,  0.08842518,\n",
       "         0.        , -0.01873855],\n",
       "       [-0.52938414, -0.53889622, -0.52588986, ...,  0.08842518,\n",
       "         0.        , -0.01873855],\n",
       "       [-0.52938414, -0.53889622, -0.52588986, ...,  0.08842518,\n",
       "         0.        , -0.01873855]])"
      ]
     },
     "execution_count": 40,
     "metadata": {},
     "output_type": "execute_result"
    }
   ],
   "source": [
    "df_data_scaled = std.transform(df_data)\n",
    "df_data_scaled"
   ]
  },
  {
   "cell_type": "code",
   "execution_count": 41,
   "metadata": {},
   "outputs": [],
   "source": [
    "df_data_scaled = pd.DataFrame(df_data_scaled, columns = df_data.columns)"
   ]
  },
  {
   "cell_type": "code",
   "execution_count": 42,
   "metadata": {},
   "outputs": [
    {
     "data": {
      "text/html": [
       "<div>\n",
       "<style scoped>\n",
       "    .dataframe tbody tr th:only-of-type {\n",
       "        vertical-align: middle;\n",
       "    }\n",
       "\n",
       "    .dataframe tbody tr th {\n",
       "        vertical-align: top;\n",
       "    }\n",
       "\n",
       "    .dataframe thead th {\n",
       "        text-align: right;\n",
       "    }\n",
       "</style>\n",
       "<table border=\"1\" class=\"dataframe\">\n",
       "  <thead>\n",
       "    <tr style=\"text-align: right;\">\n",
       "      <th></th>\n",
       "      <th>2022/Q3</th>\n",
       "      <th>2022/Q2</th>\n",
       "      <th>2022/Q1</th>\n",
       "      <th>2021/Q4</th>\n",
       "      <th>2021/Q3</th>\n",
       "      <th>2021/Q2</th>\n",
       "      <th>2021/Q1</th>\n",
       "      <th>2020/Q4</th>\n",
       "      <th>2020/Q3</th>\n",
       "      <th>2020/Q2</th>\n",
       "      <th>2020/Q1</th>\n",
       "      <th>2019/Q4</th>\n",
       "      <th>2019/Q3</th>\n",
       "    </tr>\n",
       "  </thead>\n",
       "  <tbody>\n",
       "    <tr>\n",
       "      <th>0</th>\n",
       "      <td>-0.197244</td>\n",
       "      <td>-0.272596</td>\n",
       "      <td>-0.065402</td>\n",
       "      <td>0.0</td>\n",
       "      <td>-0.096458</td>\n",
       "      <td>-0.329849</td>\n",
       "      <td>0.465546</td>\n",
       "      <td>0.0</td>\n",
       "      <td>0.621585</td>\n",
       "      <td>0.537519</td>\n",
       "      <td>0.714264</td>\n",
       "      <td>0.0</td>\n",
       "      <td>0.464695</td>\n",
       "    </tr>\n",
       "    <tr>\n",
       "      <th>1</th>\n",
       "      <td>1.578984</td>\n",
       "      <td>1.805234</td>\n",
       "      <td>1.577787</td>\n",
       "      <td>0.0</td>\n",
       "      <td>1.500074</td>\n",
       "      <td>1.674529</td>\n",
       "      <td>1.680655</td>\n",
       "      <td>0.0</td>\n",
       "      <td>-0.652441</td>\n",
       "      <td>-1.569096</td>\n",
       "      <td>-0.677404</td>\n",
       "      <td>0.0</td>\n",
       "      <td>-1.223007</td>\n",
       "    </tr>\n",
       "    <tr>\n",
       "      <th>2</th>\n",
       "      <td>-0.202058</td>\n",
       "      <td>-0.286311</td>\n",
       "      <td>-0.059229</td>\n",
       "      <td>0.0</td>\n",
       "      <td>-0.120941</td>\n",
       "      <td>-0.400728</td>\n",
       "      <td>0.435764</td>\n",
       "      <td>0.0</td>\n",
       "      <td>0.583668</td>\n",
       "      <td>0.477384</td>\n",
       "      <td>0.566039</td>\n",
       "      <td>0.0</td>\n",
       "      <td>0.348153</td>\n",
       "    </tr>\n",
       "    <tr>\n",
       "      <th>3</th>\n",
       "      <td>1.757088</td>\n",
       "      <td>2.092107</td>\n",
       "      <td>1.961733</td>\n",
       "      <td>0.0</td>\n",
       "      <td>1.667587</td>\n",
       "      <td>1.856957</td>\n",
       "      <td>1.597265</td>\n",
       "      <td>0.0</td>\n",
       "      <td>-0.761137</td>\n",
       "      <td>-1.800241</td>\n",
       "      <td>-0.681521</td>\n",
       "      <td>0.0</td>\n",
       "      <td>-1.460408</td>\n",
       "    </tr>\n",
       "    <tr>\n",
       "      <th>4</th>\n",
       "      <td>-0.174379</td>\n",
       "      <td>-0.212021</td>\n",
       "      <td>-0.087624</td>\n",
       "      <td>0.0</td>\n",
       "      <td>-0.012702</td>\n",
       "      <td>-0.085837</td>\n",
       "      <td>0.605522</td>\n",
       "      <td>0.0</td>\n",
       "      <td>0.785894</td>\n",
       "      <td>0.798732</td>\n",
       "      <td>1.373041</td>\n",
       "      <td>0.0</td>\n",
       "      <td>0.986977</td>\n",
       "    </tr>\n",
       "    <tr>\n",
       "      <th>...</th>\n",
       "      <td>...</td>\n",
       "      <td>...</td>\n",
       "      <td>...</td>\n",
       "      <td>...</td>\n",
       "      <td>...</td>\n",
       "      <td>...</td>\n",
       "      <td>...</td>\n",
       "      <td>...</td>\n",
       "      <td>...</td>\n",
       "      <td>...</td>\n",
       "      <td>...</td>\n",
       "      <td>...</td>\n",
       "      <td>...</td>\n",
       "    </tr>\n",
       "    <tr>\n",
       "      <th>121</th>\n",
       "      <td>2.445436</td>\n",
       "      <td>2.130967</td>\n",
       "      <td>1.776550</td>\n",
       "      <td>0.0</td>\n",
       "      <td>2.869818</td>\n",
       "      <td>3.444191</td>\n",
       "      <td>-2.479902</td>\n",
       "      <td>0.0</td>\n",
       "      <td>-5.761184</td>\n",
       "      <td>-4.900968</td>\n",
       "      <td>-4.765941</td>\n",
       "      <td>0.0</td>\n",
       "      <td>5.696141</td>\n",
       "    </tr>\n",
       "    <tr>\n",
       "      <th>122</th>\n",
       "      <td>-0.529384</td>\n",
       "      <td>-0.538896</td>\n",
       "      <td>-0.525890</td>\n",
       "      <td>0.0</td>\n",
       "      <td>-0.489471</td>\n",
       "      <td>-0.492523</td>\n",
       "      <td>-0.514285</td>\n",
       "      <td>0.0</td>\n",
       "      <td>0.148881</td>\n",
       "      <td>0.330804</td>\n",
       "      <td>0.088425</td>\n",
       "      <td>0.0</td>\n",
       "      <td>-0.018739</td>\n",
       "    </tr>\n",
       "    <tr>\n",
       "      <th>123</th>\n",
       "      <td>-0.529384</td>\n",
       "      <td>-0.538896</td>\n",
       "      <td>-0.525890</td>\n",
       "      <td>0.0</td>\n",
       "      <td>-0.489471</td>\n",
       "      <td>-0.492523</td>\n",
       "      <td>-0.514285</td>\n",
       "      <td>0.0</td>\n",
       "      <td>0.148881</td>\n",
       "      <td>0.330804</td>\n",
       "      <td>0.088425</td>\n",
       "      <td>0.0</td>\n",
       "      <td>-0.018739</td>\n",
       "    </tr>\n",
       "    <tr>\n",
       "      <th>124</th>\n",
       "      <td>-0.529384</td>\n",
       "      <td>-0.538896</td>\n",
       "      <td>-0.525890</td>\n",
       "      <td>0.0</td>\n",
       "      <td>-0.489471</td>\n",
       "      <td>-0.492523</td>\n",
       "      <td>-0.514285</td>\n",
       "      <td>0.0</td>\n",
       "      <td>0.148881</td>\n",
       "      <td>0.330804</td>\n",
       "      <td>0.088425</td>\n",
       "      <td>0.0</td>\n",
       "      <td>-0.018739</td>\n",
       "    </tr>\n",
       "    <tr>\n",
       "      <th>125</th>\n",
       "      <td>-0.529384</td>\n",
       "      <td>-0.538896</td>\n",
       "      <td>-0.525890</td>\n",
       "      <td>0.0</td>\n",
       "      <td>-0.489471</td>\n",
       "      <td>-0.492523</td>\n",
       "      <td>-0.514285</td>\n",
       "      <td>0.0</td>\n",
       "      <td>0.148881</td>\n",
       "      <td>0.330804</td>\n",
       "      <td>0.088425</td>\n",
       "      <td>0.0</td>\n",
       "      <td>-0.018739</td>\n",
       "    </tr>\n",
       "  </tbody>\n",
       "</table>\n",
       "<p>126 rows × 13 columns</p>\n",
       "</div>"
      ],
      "text/plain": [
       "      2022/Q3   2022/Q2   2022/Q1  2021/Q4   2021/Q3   2021/Q2   2021/Q1  \\\n",
       "0   -0.197244 -0.272596 -0.065402      0.0 -0.096458 -0.329849  0.465546   \n",
       "1    1.578984  1.805234  1.577787      0.0  1.500074  1.674529  1.680655   \n",
       "2   -0.202058 -0.286311 -0.059229      0.0 -0.120941 -0.400728  0.435764   \n",
       "3    1.757088  2.092107  1.961733      0.0  1.667587  1.856957  1.597265   \n",
       "4   -0.174379 -0.212021 -0.087624      0.0 -0.012702 -0.085837  0.605522   \n",
       "..        ...       ...       ...      ...       ...       ...       ...   \n",
       "121  2.445436  2.130967  1.776550      0.0  2.869818  3.444191 -2.479902   \n",
       "122 -0.529384 -0.538896 -0.525890      0.0 -0.489471 -0.492523 -0.514285   \n",
       "123 -0.529384 -0.538896 -0.525890      0.0 -0.489471 -0.492523 -0.514285   \n",
       "124 -0.529384 -0.538896 -0.525890      0.0 -0.489471 -0.492523 -0.514285   \n",
       "125 -0.529384 -0.538896 -0.525890      0.0 -0.489471 -0.492523 -0.514285   \n",
       "\n",
       "     2020/Q4   2020/Q3   2020/Q2   2020/Q1  2019/Q4   2019/Q3  \n",
       "0        0.0  0.621585  0.537519  0.714264      0.0  0.464695  \n",
       "1        0.0 -0.652441 -1.569096 -0.677404      0.0 -1.223007  \n",
       "2        0.0  0.583668  0.477384  0.566039      0.0  0.348153  \n",
       "3        0.0 -0.761137 -1.800241 -0.681521      0.0 -1.460408  \n",
       "4        0.0  0.785894  0.798732  1.373041      0.0  0.986977  \n",
       "..       ...       ...       ...       ...      ...       ...  \n",
       "121      0.0 -5.761184 -4.900968 -4.765941      0.0  5.696141  \n",
       "122      0.0  0.148881  0.330804  0.088425      0.0 -0.018739  \n",
       "123      0.0  0.148881  0.330804  0.088425      0.0 -0.018739  \n",
       "124      0.0  0.148881  0.330804  0.088425      0.0 -0.018739  \n",
       "125      0.0  0.148881  0.330804  0.088425      0.0 -0.018739  \n",
       "\n",
       "[126 rows x 13 columns]"
      ]
     },
     "execution_count": 42,
     "metadata": {},
     "output_type": "execute_result"
    }
   ],
   "source": [
    "df_data_scaled"
   ]
  },
  {
   "cell_type": "code",
   "execution_count": 43,
   "metadata": {},
   "outputs": [
    {
     "data": {
      "text/plain": [
       "2022/Q3    4.405647e-17\n",
       "2022/Q2    2.643388e-17\n",
       "2022/Q1    1.832749e-16\n",
       "2021/Q4    0.000000e+00\n",
       "2021/Q3   -3.524518e-18\n",
       "2021/Q2    1.497920e-17\n",
       "2021/Q1    6.167906e-17\n",
       "2020/Q4    0.000000e+00\n",
       "2020/Q3   -2.819614e-17\n",
       "2020/Q2   -4.934325e-17\n",
       "2020/Q1   -2.467162e-17\n",
       "2019/Q4    0.000000e+00\n",
       "2019/Q3    4.361590e-17\n",
       "dtype: float64"
      ]
     },
     "execution_count": 43,
     "metadata": {},
     "output_type": "execute_result"
    }
   ],
   "source": [
    "df_data_scaled.mean()"
   ]
  },
  {
   "cell_type": "code",
   "execution_count": 44,
   "metadata": {},
   "outputs": [
    {
     "data": {
      "text/plain": [
       "2022/Q3    1.003992\n",
       "2022/Q2    1.003992\n",
       "2022/Q1    1.003992\n",
       "2021/Q4    0.000000\n",
       "2021/Q3    1.003992\n",
       "2021/Q2    1.003992\n",
       "2021/Q1    1.003992\n",
       "2020/Q4    0.000000\n",
       "2020/Q3    1.003992\n",
       "2020/Q2    1.003992\n",
       "2020/Q1    1.003992\n",
       "2019/Q4    0.000000\n",
       "2019/Q3    1.003992\n",
       "dtype: float64"
      ]
     },
     "execution_count": 44,
     "metadata": {},
     "output_type": "execute_result"
    }
   ],
   "source": [
    "df_data_scaled.std()"
   ]
  },
  {
   "cell_type": "code",
   "execution_count": null,
   "metadata": {},
   "outputs": [],
   "source": []
  }
 ],
 "metadata": {
  "kernelspec": {
   "display_name": "base",
   "language": "python",
   "name": "python3"
  },
  "language_info": {
   "codemirror_mode": {
    "name": "ipython",
    "version": 3
   },
   "file_extension": ".py",
   "mimetype": "text/x-python",
   "name": "python",
   "nbconvert_exporter": "python",
   "pygments_lexer": "ipython3",
   "version": "3.9.13"
  },
  "orig_nbformat": 4
 },
 "nbformat": 4,
 "nbformat_minor": 2
}

{
 "cells": [
  {
   "cell_type": "markdown",
   "metadata": {
    "id": "niCwAe3xA6kF"
   },
   "source": [
    "# 펭귄 몸무게 예측하기 실습"
   ]
  },
  {
   "cell_type": "markdown",
   "metadata": {
    "id": "RsEItPGS6MxE"
   },
   "source": [
    "## 1.  데이터 불러오기"
   ]
  },
  {
   "cell_type": "markdown",
   "metadata": {
    "id": "ykz3VmuiSduE"
   },
   "source": [
    "사용할 라이브러리들을 import하고, 학습시킬 데이터를 불러와서 train 변수에 저장"
   ]
  },
  {
   "cell_type": "code",
   "execution_count": 168,
   "metadata": {
    "ExecuteTime": {
     "end_time": "2022-12-07T10:04:50.323621Z",
     "start_time": "2022-12-07T10:04:50.287718Z"
    }
   },
   "outputs": [],
   "source": [
    "import numpy as np\n",
    "import pandas as pd\n",
    "\n",
    "# 데이터 불러오기\n",
    "train = pd.read_csv('./train_penguins.csv',index_col=0)"
   ]
  },
  {
   "cell_type": "markdown",
   "metadata": {
    "id": "W2U2M9MPVYSE"
   },
   "source": [
    "## 2. 데이터 살펴보기"
   ]
  },
  {
   "cell_type": "markdown",
   "metadata": {
    "id": "g9ZimuLwiU0M"
   },
   "source": [
    "head()와 dtypes를 이용해 데이터를 살펴봅시당."
   ]
  },
  {
   "cell_type": "code",
   "execution_count": 169,
   "metadata": {
    "ExecuteTime": {
     "end_time": "2022-12-07T10:04:51.602204Z",
     "start_time": "2022-12-07T10:04:51.522417Z"
    },
    "colab": {
     "base_uri": "https://localhost:8080/",
     "height": 206
    },
    "id": "c0LCFZYYafSs",
    "outputId": "6edd6065-2a2d-4383-d6ea-8fc1cff067bc"
   },
   "outputs": [
    {
     "data": {
      "text/html": [
       "<div>\n",
       "<style scoped>\n",
       "    .dataframe tbody tr th:only-of-type {\n",
       "        vertical-align: middle;\n",
       "    }\n",
       "\n",
       "    .dataframe tbody tr th {\n",
       "        vertical-align: top;\n",
       "    }\n",
       "\n",
       "    .dataframe thead th {\n",
       "        text-align: right;\n",
       "    }\n",
       "</style>\n",
       "<table border=\"1\" class=\"dataframe\">\n",
       "  <thead>\n",
       "    <tr style=\"text-align: right;\">\n",
       "      <th></th>\n",
       "      <th>Species</th>\n",
       "      <th>Island</th>\n",
       "      <th>Clutch Completion</th>\n",
       "      <th>Culmen Length (mm)</th>\n",
       "      <th>Culmen Depth (mm)</th>\n",
       "      <th>Flipper Length (mm)</th>\n",
       "      <th>Sex</th>\n",
       "      <th>Delta 15 N (o/oo)</th>\n",
       "      <th>Delta 13 C (o/oo)</th>\n",
       "      <th>Body Mass (g)</th>\n",
       "    </tr>\n",
       "  </thead>\n",
       "  <tbody>\n",
       "    <tr>\n",
       "      <th>0</th>\n",
       "      <td>Gentoo penguin (Pygoscelis papua)</td>\n",
       "      <td>Biscoe</td>\n",
       "      <td>Yes</td>\n",
       "      <td>46.1</td>\n",
       "      <td>15.1</td>\n",
       "      <td>215.0</td>\n",
       "      <td>MALE</td>\n",
       "      <td>7.83733</td>\n",
       "      <td>-25.42826</td>\n",
       "      <td>5100.0</td>\n",
       "    </tr>\n",
       "    <tr>\n",
       "      <th>1</th>\n",
       "      <td>Gentoo penguin (Pygoscelis papua)</td>\n",
       "      <td>Biscoe</td>\n",
       "      <td>No</td>\n",
       "      <td>45.5</td>\n",
       "      <td>13.9</td>\n",
       "      <td>210.0</td>\n",
       "      <td>FEMALE</td>\n",
       "      <td>8.47829</td>\n",
       "      <td>-26.61788</td>\n",
       "      <td>4200.0</td>\n",
       "    </tr>\n",
       "    <tr>\n",
       "      <th>2</th>\n",
       "      <td>Gentoo penguin (Pygoscelis papua)</td>\n",
       "      <td>Biscoe</td>\n",
       "      <td>Yes</td>\n",
       "      <td>46.8</td>\n",
       "      <td>15.4</td>\n",
       "      <td>215.0</td>\n",
       "      <td>MALE</td>\n",
       "      <td>8.16310</td>\n",
       "      <td>-25.38017</td>\n",
       "      <td>5150.0</td>\n",
       "    </tr>\n",
       "    <tr>\n",
       "      <th>3</th>\n",
       "      <td>Gentoo penguin (Pygoscelis papua)</td>\n",
       "      <td>Biscoe</td>\n",
       "      <td>Yes</td>\n",
       "      <td>51.5</td>\n",
       "      <td>16.3</td>\n",
       "      <td>230.0</td>\n",
       "      <td>MALE</td>\n",
       "      <td>8.78557</td>\n",
       "      <td>-25.76147</td>\n",
       "      <td>5500.0</td>\n",
       "    </tr>\n",
       "    <tr>\n",
       "      <th>4</th>\n",
       "      <td>Chinstrap penguin (Pygoscelis antarctica)</td>\n",
       "      <td>Dream</td>\n",
       "      <td>Yes</td>\n",
       "      <td>50.8</td>\n",
       "      <td>19.0</td>\n",
       "      <td>210.0</td>\n",
       "      <td>MALE</td>\n",
       "      <td>9.98044</td>\n",
       "      <td>-24.68741</td>\n",
       "      <td>4100.0</td>\n",
       "    </tr>\n",
       "  </tbody>\n",
       "</table>\n",
       "</div>"
      ],
      "text/plain": [
       "                                     Species  Island  ... Delta 13 C (o/oo)  Body Mass (g)\n",
       "0          Gentoo penguin (Pygoscelis papua)  Biscoe  ...         -25.42826         5100.0\n",
       "1          Gentoo penguin (Pygoscelis papua)  Biscoe  ...         -26.61788         4200.0\n",
       "2          Gentoo penguin (Pygoscelis papua)  Biscoe  ...         -25.38017         5150.0\n",
       "3          Gentoo penguin (Pygoscelis papua)  Biscoe  ...         -25.76147         5500.0\n",
       "4  Chinstrap penguin (Pygoscelis antarctica)   Dream  ...         -24.68741         4100.0\n",
       "\n",
       "[5 rows x 10 columns]"
      ]
     },
     "execution_count": 169,
     "metadata": {},
     "output_type": "execute_result"
    }
   ],
   "source": [
    "train.head()"
   ]
  },
  {
   "cell_type": "code",
   "execution_count": 170,
   "metadata": {
    "ExecuteTime": {
     "end_time": "2022-12-07T10:04:51.822613Z",
     "start_time": "2022-12-07T10:04:51.804661Z"
    },
    "colab": {
     "base_uri": "https://localhost:8080/"
    },
    "id": "kkgtbEGLaSWv",
    "outputId": "2f4cedc0-83d2-4ce0-b5cb-8db2525f6ff0"
   },
   "outputs": [
    {
     "data": {
      "text/plain": [
       "Species                 object\n",
       "Island                  object\n",
       "Clutch Completion       object\n",
       "Culmen Length (mm)     float64\n",
       "Culmen Depth (mm)      float64\n",
       "Flipper Length (mm)    float64\n",
       "Sex                     object\n",
       "Delta 15 N (o/oo)      float64\n",
       "Delta 13 C (o/oo)      float64\n",
       "Body Mass (g)          float64\n",
       "dtype: object"
      ]
     },
     "execution_count": 170,
     "metadata": {},
     "output_type": "execute_result"
    }
   ],
   "source": [
    "train.dtypes"
   ]
  },
  {
   "cell_type": "markdown",
   "metadata": {
    "id": "YlmTmd4vVeEd"
   },
   "source": [
    " <br><br>\n",
    " **펭귄 데이터의 컬럼 정보**\n",
    "\n",
    "<br>\n",
    "\n",
    "- **Species** : 펭귄의 종 / 카테고리형 데이터 \n",
    "\n",
    "- **Island** : 시료를 채취한 섬 / 카테고리형 데이터\n",
    "\n",
    "- **Clutch Completion** : 연구 둥지가 <u>완전한 클러치(2개의 알)</u>로 관찰되었는지 여부 / 카테고리형 데이터\n",
    "\n",
    "- **Culmen Length (mm)** : 부리의 등쪽 능선의 길이 (mm) / 수치형 데이터\n",
    "\n",
    "- **Culmen Depth (mm)** : 부리의 등쪽 능선의 깊이 (mm) / 수치형 데이터\n",
    "\n",
    "- **Flipper Length (mm)** : 펭귄 지느러미의 길이 (mm) / 수치형 데이터\n",
    "\n",
    "- **Sex** : 펭귄의 성별 / 카테고리형 데이터\n",
    "\n",
    "- **Delta 15 N (o/oo)** : 안정 동위원소 15N:14N의 비율 / 수치형 데이터\n",
    "\n",
    "- **Delta 13 C (o/oo)** : 안정 동위원소 13C:12C의 비율 / 수치형 데이터\n",
    "\n",
    "- **Body Mass (g)** : 펭귄의 체질량 (g) / 수치형 데이터\n",
    "\n",
    "<br><br>\n",
    " 출처) https://allisonhorst.github.io/palmerpenguins/reference/penguins_raw.html"
   ]
  },
  {
   "cell_type": "markdown",
   "metadata": {
    "id": "YKXqsrZQTJ2Z"
   },
   "source": [
    "<br>"
   ]
  },
  {
   "cell_type": "markdown",
   "metadata": {
    "id": "APVNEBUo758A"
   },
   "source": [
    "## 3.  결측치 확인"
   ]
  },
  {
   "cell_type": "markdown",
   "metadata": {
    "id": "ii-vYl6ijPIo"
   },
   "source": [
    "info()를 이용해 결측치가 존재하는지 확인해보겠습니다."
   ]
  },
  {
   "cell_type": "code",
   "execution_count": 171,
   "metadata": {
    "ExecuteTime": {
     "end_time": "2022-12-07T10:04:55.199448Z",
     "start_time": "2022-12-07T10:04:55.164541Z"
    },
    "colab": {
     "base_uri": "https://localhost:8080/"
    },
    "id": "twmFCzG_QM2Q",
    "outputId": "f937bc7b-9dbc-407f-f5ad-211a424d2dca",
    "scrolled": false
   },
   "outputs": [
    {
     "name": "stdout",
     "output_type": "stream",
     "text": [
      "<class 'pandas.core.frame.DataFrame'>\n",
      "Int64Index: 240 entries, 0 to 239\n",
      "Data columns (total 10 columns):\n",
      " #   Column               Non-Null Count  Dtype  \n",
      "---  ------               --------------  -----  \n",
      " 0   Species              240 non-null    object \n",
      " 1   Island               240 non-null    object \n",
      " 2   Clutch Completion    240 non-null    object \n",
      " 3   Culmen Length (mm)   239 non-null    float64\n",
      " 4   Culmen Depth (mm)    239 non-null    float64\n",
      " 5   Flipper Length (mm)  239 non-null    float64\n",
      " 6   Sex                  231 non-null    object \n",
      " 7   Delta 15 N (o/oo)    230 non-null    float64\n",
      " 8   Delta 13 C (o/oo)    231 non-null    float64\n",
      " 9   Body Mass (g)        239 non-null    float64\n",
      "dtypes: float64(6), object(4)\n",
      "memory usage: 20.6+ KB\n"
     ]
    }
   ],
   "source": [
    "train.info()"
   ]
  },
  {
   "cell_type": "code",
   "execution_count": 172,
   "metadata": {
    "ExecuteTime": {
     "end_time": "2022-12-07T10:04:55.686834Z",
     "start_time": "2022-12-07T10:04:55.651240Z"
    }
   },
   "outputs": [
    {
     "data": {
      "text/plain": [
       "Species                 0\n",
       "Island                  0\n",
       "Clutch Completion       0\n",
       "Culmen Length (mm)      1\n",
       "Culmen Depth (mm)       1\n",
       "Flipper Length (mm)     1\n",
       "Sex                     9\n",
       "Delta 15 N (o/oo)      10\n",
       "Delta 13 C (o/oo)       9\n",
       "Body Mass (g)           1\n",
       "dtype: int64"
      ]
     },
     "execution_count": 172,
     "metadata": {},
     "output_type": "execute_result"
    }
   ],
   "source": [
    "train.isna().sum()"
   ]
  },
  {
   "cell_type": "markdown",
   "metadata": {
    "id": "YSXu-LLQ84DP"
   },
   "source": [
    "Culmen Length (mm),Culmen Depth (mm),Flipper Length (mm), Sex, Delta 15 N (o/oo), Delta 13 C (o/oo) Body Mass (g) 컬럼에 결측치가 존재합니다."
   ]
  },
  {
   "cell_type": "markdown",
   "metadata": {
    "id": "ue2Ud0gVTSeH"
   },
   "source": [
    "<br>"
   ]
  },
  {
   "cell_type": "markdown",
   "metadata": {
    "id": "7hjOdp869oEw"
   },
   "source": [
    "## 3-1  결측치 처리"
   ]
  },
  {
   "cell_type": "code",
   "execution_count": 173,
   "metadata": {
    "ExecuteTime": {
     "end_time": "2022-12-07T10:05:03.008203Z",
     "start_time": "2022-12-07T10:05:02.917445Z"
    },
    "colab": {
     "base_uri": "https://localhost:8080/",
     "height": 206
    },
    "id": "wlHSNcRW9gFb",
    "outputId": "bb692ee5-4033-4797-c835-ad385eb1ac15"
   },
   "outputs": [
    {
     "data": {
      "text/html": [
       "<div>\n",
       "<style scoped>\n",
       "    .dataframe tbody tr th:only-of-type {\n",
       "        vertical-align: middle;\n",
       "    }\n",
       "\n",
       "    .dataframe tbody tr th {\n",
       "        vertical-align: top;\n",
       "    }\n",
       "\n",
       "    .dataframe thead th {\n",
       "        text-align: right;\n",
       "    }\n",
       "</style>\n",
       "<table border=\"1\" class=\"dataframe\">\n",
       "  <thead>\n",
       "    <tr style=\"text-align: right;\">\n",
       "      <th></th>\n",
       "      <th>Species</th>\n",
       "      <th>Island</th>\n",
       "      <th>Clutch Completion</th>\n",
       "      <th>Culmen Length (mm)</th>\n",
       "      <th>Culmen Depth (mm)</th>\n",
       "      <th>Flipper Length (mm)</th>\n",
       "      <th>Sex</th>\n",
       "      <th>Delta 15 N (o/oo)</th>\n",
       "      <th>Delta 13 C (o/oo)</th>\n",
       "      <th>Body Mass (g)</th>\n",
       "    </tr>\n",
       "  </thead>\n",
       "  <tbody>\n",
       "    <tr>\n",
       "      <th>36</th>\n",
       "      <td>Gentoo penguin (Pygoscelis papua)</td>\n",
       "      <td>Biscoe</td>\n",
       "      <td>Yes</td>\n",
       "      <td>47.3</td>\n",
       "      <td>13.8</td>\n",
       "      <td>216.0</td>\n",
       "      <td>NaN</td>\n",
       "      <td>8.25818</td>\n",
       "      <td>-26.23886</td>\n",
       "      <td>4725.0</td>\n",
       "    </tr>\n",
       "    <tr>\n",
       "      <th>42</th>\n",
       "      <td>Adelie Penguin (Pygoscelis adeliae)</td>\n",
       "      <td>Torgersen</td>\n",
       "      <td>Yes</td>\n",
       "      <td>36.6</td>\n",
       "      <td>17.8</td>\n",
       "      <td>185.0</td>\n",
       "      <td>FEMALE</td>\n",
       "      <td>NaN</td>\n",
       "      <td>NaN</td>\n",
       "      <td>3700.0</td>\n",
       "    </tr>\n",
       "    <tr>\n",
       "      <th>58</th>\n",
       "      <td>Adelie Penguin (Pygoscelis adeliae)</td>\n",
       "      <td>Dream</td>\n",
       "      <td>Yes</td>\n",
       "      <td>40.8</td>\n",
       "      <td>18.4</td>\n",
       "      <td>195.0</td>\n",
       "      <td>MALE</td>\n",
       "      <td>NaN</td>\n",
       "      <td>NaN</td>\n",
       "      <td>3900.0</td>\n",
       "    </tr>\n",
       "    <tr>\n",
       "      <th>67</th>\n",
       "      <td>Adelie Penguin (Pygoscelis adeliae)</td>\n",
       "      <td>Dream</td>\n",
       "      <td>No</td>\n",
       "      <td>39.8</td>\n",
       "      <td>19.1</td>\n",
       "      <td>184.0</td>\n",
       "      <td>MALE</td>\n",
       "      <td>NaN</td>\n",
       "      <td>NaN</td>\n",
       "      <td>4650.0</td>\n",
       "    </tr>\n",
       "    <tr>\n",
       "      <th>77</th>\n",
       "      <td>Adelie Penguin (Pygoscelis adeliae)</td>\n",
       "      <td>Torgersen</td>\n",
       "      <td>Yes</td>\n",
       "      <td>37.8</td>\n",
       "      <td>17.3</td>\n",
       "      <td>180.0</td>\n",
       "      <td>NaN</td>\n",
       "      <td>NaN</td>\n",
       "      <td>NaN</td>\n",
       "      <td>3700.0</td>\n",
       "    </tr>\n",
       "    <tr>\n",
       "      <th>94</th>\n",
       "      <td>Gentoo penguin (Pygoscelis papua)</td>\n",
       "      <td>Biscoe</td>\n",
       "      <td>Yes</td>\n",
       "      <td>46.2</td>\n",
       "      <td>14.4</td>\n",
       "      <td>214.0</td>\n",
       "      <td>NaN</td>\n",
       "      <td>8.24253</td>\n",
       "      <td>-26.81540</td>\n",
       "      <td>4650.0</td>\n",
       "    </tr>\n",
       "    <tr>\n",
       "      <th>98</th>\n",
       "      <td>Chinstrap penguin (Pygoscelis antarctica)</td>\n",
       "      <td>Dream</td>\n",
       "      <td>Yes</td>\n",
       "      <td>51.9</td>\n",
       "      <td>19.5</td>\n",
       "      <td>206.0</td>\n",
       "      <td>MALE</td>\n",
       "      <td>NaN</td>\n",
       "      <td>-23.78767</td>\n",
       "      <td>3950.0</td>\n",
       "    </tr>\n",
       "    <tr>\n",
       "      <th>100</th>\n",
       "      <td>Adelie Penguin (Pygoscelis adeliae)</td>\n",
       "      <td>Torgersen</td>\n",
       "      <td>Yes</td>\n",
       "      <td>34.1</td>\n",
       "      <td>18.1</td>\n",
       "      <td>193.0</td>\n",
       "      <td>NaN</td>\n",
       "      <td>NaN</td>\n",
       "      <td>NaN</td>\n",
       "      <td>3475.0</td>\n",
       "    </tr>\n",
       "    <tr>\n",
       "      <th>121</th>\n",
       "      <td>Adelie Penguin (Pygoscelis adeliae)</td>\n",
       "      <td>Torgersen</td>\n",
       "      <td>Yes</td>\n",
       "      <td>42.0</td>\n",
       "      <td>20.2</td>\n",
       "      <td>190.0</td>\n",
       "      <td>NaN</td>\n",
       "      <td>9.13362</td>\n",
       "      <td>-25.09368</td>\n",
       "      <td>4250.0</td>\n",
       "    </tr>\n",
       "    <tr>\n",
       "      <th>125</th>\n",
       "      <td>Gentoo penguin (Pygoscelis papua)</td>\n",
       "      <td>Biscoe</td>\n",
       "      <td>Yes</td>\n",
       "      <td>44.5</td>\n",
       "      <td>14.3</td>\n",
       "      <td>216.0</td>\n",
       "      <td>NaN</td>\n",
       "      <td>7.96621</td>\n",
       "      <td>-25.69327</td>\n",
       "      <td>4100.0</td>\n",
       "    </tr>\n",
       "    <tr>\n",
       "      <th>126</th>\n",
       "      <td>Gentoo penguin (Pygoscelis papua)</td>\n",
       "      <td>Biscoe</td>\n",
       "      <td>Yes</td>\n",
       "      <td>44.5</td>\n",
       "      <td>15.7</td>\n",
       "      <td>217.0</td>\n",
       "      <td>NaN</td>\n",
       "      <td>8.04111</td>\n",
       "      <td>-26.18444</td>\n",
       "      <td>4875.0</td>\n",
       "    </tr>\n",
       "    <tr>\n",
       "      <th>196</th>\n",
       "      <td>Adelie Penguin (Pygoscelis adeliae)</td>\n",
       "      <td>Torgersen</td>\n",
       "      <td>Yes</td>\n",
       "      <td>39.1</td>\n",
       "      <td>18.7</td>\n",
       "      <td>181.0</td>\n",
       "      <td>MALE</td>\n",
       "      <td>NaN</td>\n",
       "      <td>NaN</td>\n",
       "      <td>3750.0</td>\n",
       "    </tr>\n",
       "    <tr>\n",
       "      <th>198</th>\n",
       "      <td>Adelie Penguin (Pygoscelis adeliae)</td>\n",
       "      <td>Torgersen</td>\n",
       "      <td>Yes</td>\n",
       "      <td>38.6</td>\n",
       "      <td>21.2</td>\n",
       "      <td>191.0</td>\n",
       "      <td>MALE</td>\n",
       "      <td>NaN</td>\n",
       "      <td>NaN</td>\n",
       "      <td>3800.0</td>\n",
       "    </tr>\n",
       "    <tr>\n",
       "      <th>216</th>\n",
       "      <td>Adelie Penguin (Pygoscelis adeliae)</td>\n",
       "      <td>Torgersen</td>\n",
       "      <td>Yes</td>\n",
       "      <td>37.8</td>\n",
       "      <td>17.1</td>\n",
       "      <td>186.0</td>\n",
       "      <td>NaN</td>\n",
       "      <td>8.63243</td>\n",
       "      <td>-25.21315</td>\n",
       "      <td>3300.0</td>\n",
       "    </tr>\n",
       "    <tr>\n",
       "      <th>228</th>\n",
       "      <td>Adelie Penguin (Pygoscelis adeliae)</td>\n",
       "      <td>Torgersen</td>\n",
       "      <td>Yes</td>\n",
       "      <td>NaN</td>\n",
       "      <td>NaN</td>\n",
       "      <td>NaN</td>\n",
       "      <td>NaN</td>\n",
       "      <td>NaN</td>\n",
       "      <td>NaN</td>\n",
       "      <td>NaN</td>\n",
       "    </tr>\n",
       "    <tr>\n",
       "      <th>233</th>\n",
       "      <td>Adelie Penguin (Pygoscelis adeliae)</td>\n",
       "      <td>Dream</td>\n",
       "      <td>Yes</td>\n",
       "      <td>41.1</td>\n",
       "      <td>19.0</td>\n",
       "      <td>182.0</td>\n",
       "      <td>MALE</td>\n",
       "      <td>NaN</td>\n",
       "      <td>NaN</td>\n",
       "      <td>3425.0</td>\n",
       "    </tr>\n",
       "  </tbody>\n",
       "</table>\n",
       "</div>"
      ],
      "text/plain": [
       "                                       Species     Island  ... Delta 13 C (o/oo)  Body Mass (g)\n",
       "36           Gentoo penguin (Pygoscelis papua)     Biscoe  ...         -26.23886         4725.0\n",
       "42         Adelie Penguin (Pygoscelis adeliae)  Torgersen  ...               NaN         3700.0\n",
       "58         Adelie Penguin (Pygoscelis adeliae)      Dream  ...               NaN         3900.0\n",
       "67         Adelie Penguin (Pygoscelis adeliae)      Dream  ...               NaN         4650.0\n",
       "77         Adelie Penguin (Pygoscelis adeliae)  Torgersen  ...               NaN         3700.0\n",
       "94           Gentoo penguin (Pygoscelis papua)     Biscoe  ...         -26.81540         4650.0\n",
       "98   Chinstrap penguin (Pygoscelis antarctica)      Dream  ...         -23.78767         3950.0\n",
       "100        Adelie Penguin (Pygoscelis adeliae)  Torgersen  ...               NaN         3475.0\n",
       "121        Adelie Penguin (Pygoscelis adeliae)  Torgersen  ...         -25.09368         4250.0\n",
       "125          Gentoo penguin (Pygoscelis papua)     Biscoe  ...         -25.69327         4100.0\n",
       "126          Gentoo penguin (Pygoscelis papua)     Biscoe  ...         -26.18444         4875.0\n",
       "196        Adelie Penguin (Pygoscelis adeliae)  Torgersen  ...               NaN         3750.0\n",
       "198        Adelie Penguin (Pygoscelis adeliae)  Torgersen  ...               NaN         3800.0\n",
       "216        Adelie Penguin (Pygoscelis adeliae)  Torgersen  ...         -25.21315         3300.0\n",
       "228        Adelie Penguin (Pygoscelis adeliae)  Torgersen  ...               NaN            NaN\n",
       "233        Adelie Penguin (Pygoscelis adeliae)      Dream  ...               NaN         3425.0\n",
       "\n",
       "[16 rows x 10 columns]"
      ]
     },
     "execution_count": 173,
     "metadata": {},
     "output_type": "execute_result"
    }
   ],
   "source": [
    "train[train.isna().sum(axis=1) > 0]"
   ]
  },
  {
   "cell_type": "markdown",
   "metadata": {
    "id": "BEm-jzZ3T2o6"
   },
   "source": [
    "결측치가 존재하는 행을 출력했을 때, Culmen Length (mm),Culmen Depth (mm),Flipper Length (mm), Body Mass (g), Sex, Delta 15 N (o/oo), Delta 13 C (o/oo)\t컬럼에서 NaN 값을 확인할 수 있습니다."
   ]
  },
  {
   "cell_type": "markdown",
   "metadata": {
    "id": "tADAgqilUR5Q"
   },
   "source": [
    "<br>"
   ]
  },
  {
   "cell_type": "markdown",
   "metadata": {
    "id": "8E5U-xch9uKi"
   },
   "source": [
    "전체적으로 데이터가 없는 행은 삭제를 하고,\n",
    "카테고리형 데이터에 결측치가 존재하는 경우는 행을 삭제하고, \n",
    "\n",
    "수치형 데이터에 결측치가 존재하는 경우는 0값을 채워주겠습니다."
   ]
  },
  {
   "cell_type": "code",
   "execution_count": 156,
   "metadata": {
    "ExecuteTime": {
     "end_time": "2022-12-07T07:11:39.627197Z",
     "start_time": "2022-12-07T07:11:39.609245Z"
    }
   },
   "outputs": [],
   "source": [
    "train_preprocessed = train.dropna(subset=['Culmen Length (mm)'])"
   ]
  },
  {
   "cell_type": "code",
   "execution_count": 157,
   "metadata": {
    "ExecuteTime": {
     "end_time": "2022-12-07T07:11:40.331312Z",
     "start_time": "2022-12-07T07:11:40.323333Z"
    },
    "id": "t_OekIYH9-iX"
   },
   "outputs": [],
   "source": [
    "# 카테고리형 데이터에서 결측치에 해당하는 행 삭제\n",
    "train_preprocessed = train.dropna(subset=['Sex'])"
   ]
  },
  {
   "cell_type": "code",
   "execution_count": 158,
   "metadata": {
    "ExecuteTime": {
     "end_time": "2022-12-07T07:11:40.922731Z",
     "start_time": "2022-12-07T07:11:40.909766Z"
    },
    "id": "2txWHhR2-cJl"
   },
   "outputs": [],
   "source": [
    "# 수치형 데이터에서 결측치에 0값 넣기\n",
    "train_preprocessed = train_preprocessed.fillna(0)"
   ]
  },
  {
   "cell_type": "code",
   "execution_count": 159,
   "metadata": {
    "ExecuteTime": {
     "end_time": "2022-12-07T07:11:41.387487Z",
     "start_time": "2022-12-07T07:11:41.357568Z"
    },
    "colab": {
     "base_uri": "https://localhost:8080/"
    },
    "id": "SxgeWj7t--b1",
    "outputId": "bee4692f-b9f6-46bf-f428-ee91a52ed122"
   },
   "outputs": [
    {
     "name": "stdout",
     "output_type": "stream",
     "text": [
      "<class 'pandas.core.frame.DataFrame'>\n",
      "Int64Index: 231 entries, 0 to 239\n",
      "Data columns (total 10 columns):\n",
      " #   Column               Non-Null Count  Dtype  \n",
      "---  ------               --------------  -----  \n",
      " 0   Species              231 non-null    object \n",
      " 1   Island               231 non-null    object \n",
      " 2   Clutch Completion    231 non-null    object \n",
      " 3   Culmen Length (mm)   231 non-null    float64\n",
      " 4   Culmen Depth (mm)    231 non-null    float64\n",
      " 5   Flipper Length (mm)  231 non-null    float64\n",
      " 6   Sex                  231 non-null    object \n",
      " 7   Delta 15 N (o/oo)    231 non-null    float64\n",
      " 8   Delta 13 C (o/oo)    231 non-null    float64\n",
      " 9   Body Mass (g)        231 non-null    float64\n",
      "dtypes: float64(6), object(4)\n",
      "memory usage: 19.9+ KB\n"
     ]
    }
   ],
   "source": [
    "# 확인\n",
    "train_preprocessed.info()"
   ]
  },
  {
   "cell_type": "markdown",
   "metadata": {
    "id": "O6A9MnA0_EZm"
   },
   "source": [
    "결측치가 존재하지 않습니다."
   ]
  },
  {
   "cell_type": "markdown",
   "metadata": {
    "id": "tx9f71DGUc04"
   },
   "source": [
    "<br>"
   ]
  },
  {
   "cell_type": "markdown",
   "metadata": {
    "id": "jnynoChb_xL2"
   },
   "source": [
    "## 4. 레이블 인코딩"
   ]
  },
  {
   "cell_type": "markdown",
   "metadata": {
    "id": "pbvi-Cna_3hL"
   },
   "source": [
    "아직 범주형 변수들이 문자열의 형태로 존재하고 있기 때문에 모델 학습이 가능하도록 문자열 형태의 범주형 변수들을 숫자 형태로 인코딩해주어야 합니다."
   ]
  },
  {
   "cell_type": "markdown",
   "metadata": {},
   "source": [
    "1. 방법 1\n",
    "- 레이블 인코딩을 하기 위한 dictionary map 생성 함수\n",
    "- 각 범주형 변수에 인코딩 값을 부여하는 함수 만들어서 transform"
   ]
  },
  {
   "cell_type": "code",
   "execution_count": 146,
   "metadata": {
    "ExecuteTime": {
     "end_time": "2022-12-07T07:07:10.717099Z",
     "start_time": "2022-12-07T07:07:10.701141Z"
    },
    "id": "doKNOD1SOueV"
   },
   "outputs": [],
   "source": [
    "# 레이블 인코딩을 하기 위한 dictionary map 생성 함수\n",
    "def make_label_map(dataframe):\n",
    "    label_maps = {}\n",
    "    for col in dataframe.columns:\n",
    "        if dataframe[col].dtype=='object': \n",
    "            label_map = {'unknown':0} \n",
    "            for i, key in enumerate(train[col].unique()):\n",
    "                label_map[key] = i+1\n",
    "            label_maps[col] = label_map\n",
    "    return label_maps\n",
    "\n",
    "# 각 범주형 변수에 인코딩 값을 부여하는 함수\n",
    "def label_encoder(dataframe, label_map):\n",
    "    for col in dataframe.columns:\n",
    "        if dataframe[col].dtype=='object':\n",
    "            dataframe[col] = dataframe[col].map(label_map[col])\n",
    "            dataframe[col] = dataframe[col].fillna(label_map[col]['unknown']) #혹시 모를 결측값은 unknown의 값으로 채워줍니다.\n",
    "    return dataframe"
   ]
  },
  {
   "cell_type": "markdown",
   "metadata": {
    "id": "o7eEef9dWae9"
   },
   "source": [
    "- **enumerate(train[col].unique())**\n",
    "\n",
    "  enumerate()는 인덱스와 원소로 이루어진 튜플을 생성하는 함수입니다. <br>unique는 고유값을 찾아주는 함수입니다.\n",
    "\n",
    "- **dataframe[col].map(label_map[col])**\n",
    "\n",
    "  map 메서드를 이용하면 기존값(key)을 대체값(value)으로 변경할 수 있습니다."
   ]
  },
  {
   "cell_type": "code",
   "execution_count": 147,
   "metadata": {
    "ExecuteTime": {
     "end_time": "2022-12-07T07:07:11.506383Z",
     "start_time": "2022-12-07T07:07:11.486437Z"
    }
   },
   "outputs": [],
   "source": [
    "# 전처리 완료한 train 데이터 : train_preprocessed\n",
    "label_map = make_label_map(train_preprocessed) # train_preprocessed 사용해 label map 생성\n",
    "labeled_train = label_encoder(train_preprocessed, label_map) # train_preprocessed 라벨 인코딩"
   ]
  },
  {
   "cell_type": "markdown",
   "metadata": {},
   "source": [
    "2. 방법 2\n",
    "- LabelEncoder 사용"
   ]
  },
  {
   "cell_type": "code",
   "execution_count": 148,
   "metadata": {
    "ExecuteTime": {
     "end_time": "2022-12-07T07:07:14.489562Z",
     "start_time": "2022-12-07T07:07:14.467620Z"
    }
   },
   "outputs": [
    {
     "name": "stdout",
     "output_type": "stream",
     "text": [
      "<class 'pandas.core.frame.DataFrame'>\n",
      "Int64Index: 240 entries, 0 to 239\n",
      "Data columns (total 10 columns):\n",
      " #   Column               Non-Null Count  Dtype  \n",
      "---  ------               --------------  -----  \n",
      " 0   Species              240 non-null    object \n",
      " 1   Island               240 non-null    object \n",
      " 2   Clutch Completion    240 non-null    object \n",
      " 3   Culmen Length (mm)   239 non-null    float64\n",
      " 4   Culmen Depth (mm)    239 non-null    float64\n",
      " 5   Flipper Length (mm)  239 non-null    float64\n",
      " 6   Sex                  231 non-null    object \n",
      " 7   Delta 15 N (o/oo)    230 non-null    float64\n",
      " 8   Delta 13 C (o/oo)    231 non-null    float64\n",
      " 9   Body Mass (g)        239 non-null    float64\n",
      "dtypes: float64(6), object(4)\n",
      "memory usage: 20.6+ KB\n"
     ]
    }
   ],
   "source": [
    "train.info()"
   ]
  },
  {
   "cell_type": "code",
   "execution_count": 160,
   "metadata": {
    "ExecuteTime": {
     "end_time": "2022-12-07T07:12:20.900563Z",
     "start_time": "2022-12-07T07:12:20.874634Z"
    }
   },
   "outputs": [],
   "source": [
    "from sklearn.preprocessing import LabelEncoder\n",
    "\n",
    "train2 =train.copy()\n",
    "\n",
    "le = LabelEncoder()\n",
    "le.fit(train2['Species'])\n",
    "train2['Species'] = le.transform(train2['Species'])\n",
    "\n",
    "le2 = LabelEncoder()\n",
    "le2.fit(train2['Island'])\n",
    "train2['Island'] = le2.transform(train2['Island'])\n",
    "\n",
    "le3= LabelEncoder()\n",
    "le3.fit(train2['Clutch Completion'])\n",
    "train2['Clutch Completion'] = le3.transform(train2['Clutch Completion'])\n",
    "\n",
    "le4 = LabelEncoder()\n",
    "le4.fit(train2['Sex'])\n",
    "train2['Sex'] = le4.transform(train2['Sex'])"
   ]
  },
  {
   "cell_type": "code",
   "execution_count": 163,
   "metadata": {
    "ExecuteTime": {
     "end_time": "2022-12-07T07:12:48.821369Z",
     "start_time": "2022-12-07T07:12:48.805415Z"
    }
   },
   "outputs": [],
   "source": [
    "from collections import defaultdict\n",
    "\n",
    "class MultiCoLableEncoder:\n",
    "    def __init__(self):\n",
    "        self.encoder_dict = defaultdict(LabelEncoder)\n",
    "    def fit_transform(self, X:pd.DataFrame,columns:list):\n",
    "        if not isinstance(columns,list):\n",
    "            columns = [columns]\n",
    "        output = X.copy()\n",
    "        output[columns] = X[columns].apply(lambda x:self.encoder_dict[x.name].fit_transform(x))\n",
    "        return output"
   ]
  },
  {
   "cell_type": "code",
   "execution_count": 165,
   "metadata": {
    "ExecuteTime": {
     "end_time": "2022-12-07T07:13:05.913890Z",
     "start_time": "2022-12-07T07:13:05.898763Z"
    },
    "id": "W6xU0YiwVn7R"
   },
   "outputs": [],
   "source": [
    "mcle = MultiCoLableEncoder()\n",
    "transformed_data = mcle.fit_transform(train,columns=['Species','Island','Clutch Completion','Sex'])"
   ]
  },
  {
   "cell_type": "markdown",
   "metadata": {
    "id": "1ee6HZgsgt63"
   },
   "source": [
    "## 5.  모델링"
   ]
  },
  {
   "cell_type": "markdown",
   "metadata": {
    "id": "QjTSZIothDkw"
   },
   "source": [
    "모델링을 하기에 앞서, 회귀 평가 지표로 사용할 RMSE를 출력해주는 함수로 만들어주겠습니다.\n",
    "\n",
    "사이킷런은 RMSE를 제공하지 않기 때문에 RMSE를 구하기 위해서는 MSE에 제곱근을 씌워서 계산하는 함수를 직접 만들어야 합니다."
   ]
  },
  {
   "cell_type": "code",
   "execution_count": 96,
   "metadata": {
    "ExecuteTime": {
     "end_time": "2022-12-07T06:35:21.231573Z",
     "start_time": "2022-12-07T06:35:21.213602Z"
    },
    "id": "kRV5NaWohbv1"
   },
   "outputs": [],
   "source": [
    "import numpy as np\n",
    "\n",
    "def RMSE(true, pred):\n",
    "    score = np.sqrt(np.mean(np.square(true-pred)))\n",
    "    return score"
   ]
  },
  {
   "cell_type": "markdown",
   "metadata": {
    "id": "l-6u5lHdaSUj"
   },
   "source": [
    "<br>"
   ]
  },
  {
   "cell_type": "markdown",
   "metadata": {
    "id": "nvRlce8Ch5aE"
   },
   "source": [
    "K-Fold 교차검증 방식으로 모델링을 해보도록 하겠습니다.\n"
   ]
  },
  {
   "cell_type": "markdown",
   "metadata": {
    "id": "unyXrte-bHRB"
   },
   "source": [
    "<br>"
   ]
  },
  {
   "cell_type": "markdown",
   "metadata": {
    "id": "Ogdw7PyEbkpx"
   },
   "source": [
    "target 변수에 종속변수인 'Body Mass (g)'를 저장하고,\n",
    "\n",
    "feature 변수에 불필요한 종속변수 'Body Mass (g)'를 제거한 데이터를 저장해줍니다."
   ]
  },
  {
   "cell_type": "code",
   "execution_count": 97,
   "metadata": {
    "ExecuteTime": {
     "end_time": "2022-12-07T06:35:22.504168Z",
     "start_time": "2022-12-07T06:35:22.482227Z"
    },
    "colab": {
     "base_uri": "https://localhost:8080/"
    },
    "id": "TEaY2VxVlKrE",
    "outputId": "1b5cf178-eb32-4125-f5df-646d6be43ea9"
   },
   "outputs": [
    {
     "name": "stdout",
     "output_type": "stream",
     "text": [
      "(231,)\n",
      "(231, 9)\n"
     ]
    }
   ],
   "source": [
    "from sklearn.linear_model import LinearRegression\n",
    "from sklearn.model_selection import KFold\n",
    "\n",
    "target = labeled_train['Body Mass (g)']\n",
    "print(target.shape)\n",
    "\n",
    "# 학습에 불필요한 변수 제거\n",
    "feature = labeled_train.drop(['Body Mass (g)'], axis=1)\n",
    "print(feature.shape)"
   ]
  },
  {
   "cell_type": "markdown",
   "metadata": {
    "id": "YBujc42zcA-Z"
   },
   "source": [
    "<br>"
   ]
  },
  {
   "cell_type": "markdown",
   "metadata": {
    "id": "bKMWaCPmkaIA"
   },
   "source": [
    "LinearRegression와 5개의 폴드 세트로 분리하는 KFold 객체를 생성해줍니다."
   ]
  },
  {
   "cell_type": "code",
   "execution_count": 98,
   "metadata": {
    "ExecuteTime": {
     "end_time": "2022-12-07T06:35:23.073114Z",
     "start_time": "2022-12-07T06:35:23.058153Z"
    },
    "id": "BImCE0C6mvdL"
   },
   "outputs": [],
   "source": [
    "lr = LinearRegression()\n",
    "\n",
    "# 폴드 개수 할당\n",
    "kfold = KFold(n_splits=5)"
   ]
  },
  {
   "cell_type": "markdown",
   "metadata": {
    "id": "AcBuqQ-Mm99Q"
   },
   "source": [
    "- **LinearRegression()**\n",
    "\n",
    "  LinearRegression 클래스를 이용하면 선형 회귀 모델을 만들 수 있습니다.\n",
    "\n",
    "- **KFold(n_splits=5)**\n",
    "\n",
    "  KFold 함수를 이용해 폴드 개수를 할당해줄 수 있습니다. \n",
    "\n",
    "  일반적으로 5, 10 등의 값을 사용합니다."
   ]
  },
  {
   "cell_type": "markdown",
   "metadata": {
    "id": "HSNuCBfdcww5"
   },
   "source": [
    "<br>"
   ]
  },
  {
   "cell_type": "markdown",
   "metadata": {
    "id": "WRvO0iXknXg-"
   },
   "source": [
    "각 폴드마다 다른 x_train과 y_train을 이용해 모델을 학습하고, x_test를 예측해 예측값을 y_test와 비교하여 RMSE를 구해보도록 하겠습니다."
   ]
  },
  {
   "cell_type": "code",
   "execution_count": 99,
   "metadata": {
    "ExecuteTime": {
     "end_time": "2022-12-07T06:35:24.389521Z",
     "start_time": "2022-12-07T06:35:24.212993Z"
    },
    "colab": {
     "base_uri": "https://localhost:8080/"
    },
    "id": "4m5YoFd1nXLS",
    "outputId": "27c265e6-4e98-402e-a6eb-153264cfdc40"
   },
   "outputs": [
    {
     "name": "stdout",
     "output_type": "stream",
     "text": [
      "\n",
      "1번째 교차 검증 RMSE : 330.6091274698889, 학습 데이터 크기 : 184, 검증 데이터 크기 : 47\n",
      "1번째 검증 세트 인덱스 : [ 0  1  2  3  4  5  6  7  8  9 10 11 12 13 14 15 16 17 18 19 20 21 22 23\n",
      " 24 25 26 27 28 29 30 31 32 33 34 35 36 37 38 39 40 41 42 43 44 45 46]\n",
      "\n",
      "2번째 교차 검증 RMSE : 359.52128166381306, 학습 데이터 크기 : 185, 검증 데이터 크기 : 46\n",
      "2번째 검증 세트 인덱스 : [47 48 49 50 51 52 53 54 55 56 57 58 59 60 61 62 63 64 65 66 67 68 69 70\n",
      " 71 72 73 74 75 76 77 78 79 80 81 82 83 84 85 86 87 88 89 90 91 92]\n",
      "\n",
      "3번째 교차 검증 RMSE : 496.9885201420895, 학습 데이터 크기 : 185, 검증 데이터 크기 : 46\n",
      "3번째 검증 세트 인덱스 : [ 93  94  95  96  97  98  99 100 101 102 103 104 105 106 107 108 109 110\n",
      " 111 112 113 114 115 116 117 118 119 120 121 122 123 124 125 126 127 128\n",
      " 129 130 131 132 133 134 135 136 137 138]\n",
      "\n",
      "4번째 교차 검증 RMSE : 343.577352026888, 학습 데이터 크기 : 185, 검증 데이터 크기 : 46\n",
      "4번째 검증 세트 인덱스 : [139 140 141 142 143 144 145 146 147 148 149 150 151 152 153 154 155 156\n",
      " 157 158 159 160 161 162 163 164 165 166 167 168 169 170 171 172 173 174\n",
      " 175 176 177 178 179 180 181 182 183 184]\n",
      "\n",
      "5번째 교차 검증 RMSE : 311.16422144465025, 학습 데이터 크기 : 185, 검증 데이터 크기 : 46\n",
      "5번째 검증 세트 인덱스 : [185 186 187 188 189 190 191 192 193 194 195 196 197 198 199 200 201 202\n",
      " 203 204 205 206 207 208 209 210 211 212 213 214 215 216 217 218 219 220\n",
      " 221 222 223 224 225 226 227 228 229 230]\n",
      "\n",
      "==> 이 방정식의 평균 RMSE는 368.3721005494659입니다.\n"
     ]
    }
   ],
   "source": [
    "cv_rmse = []\n",
    "n_iter = 0\n",
    "\n",
    "for train_index, test_index, in kfold.split(feature):\n",
    "\n",
    "    x_train, x_test = feature.iloc[train_index], feature.iloc[test_index]\n",
    "    y_train, y_test = target.iloc[train_index], target.iloc[test_index]\n",
    "\n",
    "    # 모델 학습\n",
    "    lr = lr.fit(x_train, y_train)\n",
    "\n",
    "    # 테스트셋 예측\n",
    "    pred = lr.predict(x_test)\n",
    "\n",
    "    # 반복 횟수 1회 증가\n",
    "    n_iter += 1\n",
    "\n",
    "    error = RMSE(y_test, pred)\n",
    "    train_size = x_train.shape[0]\n",
    "    test_size = x_test.shape[0]\n",
    "\n",
    "    print('\\n{0}번째 교차 검증 RMSE : {1}, 학습 데이터 크기 : {2}, 검증 데이터 크기 : {3}'.format(n_iter, error, train_size, test_size))\n",
    "    print('{0}번째 검증 세트 인덱스 : {1}'.format(n_iter, test_index))\n",
    "    cv_rmse.append(error)\n",
    "\n",
    "print('\\n==> 이 방정식의 평균 RMSE는 {}입니다.'.format(np.mean(cv_rmse)))"
   ]
  },
  {
   "cell_type": "markdown",
   "metadata": {
    "id": "R1VF7bs4gf3T"
   },
   "source": [
    "- **kfold.split(feature)**\n",
    "\n",
    "  split() 함수를 호출해 전체 펭귄 데이터를 5개의 폴드 데이터 세트로 분리합니다.\n",
    "\n",
    "- **lr.fit(x_train, y_train)**\n",
    "\n",
    "  LinearRegression 클래스의 fit 메소드를 사용해 훈련시킵니다.\n",
    "\n",
    "- **RMSE(y_test, pred)**\n",
    "\n",
    "  예측값(pred)과 실제값(y_test)의 차이를 기반으로 하는 RMSE를 구합니다.\n",
    "\n"
   ]
  },
  {
   "cell_type": "markdown",
   "metadata": {
    "id": "958pa3a5aABP"
   },
   "source": [
    "<br>"
   ]
  },
  {
   "cell_type": "markdown",
   "metadata": {
    "id": "hCjyuLN1dBUH"
   },
   "source": [
    "교차 검증을 더 편리하게 수행할 수 있게 해주는 API인 cross_val_score()를 이용해 교차 검증으로 MSE와 RMSE를 추정해보겠습니다."
   ]
  },
  {
   "cell_type": "code",
   "execution_count": 100,
   "metadata": {
    "ExecuteTime": {
     "end_time": "2022-12-07T06:35:25.625214Z",
     "start_time": "2022-12-07T06:35:25.448691Z"
    },
    "colab": {
     "base_uri": "https://localhost:8080/"
    },
    "id": "zEhj23nUaB0X",
    "outputId": "6271776c-21e4-419f-d497-b177f351ff70"
   },
   "outputs": [
    {
     "name": "stdout",
     "output_type": "stream",
     "text": [
      " 5 folds 의 개별 Negative MSE scores :  [-109302. -129256. -246998. -118045.  -96823.]\n",
      " 5 folds 의 개별 RMSE scores :  [331. 360. 497. 344. 311.]\n",
      " 5 folds 의 평균 RMSE :  368.372\n"
     ]
    }
   ],
   "source": [
    "# cross_val_score()로 구현하기\n",
    "from sklearn.model_selection import cross_val_score\n",
    "\n",
    "neg_mse_scores = cross_val_score(lr, feature, target, scoring=\"neg_mean_squared_error\", cv=5)\n",
    "rmse_scores = np.sqrt(-1 * neg_mse_scores)\n",
    "avg_rmse = np.mean(rmse_scores)\n",
    "\n",
    "print(' 5 folds 의 개별 Negative MSE scores : ', np.round(neg_mse_scores))\n",
    "print(' 5 folds 의 개별 RMSE scores : ', np.round(rmse_scores))\n",
    "print(' 5 folds 의 평균 RMSE : ', np.round(avg_rmse, 3))"
   ]
  },
  {
   "cell_type": "markdown",
   "metadata": {
    "id": "9Vm0CWtab_Dt"
   },
   "source": [
    "- **cross_val_score(lr, feature, target, scoring=\"neg_mean_squared_error\", cv=5)**\n",
    "\n",
    "  scoring은 예측 성능 평가 지표입니다. \"neg_mean_squared_error\"는 MSE에 음수를 취한 값입니다.\n",
    "\n",
    "  cv는 교차 검증 폴드 수를 결정합니다.\n",
    "\n",
    "- **np.sqrt(-1 * neg_mse_scores)**\n",
    "\n",
    "  RMSE를 구하기 위해서 음수 값인 neg_mse_scores에 -1을 곱해주고 제곱근을 취해줍니다."
   ]
  },
  {
   "cell_type": "markdown",
   "metadata": {
    "id": "s7Q5TLl6dBKS"
   },
   "source": [
    "<br>"
   ]
  },
  {
   "cell_type": "markdown",
   "metadata": {
    "id": "Er4Hat4UpUqN"
   },
   "source": [
    "## 6. 예측하기"
   ]
  },
  {
   "cell_type": "markdown",
   "metadata": {
    "id": "qOa3laihjBT_"
   },
   "source": [
    "예측을 진행 할 test.csv 데이터를 불러옵니다."
   ]
  },
  {
   "cell_type": "code",
   "execution_count": 101,
   "metadata": {
    "ExecuteTime": {
     "end_time": "2022-12-07T06:35:27.056295Z",
     "start_time": "2022-12-07T06:35:26.944593Z"
    },
    "colab": {
     "base_uri": "https://localhost:8080/",
     "height": 206
    },
    "id": "Fks37z8mpUUn",
    "outputId": "a445d287-f841-4f25-c869-2bb61480ec3b"
   },
   "outputs": [
    {
     "data": {
      "text/html": [
       "<div>\n",
       "<style scoped>\n",
       "    .dataframe tbody tr th:only-of-type {\n",
       "        vertical-align: middle;\n",
       "    }\n",
       "\n",
       "    .dataframe tbody tr th {\n",
       "        vertical-align: top;\n",
       "    }\n",
       "\n",
       "    .dataframe thead th {\n",
       "        text-align: right;\n",
       "    }\n",
       "</style>\n",
       "<table border=\"1\" class=\"dataframe\">\n",
       "  <thead>\n",
       "    <tr style=\"text-align: right;\">\n",
       "      <th></th>\n",
       "      <th>Species</th>\n",
       "      <th>Island</th>\n",
       "      <th>Clutch Completion</th>\n",
       "      <th>Culmen Length (mm)</th>\n",
       "      <th>Culmen Depth (mm)</th>\n",
       "      <th>Flipper Length (mm)</th>\n",
       "      <th>Sex</th>\n",
       "      <th>Delta 15 N (o/oo)</th>\n",
       "      <th>Delta 13 C (o/oo)</th>\n",
       "      <th>Body Mass (g)</th>\n",
       "    </tr>\n",
       "  </thead>\n",
       "  <tbody>\n",
       "    <tr>\n",
       "      <th>0</th>\n",
       "      <td>Adelie Penguin (Pygoscelis adeliae)</td>\n",
       "      <td>Dream</td>\n",
       "      <td>Yes</td>\n",
       "      <td>39.5</td>\n",
       "      <td>17.8</td>\n",
       "      <td>188.0</td>\n",
       "      <td>FEMALE</td>\n",
       "      <td>9.66523</td>\n",
       "      <td>-25.06020</td>\n",
       "      <td>3300.0</td>\n",
       "    </tr>\n",
       "    <tr>\n",
       "      <th>1</th>\n",
       "      <td>Gentoo penguin (Pygoscelis papua)</td>\n",
       "      <td>Biscoe</td>\n",
       "      <td>Yes</td>\n",
       "      <td>50.5</td>\n",
       "      <td>15.9</td>\n",
       "      <td>222.0</td>\n",
       "      <td>MALE</td>\n",
       "      <td>8.46894</td>\n",
       "      <td>-26.60436</td>\n",
       "      <td>5550.0</td>\n",
       "    </tr>\n",
       "    <tr>\n",
       "      <th>2</th>\n",
       "      <td>Chinstrap penguin (Pygoscelis antarctica)</td>\n",
       "      <td>Dream</td>\n",
       "      <td>Yes</td>\n",
       "      <td>52.0</td>\n",
       "      <td>18.1</td>\n",
       "      <td>201.0</td>\n",
       "      <td>MALE</td>\n",
       "      <td>9.02330</td>\n",
       "      <td>-24.38933</td>\n",
       "      <td>4050.0</td>\n",
       "    </tr>\n",
       "    <tr>\n",
       "      <th>3</th>\n",
       "      <td>Gentoo penguin (Pygoscelis papua)</td>\n",
       "      <td>Biscoe</td>\n",
       "      <td>Yes</td>\n",
       "      <td>42.6</td>\n",
       "      <td>13.7</td>\n",
       "      <td>213.0</td>\n",
       "      <td>FEMALE</td>\n",
       "      <td>7.96935</td>\n",
       "      <td>-26.70968</td>\n",
       "      <td>4950.0</td>\n",
       "    </tr>\n",
       "    <tr>\n",
       "      <th>4</th>\n",
       "      <td>Gentoo penguin (Pygoscelis papua)</td>\n",
       "      <td>Biscoe</td>\n",
       "      <td>Yes</td>\n",
       "      <td>45.2</td>\n",
       "      <td>15.8</td>\n",
       "      <td>215.0</td>\n",
       "      <td>MALE</td>\n",
       "      <td>8.55868</td>\n",
       "      <td>-26.67799</td>\n",
       "      <td>5300.0</td>\n",
       "    </tr>\n",
       "  </tbody>\n",
       "</table>\n",
       "</div>"
      ],
      "text/plain": [
       "                                     Species  Island  ... Delta 13 C (o/oo)  Body Mass (g)\n",
       "0        Adelie Penguin (Pygoscelis adeliae)   Dream  ...         -25.06020         3300.0\n",
       "1          Gentoo penguin (Pygoscelis papua)  Biscoe  ...         -26.60436         5550.0\n",
       "2  Chinstrap penguin (Pygoscelis antarctica)   Dream  ...         -24.38933         4050.0\n",
       "3          Gentoo penguin (Pygoscelis papua)  Biscoe  ...         -26.70968         4950.0\n",
       "4          Gentoo penguin (Pygoscelis papua)  Biscoe  ...         -26.67799         5300.0\n",
       "\n",
       "[5 rows x 10 columns]"
      ]
     },
     "execution_count": 101,
     "metadata": {},
     "output_type": "execute_result"
    }
   ],
   "source": [
    "# 데이터 불러오기\n",
    "test = pd.read_csv('./test_penguins.csv',index_col=0)\n",
    "\n",
    "# 데이터 확인\n",
    "test.head()"
   ]
  },
  {
   "cell_type": "code",
   "execution_count": 109,
   "metadata": {
    "ExecuteTime": {
     "end_time": "2022-12-07T06:37:17.303867Z",
     "start_time": "2022-12-07T06:37:17.292899Z"
    }
   },
   "outputs": [],
   "source": [
    "test.drop('Body Mass (g)',axis=1,inplace=True)"
   ]
  },
  {
   "cell_type": "markdown",
   "metadata": {
    "id": "6mvz2Pb6jNMC"
   },
   "source": [
    "<br>"
   ]
  },
  {
   "cell_type": "markdown",
   "metadata": {
    "id": "O5NIGhIfrawB"
   },
   "source": [
    "test.csv에도 train.csv와 동일한 전처리 과정을 진행해줍니다."
   ]
  },
  {
   "cell_type": "code",
   "execution_count": 110,
   "metadata": {
    "ExecuteTime": {
     "end_time": "2022-12-07T06:37:19.512150Z",
     "start_time": "2022-12-07T06:37:19.482439Z"
    },
    "colab": {
     "base_uri": "https://localhost:8080/"
    },
    "id": "ox5dqh0srnKM",
    "outputId": "e03a5a8c-225b-4c27-a8d0-f8ae46334089"
   },
   "outputs": [
    {
     "name": "stdout",
     "output_type": "stream",
     "text": [
      "<class 'pandas.core.frame.DataFrame'>\n",
      "Int64Index: 104 entries, 0 to 103\n",
      "Data columns (total 9 columns):\n",
      " #   Column               Non-Null Count  Dtype  \n",
      "---  ------               --------------  -----  \n",
      " 0   Species              104 non-null    object \n",
      " 1   Island               104 non-null    object \n",
      " 2   Clutch Completion    104 non-null    object \n",
      " 3   Culmen Length (mm)   103 non-null    float64\n",
      " 4   Culmen Depth (mm)    103 non-null    float64\n",
      " 5   Flipper Length (mm)  103 non-null    float64\n",
      " 6   Sex                  104 non-null    object \n",
      " 7   Delta 15 N (o/oo)    100 non-null    float64\n",
      " 8   Delta 13 C (o/oo)    100 non-null    float64\n",
      "dtypes: float64(5), object(4)\n",
      "memory usage: 8.1+ KB\n"
     ]
    }
   ],
   "source": [
    "test.info()"
   ]
  },
  {
   "cell_type": "markdown",
   "metadata": {
    "id": "x_9J7EmOrwj9"
   },
   "source": [
    "Sex, Delta 15 N (o/oo), Delta 13 C (o/oo) 컬럼에 결측값이 존재합니다."
   ]
  },
  {
   "cell_type": "markdown",
   "metadata": {
    "id": "xLW8XHlajQ_5"
   },
   "source": [
    "<br>"
   ]
  },
  {
   "cell_type": "markdown",
   "metadata": {
    "id": "Cd-FlErysrU1"
   },
   "source": [
    "train.csv는 Sex 컬럼의 결측치가 존재하는 행을 삭제했지만 test.csv의 행은 삭제하면 안되므로, \n",
    "\n",
    "train.csv의 분포에서 개수가 더 큰 \"MALE\" 값을 임의로 부여합니다."
   ]
  },
  {
   "cell_type": "code",
   "execution_count": 111,
   "metadata": {
    "ExecuteTime": {
     "end_time": "2022-12-07T06:37:22.663166Z",
     "start_time": "2022-12-07T06:37:22.639230Z"
    },
    "colab": {
     "base_uri": "https://localhost:8080/"
    },
    "id": "Zrqja8qmsccy",
    "outputId": "b96b50b3-7b60-4043-e955-d50ec6c91622"
   },
   "outputs": [
    {
     "data": {
      "text/plain": [
       "Sex   \n",
       "FEMALE    116\n",
       "MALE      115\n",
       "dtype: int64"
      ]
     },
     "execution_count": 111,
     "metadata": {},
     "output_type": "execute_result"
    }
   ],
   "source": [
    "train[['Sex']].value_counts()"
   ]
  },
  {
   "cell_type": "code",
   "execution_count": 112,
   "metadata": {
    "ExecuteTime": {
     "end_time": "2022-12-07T06:37:22.883576Z",
     "start_time": "2022-12-07T06:37:22.873603Z"
    },
    "id": "Z6Tspc7Ts9kf"
   },
   "outputs": [],
   "source": [
    "test['Sex'] = test['Sex'].fillna(\"MALE\")"
   ]
  },
  {
   "cell_type": "markdown",
   "metadata": {
    "id": "1CZkx7n5jXLU"
   },
   "source": [
    "<br>"
   ]
  },
  {
   "cell_type": "markdown",
   "metadata": {
    "id": "0gjJy4LUs9H5"
   },
   "source": [
    "train.csv와 마찬가지로 수치형 변수의 결측값에는 0값을 채워줍니다."
   ]
  },
  {
   "cell_type": "code",
   "execution_count": 113,
   "metadata": {
    "ExecuteTime": {
     "end_time": "2022-12-07T06:37:23.749220Z",
     "start_time": "2022-12-07T06:37:23.726282Z"
    },
    "colab": {
     "base_uri": "https://localhost:8080/"
    },
    "id": "3iayUM0StQ2P",
    "outputId": "df6c0bcb-d058-4d43-e321-0c6d4466157a"
   },
   "outputs": [
    {
     "name": "stdout",
     "output_type": "stream",
     "text": [
      "<class 'pandas.core.frame.DataFrame'>\n",
      "Int64Index: 104 entries, 0 to 103\n",
      "Data columns (total 9 columns):\n",
      " #   Column               Non-Null Count  Dtype  \n",
      "---  ------               --------------  -----  \n",
      " 0   Species              104 non-null    object \n",
      " 1   Island               104 non-null    object \n",
      " 2   Clutch Completion    104 non-null    object \n",
      " 3   Culmen Length (mm)   104 non-null    float64\n",
      " 4   Culmen Depth (mm)    104 non-null    float64\n",
      " 5   Flipper Length (mm)  104 non-null    float64\n",
      " 6   Sex                  104 non-null    object \n",
      " 7   Delta 15 N (o/oo)    104 non-null    float64\n",
      " 8   Delta 13 C (o/oo)    104 non-null    float64\n",
      "dtypes: float64(5), object(4)\n",
      "memory usage: 8.1+ KB\n"
     ]
    }
   ],
   "source": [
    "test_preprocessed = test.fillna(0)\n",
    "test_preprocessed.info()"
   ]
  },
  {
   "cell_type": "markdown",
   "metadata": {
    "id": "vNKswdVatX5T"
   },
   "source": [
    "결측치가 존재하지 않습니다."
   ]
  },
  {
   "cell_type": "markdown",
   "metadata": {
    "id": "w6-ctpU2jj4Q"
   },
   "source": [
    "<br>"
   ]
  },
  {
   "cell_type": "markdown",
   "metadata": {
    "id": "sbKHXdKxtaqt"
   },
   "source": [
    "test.csv에도 레이블 인코딩을 동일하게 진행해줍니다."
   ]
  },
  {
   "cell_type": "code",
   "execution_count": 114,
   "metadata": {
    "ExecuteTime": {
     "end_time": "2022-12-07T06:37:27.001521Z",
     "start_time": "2022-12-07T06:37:26.825992Z"
    },
    "colab": {
     "base_uri": "https://localhost:8080/",
     "height": 206
    },
    "id": "6c5IpYxBtqFc",
    "outputId": "eb9a8d15-ac72-4acd-e8cb-4279b5f583a9"
   },
   "outputs": [
    {
     "data": {
      "text/html": [
       "<div>\n",
       "<style scoped>\n",
       "    .dataframe tbody tr th:only-of-type {\n",
       "        vertical-align: middle;\n",
       "    }\n",
       "\n",
       "    .dataframe tbody tr th {\n",
       "        vertical-align: top;\n",
       "    }\n",
       "\n",
       "    .dataframe thead th {\n",
       "        text-align: right;\n",
       "    }\n",
       "</style>\n",
       "<table border=\"1\" class=\"dataframe\">\n",
       "  <thead>\n",
       "    <tr style=\"text-align: right;\">\n",
       "      <th></th>\n",
       "      <th>Species</th>\n",
       "      <th>Island</th>\n",
       "      <th>Clutch Completion</th>\n",
       "      <th>Culmen Length (mm)</th>\n",
       "      <th>Culmen Depth (mm)</th>\n",
       "      <th>Flipper Length (mm)</th>\n",
       "      <th>Sex</th>\n",
       "      <th>Delta 15 N (o/oo)</th>\n",
       "      <th>Delta 13 C (o/oo)</th>\n",
       "    </tr>\n",
       "  </thead>\n",
       "  <tbody>\n",
       "    <tr>\n",
       "      <th>0</th>\n",
       "      <td>3</td>\n",
       "      <td>2</td>\n",
       "      <td>1</td>\n",
       "      <td>39.5</td>\n",
       "      <td>17.8</td>\n",
       "      <td>188.0</td>\n",
       "      <td>2</td>\n",
       "      <td>9.66523</td>\n",
       "      <td>-25.06020</td>\n",
       "    </tr>\n",
       "    <tr>\n",
       "      <th>1</th>\n",
       "      <td>1</td>\n",
       "      <td>1</td>\n",
       "      <td>1</td>\n",
       "      <td>50.5</td>\n",
       "      <td>15.9</td>\n",
       "      <td>222.0</td>\n",
       "      <td>1</td>\n",
       "      <td>8.46894</td>\n",
       "      <td>-26.60436</td>\n",
       "    </tr>\n",
       "    <tr>\n",
       "      <th>2</th>\n",
       "      <td>2</td>\n",
       "      <td>2</td>\n",
       "      <td>1</td>\n",
       "      <td>52.0</td>\n",
       "      <td>18.1</td>\n",
       "      <td>201.0</td>\n",
       "      <td>1</td>\n",
       "      <td>9.02330</td>\n",
       "      <td>-24.38933</td>\n",
       "    </tr>\n",
       "    <tr>\n",
       "      <th>3</th>\n",
       "      <td>1</td>\n",
       "      <td>1</td>\n",
       "      <td>1</td>\n",
       "      <td>42.6</td>\n",
       "      <td>13.7</td>\n",
       "      <td>213.0</td>\n",
       "      <td>2</td>\n",
       "      <td>7.96935</td>\n",
       "      <td>-26.70968</td>\n",
       "    </tr>\n",
       "    <tr>\n",
       "      <th>4</th>\n",
       "      <td>1</td>\n",
       "      <td>1</td>\n",
       "      <td>1</td>\n",
       "      <td>45.2</td>\n",
       "      <td>15.8</td>\n",
       "      <td>215.0</td>\n",
       "      <td>1</td>\n",
       "      <td>8.55868</td>\n",
       "      <td>-26.67799</td>\n",
       "    </tr>\n",
       "  </tbody>\n",
       "</table>\n",
       "</div>"
      ],
      "text/plain": [
       "   Species  Island  Clutch Completion  ...  Sex  Delta 15 N (o/oo)  Delta 13 C (o/oo)\n",
       "0        3       2                  1  ...    2            9.66523          -25.06020\n",
       "1        1       1                  1  ...    1            8.46894          -26.60436\n",
       "2        2       2                  1  ...    1            9.02330          -24.38933\n",
       "3        1       1                  1  ...    2            7.96935          -26.70968\n",
       "4        1       1                  1  ...    1            8.55868          -26.67799\n",
       "\n",
       "[5 rows x 9 columns]"
      ]
     },
     "execution_count": 114,
     "metadata": {},
     "output_type": "execute_result"
    }
   ],
   "source": [
    "labeled_test = label_encoder(test_preprocessed, label_map)\n",
    "labeled_test.head()"
   ]
  },
  {
   "cell_type": "code",
   "execution_count": 166,
   "metadata": {
    "ExecuteTime": {
     "end_time": "2022-12-07T07:14:26.272823Z",
     "start_time": "2022-12-07T07:14:26.258861Z"
    }
   },
   "outputs": [],
   "source": [
    "from sklearn.preprocessing import LabelEncoder\n",
    "\n",
    "test['Species'] = le.transform(test['Species'])\n",
    "test['Island'] = le2.transform(test['Island'])\n",
    "test['Clutch Completion'] = le3.transform(test['Clutch Completion'])\n",
    "test['Sex'] = le4.transform(test['Sex'])"
   ]
  },
  {
   "cell_type": "markdown",
   "metadata": {
    "id": "ipHCy-Nnjq9j"
   },
   "source": [
    "<br>"
   ]
  },
  {
   "cell_type": "code",
   "execution_count": 115,
   "metadata": {
    "ExecuteTime": {
     "end_time": "2022-12-07T06:37:29.336281Z",
     "start_time": "2022-12-07T06:37:29.322318Z"
    },
    "colab": {
     "base_uri": "https://localhost:8080/"
    },
    "id": "zkG3YCUXkevQ",
    "outputId": "a547a0ed-ed54-4a86-8c85-b3cf63034249"
   },
   "outputs": [
    {
     "data": {
      "text/plain": [
       "(104, 9)"
      ]
     },
     "execution_count": 115,
     "metadata": {},
     "output_type": "execute_result"
    }
   ],
   "source": [
    "labeled_test.shape"
   ]
  },
  {
   "cell_type": "markdown",
   "metadata": {
    "id": "pAlLkHvLj2f1"
   },
   "source": [
    "<br>"
   ]
  },
  {
   "cell_type": "markdown",
   "metadata": {
    "id": "he73OeL9ub94"
   },
   "source": [
    "전처리가 모두 완료된 labeled_test 데이터로 예측해줍니다. "
   ]
  },
  {
   "cell_type": "code",
   "execution_count": 116,
   "metadata": {
    "ExecuteTime": {
     "end_time": "2022-12-07T06:37:31.057680Z",
     "start_time": "2022-12-07T06:37:31.037735Z"
    },
    "colab": {
     "base_uri": "https://localhost:8080/"
    },
    "id": "mNqjiWlAuPS7",
    "outputId": "eced0193-2dba-4dfe-a8d2-adca81dbdb2f"
   },
   "outputs": [
    {
     "data": {
      "text/plain": [
       "array([3307.65229556, 5414.59631685, 4409.68439773, 4672.26539464,\n",
       "       5244.13429545, 5262.89869547, 3974.54818493, 4272.02000566,\n",
       "       5608.60865995, 3429.68534699, 4420.89183642, 3403.72280612,\n",
       "       4218.93653598, 3714.03973465, 3123.78876453, 3878.41490553,\n",
       "       4408.486941  , 4633.66787818, 4368.12878931, 4485.29622546,\n",
       "       4197.60044966, 3965.11753655, 4556.53785859, 3172.17128263,\n",
       "       4009.76455836, 4584.48982291, 4039.28141882, 4832.35890971,\n",
       "       4208.79366503, 4235.45753801, 4658.44176384, 3633.78110103,\n",
       "       3460.11668128, 4659.76053767, 4210.28651118, 3386.52081855,\n",
       "       4672.11933313, 3458.28566796, 3648.30007854, 3655.81549312,\n",
       "       3486.94781326, 3540.73230978, 5391.86238431,  239.53675076,\n",
       "       3975.56233919, 5288.34035622, 4589.27553311, 5235.38156076,\n",
       "       3247.78308913, 4345.68504571, 4077.16961698, 5465.54260281,\n",
       "       5159.65345966, 3428.07957196, 5827.14437758, 5342.08731059,\n",
       "       4171.55648039, 3315.48840127, 3901.76440612, 5429.28024374,\n",
       "       4679.41904941, 3815.8599725 , 5398.53346238, 4214.95929695,\n",
       "       3174.32520729, 5622.06308253, 5655.27027732, 3435.28658256,\n",
       "       4660.95953875, 4783.36875777, 3273.13104487, 5366.45842259,\n",
       "       5437.27395764, 3646.20028551, 3083.71882677, 3085.90167465,\n",
       "       4059.79594166, 3929.45256368, 3470.21137641, 3435.05181043,\n",
       "       4444.88976281, 3251.32839995, 5463.06041158, 4405.37700437,\n",
       "       4139.90384197, 5267.32377685, 5301.62397138, 3251.36689562,\n",
       "       3586.84436998, 3615.35828255, 5382.26673138, 5470.86338886,\n",
       "       5420.97066183, 3740.33198676, 4010.50797038, 3923.10124719,\n",
       "       3612.38721423, 3575.30848507, 3688.91734936, 3387.12253258,\n",
       "       4573.66844756, 4762.16381267, 4566.83287384, 3293.13672441])"
      ]
     },
     "execution_count": 116,
     "metadata": {},
     "output_type": "execute_result"
    }
   ],
   "source": [
    "predict_test = lr.predict(labeled_test)\n",
    "predict_test"
   ]
  },
  {
   "cell_type": "markdown",
   "metadata": {
    "id": "bdw7bgerk7wI"
   },
   "source": [
    "<br>"
   ]
  },
  {
   "cell_type": "markdown",
   "metadata": {
    "id": "joljURr2Q0Wk"
   },
   "source": [
    "이렇게 선형 회귀 기법으로 펭귄의 몸무게를 예측해봤습니다.\n",
    "\n",
    "평균 RMSE 값이 368.372로 매우 높게 나와 좋은 모델이라고 할 수는 없지만,더 좋은 모델로 수정할 수 있을 것입니다!"
   ]
  },
  {
   "cell_type": "markdown",
   "metadata": {
    "id": "qo8nukND0d5H"
   },
   "source": [
    "<br><br>"
   ]
  },
  {
   "cell_type": "markdown",
   "metadata": {
    "id": "bgynHoxD__7K"
   },
   "source": [
    "## **2. 규제 선형 모델**"
   ]
  },
  {
   "cell_type": "markdown",
   "metadata": {
    "id": "CIpQnZgwzj8D"
   },
   "source": [
    "<br>"
   ]
  },
  {
   "cell_type": "markdown",
   "metadata": {
    "id": "GHU_shpdAGL9"
   },
   "source": [
    "### **1) 릿지 회귀 (Ridge)**"
   ]
  },
  {
   "cell_type": "markdown",
   "metadata": {
    "id": "bSNDq82IzlR2"
   },
   "source": [
    "W의 제곱에 대해 페널티를 부여하는 L2 규제를 선형 회귀에 적용한 것이 **릿지(Ridge)** 회귀입니다.\n",
    "\n",
    "사이킷런은 **Ridge** 클래스를 통해 릿지 회귀를 구현하고, Ridge 클래스의 주요 생성 파라미터 alpha는 릿지 회귀의 alpha L2 규제 계수에 해당합니다. \n",
    "\n",
    "alpha 값을 증가시키면 회귀 계수가 0에 가까워집니다."
   ]
  },
  {
   "cell_type": "markdown",
   "metadata": {
    "id": "9N_8dCtW1SVa"
   },
   "source": [
    "<br>"
   ]
  },
  {
   "cell_type": "markdown",
   "metadata": {
    "id": "ecfcgpei0fdW"
   },
   "source": [
    "펭귄 몸무게 예측 예제를 Ridge 클래스를 이용해 다시 예측해보고, 예측 성능을 cross_val_score()로 평가해보겠습니다."
   ]
  },
  {
   "cell_type": "code",
   "execution_count": 117,
   "metadata": {
    "ExecuteTime": {
     "end_time": "2022-12-07T06:37:34.868509Z",
     "start_time": "2022-12-07T06:37:34.780743Z"
    },
    "id": "ZxoTst5p0WuA"
   },
   "outputs": [],
   "source": [
    "from sklearn.linear_model import Ridge\n",
    "from sklearn.model_selection import cross_val_score\n",
    "\n",
    "# alpha=10\n",
    "ridge = Ridge(alpha=10)\n",
    "neg_mse_scores = cross_val_score(ridge, feature, target, scoring=\"neg_mean_squared_error\", cv=5)\n",
    "rmse_scores = np.sqrt(-1 * neg_mse_scores)\n",
    "avg_rmse = np.mean(rmse_scores)"
   ]
  },
  {
   "cell_type": "code",
   "execution_count": 118,
   "metadata": {
    "ExecuteTime": {
     "end_time": "2022-12-07T06:37:35.654405Z",
     "start_time": "2022-12-07T06:37:35.646427Z"
    },
    "colab": {
     "base_uri": "https://localhost:8080/"
    },
    "id": "kWDRdPUA3L9m",
    "outputId": "4856eb14-721c-4582-8cd1-07fe8e0afb94"
   },
   "outputs": [
    {
     "name": "stdout",
     "output_type": "stream",
     "text": [
      " 5 folds 의 개별 Negative MSE scores:  [-100770.35  -131053.493 -225176.603 -135050.741  -86674.265]\n",
      " 5 folds 의 개별 RMSE scores :  [317.443 362.013 474.528 367.493 294.405]\n",
      " 5 folds 의 평균 RMSE : 363.176 \n"
     ]
    }
   ],
   "source": [
    "print(' 5 folds 의 개별 Negative MSE scores: ', np.round(neg_mse_scores, 3))\n",
    "print(' 5 folds 의 개별 RMSE scores : ', np.round(rmse_scores, 3))\n",
    "print(' 5 folds 의 평균 RMSE : {0:.3f} '.format(avg_rmse))"
   ]
  },
  {
   "cell_type": "markdown",
   "metadata": {
    "id": "-w-Z7GaI1YZ_"
   },
   "source": [
    "- **Ridge(alpha=10)**\n",
    "\n",
    "  Ridge 클래스의 alpha 값을 10으로 지정해 릿지 회귀를 구현합니다.\n",
    "\n",
    "- **cross_val_score(ridge, feature, target, scoring=\"neg_mean_squared_error\", cv=5)**\n",
    "\n",
    "  scoring은 예측 성능 평가 지표입니다. \"neg_mean_squared_error\"는 MSE에 음수를 취한 값입니다.\n",
    "\n",
    "  cv는 교차 검증 폴드 수를 결정합니다.\n",
    "\n",
    "- **np.sqrt(-1 * neg_mse_scores)**\n",
    "\n",
    "  RMSE를 구하기 위해서 음수 값인 neg_mse_scores에 -1을 곱해주고 제곱근을 취해줍니다."
   ]
  },
  {
   "cell_type": "markdown",
   "metadata": {
    "id": "HlfFmX9f0u81"
   },
   "source": [
    "<br>"
   ]
  },
  {
   "cell_type": "markdown",
   "metadata": {
    "id": "OkUWDCPu4Rwh"
   },
   "source": [
    "\n",
    "alpha 값의 변화에 따른 RMSE와 릿지 회귀 계수 값의 변화를 살펴보겠습니다."
   ]
  },
  {
   "cell_type": "code",
   "execution_count": 119,
   "metadata": {
    "ExecuteTime": {
     "end_time": "2022-12-07T06:37:37.512436Z",
     "start_time": "2022-12-07T06:37:37.118490Z"
    },
    "colab": {
     "base_uri": "https://localhost:8080/"
    },
    "id": "05rU0rJGGsN6",
    "outputId": "bec5e080-a19d-4fcd-9636-08c6c28625cb"
   },
   "outputs": [
    {
     "name": "stdout",
     "output_type": "stream",
     "text": [
      "####### Ridge #######\n",
      "\n",
      "alpha 0 일 때 5 folds 의 평균 RMSE : 368.372 \n",
      "alpha 0.1 일 때 5 folds 의 평균 RMSE : 368.196 \n",
      "alpha 1 일 때 5 folds 의 평균 RMSE : 366.851 \n",
      "alpha 10 일 때 5 folds 의 평균 RMSE : 363.176 \n",
      "alpha 100 일 때 5 folds 의 평균 RMSE : 376.154 \n"
     ]
    }
   ],
   "source": [
    "# alpha 값의 변화에 따른 평균 RMSE의 변화\n",
    "\n",
    "ridge_alphas = [0, 0.1, 1, 10, 100]\n",
    "\n",
    "print('####### Ridge #######\\n')\n",
    "\n",
    "for alpha in ridge_alphas :\n",
    "    ridge = Ridge(alpha = alpha)\n",
    "\n",
    "    neg_mse_scores = cross_val_score(ridge, feature, target, scoring=\"neg_mean_squared_error\", cv = 5)\n",
    "    avg_rmse = np.mean(np.sqrt(-1 * neg_mse_scores))\n",
    "    print('alpha {0} 일 때 5 folds 의 평균 RMSE : {1:.3f} '.format(alpha, avg_rmse))"
   ]
  },
  {
   "cell_type": "markdown",
   "metadata": {
    "id": "9uTZ62Y0t0f5"
   },
   "source": [
    "<br>"
   ]
  },
  {
   "cell_type": "code",
   "execution_count": 120,
   "metadata": {
    "ExecuteTime": {
     "end_time": "2022-12-07T06:37:37.840558Z",
     "start_time": "2022-12-07T06:37:37.718885Z"
    },
    "colab": {
     "base_uri": "https://localhost:8080/",
     "height": 332
    },
    "id": "BGRNJ3DpDKem",
    "outputId": "7fb09fc5-11e9-41b4-fa5f-2be37dd33e73"
   },
   "outputs": [
    {
     "data": {
      "text/html": [
       "<div>\n",
       "<style scoped>\n",
       "    .dataframe tbody tr th:only-of-type {\n",
       "        vertical-align: middle;\n",
       "    }\n",
       "\n",
       "    .dataframe tbody tr th {\n",
       "        vertical-align: top;\n",
       "    }\n",
       "\n",
       "    .dataframe thead th {\n",
       "        text-align: right;\n",
       "    }\n",
       "</style>\n",
       "<table border=\"1\" class=\"dataframe\">\n",
       "  <thead>\n",
       "    <tr style=\"text-align: right;\">\n",
       "      <th></th>\n",
       "      <th>alpha:0</th>\n",
       "      <th>alpha:0.1</th>\n",
       "      <th>alpha:1</th>\n",
       "      <th>alpha:10</th>\n",
       "      <th>alpha:100</th>\n",
       "    </tr>\n",
       "  </thead>\n",
       "  <tbody>\n",
       "    <tr>\n",
       "      <th>Flipper Length (mm)</th>\n",
       "      <td>29.082844</td>\n",
       "      <td>29.169443</td>\n",
       "      <td>29.897896</td>\n",
       "      <td>34.314271</td>\n",
       "      <td>41.764970</td>\n",
       "    </tr>\n",
       "    <tr>\n",
       "      <th>Clutch Completion</th>\n",
       "      <td>-7.387869</td>\n",
       "      <td>-7.204686</td>\n",
       "      <td>-5.765509</td>\n",
       "      <td>-0.961186</td>\n",
       "      <td>-2.282067</td>\n",
       "    </tr>\n",
       "    <tr>\n",
       "      <th>Delta 13 C (o/oo)</th>\n",
       "      <td>-7.974664</td>\n",
       "      <td>-7.925173</td>\n",
       "      <td>-7.511890</td>\n",
       "      <td>-5.092580</td>\n",
       "      <td>0.916309</td>\n",
       "    </tr>\n",
       "    <tr>\n",
       "      <th>Culmen Length (mm)</th>\n",
       "      <td>-9.228013</td>\n",
       "      <td>-9.038925</td>\n",
       "      <td>-7.466795</td>\n",
       "      <td>1.243996</td>\n",
       "      <td>11.961309</td>\n",
       "    </tr>\n",
       "    <tr>\n",
       "      <th>Culmen Depth (mm)</th>\n",
       "      <td>-21.604058</td>\n",
       "      <td>-21.596776</td>\n",
       "      <td>-21.405645</td>\n",
       "      <td>-14.940522</td>\n",
       "      <td>8.924421</td>\n",
       "    </tr>\n",
       "    <tr>\n",
       "      <th>Delta 15 N (o/oo)</th>\n",
       "      <td>-41.620844</td>\n",
       "      <td>-41.605755</td>\n",
       "      <td>-41.484427</td>\n",
       "      <td>-40.782001</td>\n",
       "      <td>-31.017615</td>\n",
       "    </tr>\n",
       "    <tr>\n",
       "      <th>Island</th>\n",
       "      <td>-95.334313</td>\n",
       "      <td>-95.737998</td>\n",
       "      <td>-99.007381</td>\n",
       "      <td>-112.022998</td>\n",
       "      <td>-71.948597</td>\n",
       "    </tr>\n",
       "    <tr>\n",
       "      <th>Species</th>\n",
       "      <td>-224.156933</td>\n",
       "      <td>-221.835259</td>\n",
       "      <td>-202.688799</td>\n",
       "      <td>-103.511426</td>\n",
       "      <td>-13.930833</td>\n",
       "    </tr>\n",
       "    <tr>\n",
       "      <th>Sex</th>\n",
       "      <td>-573.114156</td>\n",
       "      <td>-570.694116</td>\n",
       "      <td>-549.987683</td>\n",
       "      <td>-409.899150</td>\n",
       "      <td>-126.651607</td>\n",
       "    </tr>\n",
       "  </tbody>\n",
       "</table>\n",
       "</div>"
      ],
      "text/plain": [
       "                        alpha:0   alpha:0.1     alpha:1    alpha:10   alpha:100\n",
       "Flipper Length (mm)   29.082844   29.169443   29.897896   34.314271   41.764970\n",
       "Clutch Completion     -7.387869   -7.204686   -5.765509   -0.961186   -2.282067\n",
       "Delta 13 C (o/oo)     -7.974664   -7.925173   -7.511890   -5.092580    0.916309\n",
       "Culmen Length (mm)    -9.228013   -9.038925   -7.466795    1.243996   11.961309\n",
       "Culmen Depth (mm)    -21.604058  -21.596776  -21.405645  -14.940522    8.924421\n",
       "Delta 15 N (o/oo)    -41.620844  -41.605755  -41.484427  -40.782001  -31.017615\n",
       "Island               -95.334313  -95.737998  -99.007381 -112.022998  -71.948597\n",
       "Species             -224.156933 -221.835259 -202.688799 -103.511426  -13.930833\n",
       "Sex                 -573.114156 -570.694116 -549.987683 -409.899150 -126.651607"
      ]
     },
     "execution_count": 120,
     "metadata": {},
     "output_type": "execute_result"
    }
   ],
   "source": [
    "# alpha 값의 변화에 따른 회귀 계수의 변화\n",
    "\n",
    "coeff_df = pd.DataFrame()\n",
    "\n",
    "for pos, alpha in enumerate(ridge_alphas) :\n",
    "    ridge = Ridge(alpha = alpha)\n",
    "    ridge.fit(feature, target)\n",
    " \n",
    "    coeff = pd.Series(data=ridge.coef_, index=feature.columns)\n",
    "    colname = 'alpha:'+str(alpha)\n",
    "    coeff_df[colname] = coeff\n",
    "\n",
    "ridge_alphas = [0,  0.1, 1, 10, 100]\n",
    "sort_column = 'alpha:'+str(ridge_alphas[0])\n",
    "coeff_df.sort_values(by=sort_column, ascending=False)"
   ]
  },
  {
   "cell_type": "markdown",
   "metadata": {
    "id": "eqXTjIy7gGBz"
   },
   "source": [
    "- **enumerate(ridge_alphas)**\n",
    "\n",
    "  인덱스와 원소를 동시에 리턴합니다.\n",
    "\n",
    "- **coeff_df.sort_values(by=sort_column, ascending=False)**\n",
    "\n",
    "  alpha:0 컬럼의 값을 기준으로 내림차순 정렬했습니다.\n",
    "\n"
   ]
  },
  {
   "cell_type": "markdown",
   "metadata": {
    "id": "jIPnISOTiOaR"
   },
   "source": [
    "<br>"
   ]
  },
  {
   "cell_type": "markdown",
   "metadata": {
    "id": "ByQ4J-b7HP0D"
   },
   "source": [
    "alpha 값이 0, 0.1, 1, 10, 100으로 변화함에 따라 평균 RMSE의 값과 회귀 계수가 어떻게 변화하는지 살펴보았습니다.\n",
    "\n",
    "alpha가 1일 때 334.030으로 가장 좋은 평균 RMSE를 보여주며,\n",
    "규제가 없는 LinearRegression의 평균 RMSE인 336.435보다 더 뛰어난 예측 성능을 보여줍니다.\n",
    "\n",
    "alpha 값을 계속 증가시킬수록 회귀 계수 값은 0에 가까워짐을 확인할 수 있습니다.\n",
    "\n",
    "하지만 릿지 회귀의 경우, 회귀 계수를 0으로 만들지는 않습니다."
   ]
  },
  {
   "cell_type": "markdown",
   "metadata": {
    "id": "qHBA0_xeIssZ"
   },
   "source": [
    "<br>"
   ]
  },
  {
   "cell_type": "markdown",
   "metadata": {
    "id": "UitJcdG7AKTG"
   },
   "source": [
    "### **2) 라쏘 회귀 (Lasso)**"
   ]
  },
  {
   "cell_type": "markdown",
   "metadata": {
    "id": "kJDzNfZvIuYx"
   },
   "source": [
    "W의 절댓값에 페널티를 부여하는 L1 규제를 선형 회귀에 적용한 것이 **라쏘(Lasso)** 회귀입니다.\n",
    "\n",
    "L1 규제는 불필요한 회귀 계수를 급격하게 감소시켜 0으로 만들고 제거합니다. 이러한 점에서 L1 규제는 적절한 피처만 회귀에 포함시키는 피처 선택의 특성을 가지고 있습니다. \n",
    "\n",
    "사이킷런은 **Lasso** 클래스를 통해 라쏘 회귀를 구현했습니다. Lasso 클래스의 주요 생성 파라미터 alpha는 라쏘 회귀의 alpha L1 규제 계수에 해당합니다."
   ]
  },
  {
   "cell_type": "markdown",
   "metadata": {
    "id": "hs-peLkGoq3Z"
   },
   "source": [
    "<br>"
   ]
  },
  {
   "cell_type": "markdown",
   "metadata": {
    "id": "CXEEEsrAoQVx"
   },
   "source": [
    "펭귄 몸무게 예측 예제를 Lasso 클래스를 이용해 다시 예측해보고, \n",
    "alpha 값의 변화에 따른 RMSE와 라쏘 회귀 계수 값의 변화를 살펴보겠습니다."
   ]
  },
  {
   "cell_type": "code",
   "execution_count": 121,
   "metadata": {
    "ExecuteTime": {
     "end_time": "2022-12-07T06:37:40.841019Z",
     "start_time": "2022-12-07T06:37:40.492464Z"
    },
    "colab": {
     "base_uri": "https://localhost:8080/"
    },
    "id": "MwNWUqyDduR8",
    "outputId": "6a30eda2-c010-4f86-9530-2a4c464ec7ad"
   },
   "outputs": [
    {
     "name": "stdout",
     "output_type": "stream",
     "text": [
      "####### Lasso #######\n",
      "\n",
      "alpha 0.07 일 때 5 folds 의 평균 RMSE : 368.263 \n",
      "alpha 0.1 일 때 5 folds 의 평균 RMSE : 368.217 \n",
      "alpha 0.5 일 때 5 folds 의 평균 RMSE : 367.610 \n",
      "alpha 1 일 때 5 folds 의 평균 RMSE : 366.885 \n",
      "alpha 3 일 때 5 folds 의 평균 RMSE : 364.480 \n"
     ]
    }
   ],
   "source": [
    "# alpha 값의 변화에 따른 평균 RMSE의 변화\n",
    "\n",
    "from sklearn.linear_model import Lasso\n",
    "from sklearn.model_selection import cross_val_score\n",
    "\n",
    "print('####### Lasso #######\\n')\n",
    "\n",
    "lasso_alphas = [0.07, 0.1, 0.5, 1, 3]\n",
    "\n",
    "for alpha in lasso_alphas :\n",
    "    lasso = Lasso(alpha = alpha)\n",
    "\n",
    "    neg_mse_scores = cross_val_score(lasso, feature, target, scoring=\"neg_mean_squared_error\", cv = 5)\n",
    "    avg_rmse = np.mean(np.sqrt(-1 * neg_mse_scores))\n",
    "    print('alpha {0} 일 때 5 folds 의 평균 RMSE : {1:.3f} '.format(alpha, avg_rmse))"
   ]
  },
  {
   "cell_type": "markdown",
   "metadata": {
    "id": "Zvg25EgGtyjE"
   },
   "source": [
    "<br>"
   ]
  },
  {
   "cell_type": "code",
   "execution_count": 122,
   "metadata": {
    "ExecuteTime": {
     "end_time": "2022-12-07T06:37:41.658832Z",
     "start_time": "2022-12-07T06:37:41.578048Z"
    },
    "colab": {
     "base_uri": "https://localhost:8080/",
     "height": 332
    },
    "id": "Jbs7K3ICf1eD",
    "outputId": "71ef2de2-a97d-4d0d-89c6-e70e29398877"
   },
   "outputs": [
    {
     "data": {
      "text/html": [
       "<div>\n",
       "<style scoped>\n",
       "    .dataframe tbody tr th:only-of-type {\n",
       "        vertical-align: middle;\n",
       "    }\n",
       "\n",
       "    .dataframe tbody tr th {\n",
       "        vertical-align: top;\n",
       "    }\n",
       "\n",
       "    .dataframe thead th {\n",
       "        text-align: right;\n",
       "    }\n",
       "</style>\n",
       "<table border=\"1\" class=\"dataframe\">\n",
       "  <thead>\n",
       "    <tr style=\"text-align: right;\">\n",
       "      <th></th>\n",
       "      <th>alpha:0.07</th>\n",
       "      <th>alpha:0.1</th>\n",
       "      <th>alpha:0.5</th>\n",
       "      <th>alpha:1</th>\n",
       "      <th>alpha:3</th>\n",
       "    </tr>\n",
       "  </thead>\n",
       "  <tbody>\n",
       "    <tr>\n",
       "      <th>Flipper Length (mm)</th>\n",
       "      <td>29.129739</td>\n",
       "      <td>29.149837</td>\n",
       "      <td>29.418134</td>\n",
       "      <td>29.730867</td>\n",
       "      <td>30.920415</td>\n",
       "    </tr>\n",
       "    <tr>\n",
       "      <th>Clutch Completion</th>\n",
       "      <td>-6.654898</td>\n",
       "      <td>-6.340767</td>\n",
       "      <td>-2.151176</td>\n",
       "      <td>-0.000000</td>\n",
       "      <td>-0.000000</td>\n",
       "    </tr>\n",
       "    <tr>\n",
       "      <th>Delta 13 C (o/oo)</th>\n",
       "      <td>-7.912180</td>\n",
       "      <td>-7.885402</td>\n",
       "      <td>-7.528091</td>\n",
       "      <td>-7.063697</td>\n",
       "      <td>-5.154565</td>\n",
       "    </tr>\n",
       "    <tr>\n",
       "      <th>Culmen Length (mm)</th>\n",
       "      <td>-9.140183</td>\n",
       "      <td>-9.102542</td>\n",
       "      <td>-8.600180</td>\n",
       "      <td>-7.973273</td>\n",
       "      <td>-5.466018</td>\n",
       "    </tr>\n",
       "    <tr>\n",
       "      <th>Culmen Depth (mm)</th>\n",
       "      <td>-21.691038</td>\n",
       "      <td>-21.728315</td>\n",
       "      <td>-22.226535</td>\n",
       "      <td>-22.805215</td>\n",
       "      <td>-25.003936</td>\n",
       "    </tr>\n",
       "    <tr>\n",
       "      <th>Delta 15 N (o/oo)</th>\n",
       "      <td>-41.496428</td>\n",
       "      <td>-41.443107</td>\n",
       "      <td>-40.731669</td>\n",
       "      <td>-39.784139</td>\n",
       "      <td>-35.827146</td>\n",
       "    </tr>\n",
       "    <tr>\n",
       "      <th>Island</th>\n",
       "      <td>-95.436887</td>\n",
       "      <td>-95.480847</td>\n",
       "      <td>-96.067615</td>\n",
       "      <td>-96.612479</td>\n",
       "      <td>-98.268244</td>\n",
       "    </tr>\n",
       "    <tr>\n",
       "      <th>Species</th>\n",
       "      <td>-222.909590</td>\n",
       "      <td>-222.375011</td>\n",
       "      <td>-215.237702</td>\n",
       "      <td>-206.777576</td>\n",
       "      <td>-174.173329</td>\n",
       "    </tr>\n",
       "    <tr>\n",
       "      <th>Sex</th>\n",
       "      <td>-572.272495</td>\n",
       "      <td>-571.911783</td>\n",
       "      <td>-567.099775</td>\n",
       "      <td>-561.129000</td>\n",
       "      <td>-537.356667</td>\n",
       "    </tr>\n",
       "  </tbody>\n",
       "</table>\n",
       "</div>"
      ],
      "text/plain": [
       "                     alpha:0.07   alpha:0.1   alpha:0.5     alpha:1     alpha:3\n",
       "Flipper Length (mm)   29.129739   29.149837   29.418134   29.730867   30.920415\n",
       "Clutch Completion     -6.654898   -6.340767   -2.151176   -0.000000   -0.000000\n",
       "Delta 13 C (o/oo)     -7.912180   -7.885402   -7.528091   -7.063697   -5.154565\n",
       "Culmen Length (mm)    -9.140183   -9.102542   -8.600180   -7.973273   -5.466018\n",
       "Culmen Depth (mm)    -21.691038  -21.728315  -22.226535  -22.805215  -25.003936\n",
       "Delta 15 N (o/oo)    -41.496428  -41.443107  -40.731669  -39.784139  -35.827146\n",
       "Island               -95.436887  -95.480847  -96.067615  -96.612479  -98.268244\n",
       "Species             -222.909590 -222.375011 -215.237702 -206.777576 -174.173329\n",
       "Sex                 -572.272495 -571.911783 -567.099775 -561.129000 -537.356667"
      ]
     },
     "execution_count": 122,
     "metadata": {},
     "output_type": "execute_result"
    }
   ],
   "source": [
    "# alpha 값의 변화에 따른 회귀 계수의 변화\n",
    "\n",
    "coeff_df = pd.DataFrame()\n",
    "lasso_alphas = [0.07, 0.1, 0.5, 1, 3]\n",
    "\n",
    "for pos, alpha in enumerate(lasso_alphas) :\n",
    "    lasso = Lasso(alpha = alpha)\n",
    "    lasso.fit(feature, target)\n",
    " \n",
    "    coeff = pd.Series(data=lasso.coef_, index=feature.columns)\n",
    "    colname = 'alpha:'+str(alpha)\n",
    "    coeff_df[colname] = coeff\n",
    "\n",
    "sort_column = 'alpha:'+str(lasso_alphas[0])\n",
    "coeff_df.sort_values(by=sort_column, ascending=False)"
   ]
  },
  {
   "cell_type": "markdown",
   "metadata": {
    "id": "8uGlUFs4iYpO"
   },
   "source": [
    "<br>"
   ]
  },
  {
   "cell_type": "markdown",
   "metadata": {
    "id": "XBHKMRrNfPnA"
   },
   "source": [
    "alpha 값이 0.07, 0.1, 0.5, 1, 3으로 변화함에 따라 평균 RMSE의 값과 회귀 계수가 어떻게 변화하는지 살펴보았습니다.\n",
    "\n",
    "alpha가 3일 때 332.923으로 가장 좋은 평균 RMSE를 보여주며,\n",
    "앞의 릿지 회귀의 평균 RMSE 334.030보다 더 좋은 수치입니다.\n",
    "\n",
    "현재 출력값에는 잘 나타나지 않았지만, 라쏘 회귀의 특성상 불필요한 회귀 계수를 0으로 만들기 때문에 회귀 계수가 0인 경우가 종종 나타납니다."
   ]
  },
  {
   "cell_type": "markdown",
   "metadata": {
    "id": "TlLun4wqiHty"
   },
   "source": [
    "<br>"
   ]
  },
  {
   "cell_type": "markdown",
   "metadata": {
    "id": "Yp2GeM-qAOn-"
   },
   "source": [
    "### **3) 엘라스틱넷 회귀 (Elastic Net)**\n"
   ]
  },
  {
   "cell_type": "markdown",
   "metadata": {
    "id": "obVqg3rliK8-"
   },
   "source": [
    "**엘라스틱넷(Elastic Net)** 회귀는 L2 규제와 L1 규제를 결합한 회귀입니다.\n",
    "\n",
    "라쏘 회귀는 서로 상관관계가 높은 피처들의 경우 중요 피처만을 선택하고 다른 피처들의 회귀 계수는 모두 0으로 만드는 성향이 강합니다. 하지만 이러한 성향으로 alpha 값에 따라 회귀 계수의 값이 급격히 변동할 수도 있는데, 이를 완화하기 위해 L2 규제가 추가되었습니다.\n",
    "\n",
    "하지만 엘라스틱넷의 규제는 L1 규제와 L2 규제가 결합된 규제이기 때문에 수행시간이 상대적으로 오래 걸린다는 단점이 있습니다.\n",
    "\n",
    "<br>\n",
    "\n",
    "\n",
    "사이킷런은 **ElasticNet** 클래스를 통해서 엘라스틱넷 회귀를 구현합니다. \n",
    "\n",
    "ElasticNet 클래스의 주요 생성 파라미터는 *alpha*와 *l1_ratio*입니다. 이때 alpha 값은 Ridge와 Lasso 클래스의 alpha 값과는 다릅니다. \n",
    "\n",
    "<br>\n",
    "\n",
    "엘라스틱넷의 규제는 **a * L1 + b * L2** 로 정의됩니다. \n",
    "\n",
    "따라서,ㅤㅤ**alphaㅤㅤ--->ㅤㅤa+b**\n",
    "\n",
    "ㅤㅤㅤㅤㅤ **l1_ratioㅤㅤ--->ㅤㅤa/(a+b)** "
   ]
  },
  {
   "cell_type": "markdown",
   "metadata": {
    "id": "eBQQ3-e8oxaV"
   },
   "source": [
    "<br>"
   ]
  },
  {
   "cell_type": "markdown",
   "metadata": {
    "id": "ko38tLgHozUr"
   },
   "source": [
    "펭귄 몸무게 예측 예제를 ElasticNet 클래스를 이용해 다시 예측해보고, \n",
    "alpha 값의 변화에 따른 RMSE와 엘라스틱넷 회귀 계수 값의 변화를 살펴보겠습니다."
   ]
  },
  {
   "cell_type": "code",
   "execution_count": 123,
   "metadata": {
    "ExecuteTime": {
     "end_time": "2022-12-07T06:37:45.357945Z",
     "start_time": "2022-12-07T06:37:44.947044Z"
    },
    "colab": {
     "base_uri": "https://localhost:8080/"
    },
    "id": "sPiMCUHMlW4U",
    "outputId": "cb22849a-d364-4a25-e4c1-1a5315dc5b89"
   },
   "outputs": [
    {
     "name": "stdout",
     "output_type": "stream",
     "text": [
      "####### ElasticNet #######\n",
      "alpha 0.07 일 때 5 folds 의 평균 RMSE : 364.375 \n",
      "alpha 0.1 일 때 5 folds 의 평균 RMSE : 363.698 \n",
      "alpha 0.5 일 때 5 folds 의 평균 RMSE : 365.521 \n",
      "alpha 1 일 때 5 folds 의 평균 RMSE : 370.484 \n",
      "alpha 3 일 때 5 folds 의 평균 RMSE : 381.549 \n"
     ]
    }
   ],
   "source": [
    "# alpha 값의 변화에 따른 평균 RMSE의 변화\n",
    "\n",
    "from sklearn.linear_model import ElasticNet\n",
    "from sklearn.model_selection import cross_val_score\n",
    "\n",
    "print('####### ElasticNet #######')\n",
    "\n",
    "elastic_alphas = [0.07, 0.1, 0.5, 1, 3]\n",
    "\n",
    "for alpha in elastic_alphas :\n",
    "    elastic = ElasticNet(alpha = alpha, l1_ratio=0.7)\n",
    "\n",
    "    neg_mse_scores = cross_val_score(elastic, feature, target, scoring=\"neg_mean_squared_error\", cv = 5)\n",
    "    avg_rmse = np.mean(np.sqrt(-1 * neg_mse_scores))\n",
    "    print('alpha {0} 일 때 5 folds 의 평균 RMSE : {1:.3f} '.format(alpha, avg_rmse))"
   ]
  },
  {
   "cell_type": "markdown",
   "metadata": {
    "id": "8JZA8sOptum6"
   },
   "source": [
    "<br>"
   ]
  },
  {
   "cell_type": "code",
   "execution_count": 124,
   "metadata": {
    "ExecuteTime": {
     "end_time": "2022-12-07T06:37:45.830680Z",
     "start_time": "2022-12-07T06:37:45.700030Z"
    },
    "colab": {
     "base_uri": "https://localhost:8080/",
     "height": 332
    },
    "id": "x9JxARqxmNmT",
    "outputId": "17a79441-1469-46fc-ce9a-e3f331da8678"
   },
   "outputs": [
    {
     "data": {
      "text/html": [
       "<div>\n",
       "<style scoped>\n",
       "    .dataframe tbody tr th:only-of-type {\n",
       "        vertical-align: middle;\n",
       "    }\n",
       "\n",
       "    .dataframe tbody tr th {\n",
       "        vertical-align: top;\n",
       "    }\n",
       "\n",
       "    .dataframe thead th {\n",
       "        text-align: right;\n",
       "    }\n",
       "</style>\n",
       "<table border=\"1\" class=\"dataframe\">\n",
       "  <thead>\n",
       "    <tr style=\"text-align: right;\">\n",
       "      <th></th>\n",
       "      <th>alpha:0.07</th>\n",
       "      <th>alpha:0.1</th>\n",
       "      <th>alpha:0.5</th>\n",
       "      <th>alpha:1</th>\n",
       "      <th>alpha:3</th>\n",
       "    </tr>\n",
       "  </thead>\n",
       "  <tbody>\n",
       "    <tr>\n",
       "      <th>Flipper Length (mm)</th>\n",
       "      <td>32.285171</td>\n",
       "      <td>33.231496</td>\n",
       "      <td>38.730608</td>\n",
       "      <td>40.917988</td>\n",
       "      <td>43.206146</td>\n",
       "    </tr>\n",
       "    <tr>\n",
       "      <th>Clutch Completion</th>\n",
       "      <td>-1.962477</td>\n",
       "      <td>-1.018081</td>\n",
       "      <td>-0.097313</td>\n",
       "      <td>-0.490740</td>\n",
       "      <td>-0.000000</td>\n",
       "    </tr>\n",
       "    <tr>\n",
       "      <th>Culmen Length (mm)</th>\n",
       "      <td>-2.575066</td>\n",
       "      <td>-0.755154</td>\n",
       "      <td>8.147848</td>\n",
       "      <td>10.977077</td>\n",
       "      <td>13.519085</td>\n",
       "    </tr>\n",
       "    <tr>\n",
       "      <th>Delta 13 C (o/oo)</th>\n",
       "      <td>-6.167127</td>\n",
       "      <td>-5.644318</td>\n",
       "      <td>-2.238545</td>\n",
       "      <td>-0.000000</td>\n",
       "      <td>3.856317</td>\n",
       "    </tr>\n",
       "    <tr>\n",
       "      <th>Culmen Depth (mm)</th>\n",
       "      <td>-19.140550</td>\n",
       "      <td>-17.494857</td>\n",
       "      <td>-0.867532</td>\n",
       "      <td>5.864574</td>\n",
       "      <td>9.469335</td>\n",
       "    </tr>\n",
       "    <tr>\n",
       "      <th>Delta 15 N (o/oo)</th>\n",
       "      <td>-41.051653</td>\n",
       "      <td>-40.874741</td>\n",
       "      <td>-37.863638</td>\n",
       "      <td>-33.301323</td>\n",
       "      <td>-22.226774</td>\n",
       "    </tr>\n",
       "    <tr>\n",
       "      <th>Island</th>\n",
       "      <td>-107.734340</td>\n",
       "      <td>-110.150506</td>\n",
       "      <td>-103.458081</td>\n",
       "      <td>-83.928568</td>\n",
       "      <td>-44.580786</td>\n",
       "    </tr>\n",
       "    <tr>\n",
       "      <th>Species</th>\n",
       "      <td>-145.149907</td>\n",
       "      <td>-124.785793</td>\n",
       "      <td>-38.513740</td>\n",
       "      <td>-18.166085</td>\n",
       "      <td>-4.457717</td>\n",
       "    </tr>\n",
       "    <tr>\n",
       "      <th>Sex</th>\n",
       "      <td>-477.821943</td>\n",
       "      <td>-447.156846</td>\n",
       "      <td>-248.048586</td>\n",
       "      <td>-162.650139</td>\n",
       "      <td>-69.726675</td>\n",
       "    </tr>\n",
       "  </tbody>\n",
       "</table>\n",
       "</div>"
      ],
      "text/plain": [
       "                     alpha:0.07   alpha:0.1   alpha:0.5     alpha:1    alpha:3\n",
       "Flipper Length (mm)   32.285171   33.231496   38.730608   40.917988  43.206146\n",
       "Clutch Completion     -1.962477   -1.018081   -0.097313   -0.490740  -0.000000\n",
       "Culmen Length (mm)    -2.575066   -0.755154    8.147848   10.977077  13.519085\n",
       "Delta 13 C (o/oo)     -6.167127   -5.644318   -2.238545   -0.000000   3.856317\n",
       "Culmen Depth (mm)    -19.140550  -17.494857   -0.867532    5.864574   9.469335\n",
       "Delta 15 N (o/oo)    -41.051653  -40.874741  -37.863638  -33.301323 -22.226774\n",
       "Island              -107.734340 -110.150506 -103.458081  -83.928568 -44.580786\n",
       "Species             -145.149907 -124.785793  -38.513740  -18.166085  -4.457717\n",
       "Sex                 -477.821943 -447.156846 -248.048586 -162.650139 -69.726675"
      ]
     },
     "execution_count": 124,
     "metadata": {},
     "output_type": "execute_result"
    }
   ],
   "source": [
    "# alpha 값의 변화에 따른 회귀 계수의 변화\n",
    "\n",
    "coeff_df = pd.DataFrame()\n",
    "elastic_alphas = [0.07, 0.1, 0.5, 1, 3]\n",
    "\n",
    "for pos, alpha in enumerate(elastic_alphas) :\n",
    "    elastic = ElasticNet(alpha = alpha, l1_ratio=0.7)\n",
    "    elastic.fit(feature, target)\n",
    " \n",
    "    coeff = pd.Series(data=elastic.coef_, index=feature.columns)\n",
    "    colname = 'alpha:'+str(alpha)\n",
    "    coeff_df[colname] = coeff\n",
    "\n",
    "sort_column = 'alpha:'+str(elastic_alphas[0])\n",
    "coeff_df.sort_values(by=sort_column, ascending=False)"
   ]
  },
  {
   "cell_type": "markdown",
   "metadata": {
    "id": "yaEI5FTSifhS"
   },
   "source": [
    "<Br>"
   ]
  },
  {
   "cell_type": "markdown",
   "metadata": {
    "id": "xQ3Ix5pol9Ih"
   },
   "source": [
    "alpha 값이 0.07, 0.1, 0.5, 1, 3으로 변화함에 따라 평균 RMSE의 값과 회귀 계수가 어떻게 변화하는지 살펴보았습니다.\n",
    "\n",
    "alpha가 0.07일 때 334.074로 가장 좋은 평균 RMSE를 보여줍니다.\n",
    "\n",
    "릿지 회귀와 라쏘 회귀의 평균 RMSE 값보다는 약간 떨어지는 수치지만, LinearRegression의 평균 RMSE인 336.434보다는 향상되었습니다."
   ]
  },
  {
   "cell_type": "markdown",
   "metadata": {
    "id": "h4--YqxWsUpN"
   },
   "source": [
    "이렇게 규제 선형 회귀의 가장 대표적인 기법인 릿지, 라쏘, 엘라스틱넷 회귀를 살펴보았습니다. \n",
    "\n",
    "이들 중 어떤 것이 가장 좋은지는 상황에 따라 다르기 때문에 각각의 알고리즘에서 하이퍼 파라미터를 변경해 가면서 최적의 예측 성능을 찾아내야 합니다."
   ]
  },
  {
   "cell_type": "markdown",
   "metadata": {
    "id": "fankT3ltl6uU"
   },
   "source": [
    "<br>"
   ]
  }
 ],
 "metadata": {
  "colab": {
   "collapsed_sections": [],
   "name": "데이썬_선형회귀.ipynb의 사본",
   "provenance": []
  },
  "kernelspec": {
   "display_name": "Python 3 (ipykernel)",
   "language": "python",
   "name": "python3"
  },
  "language_info": {
   "codemirror_mode": {
    "name": "ipython",
    "version": 3
   },
   "file_extension": ".py",
   "mimetype": "text/x-python",
   "name": "python",
   "nbconvert_exporter": "python",
   "pygments_lexer": "ipython3",
   "version": "3.9.7"
  },
  "toc": {
   "base_numbering": 1,
   "nav_menu": {},
   "number_sections": true,
   "sideBar": true,
   "skip_h1_title": false,
   "title_cell": "Table of Contents",
   "title_sidebar": "Contents",
   "toc_cell": false,
   "toc_position": {},
   "toc_section_display": true,
   "toc_window_display": false
  }
 },
 "nbformat": 4,
 "nbformat_minor": 1
}

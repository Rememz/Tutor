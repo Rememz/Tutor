{
 "cells": [
  {
   "cell_type": "code",
   "execution_count": 1,
   "metadata": {},
   "outputs": [],
   "source": [
    "# %matplotlib inline\n",
    "# %config InlineBackend.figure_format = 'retina'"
   ]
  },
  {
   "cell_type": "code",
   "execution_count": 1,
   "metadata": {},
   "outputs": [],
   "source": [
    "import pandas as pd\n",
    "import numpy as np\n",
    "from pykrx import bond\n",
    "from pykrx import stock\n",
    "import matplotlib.pyplot as plt\n",
    "import warnings\n",
    "\n",
    "\n",
    "# plt.style.use('seaborn')\n",
    "# plt.style.use('seaborn-colorblind') #alternative\n",
    "plt.rcParams['figure.figsize'] = [8, 4.5]\n",
    "plt.rcParams['figure.dpi'] = 300\n",
    "warnings.simplefilter(action='ignore', category=FutureWarning)"
   ]
  },
  {
   "cell_type": "code",
   "execution_count": 2,
   "metadata": {},
   "outputs": [],
   "source": [
    "samsung = stock.get_market_ohlcv(\"20200101\", \"20201231\", \"005930\")"
   ]
  },
  {
   "cell_type": "code",
   "execution_count": 3,
   "metadata": {},
   "outputs": [],
   "source": [
    "from datetime import datetime\n",
    "import backtrader as bt"
   ]
  },
  {
   "cell_type": "code",
   "execution_count": 4,
   "metadata": {},
   "outputs": [],
   "source": [
    "class SmaSignal(bt.Signal):\n",
    "    params = (('period', 20), )\n",
    "    \n",
    "    def __init__(self):\n",
    "        self.lines.signal = self.data - bt.ind.SMA(period=self.p.period)"
   ]
  },
  {
   "cell_type": "code",
   "execution_count": 5,
   "metadata": {},
   "outputs": [
    {
     "data": {
      "text/html": [
       "<div>\n",
       "<style scoped>\n",
       "    .dataframe tbody tr th:only-of-type {\n",
       "        vertical-align: middle;\n",
       "    }\n",
       "\n",
       "    .dataframe tbody tr th {\n",
       "        vertical-align: top;\n",
       "    }\n",
       "\n",
       "    .dataframe thead th {\n",
       "        text-align: right;\n",
       "    }\n",
       "</style>\n",
       "<table border=\"1\" class=\"dataframe\">\n",
       "  <thead>\n",
       "    <tr style=\"text-align: right;\">\n",
       "      <th></th>\n",
       "      <th>시가</th>\n",
       "      <th>고가</th>\n",
       "      <th>저가</th>\n",
       "      <th>종가</th>\n",
       "      <th>거래량</th>\n",
       "      <th>거래대금</th>\n",
       "      <th>등락률</th>\n",
       "    </tr>\n",
       "    <tr>\n",
       "      <th>날짜</th>\n",
       "      <th></th>\n",
       "      <th></th>\n",
       "      <th></th>\n",
       "      <th></th>\n",
       "      <th></th>\n",
       "      <th></th>\n",
       "      <th></th>\n",
       "    </tr>\n",
       "  </thead>\n",
       "  <tbody>\n",
       "    <tr>\n",
       "      <th>2020-01-02</th>\n",
       "      <td>55500</td>\n",
       "      <td>56000</td>\n",
       "      <td>55000</td>\n",
       "      <td>55200</td>\n",
       "      <td>12993228</td>\n",
       "      <td>719663194492</td>\n",
       "      <td>-1.08</td>\n",
       "    </tr>\n",
       "    <tr>\n",
       "      <th>2020-01-03</th>\n",
       "      <td>56000</td>\n",
       "      <td>56600</td>\n",
       "      <td>54900</td>\n",
       "      <td>55500</td>\n",
       "      <td>15422255</td>\n",
       "      <td>860206709400</td>\n",
       "      <td>0.54</td>\n",
       "    </tr>\n",
       "    <tr>\n",
       "      <th>2020-01-06</th>\n",
       "      <td>54900</td>\n",
       "      <td>55600</td>\n",
       "      <td>54600</td>\n",
       "      <td>55500</td>\n",
       "      <td>10278951</td>\n",
       "      <td>567461518576</td>\n",
       "      <td>0.00</td>\n",
       "    </tr>\n",
       "    <tr>\n",
       "      <th>2020-01-07</th>\n",
       "      <td>55700</td>\n",
       "      <td>56400</td>\n",
       "      <td>55600</td>\n",
       "      <td>55800</td>\n",
       "      <td>10009778</td>\n",
       "      <td>560226659600</td>\n",
       "      <td>0.54</td>\n",
       "    </tr>\n",
       "    <tr>\n",
       "      <th>2020-01-08</th>\n",
       "      <td>56200</td>\n",
       "      <td>57400</td>\n",
       "      <td>55900</td>\n",
       "      <td>56800</td>\n",
       "      <td>23501171</td>\n",
       "      <td>1330939275000</td>\n",
       "      <td>1.79</td>\n",
       "    </tr>\n",
       "    <tr>\n",
       "      <th>...</th>\n",
       "      <td>...</td>\n",
       "      <td>...</td>\n",
       "      <td>...</td>\n",
       "      <td>...</td>\n",
       "      <td>...</td>\n",
       "      <td>...</td>\n",
       "      <td>...</td>\n",
       "    </tr>\n",
       "    <tr>\n",
       "      <th>2020-12-23</th>\n",
       "      <td>72400</td>\n",
       "      <td>74000</td>\n",
       "      <td>72300</td>\n",
       "      <td>73900</td>\n",
       "      <td>19411326</td>\n",
       "      <td>1419205113900</td>\n",
       "      <td>2.21</td>\n",
       "    </tr>\n",
       "    <tr>\n",
       "      <th>2020-12-24</th>\n",
       "      <td>74100</td>\n",
       "      <td>78800</td>\n",
       "      <td>74000</td>\n",
       "      <td>77800</td>\n",
       "      <td>32502870</td>\n",
       "      <td>2486986812800</td>\n",
       "      <td>5.28</td>\n",
       "    </tr>\n",
       "    <tr>\n",
       "      <th>2020-12-28</th>\n",
       "      <td>79000</td>\n",
       "      <td>80100</td>\n",
       "      <td>78200</td>\n",
       "      <td>78700</td>\n",
       "      <td>40085044</td>\n",
       "      <td>3172810866091</td>\n",
       "      <td>1.16</td>\n",
       "    </tr>\n",
       "    <tr>\n",
       "      <th>2020-12-29</th>\n",
       "      <td>78800</td>\n",
       "      <td>78900</td>\n",
       "      <td>77300</td>\n",
       "      <td>78300</td>\n",
       "      <td>30339449</td>\n",
       "      <td>2368814098000</td>\n",
       "      <td>-0.51</td>\n",
       "    </tr>\n",
       "    <tr>\n",
       "      <th>2020-12-30</th>\n",
       "      <td>77400</td>\n",
       "      <td>81300</td>\n",
       "      <td>77300</td>\n",
       "      <td>81000</td>\n",
       "      <td>29417421</td>\n",
       "      <td>2344317462700</td>\n",
       "      <td>3.45</td>\n",
       "    </tr>\n",
       "  </tbody>\n",
       "</table>\n",
       "<p>248 rows × 7 columns</p>\n",
       "</div>"
      ],
      "text/plain": [
       "               시가     고가     저가     종가       거래량           거래대금   등락률\n",
       "날짜                                                                   \n",
       "2020-01-02  55500  56000  55000  55200  12993228   719663194492 -1.08\n",
       "2020-01-03  56000  56600  54900  55500  15422255   860206709400  0.54\n",
       "2020-01-06  54900  55600  54600  55500  10278951   567461518576  0.00\n",
       "2020-01-07  55700  56400  55600  55800  10009778   560226659600  0.54\n",
       "2020-01-08  56200  57400  55900  56800  23501171  1330939275000  1.79\n",
       "...           ...    ...    ...    ...       ...            ...   ...\n",
       "2020-12-23  72400  74000  72300  73900  19411326  1419205113900  2.21\n",
       "2020-12-24  74100  78800  74000  77800  32502870  2486986812800  5.28\n",
       "2020-12-28  79000  80100  78200  78700  40085044  3172810866091  1.16\n",
       "2020-12-29  78800  78900  77300  78300  30339449  2368814098000 -0.51\n",
       "2020-12-30  77400  81300  77300  81000  29417421  2344317462700  3.45\n",
       "\n",
       "[248 rows x 7 columns]"
      ]
     },
     "execution_count": 5,
     "metadata": {},
     "output_type": "execute_result"
    }
   ],
   "source": [
    "samsung"
   ]
  },
  {
   "cell_type": "code",
   "execution_count": 6,
   "metadata": {},
   "outputs": [],
   "source": [
    "# 백트레이더를 사용하기 위해서는 이에 맞춰서 데이터를 변경시켜주어야함\n",
    "samsung = samsung.drop(['거래대금','등락률'], axis=1)\n",
    "samsung = samsung.rename(columns={'시가':'open', '고가':'high', '저가':'low', '종가':'close', '거래량':'volume'})"
   ]
  },
  {
   "cell_type": "code",
   "execution_count": 8,
   "metadata": {},
   "outputs": [],
   "source": [
    "samsung.reset_index(inplace=True)"
   ]
  },
  {
   "cell_type": "code",
   "execution_count": 9,
   "metadata": {},
   "outputs": [
    {
     "data": {
      "text/html": [
       "<div>\n",
       "<style scoped>\n",
       "    .dataframe tbody tr th:only-of-type {\n",
       "        vertical-align: middle;\n",
       "    }\n",
       "\n",
       "    .dataframe tbody tr th {\n",
       "        vertical-align: top;\n",
       "    }\n",
       "\n",
       "    .dataframe thead th {\n",
       "        text-align: right;\n",
       "    }\n",
       "</style>\n",
       "<table border=\"1\" class=\"dataframe\">\n",
       "  <thead>\n",
       "    <tr style=\"text-align: right;\">\n",
       "      <th></th>\n",
       "      <th>날짜</th>\n",
       "      <th>open</th>\n",
       "      <th>high</th>\n",
       "      <th>low</th>\n",
       "      <th>close</th>\n",
       "      <th>volume</th>\n",
       "    </tr>\n",
       "  </thead>\n",
       "  <tbody>\n",
       "    <tr>\n",
       "      <th>0</th>\n",
       "      <td>2020-01-02</td>\n",
       "      <td>55500</td>\n",
       "      <td>56000</td>\n",
       "      <td>55000</td>\n",
       "      <td>55200</td>\n",
       "      <td>12993228</td>\n",
       "    </tr>\n",
       "    <tr>\n",
       "      <th>1</th>\n",
       "      <td>2020-01-03</td>\n",
       "      <td>56000</td>\n",
       "      <td>56600</td>\n",
       "      <td>54900</td>\n",
       "      <td>55500</td>\n",
       "      <td>15422255</td>\n",
       "    </tr>\n",
       "    <tr>\n",
       "      <th>2</th>\n",
       "      <td>2020-01-06</td>\n",
       "      <td>54900</td>\n",
       "      <td>55600</td>\n",
       "      <td>54600</td>\n",
       "      <td>55500</td>\n",
       "      <td>10278951</td>\n",
       "    </tr>\n",
       "    <tr>\n",
       "      <th>3</th>\n",
       "      <td>2020-01-07</td>\n",
       "      <td>55700</td>\n",
       "      <td>56400</td>\n",
       "      <td>55600</td>\n",
       "      <td>55800</td>\n",
       "      <td>10009778</td>\n",
       "    </tr>\n",
       "    <tr>\n",
       "      <th>4</th>\n",
       "      <td>2020-01-08</td>\n",
       "      <td>56200</td>\n",
       "      <td>57400</td>\n",
       "      <td>55900</td>\n",
       "      <td>56800</td>\n",
       "      <td>23501171</td>\n",
       "    </tr>\n",
       "    <tr>\n",
       "      <th>...</th>\n",
       "      <td>...</td>\n",
       "      <td>...</td>\n",
       "      <td>...</td>\n",
       "      <td>...</td>\n",
       "      <td>...</td>\n",
       "      <td>...</td>\n",
       "    </tr>\n",
       "    <tr>\n",
       "      <th>243</th>\n",
       "      <td>2020-12-23</td>\n",
       "      <td>72400</td>\n",
       "      <td>74000</td>\n",
       "      <td>72300</td>\n",
       "      <td>73900</td>\n",
       "      <td>19411326</td>\n",
       "    </tr>\n",
       "    <tr>\n",
       "      <th>244</th>\n",
       "      <td>2020-12-24</td>\n",
       "      <td>74100</td>\n",
       "      <td>78800</td>\n",
       "      <td>74000</td>\n",
       "      <td>77800</td>\n",
       "      <td>32502870</td>\n",
       "    </tr>\n",
       "    <tr>\n",
       "      <th>245</th>\n",
       "      <td>2020-12-28</td>\n",
       "      <td>79000</td>\n",
       "      <td>80100</td>\n",
       "      <td>78200</td>\n",
       "      <td>78700</td>\n",
       "      <td>40085044</td>\n",
       "    </tr>\n",
       "    <tr>\n",
       "      <th>246</th>\n",
       "      <td>2020-12-29</td>\n",
       "      <td>78800</td>\n",
       "      <td>78900</td>\n",
       "      <td>77300</td>\n",
       "      <td>78300</td>\n",
       "      <td>30339449</td>\n",
       "    </tr>\n",
       "    <tr>\n",
       "      <th>247</th>\n",
       "      <td>2020-12-30</td>\n",
       "      <td>77400</td>\n",
       "      <td>81300</td>\n",
       "      <td>77300</td>\n",
       "      <td>81000</td>\n",
       "      <td>29417421</td>\n",
       "    </tr>\n",
       "  </tbody>\n",
       "</table>\n",
       "<p>248 rows × 6 columns</p>\n",
       "</div>"
      ],
      "text/plain": [
       "            날짜   open   high    low  close    volume\n",
       "0   2020-01-02  55500  56000  55000  55200  12993228\n",
       "1   2020-01-03  56000  56600  54900  55500  15422255\n",
       "2   2020-01-06  54900  55600  54600  55500  10278951\n",
       "3   2020-01-07  55700  56400  55600  55800  10009778\n",
       "4   2020-01-08  56200  57400  55900  56800  23501171\n",
       "..         ...    ...    ...    ...    ...       ...\n",
       "243 2020-12-23  72400  74000  72300  73900  19411326\n",
       "244 2020-12-24  74100  78800  74000  77800  32502870\n",
       "245 2020-12-28  79000  80100  78200  78700  40085044\n",
       "246 2020-12-29  78800  78900  77300  78300  30339449\n",
       "247 2020-12-30  77400  81300  77300  81000  29417421\n",
       "\n",
       "[248 rows x 6 columns]"
      ]
     },
     "execution_count": 9,
     "metadata": {},
     "output_type": "execute_result"
    }
   ],
   "source": [
    "samsung"
   ]
  },
  {
   "cell_type": "code",
   "execution_count": 12,
   "metadata": {},
   "outputs": [
    {
     "data": {
      "text/plain": [
       "0       2\n",
       "1       3\n",
       "2       6\n",
       "3       7\n",
       "4       8\n",
       "       ..\n",
       "243    23\n",
       "244    24\n",
       "245    28\n",
       "246    29\n",
       "247    30\n",
       "Name: 날짜, Length: 248, dtype: int64"
      ]
     },
     "execution_count": 12,
     "metadata": {},
     "output_type": "execute_result"
    }
   ],
   "source": [
    "samsung.날짜.dt.day"
   ]
  },
  {
   "cell_type": "code",
   "execution_count": null,
   "metadata": {},
   "outputs": [],
   "source": []
  },
  {
   "cell_type": "code",
   "execution_count": null,
   "metadata": {},
   "outputs": [],
   "source": []
  },
  {
   "cell_type": "code",
   "execution_count": null,
   "metadata": {},
   "outputs": [],
   "source": []
  },
  {
   "cell_type": "code",
   "execution_count": 9,
   "metadata": {},
   "outputs": [],
   "source": [
    "samsung[\"open\"]=samsung[\"open\"].apply(pd.to_numeric,errors=\"coerce\")\n",
    "samsung[\"high\"]=samsung[\"high\"].apply(pd.to_numeric,errors=\"coerce\")\n",
    "samsung[\"low\"]=samsung[\"low\"].apply(pd.to_numeric,errors=\"coerce\")\n",
    "samsung[\"close\"]=samsung[\"close\"].apply(pd.to_numeric,errors=\"coerce\")\n",
    "samsung[\"volume\"]=samsung[\"volume\"].apply(pd.to_numeric,errors=\"coerce\")"
   ]
  },
  {
   "cell_type": "code",
   "execution_count": 10,
   "metadata": {},
   "outputs": [],
   "source": [
    "samsung = bt.feeds.PandasData(dataname=samsung)"
   ]
  },
  {
   "cell_type": "code",
   "execution_count": 11,
   "metadata": {},
   "outputs": [],
   "source": [
    "cerebro = bt.Cerebro(stdstats = False)\n",
    "\n",
    "cerebro.adddata(samsung)\n",
    "cerebro.broker.setcash(100000)\n",
    "cerebro.add_signal(bt.SIGNAL_LONG, SmaSignal)\n",
    "cerebro.addobserver(bt.observers.BuySell)\n",
    "cerebro.addobserver(bt.observers.Value)"
   ]
  },
  {
   "cell_type": "code",
   "execution_count": 12,
   "metadata": {},
   "outputs": [
    {
     "name": "stdout",
     "output_type": "stream",
     "text": [
      "Starting Portfolio Value: 100000.00\n",
      "Final Portfolio Value: 118750.00\n"
     ]
    }
   ],
   "source": [
    "print(f'Starting Portfolio Value: {cerebro.broker.getvalue():.2f}')\n",
    "cerebro.run()\n",
    "print(f'Final Portfolio Value: {cerebro.broker.getvalue():.2f}')"
   ]
  },
  {
   "cell_type": "code",
   "execution_count": 13,
   "metadata": {},
   "outputs": [
    {
     "ename": "ImportError",
     "evalue": "cannot import name 'warnings' from 'matplotlib.dates' (c:\\Users\\OPERATOR-70\\anaconda3\\lib\\site-packages\\matplotlib\\dates.py)",
     "output_type": "error",
     "traceback": [
      "\u001b[1;31m---------------------------------------------------------------------------\u001b[0m",
      "\u001b[1;31mImportError\u001b[0m                               Traceback (most recent call last)",
      "Cell \u001b[1;32mIn [13], line 1\u001b[0m\n\u001b[1;32m----> 1\u001b[0m cerebro\u001b[39m.\u001b[39;49mplot(iplot\u001b[39m=\u001b[39;49m\u001b[39mTrue\u001b[39;49;00m, volume\u001b[39m=\u001b[39;49m\u001b[39mFalse\u001b[39;49;00m)\n",
      "File \u001b[1;32mc:\\Users\\OPERATOR-70\\anaconda3\\lib\\site-packages\\backtrader\\cerebro.py:974\u001b[0m, in \u001b[0;36mCerebro.plot\u001b[1;34m(self, plotter, numfigs, iplot, start, end, width, height, dpi, tight, use, **kwargs)\u001b[0m\n\u001b[0;32m    971\u001b[0m     \u001b[39mreturn\u001b[39;00m\n\u001b[0;32m    973\u001b[0m \u001b[39mif\u001b[39;00m \u001b[39mnot\u001b[39;00m plotter:\n\u001b[1;32m--> 974\u001b[0m     \u001b[39mfrom\u001b[39;00m \u001b[39m.\u001b[39;00m \u001b[39mimport\u001b[39;00m plot\n\u001b[0;32m    975\u001b[0m     \u001b[39mif\u001b[39;00m \u001b[39mself\u001b[39m\u001b[39m.\u001b[39mp\u001b[39m.\u001b[39moldsync:\n\u001b[0;32m    976\u001b[0m         plotter \u001b[39m=\u001b[39m plot\u001b[39m.\u001b[39mPlot_OldSync(\u001b[39m*\u001b[39m\u001b[39m*\u001b[39mkwargs)\n",
      "File \u001b[1;32mc:\\Users\\OPERATOR-70\\anaconda3\\lib\\site-packages\\backtrader\\plot\\__init__.py:42\u001b[0m\n\u001b[0;32m     36\u001b[0m     \u001b[39mexcept\u001b[39;00m:\n\u001b[0;32m     37\u001b[0m         \u001b[39m# if another backend has already been loaded, an exception will be\u001b[39;00m\n\u001b[0;32m     38\u001b[0m         \u001b[39m# generated and this can be skipped\u001b[39;00m\n\u001b[0;32m     39\u001b[0m         \u001b[39mpass\u001b[39;00m\n\u001b[1;32m---> 42\u001b[0m \u001b[39mfrom\u001b[39;00m \u001b[39m.\u001b[39;00m\u001b[39mplot\u001b[39;00m \u001b[39mimport\u001b[39;00m Plot, Plot_OldSync\n\u001b[0;32m     43\u001b[0m \u001b[39mfrom\u001b[39;00m \u001b[39m.\u001b[39;00m\u001b[39mscheme\u001b[39;00m \u001b[39mimport\u001b[39;00m PlotScheme\n",
      "File \u001b[1;32mc:\\Users\\OPERATOR-70\\anaconda3\\lib\\site-packages\\backtrader\\plot\\plot.py:44\u001b[0m\n\u001b[0;32m     42\u001b[0m \u001b[39mfrom\u001b[39;00m \u001b[39m.\u001b[39;00m\u001b[39mfinance\u001b[39;00m \u001b[39mimport\u001b[39;00m plot_candlestick, plot_ohlc, plot_volume, plot_lineonclose\n\u001b[0;32m     43\u001b[0m \u001b[39mfrom\u001b[39;00m \u001b[39m.\u001b[39;00m\u001b[39mformatters\u001b[39;00m \u001b[39mimport\u001b[39;00m (MyVolFormatter, MyDateFormatter, getlocator)\n\u001b[1;32m---> 44\u001b[0m \u001b[39mfrom\u001b[39;00m \u001b[39m.\u001b[39;00m \u001b[39mimport\u001b[39;00m locator \u001b[39mas\u001b[39;00m loc\n\u001b[0;32m     45\u001b[0m \u001b[39mfrom\u001b[39;00m \u001b[39m.\u001b[39;00m\u001b[39mmulticursor\u001b[39;00m \u001b[39mimport\u001b[39;00m MultiCursor\n\u001b[0;32m     46\u001b[0m \u001b[39mfrom\u001b[39;00m \u001b[39m.\u001b[39;00m\u001b[39mscheme\u001b[39;00m \u001b[39mimport\u001b[39;00m PlotScheme\n",
      "File \u001b[1;32mc:\\Users\\OPERATOR-70\\anaconda3\\lib\\site-packages\\backtrader\\plot\\locator.py:35\u001b[0m\n\u001b[0;32m     32\u001b[0m \u001b[39mfrom\u001b[39;00m \u001b[39mmatplotlib\u001b[39;00m\u001b[39m.\u001b[39;00m\u001b[39mdates\u001b[39;00m \u001b[39mimport\u001b[39;00m RRuleLocator \u001b[39mas\u001b[39;00m RRLocator\n\u001b[0;32m     33\u001b[0m \u001b[39mfrom\u001b[39;00m \u001b[39mmatplotlib\u001b[39;00m\u001b[39m.\u001b[39;00m\u001b[39mdates\u001b[39;00m \u001b[39mimport\u001b[39;00m AutoDateFormatter \u001b[39mas\u001b[39;00m ADFormatter\n\u001b[1;32m---> 35\u001b[0m \u001b[39mfrom\u001b[39;00m \u001b[39mmatplotlib\u001b[39;00m\u001b[39m.\u001b[39;00m\u001b[39mdates\u001b[39;00m \u001b[39mimport\u001b[39;00m (HOURS_PER_DAY, MIN_PER_HOUR, SEC_PER_MIN,\n\u001b[0;32m     36\u001b[0m                               MONTHS_PER_YEAR, DAYS_PER_WEEK,\n\u001b[0;32m     37\u001b[0m                               SEC_PER_HOUR, SEC_PER_DAY,\n\u001b[0;32m     38\u001b[0m                               num2date, rrulewrapper, YearLocator,\n\u001b[0;32m     39\u001b[0m                               MicrosecondLocator, warnings)\n\u001b[0;32m     41\u001b[0m \u001b[39mfrom\u001b[39;00m \u001b[39mdateutil\u001b[39;00m\u001b[39m.\u001b[39;00m\u001b[39mrelativedelta\u001b[39;00m \u001b[39mimport\u001b[39;00m relativedelta\n\u001b[0;32m     42\u001b[0m \u001b[39mimport\u001b[39;00m \u001b[39mnumpy\u001b[39;00m \u001b[39mas\u001b[39;00m \u001b[39mnp\u001b[39;00m\n",
      "\u001b[1;31mImportError\u001b[0m: cannot import name 'warnings' from 'matplotlib.dates' (c:\\Users\\OPERATOR-70\\anaconda3\\lib\\site-packages\\matplotlib\\dates.py)"
     ]
    }
   ],
   "source": [
    "cerebro.plot(iplot=True, volume=False)"
   ]
  },
  {
   "cell_type": "code",
   "execution_count": 14,
   "metadata": {},
   "outputs": [
    {
     "name": "stderr",
     "output_type": "stream",
     "text": [
      "ERROR: Could not find a version that satisfies the requirement matplo (from versions: none)\n",
      "ERROR: No matching distribution found for matplo\n"
     ]
    }
   ],
   "source": [
    "!pip install matplo"
   ]
  },
  {
   "cell_type": "code",
   "execution_count": null,
   "metadata": {},
   "outputs": [],
   "source": []
  }
 ],
 "metadata": {
  "kernelspec": {
   "display_name": "base",
   "language": "python",
   "name": "python3"
  },
  "language_info": {
   "codemirror_mode": {
    "name": "ipython",
    "version": 3
   },
   "file_extension": ".py",
   "mimetype": "text/x-python",
   "name": "python",
   "nbconvert_exporter": "python",
   "pygments_lexer": "ipython3",
   "version": "3.9.13"
  },
  "orig_nbformat": 4,
  "vscode": {
   "interpreter": {
    "hash": "07e790d47e7df270e92edb1d33331ed5175777e346d76f989411ef47a8fb7403"
   }
  }
 },
 "nbformat": 4,
 "nbformat_minor": 2
}

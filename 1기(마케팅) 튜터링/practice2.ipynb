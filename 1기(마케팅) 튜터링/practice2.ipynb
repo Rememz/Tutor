{
 "cells": [
  {
   "cell_type": "code",
   "execution_count": null,
   "metadata": {},
   "outputs": [],
   "source": []
  }
 ],
 "metadata": {
  "kernelspec": {
   "display_name": "Python 3",
   "language": "python",
   "name": "python3"
  },
  "language_info": {
   "name": "python",
   "version": "3.8.0"
  },
  "orig_nbformat": 4,
  "vscode": {
   "interpreter": {
    "hash": "772c77c4b5d2c72a7cee28d95f58a86263da8375a7120d7b303d36c18237d320"
   }
  }
 },
 "nbformat": 4,
 "nbformat_minor": 2
}

{
 "cells": [
  {
   "cell_type": "markdown",
   "id": "c07d1ca3",
   "metadata": {},
   "source": [
    "### 타이타닉 생존자 ML 예측 구현\n",
    "* #suvived lable\n"
   ]
  },
  {
   "cell_type": "code",
   "execution_count": 1,
   "id": "a2d1178e",
   "metadata": {
    "ExecuteTime": {
     "end_time": "2022-07-03T08:14:43.068914Z",
     "start_time": "2022-07-03T08:14:43.063927Z"
    }
   },
   "outputs": [],
   "source": [
    "import pandas as pd\n",
    "import numpy as np"
   ]
  },
  {
   "attachments": {},
   "cell_type": "markdown",
   "id": "fc00c4db",
   "metadata": {},
   "source": [
    "1.\tTitanic train 데이터 불러오기\n",
    "2.\t데이터 내용 확인\n",
    "3.\tEDA를 통해 데이터 전처리하기\n",
    "4.\t디시전트리를 이용해서 정확도 확인하기\n",
    "5.  학습된 모델을 가지고 test 데이터 예측해보기\n",
    "6.\t피처 임포턴스 확인해보기\n"
   ]
  },
  {
   "cell_type": "code",
   "execution_count": 2,
   "id": "e6651096",
   "metadata": {
    "ExecuteTime": {
     "end_time": "2022-07-03T08:14:43.316284Z",
     "start_time": "2022-07-03T08:14:43.305315Z"
    }
   },
   "outputs": [],
   "source": [
    "Titanic = pd.read_csv(\"./data/titanic_train.csv\")"
   ]
  },
  {
   "cell_type": "code",
   "execution_count": 3,
   "id": "bd115e58",
   "metadata": {
    "ExecuteTime": {
     "end_time": "2022-07-03T08:14:43.505745Z",
     "start_time": "2022-07-03T08:14:43.478851Z"
    }
   },
   "outputs": [
    {
     "data": {
      "text/html": [
       "<div>\n",
       "<style scoped>\n",
       "    .dataframe tbody tr th:only-of-type {\n",
       "        vertical-align: middle;\n",
       "    }\n",
       "\n",
       "    .dataframe tbody tr th {\n",
       "        vertical-align: top;\n",
       "    }\n",
       "\n",
       "    .dataframe thead th {\n",
       "        text-align: right;\n",
       "    }\n",
       "</style>\n",
       "<table border=\"1\" class=\"dataframe\">\n",
       "  <thead>\n",
       "    <tr style=\"text-align: right;\">\n",
       "      <th></th>\n",
       "      <th>PassengerId</th>\n",
       "      <th>Survived</th>\n",
       "      <th>Pclass</th>\n",
       "      <th>Name</th>\n",
       "      <th>Sex</th>\n",
       "      <th>Age</th>\n",
       "      <th>SibSp</th>\n",
       "      <th>Parch</th>\n",
       "      <th>Ticket</th>\n",
       "      <th>Fare</th>\n",
       "      <th>Cabin</th>\n",
       "      <th>Embarked</th>\n",
       "    </tr>\n",
       "  </thead>\n",
       "  <tbody>\n",
       "    <tr>\n",
       "      <th>0</th>\n",
       "      <td>1</td>\n",
       "      <td>0</td>\n",
       "      <td>3</td>\n",
       "      <td>Braund, Mr. Owen Harris</td>\n",
       "      <td>male</td>\n",
       "      <td>22.0</td>\n",
       "      <td>1</td>\n",
       "      <td>0</td>\n",
       "      <td>A/5 21171</td>\n",
       "      <td>7.2500</td>\n",
       "      <td>NaN</td>\n",
       "      <td>S</td>\n",
       "    </tr>\n",
       "    <tr>\n",
       "      <th>1</th>\n",
       "      <td>2</td>\n",
       "      <td>1</td>\n",
       "      <td>1</td>\n",
       "      <td>Cumings, Mrs. John Bradley (Florence Briggs Th...</td>\n",
       "      <td>female</td>\n",
       "      <td>38.0</td>\n",
       "      <td>1</td>\n",
       "      <td>0</td>\n",
       "      <td>PC 17599</td>\n",
       "      <td>71.2833</td>\n",
       "      <td>C85</td>\n",
       "      <td>C</td>\n",
       "    </tr>\n",
       "    <tr>\n",
       "      <th>2</th>\n",
       "      <td>3</td>\n",
       "      <td>1</td>\n",
       "      <td>3</td>\n",
       "      <td>Heikkinen, Miss. Laina</td>\n",
       "      <td>female</td>\n",
       "      <td>26.0</td>\n",
       "      <td>0</td>\n",
       "      <td>0</td>\n",
       "      <td>STON/O2. 3101282</td>\n",
       "      <td>7.9250</td>\n",
       "      <td>NaN</td>\n",
       "      <td>S</td>\n",
       "    </tr>\n",
       "    <tr>\n",
       "      <th>3</th>\n",
       "      <td>4</td>\n",
       "      <td>1</td>\n",
       "      <td>1</td>\n",
       "      <td>Futrelle, Mrs. Jacques Heath (Lily May Peel)</td>\n",
       "      <td>female</td>\n",
       "      <td>35.0</td>\n",
       "      <td>1</td>\n",
       "      <td>0</td>\n",
       "      <td>113803</td>\n",
       "      <td>53.1000</td>\n",
       "      <td>C123</td>\n",
       "      <td>S</td>\n",
       "    </tr>\n",
       "    <tr>\n",
       "      <th>4</th>\n",
       "      <td>5</td>\n",
       "      <td>0</td>\n",
       "      <td>3</td>\n",
       "      <td>Allen, Mr. William Henry</td>\n",
       "      <td>male</td>\n",
       "      <td>35.0</td>\n",
       "      <td>0</td>\n",
       "      <td>0</td>\n",
       "      <td>373450</td>\n",
       "      <td>8.0500</td>\n",
       "      <td>NaN</td>\n",
       "      <td>S</td>\n",
       "    </tr>\n",
       "    <tr>\n",
       "      <th>...</th>\n",
       "      <td>...</td>\n",
       "      <td>...</td>\n",
       "      <td>...</td>\n",
       "      <td>...</td>\n",
       "      <td>...</td>\n",
       "      <td>...</td>\n",
       "      <td>...</td>\n",
       "      <td>...</td>\n",
       "      <td>...</td>\n",
       "      <td>...</td>\n",
       "      <td>...</td>\n",
       "      <td>...</td>\n",
       "    </tr>\n",
       "    <tr>\n",
       "      <th>886</th>\n",
       "      <td>887</td>\n",
       "      <td>0</td>\n",
       "      <td>2</td>\n",
       "      <td>Montvila, Rev. Juozas</td>\n",
       "      <td>male</td>\n",
       "      <td>27.0</td>\n",
       "      <td>0</td>\n",
       "      <td>0</td>\n",
       "      <td>211536</td>\n",
       "      <td>13.0000</td>\n",
       "      <td>NaN</td>\n",
       "      <td>S</td>\n",
       "    </tr>\n",
       "    <tr>\n",
       "      <th>887</th>\n",
       "      <td>888</td>\n",
       "      <td>1</td>\n",
       "      <td>1</td>\n",
       "      <td>Graham, Miss. Margaret Edith</td>\n",
       "      <td>female</td>\n",
       "      <td>19.0</td>\n",
       "      <td>0</td>\n",
       "      <td>0</td>\n",
       "      <td>112053</td>\n",
       "      <td>30.0000</td>\n",
       "      <td>B42</td>\n",
       "      <td>S</td>\n",
       "    </tr>\n",
       "    <tr>\n",
       "      <th>888</th>\n",
       "      <td>889</td>\n",
       "      <td>0</td>\n",
       "      <td>3</td>\n",
       "      <td>Johnston, Miss. Catherine Helen \"Carrie\"</td>\n",
       "      <td>female</td>\n",
       "      <td>NaN</td>\n",
       "      <td>1</td>\n",
       "      <td>2</td>\n",
       "      <td>W./C. 6607</td>\n",
       "      <td>23.4500</td>\n",
       "      <td>NaN</td>\n",
       "      <td>S</td>\n",
       "    </tr>\n",
       "    <tr>\n",
       "      <th>889</th>\n",
       "      <td>890</td>\n",
       "      <td>1</td>\n",
       "      <td>1</td>\n",
       "      <td>Behr, Mr. Karl Howell</td>\n",
       "      <td>male</td>\n",
       "      <td>26.0</td>\n",
       "      <td>0</td>\n",
       "      <td>0</td>\n",
       "      <td>111369</td>\n",
       "      <td>30.0000</td>\n",
       "      <td>C148</td>\n",
       "      <td>C</td>\n",
       "    </tr>\n",
       "    <tr>\n",
       "      <th>890</th>\n",
       "      <td>891</td>\n",
       "      <td>0</td>\n",
       "      <td>3</td>\n",
       "      <td>Dooley, Mr. Patrick</td>\n",
       "      <td>male</td>\n",
       "      <td>32.0</td>\n",
       "      <td>0</td>\n",
       "      <td>0</td>\n",
       "      <td>370376</td>\n",
       "      <td>7.7500</td>\n",
       "      <td>NaN</td>\n",
       "      <td>Q</td>\n",
       "    </tr>\n",
       "  </tbody>\n",
       "</table>\n",
       "<p>891 rows × 12 columns</p>\n",
       "</div>"
      ],
      "text/plain": [
       "     PassengerId  Survived  Pclass  \\\n",
       "0              1         0       3   \n",
       "1              2         1       1   \n",
       "2              3         1       3   \n",
       "3              4         1       1   \n",
       "4              5         0       3   \n",
       "..           ...       ...     ...   \n",
       "886          887         0       2   \n",
       "887          888         1       1   \n",
       "888          889         0       3   \n",
       "889          890         1       1   \n",
       "890          891         0       3   \n",
       "\n",
       "                                                  Name     Sex   Age  SibSp  \\\n",
       "0                              Braund, Mr. Owen Harris    male  22.0      1   \n",
       "1    Cumings, Mrs. John Bradley (Florence Briggs Th...  female  38.0      1   \n",
       "2                               Heikkinen, Miss. Laina  female  26.0      0   \n",
       "3         Futrelle, Mrs. Jacques Heath (Lily May Peel)  female  35.0      1   \n",
       "4                             Allen, Mr. William Henry    male  35.0      0   \n",
       "..                                                 ...     ...   ...    ...   \n",
       "886                              Montvila, Rev. Juozas    male  27.0      0   \n",
       "887                       Graham, Miss. Margaret Edith  female  19.0      0   \n",
       "888           Johnston, Miss. Catherine Helen \"Carrie\"  female   NaN      1   \n",
       "889                              Behr, Mr. Karl Howell    male  26.0      0   \n",
       "890                                Dooley, Mr. Patrick    male  32.0      0   \n",
       "\n",
       "     Parch            Ticket     Fare Cabin Embarked  \n",
       "0        0         A/5 21171   7.2500   NaN        S  \n",
       "1        0          PC 17599  71.2833   C85        C  \n",
       "2        0  STON/O2. 3101282   7.9250   NaN        S  \n",
       "3        0            113803  53.1000  C123        S  \n",
       "4        0            373450   8.0500   NaN        S  \n",
       "..     ...               ...      ...   ...      ...  \n",
       "886      0            211536  13.0000   NaN        S  \n",
       "887      0            112053  30.0000   B42        S  \n",
       "888      2        W./C. 6607  23.4500   NaN        S  \n",
       "889      0            111369  30.0000  C148        C  \n",
       "890      0            370376   7.7500   NaN        Q  \n",
       "\n",
       "[891 rows x 12 columns]"
      ]
     },
     "execution_count": 3,
     "metadata": {},
     "output_type": "execute_result"
    }
   ],
   "source": [
    "Titanic"
   ]
  },
  {
   "cell_type": "code",
   "execution_count": 4,
   "id": "8673746f",
   "metadata": {
    "ExecuteTime": {
     "end_time": "2022-07-03T08:14:43.673346Z",
     "start_time": "2022-07-03T08:14:43.664371Z"
    }
   },
   "outputs": [],
   "source": [
    "Titanic.drop([\"Name\", \"SibSp\", \"Parch\",\"Ticket\",\"Fare\"], axis = 1, inplace= True)\n",
    "Titanic.drop(\"PassengerId\", axis = 1, inplace= True)\n",
    "Titanic.drop(\"Cabin\", axis = 1, inplace= True)"
   ]
  },
  {
   "cell_type": "code",
   "execution_count": 5,
   "id": "ebb87650",
   "metadata": {
    "ExecuteTime": {
     "end_time": "2022-07-03T08:14:43.882458Z",
     "start_time": "2022-07-03T08:14:43.877470Z"
    }
   },
   "outputs": [],
   "source": [
    "Titanic_df = Titanic"
   ]
  },
  {
   "cell_type": "code",
   "execution_count": 6,
   "id": "3e1d69c4",
   "metadata": {
    "ExecuteTime": {
     "end_time": "2022-07-03T08:14:44.370434Z",
     "start_time": "2022-07-03T08:14:44.358464Z"
    }
   },
   "outputs": [
    {
     "data": {
      "text/plain": [
       "Survived      0\n",
       "Pclass        0\n",
       "Sex           0\n",
       "Age         177\n",
       "Embarked      2\n",
       "dtype: int64"
      ]
     },
     "execution_count": 6,
     "metadata": {},
     "output_type": "execute_result"
    }
   ],
   "source": [
    "Titanic_df.isna().sum()"
   ]
  },
  {
   "cell_type": "code",
   "execution_count": 7,
   "id": "f40dd76a",
   "metadata": {
    "ExecuteTime": {
     "end_time": "2022-07-03T08:14:44.858127Z",
     "start_time": "2022-07-03T08:14:44.852144Z"
    }
   },
   "outputs": [],
   "source": [
    "Titanic_df[\"Age\"]= Titanic_df[\"Age\"].fillna(Titanic_df[\"Age\"].mean())"
   ]
  },
  {
   "cell_type": "code",
   "execution_count": 8,
   "id": "56a451e0",
   "metadata": {
    "ExecuteTime": {
     "end_time": "2022-07-03T08:14:45.160565Z",
     "start_time": "2022-07-03T08:14:45.153577Z"
    }
   },
   "outputs": [],
   "source": [
    "Titanic_df[\"Embarked\"]=Titanic_df[\"Embarked\"].fillna('S')"
   ]
  },
  {
   "cell_type": "code",
   "execution_count": 9,
   "id": "1959e9f8",
   "metadata": {
    "ExecuteTime": {
     "end_time": "2022-07-03T08:14:45.375845Z",
     "start_time": "2022-07-03T08:14:45.366007Z"
    }
   },
   "outputs": [
    {
     "data": {
      "text/plain": [
       "Survived    0\n",
       "Pclass      0\n",
       "Sex         0\n",
       "Age         0\n",
       "Embarked    0\n",
       "dtype: int64"
      ]
     },
     "execution_count": 9,
     "metadata": {},
     "output_type": "execute_result"
    }
   ],
   "source": [
    "Titanic_df.isna().sum()"
   ]
  },
  {
   "cell_type": "code",
   "execution_count": 10,
   "id": "ec24b17e",
   "metadata": {
    "ExecuteTime": {
     "end_time": "2022-07-03T08:14:45.591403Z",
     "start_time": "2022-07-03T08:14:45.577438Z"
    }
   },
   "outputs": [
    {
     "name": "stdout",
     "output_type": "stream",
     "text": [
      "<class 'pandas.core.frame.DataFrame'>\n",
      "RangeIndex: 891 entries, 0 to 890\n",
      "Data columns (total 5 columns):\n",
      " #   Column    Non-Null Count  Dtype  \n",
      "---  ------    --------------  -----  \n",
      " 0   Survived  891 non-null    int64  \n",
      " 1   Pclass    891 non-null    int64  \n",
      " 2   Sex       891 non-null    object \n",
      " 3   Age       891 non-null    float64\n",
      " 4   Embarked  891 non-null    object \n",
      "dtypes: float64(1), int64(2), object(2)\n",
      "memory usage: 34.9+ KB\n"
     ]
    }
   ],
   "source": [
    "Titanic_df.info()"
   ]
  },
  {
   "cell_type": "code",
   "execution_count": 11,
   "id": "260077ba",
   "metadata": {
    "ExecuteTime": {
     "end_time": "2022-07-03T08:14:45.803626Z",
     "start_time": "2022-07-03T08:14:45.797642Z"
    }
   },
   "outputs": [],
   "source": [
    "# Sex. Eebarked Encoding\n",
    "from sklearn.preprocessing import LabelEncoder\n",
    "\n",
    "encoder = LabelEncoder()\n"
   ]
  },
  {
   "cell_type": "code",
   "execution_count": 12,
   "id": "a262c2d9",
   "metadata": {
    "ExecuteTime": {
     "end_time": "2022-07-03T08:14:46.029022Z",
     "start_time": "2022-07-03T08:14:46.022042Z"
    }
   },
   "outputs": [],
   "source": [
    "Titanic_df[\"Embarked\"]=encoder.fit_transform(Titanic[\"Embarked\"])\n",
    "Titanic_df[\"Sex\"]=encoder.fit_transform(Titanic[\"Sex\"])\n"
   ]
  },
  {
   "cell_type": "code",
   "execution_count": 13,
   "id": "10ded022",
   "metadata": {
    "ExecuteTime": {
     "end_time": "2022-07-03T08:14:46.269381Z",
     "start_time": "2022-07-03T08:14:46.253425Z"
    }
   },
   "outputs": [
    {
     "data": {
      "text/html": [
       "<div>\n",
       "<style scoped>\n",
       "    .dataframe tbody tr th:only-of-type {\n",
       "        vertical-align: middle;\n",
       "    }\n",
       "\n",
       "    .dataframe tbody tr th {\n",
       "        vertical-align: top;\n",
       "    }\n",
       "\n",
       "    .dataframe thead th {\n",
       "        text-align: right;\n",
       "    }\n",
       "</style>\n",
       "<table border=\"1\" class=\"dataframe\">\n",
       "  <thead>\n",
       "    <tr style=\"text-align: right;\">\n",
       "      <th></th>\n",
       "      <th>Survived</th>\n",
       "      <th>Pclass</th>\n",
       "      <th>Sex</th>\n",
       "      <th>Age</th>\n",
       "      <th>Embarked</th>\n",
       "    </tr>\n",
       "  </thead>\n",
       "  <tbody>\n",
       "    <tr>\n",
       "      <th>0</th>\n",
       "      <td>0</td>\n",
       "      <td>3</td>\n",
       "      <td>1</td>\n",
       "      <td>22.000000</td>\n",
       "      <td>2</td>\n",
       "    </tr>\n",
       "    <tr>\n",
       "      <th>1</th>\n",
       "      <td>1</td>\n",
       "      <td>1</td>\n",
       "      <td>0</td>\n",
       "      <td>38.000000</td>\n",
       "      <td>0</td>\n",
       "    </tr>\n",
       "    <tr>\n",
       "      <th>2</th>\n",
       "      <td>1</td>\n",
       "      <td>3</td>\n",
       "      <td>0</td>\n",
       "      <td>26.000000</td>\n",
       "      <td>2</td>\n",
       "    </tr>\n",
       "    <tr>\n",
       "      <th>3</th>\n",
       "      <td>1</td>\n",
       "      <td>1</td>\n",
       "      <td>0</td>\n",
       "      <td>35.000000</td>\n",
       "      <td>2</td>\n",
       "    </tr>\n",
       "    <tr>\n",
       "      <th>4</th>\n",
       "      <td>0</td>\n",
       "      <td>3</td>\n",
       "      <td>1</td>\n",
       "      <td>35.000000</td>\n",
       "      <td>2</td>\n",
       "    </tr>\n",
       "    <tr>\n",
       "      <th>...</th>\n",
       "      <td>...</td>\n",
       "      <td>...</td>\n",
       "      <td>...</td>\n",
       "      <td>...</td>\n",
       "      <td>...</td>\n",
       "    </tr>\n",
       "    <tr>\n",
       "      <th>886</th>\n",
       "      <td>0</td>\n",
       "      <td>2</td>\n",
       "      <td>1</td>\n",
       "      <td>27.000000</td>\n",
       "      <td>2</td>\n",
       "    </tr>\n",
       "    <tr>\n",
       "      <th>887</th>\n",
       "      <td>1</td>\n",
       "      <td>1</td>\n",
       "      <td>0</td>\n",
       "      <td>19.000000</td>\n",
       "      <td>2</td>\n",
       "    </tr>\n",
       "    <tr>\n",
       "      <th>888</th>\n",
       "      <td>0</td>\n",
       "      <td>3</td>\n",
       "      <td>0</td>\n",
       "      <td>29.699118</td>\n",
       "      <td>2</td>\n",
       "    </tr>\n",
       "    <tr>\n",
       "      <th>889</th>\n",
       "      <td>1</td>\n",
       "      <td>1</td>\n",
       "      <td>1</td>\n",
       "      <td>26.000000</td>\n",
       "      <td>0</td>\n",
       "    </tr>\n",
       "    <tr>\n",
       "      <th>890</th>\n",
       "      <td>0</td>\n",
       "      <td>3</td>\n",
       "      <td>1</td>\n",
       "      <td>32.000000</td>\n",
       "      <td>1</td>\n",
       "    </tr>\n",
       "  </tbody>\n",
       "</table>\n",
       "<p>891 rows × 5 columns</p>\n",
       "</div>"
      ],
      "text/plain": [
       "     Survived  Pclass  Sex        Age  Embarked\n",
       "0           0       3    1  22.000000         2\n",
       "1           1       1    0  38.000000         0\n",
       "2           1       3    0  26.000000         2\n",
       "3           1       1    0  35.000000         2\n",
       "4           0       3    1  35.000000         2\n",
       "..        ...     ...  ...        ...       ...\n",
       "886         0       2    1  27.000000         2\n",
       "887         1       1    0  19.000000         2\n",
       "888         0       3    0  29.699118         2\n",
       "889         1       1    1  26.000000         0\n",
       "890         0       3    1  32.000000         1\n",
       "\n",
       "[891 rows x 5 columns]"
      ]
     },
     "execution_count": 13,
     "metadata": {},
     "output_type": "execute_result"
    }
   ],
   "source": [
    "Titanic_df"
   ]
  },
  {
   "cell_type": "code",
   "execution_count": 14,
   "id": "111ede41",
   "metadata": {
    "ExecuteTime": {
     "end_time": "2022-07-03T08:14:46.493818Z",
     "start_time": "2022-07-03T08:14:46.487833Z"
    }
   },
   "outputs": [],
   "source": [
    "Titanic_df[\"lable\"] = Titanic_df[\"Survived\"]"
   ]
  },
  {
   "cell_type": "code",
   "execution_count": 15,
   "id": "a2bf666e",
   "metadata": {
    "ExecuteTime": {
     "end_time": "2022-07-03T08:14:46.753158Z",
     "start_time": "2022-07-03T08:14:46.748173Z"
    },
    "scrolled": true
   },
   "outputs": [],
   "source": [
    "Titanic_df.drop(\"Survived\", axis = 1, inplace= True)"
   ]
  },
  {
   "cell_type": "code",
   "execution_count": 16,
   "id": "572cb8ae",
   "metadata": {},
   "outputs": [
    {
     "data": {
      "text/html": [
       "<div>\n",
       "<style scoped>\n",
       "    .dataframe tbody tr th:only-of-type {\n",
       "        vertical-align: middle;\n",
       "    }\n",
       "\n",
       "    .dataframe tbody tr th {\n",
       "        vertical-align: top;\n",
       "    }\n",
       "\n",
       "    .dataframe thead th {\n",
       "        text-align: right;\n",
       "    }\n",
       "</style>\n",
       "<table border=\"1\" class=\"dataframe\">\n",
       "  <thead>\n",
       "    <tr style=\"text-align: right;\">\n",
       "      <th></th>\n",
       "      <th>Pclass</th>\n",
       "      <th>Sex</th>\n",
       "      <th>Age</th>\n",
       "      <th>Embarked</th>\n",
       "      <th>lable</th>\n",
       "    </tr>\n",
       "  </thead>\n",
       "  <tbody>\n",
       "    <tr>\n",
       "      <th>0</th>\n",
       "      <td>3</td>\n",
       "      <td>1</td>\n",
       "      <td>22.000000</td>\n",
       "      <td>2</td>\n",
       "      <td>0</td>\n",
       "    </tr>\n",
       "    <tr>\n",
       "      <th>1</th>\n",
       "      <td>1</td>\n",
       "      <td>0</td>\n",
       "      <td>38.000000</td>\n",
       "      <td>0</td>\n",
       "      <td>1</td>\n",
       "    </tr>\n",
       "    <tr>\n",
       "      <th>2</th>\n",
       "      <td>3</td>\n",
       "      <td>0</td>\n",
       "      <td>26.000000</td>\n",
       "      <td>2</td>\n",
       "      <td>1</td>\n",
       "    </tr>\n",
       "    <tr>\n",
       "      <th>3</th>\n",
       "      <td>1</td>\n",
       "      <td>0</td>\n",
       "      <td>35.000000</td>\n",
       "      <td>2</td>\n",
       "      <td>1</td>\n",
       "    </tr>\n",
       "    <tr>\n",
       "      <th>4</th>\n",
       "      <td>3</td>\n",
       "      <td>1</td>\n",
       "      <td>35.000000</td>\n",
       "      <td>2</td>\n",
       "      <td>0</td>\n",
       "    </tr>\n",
       "    <tr>\n",
       "      <th>...</th>\n",
       "      <td>...</td>\n",
       "      <td>...</td>\n",
       "      <td>...</td>\n",
       "      <td>...</td>\n",
       "      <td>...</td>\n",
       "    </tr>\n",
       "    <tr>\n",
       "      <th>886</th>\n",
       "      <td>2</td>\n",
       "      <td>1</td>\n",
       "      <td>27.000000</td>\n",
       "      <td>2</td>\n",
       "      <td>0</td>\n",
       "    </tr>\n",
       "    <tr>\n",
       "      <th>887</th>\n",
       "      <td>1</td>\n",
       "      <td>0</td>\n",
       "      <td>19.000000</td>\n",
       "      <td>2</td>\n",
       "      <td>1</td>\n",
       "    </tr>\n",
       "    <tr>\n",
       "      <th>888</th>\n",
       "      <td>3</td>\n",
       "      <td>0</td>\n",
       "      <td>29.699118</td>\n",
       "      <td>2</td>\n",
       "      <td>0</td>\n",
       "    </tr>\n",
       "    <tr>\n",
       "      <th>889</th>\n",
       "      <td>1</td>\n",
       "      <td>1</td>\n",
       "      <td>26.000000</td>\n",
       "      <td>0</td>\n",
       "      <td>1</td>\n",
       "    </tr>\n",
       "    <tr>\n",
       "      <th>890</th>\n",
       "      <td>3</td>\n",
       "      <td>1</td>\n",
       "      <td>32.000000</td>\n",
       "      <td>1</td>\n",
       "      <td>0</td>\n",
       "    </tr>\n",
       "  </tbody>\n",
       "</table>\n",
       "<p>891 rows × 5 columns</p>\n",
       "</div>"
      ],
      "text/plain": [
       "     Pclass  Sex        Age  Embarked  lable\n",
       "0         3    1  22.000000         2      0\n",
       "1         1    0  38.000000         0      1\n",
       "2         3    0  26.000000         2      1\n",
       "3         1    0  35.000000         2      1\n",
       "4         3    1  35.000000         2      0\n",
       "..      ...  ...        ...       ...    ...\n",
       "886       2    1  27.000000         2      0\n",
       "887       1    0  19.000000         2      1\n",
       "888       3    0  29.699118         2      0\n",
       "889       1    1  26.000000         0      1\n",
       "890       3    1  32.000000         1      0\n",
       "\n",
       "[891 rows x 5 columns]"
      ]
     },
     "execution_count": 16,
     "metadata": {},
     "output_type": "execute_result"
    }
   ],
   "source": [
    "Titanic_df"
   ]
  },
  {
   "cell_type": "code",
   "execution_count": 17,
   "id": "1249eafc",
   "metadata": {
    "ExecuteTime": {
     "end_time": "2022-07-03T08:14:47.017425Z",
     "start_time": "2022-07-03T08:14:47.008450Z"
    },
    "scrolled": true
   },
   "outputs": [
    {
     "data": {
      "text/plain": [
       "0      22.000000\n",
       "1      38.000000\n",
       "2      26.000000\n",
       "3      35.000000\n",
       "4      35.000000\n",
       "         ...    \n",
       "886    27.000000\n",
       "887    19.000000\n",
       "888    29.699118\n",
       "889    26.000000\n",
       "890    32.000000\n",
       "Name: Age, Length: 891, dtype: float64"
      ]
     },
     "execution_count": 17,
     "metadata": {},
     "output_type": "execute_result"
    }
   ],
   "source": [
    "Titanic_df[\"Age\"]"
   ]
  },
  {
   "cell_type": "code",
   "execution_count": 18,
   "id": "f0625f04",
   "metadata": {
    "ExecuteTime": {
     "end_time": "2022-07-03T08:14:47.342362Z",
     "start_time": "2022-07-03T08:14:47.337374Z"
    }
   },
   "outputs": [],
   "source": [
    "from sklearn.model_selection import train_test_split\n",
    "X_train, X_test, y_train, y_test = train_test_split(Titanic_df.drop(\"lable\",axis=1), Titanic_df[\"lable\"], test_size=0.2, random_state=1)"
   ]
  },
  {
   "cell_type": "code",
   "execution_count": 19,
   "id": "8b52f699",
   "metadata": {
    "ExecuteTime": {
     "end_time": "2022-07-01T08:19:02.814548Z",
     "start_time": "2022-07-01T08:19:02.805536Z"
    }
   },
   "outputs": [
    {
     "data": {
      "text/plain": [
       "0.7597765363128491"
      ]
     },
     "execution_count": 19,
     "metadata": {},
     "output_type": "execute_result"
    }
   ],
   "source": [
    "from sklearn.tree import DecisionTreeClassifier\n",
    "from sklearn.metrics import accuracy_score\n",
    "dt_clf = DecisionTreeClassifier(random_state=156)\n",
    "dt_clf.fit(X_train, y_train)\n",
    "dt_pred = dt_clf.predict(X_test)\n",
    "accuracy_score(y_test,dt_pred)"
   ]
  },
  {
   "cell_type": "code",
   "execution_count": 20,
   "id": "0b65c0e5",
   "metadata": {},
   "outputs": [
    {
     "data": {
      "text/plain": [
       "0.7821229050279329"
      ]
     },
     "execution_count": 20,
     "metadata": {},
     "output_type": "execute_result"
    }
   ],
   "source": [
    "from sklearn.linear_model import LogisticRegression\n",
    "\n",
    "lr_clf = LogisticRegression(random_state=156)\n",
    "lr_clf.fit(X_train, y_train)\n",
    "lr_pred = lr_clf.predict(X_test)\n",
    "accuracy_score(y_test,lr_pred)"
   ]
  },
  {
   "cell_type": "code",
   "execution_count": 21,
   "id": "592feab2",
   "metadata": {},
   "outputs": [
    {
     "data": {
      "text/plain": [
       "0.7597765363128491"
      ]
     },
     "execution_count": 21,
     "metadata": {},
     "output_type": "execute_result"
    }
   ],
   "source": [
    "from sklearn.ensemble import RandomForestClassifier\n",
    "\n",
    "rf_clf = RandomForestClassifier(random_state=156)\n",
    "rf_clf.fit(X_train, y_train)\n",
    "rf_pred = rf_clf.predict(X_test)\n",
    "accuracy_score(y_test,rf_pred)"
   ]
  },
  {
   "cell_type": "code",
   "execution_count": 22,
   "id": "f9ca5ae0",
   "metadata": {},
   "outputs": [
    {
     "name": "stdout",
     "output_type": "stream",
     "text": [
      "{'max_depth': 3, 'min_samples_leaf': 8, 'min_samples_split': 2}\n",
      "0.834295282182606\n"
     ]
    },
    {
     "data": {
      "text/plain": [
       "0.776536312849162"
      ]
     },
     "execution_count": 22,
     "metadata": {},
     "output_type": "execute_result"
    }
   ],
   "source": [
    "from sklearn.model_selection import GridSearchCV\n",
    "\n",
    "parameters = {\"max_depth\":[2,3,5,10],'min_samples_split':[2,3,5], \n",
    "              'min_samples_leaf':[1,5,8]}\n",
    "\n",
    "grid_dclf = GridSearchCV(dt_clf, param_grid = parameters, scoring='accuracy',cv=5)\n",
    "grid_dclf.fit(X_train, y_train)\n",
    "print(grid_dclf.best_params_)\n",
    "print(grid_dclf.best_score_)\n",
    "best_dclf = grid_dclf.best_estimator_\n",
    "\n",
    "dpredictions = best_dclf.predict(X_test)\n",
    "accuracy = accuracy_score(y_test, dpredictions)\n",
    "accuracy\n"
   ]
  },
  {
   "cell_type": "code",
   "execution_count": 23,
   "id": "484fb797",
   "metadata": {
    "ExecuteTime": {
     "end_time": "2022-07-03T09:03:40.109409Z",
     "start_time": "2022-07-03T09:03:40.085472Z"
    }
   },
   "outputs": [],
   "source": [
    "# 혼돈 행렬 구하기 \n",
    "from sklearn.metrics import accuracy_score, precision_score, recall_score, confusion_matrix, f1_score\n",
    " \n",
    "def get_clf_eval(y_test, pred):\n",
    "    confusion = confusion_matrix(y_test, pred)\n",
    "    accuracy = accuracy_score(y_test, pred)\n",
    "    precision = precision_score(y_test, pred)\n",
    "    recall = recall_score(y_test, pred)\n",
    "    f1 = f1_score(y_test, pred)\n",
    "    print('오차 행렬')\n",
    "    print(confusion)\n",
    "    print('정확도 :{0:.4f},정밀도 {1:.4f},재현율:{2:.4f}'.format(accuracy, precision,recall))\n",
    "    print(\"f1스코어:{0:.4f}\".format(f1))\n",
    "          \n",
    "    \n",
    "    "
   ]
  },
  {
   "cell_type": "markdown",
   "id": "aa6f2f9b",
   "metadata": {},
   "source": [
    "# 오차행렬\n",
    "### TN : 0이라고 예측하고 실제로도 0인경우\n",
    "### FN : 0이라고 예측하고 실제로는 1인경우\n",
    "### FP : 1이라고 예측하고 실제로는 0인경우\n",
    "### TP : 1이라고 예측하고 실제로도 1인경우"
   ]
  },
  {
   "attachments": {},
   "cell_type": "markdown",
   "id": "3f0cd682",
   "metadata": {},
   "source": [
    "#### 민감도(Sensitivity) =  TP /(TP+FN)\n",
    "#### 특이도(Specificity) =  TN /(FP+TN)\n",
    "#### 정밀도(Precision) = TP/(FP + TP)\n",
    "#### 재현율(Recall) = TP/(FN + TP)"
   ]
  },
  {
   "cell_type": "code",
   "execution_count": 24,
   "id": "7b6b0ea7",
   "metadata": {},
   "outputs": [
    {
     "name": "stdout",
     "output_type": "stream",
     "text": [
      "오차 행렬\n",
      "[[89 17]\n",
      " [22 51]]\n",
      "정확도 :0.7821,정밀도 0.7500,재현율:0.6986\n",
      "f1스코어:0.7234\n"
     ]
    }
   ],
   "source": [
    "from sklearn.model_selection import train_test_split\n",
    "from sklearn.linear_model import LogisticRegression\n",
    "\n",
    "lr_clf = LogisticRegression()\n",
    "lr_clf.fit(X_train, y_train)\n",
    "pred = lr_clf.predict(X_test)\n",
    "get_clf_eval(y_test, pred)"
   ]
  },
  {
   "cell_type": "code",
   "execution_count": 25,
   "id": "aea6fad3",
   "metadata": {},
   "outputs": [
    {
     "name": "stdout",
     "output_type": "stream",
     "text": [
      "(179, 2)\n"
     ]
    }
   ],
   "source": [
    "pred_proba = lr_clf.predict_proba(X_test)\n",
    "pred = lr_clf.predict(X_test)\n",
    "print(pred_proba.shape)"
   ]
  },
  {
   "cell_type": "code",
   "execution_count": 26,
   "id": "937e8ccc",
   "metadata": {},
   "outputs": [
    {
     "data": {
      "text/plain": [
       "array([[1],\n",
       "       [0],\n",
       "       [1],\n",
       "       [1],\n",
       "       [1],\n",
       "       [0],\n",
       "       [0],\n",
       "       [1],\n",
       "       [1],\n",
       "       [1],\n",
       "       [0],\n",
       "       [1],\n",
       "       [0],\n",
       "       [0],\n",
       "       [1],\n",
       "       [0],\n",
       "       [0],\n",
       "       [0],\n",
       "       [0],\n",
       "       [1],\n",
       "       [0],\n",
       "       [0],\n",
       "       [1],\n",
       "       [0],\n",
       "       [1],\n",
       "       [0],\n",
       "       [1],\n",
       "       [1],\n",
       "       [0],\n",
       "       [1],\n",
       "       [1],\n",
       "       [0],\n",
       "       [0],\n",
       "       [1],\n",
       "       [0],\n",
       "       [1],\n",
       "       [0],\n",
       "       [0],\n",
       "       [1],\n",
       "       [0],\n",
       "       [1],\n",
       "       [1],\n",
       "       [1],\n",
       "       [0],\n",
       "       [1],\n",
       "       [0],\n",
       "       [0],\n",
       "       [0],\n",
       "       [1],\n",
       "       [0],\n",
       "       [0],\n",
       "       [1],\n",
       "       [0],\n",
       "       [0],\n",
       "       [0],\n",
       "       [1],\n",
       "       [0],\n",
       "       [0],\n",
       "       [0],\n",
       "       [1],\n",
       "       [1],\n",
       "       [0],\n",
       "       [0],\n",
       "       [0],\n",
       "       [0],\n",
       "       [1],\n",
       "       [0],\n",
       "       [0],\n",
       "       [1],\n",
       "       [0],\n",
       "       [0],\n",
       "       [0],\n",
       "       [0],\n",
       "       [0],\n",
       "       [1],\n",
       "       [0],\n",
       "       [1],\n",
       "       [0],\n",
       "       [0],\n",
       "       [1],\n",
       "       [0],\n",
       "       [0],\n",
       "       [0],\n",
       "       [0],\n",
       "       [1],\n",
       "       [0],\n",
       "       [0],\n",
       "       [0],\n",
       "       [1],\n",
       "       [1],\n",
       "       [0],\n",
       "       [0],\n",
       "       [0],\n",
       "       [1],\n",
       "       [0],\n",
       "       [1],\n",
       "       [0],\n",
       "       [1],\n",
       "       [0],\n",
       "       [0],\n",
       "       [1],\n",
       "       [0],\n",
       "       [0],\n",
       "       [1],\n",
       "       [1],\n",
       "       [0],\n",
       "       [0],\n",
       "       [0],\n",
       "       [0],\n",
       "       [0],\n",
       "       [0],\n",
       "       [0],\n",
       "       [0],\n",
       "       [0],\n",
       "       [0],\n",
       "       [0],\n",
       "       [0],\n",
       "       [0],\n",
       "       [1],\n",
       "       [0],\n",
       "       [1],\n",
       "       [0],\n",
       "       [0],\n",
       "       [0],\n",
       "       [1],\n",
       "       [1],\n",
       "       [1],\n",
       "       [1],\n",
       "       [0],\n",
       "       [0],\n",
       "       [0],\n",
       "       [0],\n",
       "       [1],\n",
       "       [1],\n",
       "       [0],\n",
       "       [1],\n",
       "       [1],\n",
       "       [0],\n",
       "       [0],\n",
       "       [1],\n",
       "       [1],\n",
       "       [0],\n",
       "       [1],\n",
       "       [1],\n",
       "       [0],\n",
       "       [1],\n",
       "       [0],\n",
       "       [0],\n",
       "       [0],\n",
       "       [0],\n",
       "       [1],\n",
       "       [0],\n",
       "       [0],\n",
       "       [1],\n",
       "       [0],\n",
       "       [0],\n",
       "       [0],\n",
       "       [0],\n",
       "       [1],\n",
       "       [0],\n",
       "       [0],\n",
       "       [0],\n",
       "       [1],\n",
       "       [0],\n",
       "       [0],\n",
       "       [1],\n",
       "       [1],\n",
       "       [0],\n",
       "       [0],\n",
       "       [0],\n",
       "       [1],\n",
       "       [1],\n",
       "       [1],\n",
       "       [0],\n",
       "       [1],\n",
       "       [0],\n",
       "       [0],\n",
       "       [0],\n",
       "       [1]], dtype=int64)"
      ]
     },
     "execution_count": 26,
     "metadata": {},
     "output_type": "execute_result"
    }
   ],
   "source": [
    "pred.reshape(-1,1)"
   ]
  },
  {
   "cell_type": "code",
   "execution_count": 27,
   "id": "6c17fda4",
   "metadata": {},
   "outputs": [
    {
     "data": {
      "text/plain": [
       "array([[0.15104497, 0.84895503, 1.        ],\n",
       "       [0.92344916, 0.07655084, 0.        ],\n",
       "       [0.16206834, 0.83793166, 1.        ],\n",
       "       [0.42920431, 0.57079569, 1.        ],\n",
       "       [0.11997724, 0.88002276, 1.        ],\n",
       "       [0.89897878, 0.10102122, 0.        ],\n",
       "       [0.82640232, 0.17359768, 0.        ],\n",
       "       [0.10146296, 0.89853704, 1.        ],\n",
       "       [0.3983065 , 0.6016935 , 1.        ],\n",
       "       [0.42920431, 0.57079569, 1.        ],\n",
       "       [0.91099296, 0.08900704, 0.        ],\n",
       "       [0.45996113, 0.54003887, 1.        ],\n",
       "       [0.73198151, 0.26801849, 0.        ],\n",
       "       [0.78959666, 0.21040334, 0.        ],\n",
       "       [0.42920431, 0.57079569, 1.        ],\n",
       "       [0.52383402, 0.47616598, 0.        ],\n",
       "       [0.85829845, 0.14170155, 0.        ],\n",
       "       [0.90811615, 0.09188385, 0.        ],\n",
       "       [0.93764454, 0.06235546, 0.        ],\n",
       "       [0.1981163 , 0.8018837 , 1.        ],\n",
       "       [0.92894721, 0.07105279, 0.        ],\n",
       "       [0.86446228, 0.13553772, 0.        ],\n",
       "       [0.04420486, 0.95579514, 1.        ],\n",
       "       [0.71368434, 0.28631566, 0.        ],\n",
       "       [0.25528515, 0.74471485, 1.        ],\n",
       "       [0.91650381, 0.08349619, 0.        ],\n",
       "       [0.03997799, 0.96002201, 1.        ],\n",
       "       [0.31678198, 0.68321802, 1.        ],\n",
       "       [0.76729998, 0.23270002, 0.        ],\n",
       "       [0.06687465, 0.93312535, 1.        ],\n",
       "       [0.42546214, 0.57453786, 1.        ],\n",
       "       [0.53863065, 0.46136935, 0.        ],\n",
       "       [0.57301092, 0.42698908, 0.        ],\n",
       "       [0.45128705, 0.54871295, 1.        ],\n",
       "       [0.9317527 , 0.0682473 , 0.        ],\n",
       "       [0.29009424, 0.70990576, 1.        ],\n",
       "       [0.59271251, 0.40728749, 0.        ],\n",
       "       [0.92344916, 0.07655084, 0.        ],\n",
       "       [0.37344997, 0.62655003, 1.        ],\n",
       "       [0.89575809, 0.10424191, 0.        ],\n",
       "       [0.46865954, 0.53134046, 1.        ],\n",
       "       [0.46865954, 0.53134046, 1.        ],\n",
       "       [0.14661492, 0.85338508, 1.        ],\n",
       "       [0.66983328, 0.33016672, 0.        ],\n",
       "       [0.45285911, 0.54714089, 1.        ],\n",
       "       [0.93556821, 0.06443179, 0.        ],\n",
       "       [0.86249885, 0.13750115, 0.        ],\n",
       "       [0.83858986, 0.16141014, 0.        ],\n",
       "       [0.45816869, 0.54183131, 1.        ],\n",
       "       [0.6991809 , 0.3008191 , 0.        ],\n",
       "       [0.69308061, 0.30691939, 0.        ],\n",
       "       [0.18197441, 0.81802559, 1.        ],\n",
       "       [0.72077691, 0.27922309, 0.        ],\n",
       "       [0.82387937, 0.17612063, 0.        ],\n",
       "       [0.92170277, 0.07829723, 0.        ],\n",
       "       [0.44264246, 0.55735754, 1.        ],\n",
       "       [0.78550592, 0.21449408, 0.        ],\n",
       "       [0.77721475, 0.22278525, 0.        ],\n",
       "       [0.94350438, 0.05649562, 0.        ],\n",
       "       [0.40845996, 0.59154004, 1.        ],\n",
       "       [0.49221791, 0.50778209, 1.        ],\n",
       "       [0.87891825, 0.12108175, 0.        ],\n",
       "       [0.77955468, 0.22044532, 0.        ],\n",
       "       [0.66595463, 0.33404537, 0.        ],\n",
       "       [0.51510432, 0.48489568, 0.        ],\n",
       "       [0.36273439, 0.63726561, 1.        ],\n",
       "       [0.83794563, 0.16205437, 0.        ],\n",
       "       [0.86446228, 0.13553772, 0.        ],\n",
       "       [0.26897198, 0.73102802, 1.        ],\n",
       "       [0.85664064, 0.14335936, 0.        ],\n",
       "       [0.90811615, 0.09188385, 0.        ],\n",
       "       [0.8744751 , 0.1255249 , 0.        ],\n",
       "       [0.55403384, 0.44596616, 0.        ],\n",
       "       [0.92344916, 0.07655084, 0.        ],\n",
       "       [0.43929855, 0.56070145, 1.        ],\n",
       "       [0.70267247, 0.29732753, 0.        ],\n",
       "       [0.10146296, 0.89853704, 1.        ],\n",
       "       [0.90345293, 0.09654707, 0.        ],\n",
       "       [0.65399703, 0.34600297, 0.        ],\n",
       "       [0.05491149, 0.94508851, 1.        ],\n",
       "       [0.91378825, 0.08621175, 0.        ],\n",
       "       [0.92344916, 0.07655084, 0.        ],\n",
       "       [0.92344916, 0.07655084, 0.        ],\n",
       "       [0.93342766, 0.06657234, 0.        ],\n",
       "       [0.12553619, 0.87446381, 1.        ],\n",
       "       [0.92170277, 0.07829723, 0.        ],\n",
       "       [0.92344916, 0.07655084, 0.        ],\n",
       "       [0.87891825, 0.12108175, 0.        ],\n",
       "       [0.29734903, 0.70265097, 1.        ],\n",
       "       [0.23356796, 0.76643204, 1.        ],\n",
       "       [0.68132989, 0.31867011, 0.        ],\n",
       "       [0.87891825, 0.12108175, 0.        ],\n",
       "       [0.88813712, 0.11186288, 0.        ],\n",
       "       [0.42920431, 0.57079569, 1.        ],\n",
       "       [0.92344916, 0.07655084, 0.        ],\n",
       "       [0.41518267, 0.58481733, 1.        ],\n",
       "       [0.97110855, 0.02889145, 0.        ],\n",
       "       [0.36840496, 0.63159504, 1.        ],\n",
       "       [0.892447  , 0.107553  , 0.        ],\n",
       "       [0.92344916, 0.07655084, 0.        ],\n",
       "       [0.41263001, 0.58736999, 1.        ],\n",
       "       [0.60948207, 0.39051793, 0.        ],\n",
       "       [0.87891825, 0.12108175, 0.        ],\n",
       "       [0.2792438 , 0.7207562 , 1.        ],\n",
       "       [0.03378104, 0.96621896, 1.        ],\n",
       "       [0.90515603, 0.09484397, 0.        ],\n",
       "       [0.92170277, 0.07829723, 0.        ],\n",
       "       [0.92170277, 0.07829723, 0.        ],\n",
       "       [0.84505227, 0.15494773, 0.        ],\n",
       "       [0.94884359, 0.05115641, 0.        ],\n",
       "       [0.57978744, 0.42021256, 0.        ],\n",
       "       [0.84722069, 0.15277931, 0.        ],\n",
       "       [0.87680625, 0.12319375, 0.        ],\n",
       "       [0.91099296, 0.08900704, 0.        ],\n",
       "       [0.74804441, 0.25195559, 0.        ],\n",
       "       [0.93122122, 0.06877878, 0.        ],\n",
       "       [0.78550592, 0.21449408, 0.        ],\n",
       "       [0.54991482, 0.45008518, 0.        ],\n",
       "       [0.2732021 , 0.7267979 , 1.        ],\n",
       "       [0.50359107, 0.49640893, 0.        ],\n",
       "       [0.22128073, 0.77871927, 1.        ],\n",
       "       [0.71803874, 0.28196126, 0.        ],\n",
       "       [0.92344916, 0.07655084, 0.        ],\n",
       "       [0.71368434, 0.28631566, 0.        ],\n",
       "       [0.08940147, 0.91059853, 1.        ],\n",
       "       [0.06061758, 0.93938242, 1.        ],\n",
       "       [0.22128073, 0.77871927, 1.        ],\n",
       "       [0.42546214, 0.57453786, 1.        ],\n",
       "       [0.92344916, 0.07655084, 0.        ],\n",
       "       [0.90345293, 0.09654707, 0.        ],\n",
       "       [0.90811615, 0.09188385, 0.        ],\n",
       "       [0.95213405, 0.04786595, 0.        ],\n",
       "       [0.17487041, 0.82512959, 1.        ],\n",
       "       [0.38995554, 0.61004446, 1.        ],\n",
       "       [0.52106502, 0.47893498, 0.        ],\n",
       "       [0.13185727, 0.86814273, 1.        ],\n",
       "       [0.05865646, 0.94134354, 1.        ],\n",
       "       [0.81554849, 0.18445151, 0.        ],\n",
       "       [0.88904377, 0.11095623, 0.        ],\n",
       "       [0.43403248, 0.56596752, 1.        ],\n",
       "       [0.0737269 , 0.9262731 , 1.        ],\n",
       "       [0.94350438, 0.05649562, 0.        ],\n",
       "       [0.05139257, 0.94860743, 1.        ],\n",
       "       [0.49221791, 0.50778209, 1.        ],\n",
       "       [0.92344916, 0.07655084, 0.        ],\n",
       "       [0.39167403, 0.60832597, 1.        ],\n",
       "       [0.79705543, 0.20294457, 0.        ],\n",
       "       [0.92344916, 0.07655084, 0.        ],\n",
       "       [0.51004339, 0.48995661, 0.        ],\n",
       "       [0.90211084, 0.09788916, 0.        ],\n",
       "       [0.26897198, 0.73102802, 1.        ],\n",
       "       [0.95950213, 0.04049787, 0.        ],\n",
       "       [0.78031099, 0.21968901, 0.        ],\n",
       "       [0.36485405, 0.63514595, 1.        ],\n",
       "       [0.92344916, 0.07655084, 0.        ],\n",
       "       [0.92894721, 0.07105279, 0.        ],\n",
       "       [0.90211084, 0.09788916, 0.        ],\n",
       "       [0.94884359, 0.05115641, 0.        ],\n",
       "       [0.14171406, 0.85828594, 1.        ],\n",
       "       [0.74804441, 0.25195559, 0.        ],\n",
       "       [0.82889665, 0.17110335, 0.        ],\n",
       "       [0.91914139, 0.08085861, 0.        ],\n",
       "       [0.41693636, 0.58306364, 1.        ],\n",
       "       [0.52383402, 0.47616598, 0.        ],\n",
       "       [0.91378825, 0.08621175, 0.        ],\n",
       "       [0.25862376, 0.74137624, 1.        ],\n",
       "       [0.1981163 , 0.8018837 , 1.        ],\n",
       "       [0.92344916, 0.07655084, 0.        ],\n",
       "       [0.88195396, 0.11804604, 0.        ],\n",
       "       [0.65399703, 0.34600297, 0.        ],\n",
       "       [0.06362504, 0.93637496, 1.        ],\n",
       "       [0.26897198, 0.73102802, 1.        ],\n",
       "       [0.08659497, 0.91340503, 1.        ],\n",
       "       [0.88904377, 0.11095623, 0.        ],\n",
       "       [0.15558447, 0.84441553, 1.        ],\n",
       "       [0.53863065, 0.46136935, 0.        ],\n",
       "       [0.90345293, 0.09654707, 0.        ],\n",
       "       [0.87346636, 0.12653364, 0.        ],\n",
       "       [0.19736248, 0.80263752, 1.        ]])"
      ]
     },
     "execution_count": 27,
     "metadata": {},
     "output_type": "execute_result"
    }
   ],
   "source": [
    "pred_proba_result = np.concatenate([pred_proba, pred.reshape(-1,1)],axis=1)\n",
    "pred_proba_result"
   ]
  },
  {
   "cell_type": "code",
   "execution_count": 28,
   "id": "d741dbef",
   "metadata": {},
   "outputs": [
    {
     "name": "stdout",
     "output_type": "stream",
     "text": [
      "오차 행렬\n",
      "[[89 17]\n",
      " [22 51]]\n",
      "정확도 :0.7821,정밀도 0.7500,재현율:0.6986\n",
      "f1스코어:0.7234\n"
     ]
    }
   ],
   "source": [
    "from sklearn.preprocessing import Binarizer\n",
    "\n",
    "custom_threshold = 0.5\n",
    "\n",
    "pred_proba_1 = pred_proba[:,1].reshape(-1,1)\n",
    "\n",
    "binarizer = Binarizer(threshold = custom_threshold).fit(pred_proba_1)\n",
    "custom_predict = binarizer.transform(pred_proba_1)\n",
    "\n",
    "get_clf_eval(y_test, custom_predict)\n"
   ]
  },
  {
   "cell_type": "code",
   "execution_count": 29,
   "id": "f0ad93be",
   "metadata": {},
   "outputs": [
    {
     "name": "stdout",
     "output_type": "stream",
     "text": [
      "오차 행렬\n",
      "[[84 22]\n",
      " [14 59]]\n",
      "정확도 :0.7989,정밀도 0.7284,재현율:0.8082\n",
      "f1스코어:0.7662\n"
     ]
    }
   ],
   "source": [
    "custom_threshold = 0.4\n",
    "\n",
    "pred_proba_1 = pred_proba[:,1].reshape(-1,1)\n",
    "\n",
    "binarizer = Binarizer(threshold = custom_threshold).fit(pred_proba_1)\n",
    "custom_predict = binarizer.transform(pred_proba_1)\n",
    "\n",
    "get_clf_eval(y_test, custom_predict)"
   ]
  },
  {
   "cell_type": "code",
   "execution_count": 30,
   "id": "a767149d",
   "metadata": {},
   "outputs": [
    {
     "data": {
      "text/plain": [
       "array([[0.15104497, 0.84895503],\n",
       "       [0.92344916, 0.07655084],\n",
       "       [0.16206834, 0.83793166],\n",
       "       [0.42920431, 0.57079569],\n",
       "       [0.11997724, 0.88002276],\n",
       "       [0.89897878, 0.10102122],\n",
       "       [0.82640232, 0.17359768],\n",
       "       [0.10146296, 0.89853704],\n",
       "       [0.3983065 , 0.6016935 ],\n",
       "       [0.42920431, 0.57079569],\n",
       "       [0.91099296, 0.08900704],\n",
       "       [0.45996113, 0.54003887],\n",
       "       [0.73198151, 0.26801849],\n",
       "       [0.78959666, 0.21040334],\n",
       "       [0.42920431, 0.57079569],\n",
       "       [0.52383402, 0.47616598],\n",
       "       [0.85829845, 0.14170155],\n",
       "       [0.90811615, 0.09188385],\n",
       "       [0.93764454, 0.06235546],\n",
       "       [0.1981163 , 0.8018837 ],\n",
       "       [0.92894721, 0.07105279],\n",
       "       [0.86446228, 0.13553772],\n",
       "       [0.04420486, 0.95579514],\n",
       "       [0.71368434, 0.28631566],\n",
       "       [0.25528515, 0.74471485],\n",
       "       [0.91650381, 0.08349619],\n",
       "       [0.03997799, 0.96002201],\n",
       "       [0.31678198, 0.68321802],\n",
       "       [0.76729998, 0.23270002],\n",
       "       [0.06687465, 0.93312535],\n",
       "       [0.42546214, 0.57453786],\n",
       "       [0.53863065, 0.46136935],\n",
       "       [0.57301092, 0.42698908],\n",
       "       [0.45128705, 0.54871295],\n",
       "       [0.9317527 , 0.0682473 ],\n",
       "       [0.29009424, 0.70990576],\n",
       "       [0.59271251, 0.40728749],\n",
       "       [0.92344916, 0.07655084],\n",
       "       [0.37344997, 0.62655003],\n",
       "       [0.89575809, 0.10424191],\n",
       "       [0.46865954, 0.53134046],\n",
       "       [0.46865954, 0.53134046],\n",
       "       [0.14661492, 0.85338508],\n",
       "       [0.66983328, 0.33016672],\n",
       "       [0.45285911, 0.54714089],\n",
       "       [0.93556821, 0.06443179],\n",
       "       [0.86249885, 0.13750115],\n",
       "       [0.83858986, 0.16141014],\n",
       "       [0.45816869, 0.54183131],\n",
       "       [0.6991809 , 0.3008191 ],\n",
       "       [0.69308061, 0.30691939],\n",
       "       [0.18197441, 0.81802559],\n",
       "       [0.72077691, 0.27922309],\n",
       "       [0.82387937, 0.17612063],\n",
       "       [0.92170277, 0.07829723],\n",
       "       [0.44264246, 0.55735754],\n",
       "       [0.78550592, 0.21449408],\n",
       "       [0.77721475, 0.22278525],\n",
       "       [0.94350438, 0.05649562],\n",
       "       [0.40845996, 0.59154004],\n",
       "       [0.49221791, 0.50778209],\n",
       "       [0.87891825, 0.12108175],\n",
       "       [0.77955468, 0.22044532],\n",
       "       [0.66595463, 0.33404537],\n",
       "       [0.51510432, 0.48489568],\n",
       "       [0.36273439, 0.63726561],\n",
       "       [0.83794563, 0.16205437],\n",
       "       [0.86446228, 0.13553772],\n",
       "       [0.26897198, 0.73102802],\n",
       "       [0.85664064, 0.14335936],\n",
       "       [0.90811615, 0.09188385],\n",
       "       [0.8744751 , 0.1255249 ],\n",
       "       [0.55403384, 0.44596616],\n",
       "       [0.92344916, 0.07655084],\n",
       "       [0.43929855, 0.56070145],\n",
       "       [0.70267247, 0.29732753],\n",
       "       [0.10146296, 0.89853704],\n",
       "       [0.90345293, 0.09654707],\n",
       "       [0.65399703, 0.34600297],\n",
       "       [0.05491149, 0.94508851],\n",
       "       [0.91378825, 0.08621175],\n",
       "       [0.92344916, 0.07655084],\n",
       "       [0.92344916, 0.07655084],\n",
       "       [0.93342766, 0.06657234],\n",
       "       [0.12553619, 0.87446381],\n",
       "       [0.92170277, 0.07829723],\n",
       "       [0.92344916, 0.07655084],\n",
       "       [0.87891825, 0.12108175],\n",
       "       [0.29734903, 0.70265097],\n",
       "       [0.23356796, 0.76643204],\n",
       "       [0.68132989, 0.31867011],\n",
       "       [0.87891825, 0.12108175],\n",
       "       [0.88813712, 0.11186288],\n",
       "       [0.42920431, 0.57079569],\n",
       "       [0.92344916, 0.07655084],\n",
       "       [0.41518267, 0.58481733],\n",
       "       [0.97110855, 0.02889145],\n",
       "       [0.36840496, 0.63159504],\n",
       "       [0.892447  , 0.107553  ],\n",
       "       [0.92344916, 0.07655084],\n",
       "       [0.41263001, 0.58736999],\n",
       "       [0.60948207, 0.39051793],\n",
       "       [0.87891825, 0.12108175],\n",
       "       [0.2792438 , 0.7207562 ],\n",
       "       [0.03378104, 0.96621896],\n",
       "       [0.90515603, 0.09484397],\n",
       "       [0.92170277, 0.07829723],\n",
       "       [0.92170277, 0.07829723],\n",
       "       [0.84505227, 0.15494773],\n",
       "       [0.94884359, 0.05115641],\n",
       "       [0.57978744, 0.42021256],\n",
       "       [0.84722069, 0.15277931],\n",
       "       [0.87680625, 0.12319375],\n",
       "       [0.91099296, 0.08900704],\n",
       "       [0.74804441, 0.25195559],\n",
       "       [0.93122122, 0.06877878],\n",
       "       [0.78550592, 0.21449408],\n",
       "       [0.54991482, 0.45008518],\n",
       "       [0.2732021 , 0.7267979 ],\n",
       "       [0.50359107, 0.49640893],\n",
       "       [0.22128073, 0.77871927],\n",
       "       [0.71803874, 0.28196126],\n",
       "       [0.92344916, 0.07655084],\n",
       "       [0.71368434, 0.28631566],\n",
       "       [0.08940147, 0.91059853],\n",
       "       [0.06061758, 0.93938242],\n",
       "       [0.22128073, 0.77871927],\n",
       "       [0.42546214, 0.57453786],\n",
       "       [0.92344916, 0.07655084],\n",
       "       [0.90345293, 0.09654707],\n",
       "       [0.90811615, 0.09188385],\n",
       "       [0.95213405, 0.04786595],\n",
       "       [0.17487041, 0.82512959],\n",
       "       [0.38995554, 0.61004446],\n",
       "       [0.52106502, 0.47893498],\n",
       "       [0.13185727, 0.86814273],\n",
       "       [0.05865646, 0.94134354],\n",
       "       [0.81554849, 0.18445151],\n",
       "       [0.88904377, 0.11095623],\n",
       "       [0.43403248, 0.56596752],\n",
       "       [0.0737269 , 0.9262731 ],\n",
       "       [0.94350438, 0.05649562],\n",
       "       [0.05139257, 0.94860743],\n",
       "       [0.49221791, 0.50778209],\n",
       "       [0.92344916, 0.07655084],\n",
       "       [0.39167403, 0.60832597],\n",
       "       [0.79705543, 0.20294457],\n",
       "       [0.92344916, 0.07655084],\n",
       "       [0.51004339, 0.48995661],\n",
       "       [0.90211084, 0.09788916],\n",
       "       [0.26897198, 0.73102802],\n",
       "       [0.95950213, 0.04049787],\n",
       "       [0.78031099, 0.21968901],\n",
       "       [0.36485405, 0.63514595],\n",
       "       [0.92344916, 0.07655084],\n",
       "       [0.92894721, 0.07105279],\n",
       "       [0.90211084, 0.09788916],\n",
       "       [0.94884359, 0.05115641],\n",
       "       [0.14171406, 0.85828594],\n",
       "       [0.74804441, 0.25195559],\n",
       "       [0.82889665, 0.17110335],\n",
       "       [0.91914139, 0.08085861],\n",
       "       [0.41693636, 0.58306364],\n",
       "       [0.52383402, 0.47616598],\n",
       "       [0.91378825, 0.08621175],\n",
       "       [0.25862376, 0.74137624],\n",
       "       [0.1981163 , 0.8018837 ],\n",
       "       [0.92344916, 0.07655084],\n",
       "       [0.88195396, 0.11804604],\n",
       "       [0.65399703, 0.34600297],\n",
       "       [0.06362504, 0.93637496],\n",
       "       [0.26897198, 0.73102802],\n",
       "       [0.08659497, 0.91340503],\n",
       "       [0.88904377, 0.11095623],\n",
       "       [0.15558447, 0.84441553],\n",
       "       [0.53863065, 0.46136935],\n",
       "       [0.90345293, 0.09654707],\n",
       "       [0.87346636, 0.12653364],\n",
       "       [0.19736248, 0.80263752]])"
      ]
     },
     "execution_count": 30,
     "metadata": {},
     "output_type": "execute_result"
    }
   ],
   "source": [
    "pred_proba"
   ]
  },
  {
   "cell_type": "code",
   "execution_count": 31,
   "id": "6c79bb48",
   "metadata": {},
   "outputs": [
    {
     "name": "stdout",
     "output_type": "stream",
     "text": [
      "임곗값: 0.4\n",
      "오차 행렬\n",
      "[[84 22]\n",
      " [14 59]]\n",
      "정확도 :0.7989,정밀도 0.7284,재현율:0.8082\n",
      "f1스코어:0.7662\n",
      "임곗값: 0.45\n",
      "오차 행렬\n",
      "[[86 20]\n",
      " [16 57]]\n",
      "정확도 :0.7989,정밀도 0.7403,재현율:0.7808\n",
      "f1스코어:0.7600\n",
      "임곗값: 0.5\n",
      "오차 행렬\n",
      "[[89 17]\n",
      " [22 51]]\n",
      "정확도 :0.7821,정밀도 0.7500,재현율:0.6986\n",
      "f1스코어:0.7234\n",
      "임곗값: 0.55\n",
      "오차 행렬\n",
      "[[92 14]\n",
      " [27 46]]\n",
      "정확도 :0.7709,정밀도 0.7667,재현율:0.6301\n",
      "f1스코어:0.6917\n",
      "임곗값: 0.6\n",
      "오차 행렬\n",
      "[[98  8]\n",
      " [34 39]]\n",
      "정확도 :0.7654,정밀도 0.8298,재현율:0.5342\n",
      "f1스코어:0.6500\n"
     ]
    }
   ],
   "source": [
    "thresholds = [0.4,0.45,0.5,0.55,0.6]\n",
    "\n",
    "def get_eval_by_threshold(y_test, pred_proba_c1, thresholds):\n",
    "    for custom_threshold in thresholds:\n",
    "        binarizer = Binarizer(threshold=custom_threshold).fit(pred_proba_c1)\n",
    "        custom_predict = binarizer.transform(pred_proba_c1)\n",
    "        print('임곗값:',custom_threshold)\n",
    "        get_clf_eval(y_test, custom_predict)\n",
    "        \n",
    "get_eval_by_threshold(y_test, pred_proba[:,1].reshape(-1,1), thresholds)"
   ]
  },
  {
   "cell_type": "code",
   "execution_count": 32,
   "id": "f7dc5fc3",
   "metadata": {},
   "outputs": [
    {
     "data": {
      "image/png": "[encoded data removed]",
      "text/plain": [
       "<Figure size 800x600 with 1 Axes>"
      ]
     },
     "metadata": {},
     "output_type": "display_data"
    }
   ],
   "source": [
    "from sklearn.metrics import precision_recall_curve\n",
    "import matplotlib.pyplot as plt\n",
    "import matplotlib.ticker as ticker\n",
    "\n",
    "def precision_recall_curve_plot(y_test, pred_proba_c1):\n",
    "    precisions,recalls, thresholds = precision_recall_curve(y_test,pred_proba_c1)\n",
    "    \n",
    "    plt.figure(figsize=(8,6))\n",
    "    threshold_boundary = thresholds.shape[0]\n",
    "    plt.plot(thresholds, precisions[0:threshold_boundary], linestyle='--', label='precision')\n",
    "    plt.plot(thresholds, recalls[0:threshold_boundary], label='recall')\n",
    "\n",
    "    start, end = plt.xlim()\n",
    "    plt.xticks(np.round(np.arange(start,end,0.1),2))  \n",
    "    \n",
    "    plt.xlabel('Threshold value'); plt.ylabel('Precision and Recall value')\n",
    "    plt.legend(); plt.grid()\n",
    "    plt.show()\n",
    "\n",
    "precision_recall_curve_plot(y_test, lr_clf.predict_proba(X_test)[:,1])  "
   ]
  },
  {
   "cell_type": "code",
   "execution_count": 33,
   "id": "f030c079",
   "metadata": {},
   "outputs": [
    {
     "data": {
      "image/png": "[encoded data removed]",
      "text/plain": [
       "<Figure size 640x480 with 1 Axes>"
      ]
     },
     "metadata": {},
     "output_type": "display_data"
    }
   ],
   "source": [
    "from sklearn.metrics import roc_curve\n",
    "\n",
    "\n",
    "def roc_curve_plot(y_test, pred_proba_c1):\n",
    "    \n",
    "    fprs, tprs, thresholds = roc_curve(y_test, pred_proba_c1)\n",
    "    \n",
    "    plt.plot(fprs, tprs, label='ROC')\n",
    "    plt.plot([0, 1], [0,1], 'k--', label=\"Random\")\n",
    "    \n",
    "    \n",
    "    start, end = plt.xlim()\n",
    "    plt.xticks(np.round(np.arange(start, end, 0.1),2))\n",
    "    plt.xlim(0,1); plt.ylim(0,1)\n",
    "    plt.xlabel('FPR(1 - Sensitivity)'); plt.ylabel('TPR(Recall)')\n",
    "    plt.legend()\n",
    "    plt.show()\n",
    "    \n",
    "roc_curve_plot(y_test, lr_clf.predict_proba(X_test)[:,1])\n",
    "    "
   ]
  },
  {
   "cell_type": "code",
   "execution_count": 34,
   "id": "b3afddef",
   "metadata": {},
   "outputs": [
    {
     "name": "stdout",
     "output_type": "stream",
     "text": [
      "ROC AUC 값: 0.8238\n"
     ]
    }
   ],
   "source": [
    "from sklearn.metrics import roc_auc_score\n",
    "\n",
    "pred_proba = lr_clf.predict_proba(X_test)[:,1]\n",
    "roc_score = roc_auc_score(y_test, pred_proba)\n",
    "print('ROC AUC 값: {0:.4f}'.format(roc_score))"
   ]
  },
  {
   "cell_type": "code",
   "execution_count": 35,
   "id": "df28b445",
   "metadata": {},
   "outputs": [
    {
     "data": {
      "text/plain": [
       "array([1, 0, 1, 1, 1, 0, 0, 1, 1, 1, 0, 1, 0, 0, 1, 0, 0, 0, 0, 1, 0, 0,\n",
       "       1, 0, 1, 0, 1, 1, 0, 1, 1, 0, 0, 1, 0, 1, 0, 0, 1, 0, 1, 1, 1, 0,\n",
       "       1, 0, 0, 0, 1, 0, 0, 1, 0, 0, 0, 1, 0, 0, 0, 1, 1, 0, 0, 0, 0, 1,\n",
       "       0, 0, 1, 0, 0, 0, 0, 0, 1, 0, 1, 0, 0, 1, 0, 0, 0, 0, 1, 0, 0, 0,\n",
       "       1, 1, 0, 0, 0, 1, 0, 1, 0, 1, 0, 0, 1, 0, 0, 1, 1, 0, 0, 0, 0, 0,\n",
       "       0, 0, 0, 0, 0, 0, 0, 0, 1, 0, 1, 0, 0, 0, 1, 1, 1, 1, 0, 0, 0, 0,\n",
       "       1, 1, 0, 1, 1, 0, 0, 1, 1, 0, 1, 1, 0, 1, 0, 0, 0, 0, 1, 0, 0, 1,\n",
       "       0, 0, 0, 0, 1, 0, 0, 0, 1, 0, 0, 1, 1, 0, 0, 0, 1, 1, 1, 0, 1, 0,\n",
       "       0, 0, 1], dtype=int64)"
      ]
     },
     "execution_count": 35,
     "metadata": {},
     "output_type": "execute_result"
    }
   ],
   "source": [
    "pred"
   ]
  },
  {
   "cell_type": "code",
   "execution_count": 37,
   "id": "4132e1e5",
   "metadata": {
    "ExecuteTime": {
     "end_time": "2022-07-03T08:14:48.440654Z",
     "start_time": "2022-07-03T08:14:48.424696Z"
    }
   },
   "outputs": [
    {
     "name": "stdout",
     "output_type": "stream",
     "text": [
      "feature 들의 평균 값\n",
      "Pclass     -2.031048e-16\n",
      "Sex        -4.059603e-16\n",
      "Age         2.562796e-16\n",
      "Embarked    1.556306e-16\n",
      "lable      -2.287732e-16\n",
      "dtype: float64\n",
      "\n",
      "feature 들의 분산 값\n",
      "Pclass      1.001124\n",
      "Sex         1.001124\n",
      "Age         1.001124\n",
      "Embarked    1.001124\n",
      "lable       1.001124\n",
      "dtype: float64\n"
     ]
    }
   ],
   "source": [
    "from sklearn.preprocessing import StandardScaler\n",
    "\n",
    "#StandarScaler 객체 생성\n",
    "scaler = StandardScaler()\n",
    "scaler.fit(Titanic_df)\n",
    "Titanic_scaled = scaler.transform(Titanic_df)\n",
    "Titanic_df_scaled = pd.DataFrame(data=Titanic_scaled, columns = Titanic_df.columns)\n",
    "\n",
    "print('feature 들의 평균 값')\n",
    "print(Titanic_df_scaled.mean())\n",
    "print('\\nfeature 들의 분산 값')\n",
    "print(Titanic_df_scaled.var())\n",
    "\n"
   ]
  },
  {
   "cell_type": "code",
   "execution_count": null,
   "id": "cfb85720",
   "metadata": {
    "ExecuteTime": {
     "end_time": "2022-07-03T08:14:49.223387Z",
     "start_time": "2022-07-03T08:14:48.987701Z"
    },
    "scrolled": false
   },
   "outputs": [
    {
     "data": {
      "image/png": "[encoded data removed]",
      "text/plain": [
       "<Figure size 432x288 with 1 Axes>"
      ]
     },
     "metadata": {
      "needs_background": "light"
     },
     "output_type": "display_data"
    }
   ],
   "source": [
    "import matplotlib.pyplot as plt\n",
    "import seaborn as sns\n",
    "sns.kdeplot(Titanic_df_scaled ['Pclass'])\n",
    "sns.kdeplot(Titanic_df_scaled ['Sex'])\n",
    "sns.kdeplot(Titanic_df_scaled ['Age'])\n",
    "sns.kdeplot(Titanic_df_scaled ['Embarked'])\n",
    "plt.title('StandardScaler')\n",
    "plt.xlabel('Features')\n",
    "plt.legend(['Pclsss', 'Sex', 'Age', 'Embarked'])\n",
    "plt.show()\n",
    "plt.show()\n"
   ]
  },
  {
   "cell_type": "code",
   "execution_count": 38,
   "id": "7ee0742d",
   "metadata": {
    "ExecuteTime": {
     "end_time": "2022-07-03T08:14:49.425847Z",
     "start_time": "2022-07-03T08:14:49.407892Z"
    }
   },
   "outputs": [
    {
     "name": "stdout",
     "output_type": "stream",
     "text": [
      "feature 들의 최대 값\n",
      "Pclass      1.0\n",
      "Sex         1.0\n",
      "Age         1.0\n",
      "Embarked    1.0\n",
      "lable       1.0\n",
      "dtype: float64\n",
      "\n",
      "feature 들의 최소 값\n",
      "Pclass      0.0\n",
      "Sex         0.0\n",
      "Age         0.0\n",
      "Embarked    0.0\n",
      "lable       0.0\n",
      "dtype: float64\n"
     ]
    }
   ],
   "source": [
    "from sklearn.preprocessing import MinMaxScaler\n",
    "\n",
    "#StandarScaler 객체 생성\n",
    "scaler = MinMaxScaler()\n",
    "scaler.fit(Titanic_df)\n",
    "Titanic_scaled = scaler.transform(Titanic_df)\n",
    "Titanic_df_scaled = pd.DataFrame(data=Titanic_scaled, columns = Titanic_df.columns)\n",
    "\n",
    "print('feature 들의 최대 값')\n",
    "print(Titanic_df_scaled.max())\n",
    "print('\\nfeature 들의 최소 값')\n",
    "print(Titanic_df_scaled.min())"
   ]
  },
  {
   "cell_type": "code",
   "execution_count": 39,
   "id": "3d4fb656",
   "metadata": {
    "ExecuteTime": {
     "end_time": "2022-07-03T07:50:16.955338Z",
     "start_time": "2022-07-03T07:50:16.693990Z"
    },
    "scrolled": true
   },
   "outputs": [
    {
     "data": {
      "image/png": "[encoded data removed]",
      "text/plain": [
       "<Figure size 640x480 with 1 Axes>"
      ]
     },
     "metadata": {},
     "output_type": "display_data"
    }
   ],
   "source": [
    "import matplotlib.pyplot as plt\n",
    "import seaborn as sns\n",
    "sns.kdeplot(Titanic_df_scaled ['Pclass'])\n",
    "sns.kdeplot(Titanic_df_scaled ['Sex'])\n",
    "sns.kdeplot(Titanic_df_scaled ['Age'])\n",
    "sns.kdeplot(Titanic_df_scaled ['Embarked'])\n",
    "plt.title('MinMaxScaler')\n",
    "plt.xlabel('Features')\n",
    "plt.legend(['Pclass', 'Sex', 'Age', 'Embarked'])\n",
    "plt.show()\n",
    "plt.show()"
   ]
  },
  {
   "cell_type": "code",
   "execution_count": 40,
   "id": "33dabd2f",
   "metadata": {
    "ExecuteTime": {
     "end_time": "2022-07-03T08:51:49.581075Z",
     "start_time": "2022-07-03T08:51:49.566116Z"
    }
   },
   "outputs": [
    {
     "data": {
      "text/plain": [
       "Pclass        0.699015\n",
       "Sex           0.228475\n",
       "Age         169.052400\n",
       "Embarked      0.626477\n",
       "lable         0.236772\n",
       "dtype: float64"
      ]
     },
     "execution_count": 40,
     "metadata": {},
     "output_type": "execute_result"
    }
   ],
   "source": [
    "Titanic_df.var()"
   ]
  },
  {
   "cell_type": "code",
   "execution_count": 41,
   "id": "579b7beb",
   "metadata": {
    "ExecuteTime": {
     "end_time": "2022-07-03T07:50:20.066446Z",
     "start_time": "2022-07-03T07:50:20.045500Z"
    }
   },
   "outputs": [
    {
     "name": "stdout",
     "output_type": "stream",
     "text": [
      "feature 들의 평균 값\n",
      "Pclass     -6.913580e-01\n",
      "Sex        -3.524130e-01\n",
      "Age         1.996159e-16\n",
      "Embarked   -4.635241e-01\n",
      "lable       3.838384e-01\n",
      "dtype: float64\n",
      "\n",
      "feature 들의 분산 값\n",
      "Pclass      0.699015\n",
      "Sex         0.228475\n",
      "Age         1.000310\n",
      "Embarked    0.626477\n",
      "lable       0.236772\n",
      "dtype: float64\n"
     ]
    }
   ],
   "source": [
    "from sklearn.preprocessing import RobustScaler\n",
    "#  RobustScaler\n",
    "# -> 평균과 분산대신, 중간값과 사분위 값을 조정\n",
    "# ->아주 동 떨어진 데이터를 제거\n",
    "# *이상치: 측정된 데이터 사이의 경향성을 지나치게 해치는 데이터 ex)측정 에러\n",
    "scaler = RobustScaler()\n",
    "scaler.fit(Titanic_df)\n",
    "Titanic_scaled = scaler.transform(Titanic_df)\n",
    "Titanic_df_scaled = pd.DataFrame(data=Titanic_scaled, columns = Titanic_df.columns)\n",
    "\n",
    "print('feature 들의 평균 값')\n",
    "print(Titanic_df_scaled.mean())\n",
    "print('\\nfeature 들의 분산 값')\n",
    "print(Titanic_df_scaled.var())"
   ]
  },
  {
   "cell_type": "code",
   "execution_count": null,
   "id": "d4927b93",
   "metadata": {
    "ExecuteTime": {
     "end_time": "2022-07-03T07:50:31.345100Z",
     "start_time": "2022-07-03T07:50:31.055010Z"
    },
    "scrolled": false
   },
   "outputs": [
    {
     "data": {
      "image/png": "[encoded data removed]",
      "text/plain": [
       "<Figure size 432x288 with 1 Axes>"
      ]
     },
     "metadata": {
      "needs_background": "light"
     },
     "output_type": "display_data"
    }
   ],
   "source": [
    "import matplotlib.pyplot as plt\n",
    "import seaborn as sns\n",
    "sns.kdeplot(Titanic_df_scaled ['Pclass'])\n",
    "sns.kdeplot(Titanic_df_scaled ['Sex'])\n",
    "sns.kdeplot(Titanic_df_scaled ['Age'])\n",
    "sns.kdeplot(Titanic_df_scaled ['Embarked'])\n",
    "plt.title('RobustScaler')\n",
    "plt.xlabel('Features')\n",
    "plt.legend(['Pclsss', 'Sex', 'Age', 'Embarked'])\n",
    "plt.show()\n",
    "plt.show()"
   ]
  },
  {
   "cell_type": "code",
   "execution_count": null,
   "id": "8ec746d4",
   "metadata": {
    "ExecuteTime": {
     "end_time": "2022-07-03T07:21:54.380518Z",
     "start_time": "2022-07-03T07:21:54.374535Z"
    }
   },
   "outputs": [],
   "source": [
    "from sklearn.tree import DecisionTreeClassifier\n",
    "from sklearn.model_selection import train_test_split\n",
    "from sklearn import tree"
   ]
  },
  {
   "cell_type": "code",
   "execution_count": null,
   "id": "73e972c8",
   "metadata": {
    "ExecuteTime": {
     "end_time": "2022-07-03T07:21:54.738736Z",
     "start_time": "2022-07-03T07:21:54.734064Z"
    }
   },
   "outputs": [],
   "source": [
    "data = [\"Pclass\", \"Sex\", \"Age\", \"Embarked\"]"
   ]
  },
  {
   "cell_type": "code",
   "execution_count": null,
   "id": "e260f39c",
   "metadata": {
    "ExecuteTime": {
     "end_time": "2022-07-03T07:26:23.238975Z",
     "start_time": "2022-07-03T07:26:23.229002Z"
    }
   },
   "outputs": [
    {
     "ename": "NameError",
     "evalue": "name 'data' is not defined",
     "output_type": "error",
     "traceback": [
      "\u001b[1;31m---------------------------------------------------------------------------\u001b[0m",
      "\u001b[1;31mNameError\u001b[0m                                 Traceback (most recent call last)",
      "Cell \u001b[1;32mIn [36], line 1\u001b[0m\n\u001b[1;32m----> 1\u001b[0m X_train, X_test, y_train, y_test \u001b[39m=\u001b[39m train_test_split(Titanic_df[data], Titanic_df[\u001b[39m\"\u001b[39m\u001b[39mlable\u001b[39m\u001b[39m\"\u001b[39m], test_size\u001b[39m=\u001b[39m\u001b[39m0.2\u001b[39m, random_state\u001b[39m=\u001b[39m\u001b[39m42\u001b[39m)\n",
      "\u001b[1;31mNameError\u001b[0m: name 'data' is not defined"
     ]
    }
   ],
   "source": [
    "X_train, X_test, y_train, y_test = train_test_split(Titanic_df[data], Titanic_df[\"lable\"], test_size=0.2, random_state=42)"
   ]
  },
  {
   "cell_type": "code",
   "execution_count": null,
   "id": "85790877",
   "metadata": {
    "ExecuteTime": {
     "end_time": "2022-07-03T07:26:46.294495Z",
     "start_time": "2022-07-03T07:26:46.282526Z"
    },
    "scrolled": false
   },
   "outputs": [
    {
     "ename": "ValueError",
     "evalue": "could not convert string to float: 'male'",
     "output_type": "error",
     "traceback": [
      "\u001b[1;31m---------------------------------------------------------------------------\u001b[0m",
      "\u001b[1;31mValueError\u001b[0m                                Traceback (most recent call last)",
      "Cell \u001b[1;32mIn [37], line 2\u001b[0m\n\u001b[0;32m      1\u001b[0m clf \u001b[39m=\u001b[39m DecisionTreeClassifier(max_leaf_nodes\u001b[39m=\u001b[39m\u001b[39m4\u001b[39m, random_state\u001b[39m=\u001b[39m\u001b[39m0\u001b[39m)\n\u001b[1;32m----> 2\u001b[0m clf\u001b[39m.\u001b[39;49mfit(X_train, y_train)\n",
      "File \u001b[1;32mc:\\Users\\OPERATOR-70\\anaconda3\\lib\\site-packages\\sklearn\\tree\\_classes.py:937\u001b[0m, in \u001b[0;36mDecisionTreeClassifier.fit\u001b[1;34m(self, X, y, sample_weight, check_input, X_idx_sorted)\u001b[0m\n\u001b[0;32m    899\u001b[0m \u001b[39mdef\u001b[39;00m \u001b[39mfit\u001b[39m(\n\u001b[0;32m    900\u001b[0m     \u001b[39mself\u001b[39m, X, y, sample_weight\u001b[39m=\u001b[39m\u001b[39mNone\u001b[39;00m, check_input\u001b[39m=\u001b[39m\u001b[39mTrue\u001b[39;00m, X_idx_sorted\u001b[39m=\u001b[39m\u001b[39m\"\u001b[39m\u001b[39mdeprecated\u001b[39m\u001b[39m\"\u001b[39m\n\u001b[0;32m    901\u001b[0m ):\n\u001b[0;32m    902\u001b[0m     \u001b[39m\"\"\"Build a decision tree classifier from the training set (X, y).\u001b[39;00m\n\u001b[0;32m    903\u001b[0m \n\u001b[0;32m    904\u001b[0m \u001b[39m    Parameters\u001b[39;00m\n\u001b[1;32m   (...)\u001b[0m\n\u001b[0;32m    934\u001b[0m \u001b[39m        Fitted estimator.\u001b[39;00m\n\u001b[0;32m    935\u001b[0m \u001b[39m    \"\"\"\u001b[39;00m\n\u001b[1;32m--> 937\u001b[0m     \u001b[39msuper\u001b[39;49m()\u001b[39m.\u001b[39;49mfit(\n\u001b[0;32m    938\u001b[0m         X,\n\u001b[0;32m    939\u001b[0m         y,\n\u001b[0;32m    940\u001b[0m         sample_weight\u001b[39m=\u001b[39;49msample_weight,\n\u001b[0;32m    941\u001b[0m         check_input\u001b[39m=\u001b[39;49mcheck_input,\n\u001b[0;32m    942\u001b[0m         X_idx_sorted\u001b[39m=\u001b[39;49mX_idx_sorted,\n\u001b[0;32m    943\u001b[0m     )\n\u001b[0;32m    944\u001b[0m     \u001b[39mreturn\u001b[39;00m \u001b[39mself\u001b[39m\n",
      "File \u001b[1;32mc:\\Users\\OPERATOR-70\\anaconda3\\lib\\site-packages\\sklearn\\tree\\_classes.py:165\u001b[0m, in \u001b[0;36mBaseDecisionTree.fit\u001b[1;34m(self, X, y, sample_weight, check_input, X_idx_sorted)\u001b[0m\n\u001b[0;32m    163\u001b[0m check_X_params \u001b[39m=\u001b[39m \u001b[39mdict\u001b[39m(dtype\u001b[39m=\u001b[39mDTYPE, accept_sparse\u001b[39m=\u001b[39m\u001b[39m\"\u001b[39m\u001b[39mcsc\u001b[39m\u001b[39m\"\u001b[39m)\n\u001b[0;32m    164\u001b[0m check_y_params \u001b[39m=\u001b[39m \u001b[39mdict\u001b[39m(ensure_2d\u001b[39m=\u001b[39m\u001b[39mFalse\u001b[39;00m, dtype\u001b[39m=\u001b[39m\u001b[39mNone\u001b[39;00m)\n\u001b[1;32m--> 165\u001b[0m X, y \u001b[39m=\u001b[39m \u001b[39mself\u001b[39;49m\u001b[39m.\u001b[39;49m_validate_data(\n\u001b[0;32m    166\u001b[0m     X, y, validate_separately\u001b[39m=\u001b[39;49m(check_X_params, check_y_params)\n\u001b[0;32m    167\u001b[0m )\n\u001b[0;32m    168\u001b[0m \u001b[39mif\u001b[39;00m issparse(X):\n\u001b[0;32m    169\u001b[0m     X\u001b[39m.\u001b[39msort_indices()\n",
      "File \u001b[1;32mc:\\Users\\OPERATOR-70\\anaconda3\\lib\\site-packages\\sklearn\\base.py:578\u001b[0m, in \u001b[0;36mBaseEstimator._validate_data\u001b[1;34m(self, X, y, reset, validate_separately, **check_params)\u001b[0m\n\u001b[0;32m    572\u001b[0m \u001b[39mif\u001b[39;00m validate_separately:\n\u001b[0;32m    573\u001b[0m     \u001b[39m# We need this because some estimators validate X and y\u001b[39;00m\n\u001b[0;32m    574\u001b[0m     \u001b[39m# separately, and in general, separately calling check_array()\u001b[39;00m\n\u001b[0;32m    575\u001b[0m     \u001b[39m# on X and y isn't equivalent to just calling check_X_y()\u001b[39;00m\n\u001b[0;32m    576\u001b[0m     \u001b[39m# :(\u001b[39;00m\n\u001b[0;32m    577\u001b[0m     check_X_params, check_y_params \u001b[39m=\u001b[39m validate_separately\n\u001b[1;32m--> 578\u001b[0m     X \u001b[39m=\u001b[39m check_array(X, \u001b[39m*\u001b[39m\u001b[39m*\u001b[39mcheck_X_params)\n\u001b[0;32m    579\u001b[0m     y \u001b[39m=\u001b[39m check_array(y, \u001b[39m*\u001b[39m\u001b[39m*\u001b[39mcheck_y_params)\n\u001b[0;32m    580\u001b[0m \u001b[39melse\u001b[39;00m:\n",
      "File \u001b[1;32mc:\\Users\\OPERATOR-70\\anaconda3\\lib\\site-packages\\sklearn\\utils\\validation.py:746\u001b[0m, in \u001b[0;36mcheck_array\u001b[1;34m(array, accept_sparse, accept_large_sparse, dtype, order, copy, force_all_finite, ensure_2d, allow_nd, ensure_min_samples, ensure_min_features, estimator)\u001b[0m\n\u001b[0;32m    744\u001b[0m         array \u001b[39m=\u001b[39m array\u001b[39m.\u001b[39mastype(dtype, casting\u001b[39m=\u001b[39m\u001b[39m\"\u001b[39m\u001b[39munsafe\u001b[39m\u001b[39m\"\u001b[39m, copy\u001b[39m=\u001b[39m\u001b[39mFalse\u001b[39;00m)\n\u001b[0;32m    745\u001b[0m     \u001b[39melse\u001b[39;00m:\n\u001b[1;32m--> 746\u001b[0m         array \u001b[39m=\u001b[39m np\u001b[39m.\u001b[39;49masarray(array, order\u001b[39m=\u001b[39;49morder, dtype\u001b[39m=\u001b[39;49mdtype)\n\u001b[0;32m    747\u001b[0m \u001b[39mexcept\u001b[39;00m ComplexWarning \u001b[39mas\u001b[39;00m complex_warning:\n\u001b[0;32m    748\u001b[0m     \u001b[39mraise\u001b[39;00m \u001b[39mValueError\u001b[39;00m(\n\u001b[0;32m    749\u001b[0m         \u001b[39m\"\u001b[39m\u001b[39mComplex data not supported\u001b[39m\u001b[39m\\n\u001b[39;00m\u001b[39m{}\u001b[39;00m\u001b[39m\\n\u001b[39;00m\u001b[39m\"\u001b[39m\u001b[39m.\u001b[39mformat(array)\n\u001b[0;32m    750\u001b[0m     ) \u001b[39mfrom\u001b[39;00m \u001b[39mcomplex_warning\u001b[39;00m\n",
      "File \u001b[1;32mc:\\Users\\OPERATOR-70\\anaconda3\\lib\\site-packages\\pandas\\core\\generic.py:2070\u001b[0m, in \u001b[0;36mNDFrame.__array__\u001b[1;34m(self, dtype)\u001b[0m\n\u001b[0;32m   2069\u001b[0m \u001b[39mdef\u001b[39;00m \u001b[39m__array__\u001b[39m(\u001b[39mself\u001b[39m, dtype: npt\u001b[39m.\u001b[39mDTypeLike \u001b[39m|\u001b[39m \u001b[39mNone\u001b[39;00m \u001b[39m=\u001b[39m \u001b[39mNone\u001b[39;00m) \u001b[39m-\u001b[39m\u001b[39m>\u001b[39m np\u001b[39m.\u001b[39mndarray:\n\u001b[1;32m-> 2070\u001b[0m     \u001b[39mreturn\u001b[39;00m np\u001b[39m.\u001b[39;49masarray(\u001b[39mself\u001b[39;49m\u001b[39m.\u001b[39;49m_values, dtype\u001b[39m=\u001b[39;49mdtype)\n",
      "\u001b[1;31mValueError\u001b[0m: could not convert string to float: 'male'"
     ]
    }
   ],
   "source": [
    "clf = DecisionTreeClassifier(max_leaf_nodes=4, random_state=0)\n",
    "clf.fit(X_train, y_train)"
   ]
  },
  {
   "cell_type": "code",
   "execution_count": null,
   "id": "ad5c4501",
   "metadata": {
    "ExecuteTime": {
     "end_time": "2022-07-03T07:26:47.968265Z",
     "start_time": "2022-07-03T07:26:47.460658Z"
    },
    "scrolled": true
   },
   "outputs": [
    {
     "ename": "NameError",
     "evalue": "name 'tree' is not defined",
     "output_type": "error",
     "traceback": [
      "\u001b[1;31m---------------------------------------------------------------------------\u001b[0m",
      "\u001b[1;31mNameError\u001b[0m                                 Traceback (most recent call last)",
      "Cell \u001b[1;32mIn [38], line 1\u001b[0m\n\u001b[1;32m----> 1\u001b[0m tree\u001b[39m.\u001b[39mplot_tree(clf)\n\u001b[0;32m      2\u001b[0m plt\u001b[39m.\u001b[39mshow()\n",
      "\u001b[1;31mNameError\u001b[0m: name 'tree' is not defined"
     ]
    }
   ],
   "source": [
    "tree.plot_tree(clf)\n",
    "plt.show()"
   ]
  },
  {
   "cell_type": "code",
   "execution_count": null,
   "id": "5c42142d",
   "metadata": {},
   "outputs": [],
   "source": []
  }
 ],
 "metadata": {
  "kernelspec": {
   "display_name": "base",
   "language": "python",
   "name": "python3"
  },
  "language_info": {
   "codemirror_mode": {
    "name": "ipython",
    "version": 3
   },
   "file_extension": ".py",
   "mimetype": "text/x-python",
   "name": "python",
   "nbconvert_exporter": "python",
   "pygments_lexer": "ipython3",
   "version": "3.9.13"
  },
  "toc": {
   "base_numbering": 1,
   "nav_menu": {},
   "number_sections": true,
   "sideBar": true,
   "skip_h1_title": false,
   "title_cell": "Table of Contents",
   "title_sidebar": "Contents",
   "toc_cell": false,
   "toc_position": {},
   "toc_section_display": true,
   "toc_window_display": false
  },
  "vscode": {
   "interpreter": {
    "hash": "07e790d47e7df270e92edb1d33331ed5175777e346d76f989411ef47a8fb7403"
   }
  }
 },
 "nbformat": 4,
 "nbformat_minor": 5
}

{
 "cells": [
  {
   "cell_type": "markdown",
   "metadata": {},
   "source": [
    "# PCA(주성분 분석)\n",
    "### 고차원을 저차원으로 투영해서 분석\n",
    "PCA로 변환된 데이터가 원본 데이터보다 더 나은 예측 정확도를 보이는 것은 항상 그런 것은 아닙니다.\n",
    "PCA 변환 차원 개수에 따라 예측 성능이 떨어지기도 합니다.\n",
    "4개의 속성이 2개의 속성이 되어도 예측 성능에 영향을 받지 않을 정도로 PCA 변환이 잘 되었음을 의미합니다.\n",
    "다만, 고차원 데이터를 저차원으로 변환하면 직관적으로 이해하기 편하며, 데이터의 주축을 이루는 속성이 무엇인지 파악할 수 있습니다.\n"
   ]
  },
  {
   "cell_type": "code",
   "execution_count": 1,
   "metadata": {},
   "outputs": [],
   "source": [
    "import pandas as pd\n",
    "import matplotlib.pyplot as plt\n",
    "%matplotlib inline\n",
    "import seaborn as sns\n",
    "import numpy as np\n",
    "\n",
    "# 한글폰트 출력 가능 코드\n",
    "from matplotlib import rc\n",
    "#rc('font', family='AppleGothic') # Mac Os\n",
    "rc('font', family='NanumGothic') # Windows Os\n",
    "plt.rcParams['axes.unicode_minus'] = False\n"
   ]
  },
  {
   "cell_type": "code",
   "execution_count": 2,
   "metadata": {},
   "outputs": [
    {
     "name": "stdout",
     "output_type": "stream",
     "text": [
      "(150, 5)\n"
     ]
    },
    {
     "data": {
      "text/html": [
       "<div>\n",
       "<style scoped>\n",
       "    .dataframe tbody tr th:only-of-type {\n",
       "        vertical-align: middle;\n",
       "    }\n",
       "\n",
       "    .dataframe tbody tr th {\n",
       "        vertical-align: top;\n",
       "    }\n",
       "\n",
       "    .dataframe thead th {\n",
       "        text-align: right;\n",
       "    }\n",
       "</style>\n",
       "<table border=\"1\" class=\"dataframe\">\n",
       "  <thead>\n",
       "    <tr style=\"text-align: right;\">\n",
       "      <th></th>\n",
       "      <th>sepal_length</th>\n",
       "      <th>sepal_width</th>\n",
       "      <th>petal_length</th>\n",
       "      <th>petal_width</th>\n",
       "      <th>target</th>\n",
       "    </tr>\n",
       "  </thead>\n",
       "  <tbody>\n",
       "    <tr>\n",
       "      <th>0</th>\n",
       "      <td>5.1</td>\n",
       "      <td>3.5</td>\n",
       "      <td>1.4</td>\n",
       "      <td>0.2</td>\n",
       "      <td>0</td>\n",
       "    </tr>\n",
       "    <tr>\n",
       "      <th>1</th>\n",
       "      <td>4.9</td>\n",
       "      <td>3.0</td>\n",
       "      <td>1.4</td>\n",
       "      <td>0.2</td>\n",
       "      <td>0</td>\n",
       "    </tr>\n",
       "    <tr>\n",
       "      <th>2</th>\n",
       "      <td>4.7</td>\n",
       "      <td>3.2</td>\n",
       "      <td>1.3</td>\n",
       "      <td>0.2</td>\n",
       "      <td>0</td>\n",
       "    </tr>\n",
       "    <tr>\n",
       "      <th>3</th>\n",
       "      <td>4.6</td>\n",
       "      <td>3.1</td>\n",
       "      <td>1.5</td>\n",
       "      <td>0.2</td>\n",
       "      <td>0</td>\n",
       "    </tr>\n",
       "    <tr>\n",
       "      <th>4</th>\n",
       "      <td>5.0</td>\n",
       "      <td>3.6</td>\n",
       "      <td>1.4</td>\n",
       "      <td>0.2</td>\n",
       "      <td>0</td>\n",
       "    </tr>\n",
       "  </tbody>\n",
       "</table>\n",
       "</div>"
      ],
      "text/plain": [
       "   sepal_length  sepal_width  petal_length  petal_width  target\n",
       "0           5.1          3.5           1.4          0.2       0\n",
       "1           4.9          3.0           1.4          0.2       0\n",
       "2           4.7          3.2           1.3          0.2       0\n",
       "3           4.6          3.1           1.5          0.2       0\n",
       "4           5.0          3.6           1.4          0.2       0"
      ]
     },
     "execution_count": 2,
     "metadata": {},
     "output_type": "execute_result"
    }
   ],
   "source": [
    "from sklearn.datasets import load_iris\n",
    "iris = load_iris()\n",
    "\n",
    "columns = ['sepal_length', 'sepal_width', 'petal_length', 'petal_width']\n",
    "irisDF = pd.DataFrame(iris.data, columns=columns)\n",
    "irisDF['target'] =iris.target\n",
    "\n",
    "print(irisDF.shape)\n",
    "irisDF.head()"
   ]
  },
  {
   "cell_type": "code",
   "execution_count": 3,
   "metadata": {},
   "outputs": [
    {
     "name": "stderr",
     "output_type": "stream",
     "text": [
      "findfont: Font family ['NanumGothic'] not found. Falling back to DejaVu Sans.\n"
     ]
    },
    {
     "data": {
      "image/png": "[encoded data removed]",
      "text/plain": [
       "<Figure size 640x480 with 1 Axes>"
      ]
     },
     "metadata": {},
     "output_type": "display_data"
    }
   ],
   "source": [
    "# target, color 지정\n",
    "\n",
    "# 산점도 그래프 출력\n",
    "# 2개만 지정했을 때\n",
    "for i in range(0,3) :\n",
    "    x_axis_data = irisDF[irisDF['target'] == i]['sepal_length']\n",
    "    y_axis_data = irisDF[irisDF['target'] == i]['sepal_width']\n",
    "    plt.scatter(x_axis_data, y_axis_data,  label=iris.target_names[i])\n",
    "    \n",
    "plt.legend()\n",
    "plt.xlabel('sepal_length')\n",
    "plt.ylabel('sepal_width')\n",
    "plt.show()"
   ]
  },
  {
   "cell_type": "code",
   "execution_count": 4,
   "metadata": {},
   "outputs": [
    {
     "name": "stdout",
     "output_type": "stream",
     "text": [
      "(150, 4)\n"
     ]
    }
   ],
   "source": [
    "# 표준화 패키지 라이브러리 \n",
    "from sklearn.preprocessing import StandardScaler\n",
    "\n",
    "# feature, target 분류\n",
    "feature = irisDF.drop(['target'], axis=1).values \n",
    "target = irisDF['target'].values \n",
    "\n",
    "# 스케일러 적용 후 저장\n",
    "scale_feature = StandardScaler().fit_transform(feature)\n",
    "scaled_data =pd.DataFrame(scale_feature, columns=['sepal_length', 'sepal width', 'petal length', 'petal width'])\n",
    "scaled_data.head()\n",
    "print(scaled_data.shape)"
   ]
  },
  {
   "cell_type": "code",
   "execution_count": 5,
   "metadata": {},
   "outputs": [
    {
     "data": {
      "text/html": [
       "<div>\n",
       "<style scoped>\n",
       "    .dataframe tbody tr th:only-of-type {\n",
       "        vertical-align: middle;\n",
       "    }\n",
       "\n",
       "    .dataframe tbody tr th {\n",
       "        vertical-align: top;\n",
       "    }\n",
       "\n",
       "    .dataframe thead th {\n",
       "        text-align: right;\n",
       "    }\n",
       "</style>\n",
       "<table border=\"1\" class=\"dataframe\">\n",
       "  <thead>\n",
       "    <tr style=\"text-align: right;\">\n",
       "      <th></th>\n",
       "      <th>pca_1</th>\n",
       "      <th>pca_2</th>\n",
       "      <th>target</th>\n",
       "    </tr>\n",
       "  </thead>\n",
       "  <tbody>\n",
       "    <tr>\n",
       "      <th>0</th>\n",
       "      <td>-2.264703</td>\n",
       "      <td>0.480027</td>\n",
       "      <td>0</td>\n",
       "    </tr>\n",
       "    <tr>\n",
       "      <th>1</th>\n",
       "      <td>-2.080961</td>\n",
       "      <td>-0.674134</td>\n",
       "      <td>0</td>\n",
       "    </tr>\n",
       "    <tr>\n",
       "      <th>2</th>\n",
       "      <td>-2.364229</td>\n",
       "      <td>-0.341908</td>\n",
       "      <td>0</td>\n",
       "    </tr>\n",
       "    <tr>\n",
       "      <th>3</th>\n",
       "      <td>-2.299384</td>\n",
       "      <td>-0.597395</td>\n",
       "      <td>0</td>\n",
       "    </tr>\n",
       "    <tr>\n",
       "      <th>4</th>\n",
       "      <td>-2.389842</td>\n",
       "      <td>0.646835</td>\n",
       "      <td>0</td>\n",
       "    </tr>\n",
       "    <tr>\n",
       "      <th>...</th>\n",
       "      <td>...</td>\n",
       "      <td>...</td>\n",
       "      <td>...</td>\n",
       "    </tr>\n",
       "    <tr>\n",
       "      <th>145</th>\n",
       "      <td>1.870503</td>\n",
       "      <td>0.386966</td>\n",
       "      <td>2</td>\n",
       "    </tr>\n",
       "    <tr>\n",
       "      <th>146</th>\n",
       "      <td>1.564580</td>\n",
       "      <td>-0.896687</td>\n",
       "      <td>2</td>\n",
       "    </tr>\n",
       "    <tr>\n",
       "      <th>147</th>\n",
       "      <td>1.521170</td>\n",
       "      <td>0.269069</td>\n",
       "      <td>2</td>\n",
       "    </tr>\n",
       "    <tr>\n",
       "      <th>148</th>\n",
       "      <td>1.372788</td>\n",
       "      <td>1.011254</td>\n",
       "      <td>2</td>\n",
       "    </tr>\n",
       "    <tr>\n",
       "      <th>149</th>\n",
       "      <td>0.960656</td>\n",
       "      <td>-0.024332</td>\n",
       "      <td>2</td>\n",
       "    </tr>\n",
       "  </tbody>\n",
       "</table>\n",
       "<p>150 rows × 3 columns</p>\n",
       "</div>"
      ],
      "text/plain": [
       "        pca_1     pca_2  target\n",
       "0   -2.264703  0.480027       0\n",
       "1   -2.080961 -0.674134       0\n",
       "2   -2.364229 -0.341908       0\n",
       "3   -2.299384 -0.597395       0\n",
       "4   -2.389842  0.646835       0\n",
       "..        ...       ...     ...\n",
       "145  1.870503  0.386966       2\n",
       "146  1.564580 -0.896687       2\n",
       "147  1.521170  0.269069       2\n",
       "148  1.372788  1.011254       2\n",
       "149  0.960656 -0.024332       2\n",
       "\n",
       "[150 rows x 3 columns]"
      ]
     },
     "execution_count": 5,
     "metadata": {},
     "output_type": "execute_result"
    }
   ],
   "source": [
    "# PCA 기법 적용 (라이브러리)\n",
    "from sklearn.decomposition import PCA\n",
    "\n",
    "# 주성분을 몇개로 할지 결정 (2개 주성분)\n",
    "pca = PCA(n_components=2)\n",
    "pca2_feature = pca.fit_transform(scale_feature)\n",
    "\n",
    "# 주성분으로 이루어진 데이터 프레임 구성\n",
    "pca2_data = pd.DataFrame(data=pca2_feature, columns = ['pca_1', 'pca_2'])\n",
    "# pca2_data\n",
    "\n",
    "# 새로운 데이터프레임 형성 (라벨값 업데이트)\n",
    "finalDf = pca2_data\n",
    "finalDf['target'] = irisDF.target.values\n",
    "finalDf"
   ]
  },
  {
   "cell_type": "code",
   "execution_count": 6,
   "metadata": {},
   "outputs": [
    {
     "name": "stderr",
     "output_type": "stream",
     "text": [
      "findfont: Font family ['NanumGothic'] not found. Falling back to DejaVu Sans.\n",
      "findfont: Font family ['NanumGothic'] not found. Falling back to DejaVu Sans.\n"
     ]
    },
    {
     "data": {
      "image/png": "[encoded data removed]",
      "text/plain": [
       "<Figure size 800x800 with 1 Axes>"
      ]
     },
     "metadata": {},
     "output_type": "display_data"
    }
   ],
   "source": [
    "# 산점도 그래프 출력\n",
    "plt.figure(figsize = (8, 8))\n",
    "for i in range(0,3):\n",
    "    x_axis_data = finalDf[finalDf['target'] == i]['pca_1']\n",
    "    y_axis_data = finalDf[finalDf['target'] == i]['pca_2']\n",
    "    plt.scatter(x_axis_data, y_axis_data,label=iris.target_names[i])\n",
    "    \n",
    "plt.xlabel('Principal Component 1', fontsize = 15)\n",
    "plt.ylabel('Principal Component 2', fontsize = 15)\n",
    "plt.title('2 component PCA', fontsize=20)\n",
    "plt.legend(target)\n",
    "plt.grid()\n",
    "plt.show()"
   ]
  },
  {
   "cell_type": "code",
   "execution_count": 10,
   "metadata": {},
   "outputs": [
    {
     "data": {
      "application/vnd.plotly.v1+json": {
       "config": {
        "plotlyServerURL": "https://plot.ly"
       },
       "data": [
        {
         "hovertemplate": "pca_1=%{x}<br>pca_2=%{y}<br>color=%{marker.color}<extra></extra>",
         "legendgroup": "",
         "marker": {
          "color": [
           0,
           0,
           0,
           0,
           0,
           0,
           0,
           0,
           0,
           0,
           0,
           0,
           0,
           0,
           0,
           0,
           0,
           0,
           0,
           0,
           0,
           0,
           0,
           0,
           0,
           0,
           0,
           0,
           0,
           0,
           0,
           0,
           0,
           0,
           0,
           0,
           0,
           0,
           0,
           0,
           0,
           0,
           0,
           0,
           0,
           0,
           0,
           0,
           0,
           0,
           1,
           1,
           1,
           1,
           1,
           1,
           1,
           1,
           1,
           1,
           1,
           1,
           1,
           1,
           1,
           1,
           1,
           1,
           1,
           1,
           1,
           1,
           1,
           1,
           1,
           1,
           1,
           1,
           1,
           1,
           1,
           1,
           1,
           1,
           1,
           1,
           1,
           1,
           1,
           1,
           1,
           1,
           1,
           1,
           1,
           1,
           1,
           1,
           1,
           1,
           2,
           2,
           2,
           2,
           2,
           2,
           2,
           2,
           2,
           2,
           2,
           2,
           2,
           2,
           2,
           2,
           2,
           2,
           2,
           2,
           2,
           2,
           2,
           2,
           2,
           2,
           2,
           2,
           2,
           2,
           2,
           2,
           2,
           2,
           2,
           2,
           2,
           2,
           2,
           2,
           2,
           2,
           2,
           2,
           2,
           2,
           2,
           2,
           2,
           2
          ],
          "coloraxis": "coloraxis",
          "symbol": "circle"
         },
         "mode": "markers",
         "name": "",
         "orientation": "v",
         "showlegend": false,
         "type": "scatter",
         "x": [
          -2.6841256259695374,
          -2.7141416872943265,
          -2.888990569059297,
          -2.74534285564141,
          -2.7287165365545305,
          -2.2808596328444923,
          -2.820537750740609,
          -2.626144973146633,
          -2.8863827317805537,
          -2.672755797820954,
          -2.506947090651856,
          -2.6127552309087236,
          -2.786109266188018,
          -3.2238037438656533,
          -2.644750389942029,
          -2.3860390335311337,
          -2.6235278752244264,
          -2.6482967062543814,
          -2.1998203236175797,
          -2.5879863998787687,
          -2.3102562152425183,
          -2.5437052287571564,
          -3.215939415648612,
          -2.302733182226207,
          -2.3557540491237727,
          -2.5066689069258223,
          -2.468820073121339,
          -2.562319906196016,
          -2.639534715384543,
          -2.6319893872743467,
          -2.5873984766893527,
          -2.409932497002175,
          -2.6488623343499125,
          -2.598736749100587,
          -2.6369268781057995,
          -2.8662416521186698,
          -2.6252380498503722,
          -2.8006841154482225,
          -2.980502043781994,
          -2.590006313968096,
          -2.770102426027902,
          -2.8493687050431045,
          -2.9974065465949082,
          -2.405614485097486,
          -2.2094892377836794,
          -2.714451426757708,
          -2.53814825899894,
          -2.8394621676428504,
          -2.543085749830393,
          -2.70335978233516,
          1.2848256888583514,
          0.9324885323123177,
          1.4643023219913933,
          0.18331771995836976,
          1.0881032577116656,
          0.641669084258077,
          1.0950606626324462,
          -0.7491226698296582,
          1.044131826053435,
          -0.008745404082897042,
          -0.5078408838353267,
          0.5116985574475968,
          0.2649765081120461,
          0.9849345104708895,
          -0.17392537168176844,
          0.927860780944247,
          0.6602837616969361,
          0.23610499331767099,
          0.9447337280198124,
          0.045226976298699206,
          1.1162831773500488,
          0.35788841799730686,
          1.2981838753589126,
          0.9217289224470363,
          0.7148533259114113,
          0.900174373172167,
          1.3320244367220881,
          1.55780215506607,
          0.8132906498175407,
          -0.3055837780243095,
          -0.06812649206836435,
          -0.18962247237850266,
          0.13642871155801437,
          1.38002643591551,
          0.5880064433398624,
          0.8068583125004113,
          1.2206908824443523,
          0.8150952357665988,
          0.2459576798866916,
          0.16641321714545612,
          0.46480028840377846,
          0.8908151984694487,
          0.23054802355945478,
          -0.7045317592446643,
          0.3569814947010463,
          0.3319344799450577,
          0.3762156510666697,
          0.6425760075543374,
          -0.9064698649488365,
          0.29900084187814263,
          2.5311927278036266,
          1.4152358767039013,
          2.616676015995689,
          1.9715310530434347,
          2.3500059200446395,
          3.3970387360532572,
          0.5212322439097721,
          2.932587068993688,
          2.3212288165733765,
          2.916750966786071,
          1.661774153636531,
          1.8034019529650904,
          2.1655917960801445,
          1.3461635794584506,
          1.5859282238732197,
          1.9044563747934262,
          1.9496890593990686,
          3.4870553642902786,
          3.7956454220728832,
          1.300791712637656,
          2.427817913066045,
          1.1990011054655598,
          3.4999200389245373,
          1.3887661316914643,
          2.275430503872204,
          2.61409047381083,
          1.258508160511487,
          1.2911320591150202,
          2.1236087227738936,
          2.388003016003467,
          2.84167277810387,
          3.2306736614320926,
          2.159437642489049,
          1.4441612423295087,
          1.7812948100451111,
          3.076499931687187,
          2.1442433143020807,
          1.9050981488140746,
          1.1693263393414992,
          2.1076111432572415,
          2.314154705235599,
          1.9222678009026004,
          1.4152358767039013,
          2.5630133750774746,
          2.418746182732824,
          1.9441097945469674,
          1.5271666148145162,
          1.764345717044428,
          1.9009416142184223,
          1.3901888619479126
         ],
         "xaxis": "x",
         "y": [
          0.3193972465851019,
          -0.17700122506478058,
          -0.1449494260855574,
          -0.318298979251916,
          0.32675451293491986,
          0.7413304490629148,
          -0.08946138452856865,
          0.16338495969832856,
          -0.5783117541867039,
          -0.11377424587411698,
          0.6450688986485738,
          0.014729939161374515,
          -0.23511200020171852,
          -0.5113945870063822,
          1.1787646364375748,
          1.3380623304006525,
          0.8106795141812576,
          0.3118491445933546,
          0.8728390389622105,
          0.5135603087492768,
          0.3913459356538939,
          0.4329960632790281,
          0.13346806953852594,
          0.09870885481409937,
          -0.037281859677382526,
          -0.14601688049526787,
          0.13095148943525023,
          0.36771885743419974,
          0.3120399802352826,
          -0.19696122492431453,
          -0.20431849127413348,
          0.4109242642295726,
          0.813363820296962,
          1.0931457594493568,
          -0.12132234786586331,
          0.06936447158008038,
          0.5993700213794233,
          0.2686437377979823,
          -0.48795834442861535,
          0.22904383682701246,
          0.26352753374425647,
          -0.9409605736411967,
          -0.3419260574716098,
          0.18887142893026038,
          0.43666314163918785,
          -0.25020820418521117,
          0.5037711444614376,
          -0.22794556949382755,
          0.5794100215198891,
          0.10770608249941152,
          0.6851604704673079,
          0.31833363826262856,
          0.5042628153092036,
          -0.8279590118206324,
          0.07459067519771567,
          -0.41824687156867885,
          0.28346827006152875,
          -1.0048909611818952,
          0.22836189978839502,
          -0.723081905004834,
          -1.2659711905263937,
          -0.10398123549904058,
          -0.5500364636804753,
          -0.12481785412635768,
          -0.2548542087025894,
          0.46717949444151,
          -0.3529696657238504,
          -0.3336107668249157,
          -0.543145550779767,
          -0.5838343774718646,
          -0.08461685219478804,
          -0.06892503165601431,
          -0.3277873083339178,
          -0.1827377936213678,
          0.14905594436978425,
          0.3285044738343227,
          0.2444408760163428,
          0.26749544731025426,
          -0.16335030068761647,
          -0.36826218975458824,
          -0.7051721317994655,
          -0.6802867635281334,
          -0.314032438249237,
          -0.42095428731388196,
          -0.48428741998121816,
          0.19418231471315078,
          0.4076195936110067,
          -0.3720370599095023,
          -0.268524396622015,
          -0.6819267248636268,
          -0.6707115445117204,
          -0.03446444436826912,
          -0.4043858480073254,
          -1.0122482275317142,
          -0.5049100933371088,
          -0.21265468378116997,
          -0.2932189292514191,
          0.017738190112415897,
          -0.7560933665990142,
          -0.3488978064503361,
          -0.009849109498801984,
          -0.5749163475464893,
          0.34390315134173377,
          -0.17972790435224573,
          -0.040260947142531284,
          0.5508366730280546,
          -1.1927587270006448,
          0.35550000297749557,
          -0.2438315023106911,
          0.7827919488152782,
          0.2422284077550668,
          -0.21563761733355571,
          0.21627558507402428,
          -0.7768183473443396,
          -0.5396407140267186,
          0.11925069209197256,
          0.04194325966321105,
          1.1757393297134286,
          0.2573229734204785,
          -0.7611496364350638,
          0.3781960126170504,
          -0.6060915277579304,
          0.4606740989118939,
          -0.20439932735215122,
          0.3349906058216771,
          0.560901355123077,
          -0.1797047947227469,
          -0.11666865117401161,
          -0.20972947667730293,
          0.46463980470873567,
          0.37526916719510245,
          1.3741650867930466,
          -0.21727757866904926,
          -0.1434134104575811,
          -0.49990168107813676,
          0.6880856775711748,
          0.14006420108978992,
          0.04930052601302995,
          -0.1649902620231097,
          0.37228787196079716,
          0.1836512791690187,
          0.40920346681606173,
          -0.5749163475464893,
          0.2778626029291944,
          0.3047981978546918,
          0.1875323028006049,
          -0.37531698258048873,
          0.07885885451847544,
          0.1166279585120237,
          -0.2826609379905506
         ],
         "yaxis": "y"
        }
       ],
       "layout": {
        "coloraxis": {
         "colorbar": {
          "title": {
           "text": "color"
          }
         },
         "colorscale": [
          [
           0,
           "#0d0887"
          ],
          [
           0.1111111111111111,
           "#46039f"
          ],
          [
           0.2222222222222222,
           "#7201a8"
          ],
          [
           0.3333333333333333,
           "#9c179e"
          ],
          [
           0.4444444444444444,
           "#bd3786"
          ],
          [
           0.5555555555555556,
           "#d8576b"
          ],
          [
           0.6666666666666666,
           "#ed7953"
          ],
          [
           0.7777777777777778,
           "#fb9f3a"
          ],
          [
           0.8888888888888888,
           "#fdca26"
          ],
          [
           1,
           "#f0f921"
          ]
         ]
        },
        "legend": {
         "tracegroupgap": 0
        },
        "margin": {
         "t": 60
        },
        "template": {
         "data": {
          "bar": [
           {
            "error_x": {
             "color": "#2a3f5f"
            },
            "error_y": {
             "color": "#2a3f5f"
            },
            "marker": {
             "line": {
              "color": "#E5ECF6",
              "width": 0.5
             },
             "pattern": {
              "fillmode": "overlay",
              "size": 10,
              "solidity": 0.2
             }
            },
            "type": "bar"
           }
          ],
          "barpolar": [
           {
            "marker": {
             "line": {
              "color": "#E5ECF6",
              "width": 0.5
             },
             "pattern": {
              "fillmode": "overlay",
              "size": 10,
              "solidity": 0.2
             }
            },
            "type": "barpolar"
           }
          ],
          "carpet": [
           {
            "aaxis": {
             "endlinecolor": "#2a3f5f",
             "gridcolor": "white",
             "linecolor": "white",
             "minorgridcolor": "white",
             "startlinecolor": "#2a3f5f"
            },
            "baxis": {
             "endlinecolor": "#2a3f5f",
             "gridcolor": "white",
             "linecolor": "white",
             "minorgridcolor": "white",
             "startlinecolor": "#2a3f5f"
            },
            "type": "carpet"
           }
          ],
          "choropleth": [
           {
            "colorbar": {
             "outlinewidth": 0,
             "ticks": ""
            },
            "type": "choropleth"
           }
          ],
          "contour": [
           {
            "colorbar": {
             "outlinewidth": 0,
             "ticks": ""
            },
            "colorscale": [
             [
              0,
              "#0d0887"
             ],
             [
              0.1111111111111111,
              "#46039f"
             ],
             [
              0.2222222222222222,
              "#7201a8"
             ],
             [
              0.3333333333333333,
              "#9c179e"
             ],
             [
              0.4444444444444444,
              "#bd3786"
             ],
             [
              0.5555555555555556,
              "#d8576b"
             ],
             [
              0.6666666666666666,
              "#ed7953"
             ],
             [
              0.7777777777777778,
              "#fb9f3a"
             ],
             [
              0.8888888888888888,
              "#fdca26"
             ],
             [
              1,
              "#f0f921"
             ]
            ],
            "type": "contour"
           }
          ],
          "contourcarpet": [
           {
            "colorbar": {
             "outlinewidth": 0,
             "ticks": ""
            },
            "type": "contourcarpet"
           }
          ],
          "heatmap": [
           {
            "colorbar": {
             "outlinewidth": 0,
             "ticks": ""
            },
            "colorscale": [
             [
              0,
              "#0d0887"
             ],
             [
              0.1111111111111111,
              "#46039f"
             ],
             [
              0.2222222222222222,
              "#7201a8"
             ],
             [
              0.3333333333333333,
              "#9c179e"
             ],
             [
              0.4444444444444444,
              "#bd3786"
             ],
             [
              0.5555555555555556,
              "#d8576b"
             ],
             [
              0.6666666666666666,
              "#ed7953"
             ],
             [
              0.7777777777777778,
              "#fb9f3a"
             ],
             [
              0.8888888888888888,
              "#fdca26"
             ],
             [
              1,
              "#f0f921"
             ]
            ],
            "type": "heatmap"
           }
          ],
          "heatmapgl": [
           {
            "colorbar": {
             "outlinewidth": 0,
             "ticks": ""
            },
            "colorscale": [
             [
              0,
              "#0d0887"
             ],
             [
              0.1111111111111111,
              "#46039f"
             ],
             [
              0.2222222222222222,
              "#7201a8"
             ],
             [
              0.3333333333333333,
              "#9c179e"
             ],
             [
              0.4444444444444444,
              "#bd3786"
             ],
             [
              0.5555555555555556,
              "#d8576b"
             ],
             [
              0.6666666666666666,
              "#ed7953"
             ],
             [
              0.7777777777777778,
              "#fb9f3a"
             ],
             [
              0.8888888888888888,
              "#fdca26"
             ],
             [
              1,
              "#f0f921"
             ]
            ],
            "type": "heatmapgl"
           }
          ],
          "histogram": [
           {
            "marker": {
             "pattern": {
              "fillmode": "overlay",
              "size": 10,
              "solidity": 0.2
             }
            },
            "type": "histogram"
           }
          ],
          "histogram2d": [
           {
            "colorbar": {
             "outlinewidth": 0,
             "ticks": ""
            },
            "colorscale": [
             [
              0,
              "#0d0887"
             ],
             [
              0.1111111111111111,
              "#46039f"
             ],
             [
              0.2222222222222222,
              "#7201a8"
             ],
             [
              0.3333333333333333,
              "#9c179e"
             ],
             [
              0.4444444444444444,
              "#bd3786"
             ],
             [
              0.5555555555555556,
              "#d8576b"
             ],
             [
              0.6666666666666666,
              "#ed7953"
             ],
             [
              0.7777777777777778,
              "#fb9f3a"
             ],
             [
              0.8888888888888888,
              "#fdca26"
             ],
             [
              1,
              "#f0f921"
             ]
            ],
            "type": "histogram2d"
           }
          ],
          "histogram2dcontour": [
           {
            "colorbar": {
             "outlinewidth": 0,
             "ticks": ""
            },
            "colorscale": [
             [
              0,
              "#0d0887"
             ],
             [
              0.1111111111111111,
              "#46039f"
             ],
             [
              0.2222222222222222,
              "#7201a8"
             ],
             [
              0.3333333333333333,
              "#9c179e"
             ],
             [
              0.4444444444444444,
              "#bd3786"
             ],
             [
              0.5555555555555556,
              "#d8576b"
             ],
             [
              0.6666666666666666,
              "#ed7953"
             ],
             [
              0.7777777777777778,
              "#fb9f3a"
             ],
             [
              0.8888888888888888,
              "#fdca26"
             ],
             [
              1,
              "#f0f921"
             ]
            ],
            "type": "histogram2dcontour"
           }
          ],
          "mesh3d": [
           {
            "colorbar": {
             "outlinewidth": 0,
             "ticks": ""
            },
            "type": "mesh3d"
           }
          ],
          "parcoords": [
           {
            "line": {
             "colorbar": {
              "outlinewidth": 0,
              "ticks": ""
             }
            },
            "type": "parcoords"
           }
          ],
          "pie": [
           {
            "automargin": true,
            "type": "pie"
           }
          ],
          "scatter": [
           {
            "fillpattern": {
             "fillmode": "overlay",
             "size": 10,
             "solidity": 0.2
            },
            "type": "scatter"
           }
          ],
          "scatter3d": [
           {
            "line": {
             "colorbar": {
              "outlinewidth": 0,
              "ticks": ""
             }
            },
            "marker": {
             "colorbar": {
              "outlinewidth": 0,
              "ticks": ""
             }
            },
            "type": "scatter3d"
           }
          ],
          "scattercarpet": [
           {
            "marker": {
             "colorbar": {
              "outlinewidth": 0,
              "ticks": ""
             }
            },
            "type": "scattercarpet"
           }
          ],
          "scattergeo": [
           {
            "marker": {
             "colorbar": {
              "outlinewidth": 0,
              "ticks": ""
             }
            },
            "type": "scattergeo"
           }
          ],
          "scattergl": [
           {
            "marker": {
             "colorbar": {
              "outlinewidth": 0,
              "ticks": ""
             }
            },
            "type": "scattergl"
           }
          ],
          "scattermapbox": [
           {
            "marker": {
             "colorbar": {
              "outlinewidth": 0,
              "ticks": ""
             }
            },
            "type": "scattermapbox"
           }
          ],
          "scatterpolar": [
           {
            "marker": {
             "colorbar": {
              "outlinewidth": 0,
              "ticks": ""
             }
            },
            "type": "scatterpolar"
           }
          ],
          "scatterpolargl": [
           {
            "marker": {
             "colorbar": {
              "outlinewidth": 0,
              "ticks": ""
             }
            },
            "type": "scatterpolargl"
           }
          ],
          "scatterternary": [
           {
            "marker": {
             "colorbar": {
              "outlinewidth": 0,
              "ticks": ""
             }
            },
            "type": "scatterternary"
           }
          ],
          "surface": [
           {
            "colorbar": {
             "outlinewidth": 0,
             "ticks": ""
            },
            "colorscale": [
             [
              0,
              "#0d0887"
             ],
             [
              0.1111111111111111,
              "#46039f"
             ],
             [
              0.2222222222222222,
              "#7201a8"
             ],
             [
              0.3333333333333333,
              "#9c179e"
             ],
             [
              0.4444444444444444,
              "#bd3786"
             ],
             [
              0.5555555555555556,
              "#d8576b"
             ],
             [
              0.6666666666666666,
              "#ed7953"
             ],
             [
              0.7777777777777778,
              "#fb9f3a"
             ],
             [
              0.8888888888888888,
              "#fdca26"
             ],
             [
              1,
              "#f0f921"
             ]
            ],
            "type": "surface"
           }
          ],
          "table": [
           {
            "cells": {
             "fill": {
              "color": "#EBF0F8"
             },
             "line": {
              "color": "white"
             }
            },
            "header": {
             "fill": {
              "color": "#C8D4E3"
             },
             "line": {
              "color": "white"
             }
            },
            "type": "table"
           }
          ]
         },
         "layout": {
          "annotationdefaults": {
           "arrowcolor": "#2a3f5f",
           "arrowhead": 0,
           "arrowwidth": 1
          },
          "autotypenumbers": "strict",
          "coloraxis": {
           "colorbar": {
            "outlinewidth": 0,
            "ticks": ""
           }
          },
          "colorscale": {
           "diverging": [
            [
             0,
             "#8e0152"
            ],
            [
             0.1,
             "#c51b7d"
            ],
            [
             0.2,
             "#de77ae"
            ],
            [
             0.3,
             "#f1b6da"
            ],
            [
             0.4,
             "#fde0ef"
            ],
            [
             0.5,
             "#f7f7f7"
            ],
            [
             0.6,
             "#e6f5d0"
            ],
            [
             0.7,
             "#b8e186"
            ],
            [
             0.8,
             "#7fbc41"
            ],
            [
             0.9,
             "#4d9221"
            ],
            [
             1,
             "#276419"
            ]
           ],
           "sequential": [
            [
             0,
             "#0d0887"
            ],
            [
             0.1111111111111111,
             "#46039f"
            ],
            [
             0.2222222222222222,
             "#7201a8"
            ],
            [
             0.3333333333333333,
             "#9c179e"
            ],
            [
             0.4444444444444444,
             "#bd3786"
            ],
            [
             0.5555555555555556,
             "#d8576b"
            ],
            [
             0.6666666666666666,
             "#ed7953"
            ],
            [
             0.7777777777777778,
             "#fb9f3a"
            ],
            [
             0.8888888888888888,
             "#fdca26"
            ],
            [
             1,
             "#f0f921"
            ]
           ],
           "sequentialminus": [
            [
             0,
             "#0d0887"
            ],
            [
             0.1111111111111111,
             "#46039f"
            ],
            [
             0.2222222222222222,
             "#7201a8"
            ],
            [
             0.3333333333333333,
             "#9c179e"
            ],
            [
             0.4444444444444444,
             "#bd3786"
            ],
            [
             0.5555555555555556,
             "#d8576b"
            ],
            [
             0.6666666666666666,
             "#ed7953"
            ],
            [
             0.7777777777777778,
             "#fb9f3a"
            ],
            [
             0.8888888888888888,
             "#fdca26"
            ],
            [
             1,
             "#f0f921"
            ]
           ]
          },
          "colorway": [
           "#636efa",
           "#EF553B",
           "#00cc96",
           "#ab63fa",
           "#FFA15A",
           "#19d3f3",
           "#FF6692",
           "#B6E880",
           "#FF97FF",
           "#FECB52"
          ],
          "font": {
           "color": "#2a3f5f"
          },
          "geo": {
           "bgcolor": "white",
           "lakecolor": "white",
           "landcolor": "#E5ECF6",
           "showlakes": true,
           "showland": true,
           "subunitcolor": "white"
          },
          "hoverlabel": {
           "align": "left"
          },
          "hovermode": "closest",
          "mapbox": {
           "style": "light"
          },
          "paper_bgcolor": "white",
          "plot_bgcolor": "#E5ECF6",
          "polar": {
           "angularaxis": {
            "gridcolor": "white",
            "linecolor": "white",
            "ticks": ""
           },
           "bgcolor": "#E5ECF6",
           "radialaxis": {
            "gridcolor": "white",
            "linecolor": "white",
            "ticks": ""
           }
          },
          "scene": {
           "xaxis": {
            "backgroundcolor": "#E5ECF6",
            "gridcolor": "white",
            "gridwidth": 2,
            "linecolor": "white",
            "showbackground": true,
            "ticks": "",
            "zerolinecolor": "white"
           },
           "yaxis": {
            "backgroundcolor": "#E5ECF6",
            "gridcolor": "white",
            "gridwidth": 2,
            "linecolor": "white",
            "showbackground": true,
            "ticks": "",
            "zerolinecolor": "white"
           },
           "zaxis": {
            "backgroundcolor": "#E5ECF6",
            "gridcolor": "white",
            "gridwidth": 2,
            "linecolor": "white",
            "showbackground": true,
            "ticks": "",
            "zerolinecolor": "white"
           }
          },
          "shapedefaults": {
           "line": {
            "color": "#2a3f5f"
           }
          },
          "ternary": {
           "aaxis": {
            "gridcolor": "white",
            "linecolor": "white",
            "ticks": ""
           },
           "baxis": {
            "gridcolor": "white",
            "linecolor": "white",
            "ticks": ""
           },
           "bgcolor": "#E5ECF6",
           "caxis": {
            "gridcolor": "white",
            "linecolor": "white",
            "ticks": ""
           }
          },
          "title": {
           "x": 0.05
          },
          "xaxis": {
           "automargin": true,
           "gridcolor": "white",
           "linecolor": "white",
           "ticks": "",
           "title": {
            "standoff": 15
           },
           "zerolinecolor": "white",
           "zerolinewidth": 2
          },
          "yaxis": {
           "automargin": true,
           "gridcolor": "white",
           "linecolor": "white",
           "ticks": "",
           "title": {
            "standoff": 15
           },
           "zerolinecolor": "white",
           "zerolinewidth": 2
          }
         }
        },
        "xaxis": {
         "anchor": "y",
         "domain": [
          0,
          1
         ],
         "title": {
          "text": "pca_1"
         }
        },
        "yaxis": {
         "anchor": "x",
         "domain": [
          0,
          1
         ],
         "title": {
          "text": "pca_2"
         }
        }
       }
      }
     },
     "metadata": {},
     "output_type": "display_data"
    }
   ],
   "source": [
    "# interactive plot 출력\n",
    "\n",
    "# 라이브러리 호출\n",
    "import plotly.express as px\n",
    "from sklearn.decomposition import PCA\n",
    "\n",
    "# feature 지정\n",
    "feature = irisDF[['sepal_length', 'sepal_width', 'petal_length', 'petal_width']]\n",
    "\n",
    "# PCA 기법 반영 (2차원으로 축소) 및 데이터 프레임 형성\n",
    "pca = PCA(n_components=2)\n",
    "components = pd.DataFrame(pca.fit_transform(feature))\n",
    "components.columns = ['pca_1', 'pca_2']\n",
    "\n",
    "# plotly 도표 생성\n",
    "fig = px.scatter(components, x='pca_1', y='pca_2', color=irisDF['target'])\n",
    "fig.show()"
   ]
  },
  {
   "cell_type": "code",
   "execution_count": 9,
   "metadata": {},
   "outputs": [
    {
     "data": {
      "application/vnd.plotly.v1+json": {
       "config": {
        "plotlyServerURL": "https://plot.ly"
       },
       "data": [
        {
         "hovertemplate": "PC 1=%{x}<br>PC 2=%{y}<br>PC 3=%{z}<br>color=%{marker.color}<extra></extra>",
         "legendgroup": "",
         "marker": {
          "color": [
           0,
           0,
           0,
           0,
           0,
           0,
           0,
           0,
           0,
           0,
           0,
           0,
           0,
           0,
           0,
           0,
           0,
           0,
           0,
           0,
           0,
           0,
           0,
           0,
           0,
           0,
           0,
           0,
           0,
           0,
           0,
           0,
           0,
           0,
           0,
           0,
           0,
           0,
           0,
           0,
           0,
           0,
           0,
           0,
           0,
           0,
           0,
           0,
           0,
           0,
           1,
           1,
           1,
           1,
           1,
           1,
           1,
           1,
           1,
           1,
           1,
           1,
           1,
           1,
           1,
           1,
           1,
           1,
           1,
           1,
           1,
           1,
           1,
           1,
           1,
           1,
           1,
           1,
           1,
           1,
           1,
           1,
           1,
           1,
           1,
           1,
           1,
           1,
           1,
           1,
           1,
           1,
           1,
           1,
           1,
           1,
           1,
           1,
           1,
           1,
           2,
           2,
           2,
           2,
           2,
           2,
           2,
           2,
           2,
           2,
           2,
           2,
           2,
           2,
           2,
           2,
           2,
           2,
           2,
           2,
           2,
           2,
           2,
           2,
           2,
           2,
           2,
           2,
           2,
           2,
           2,
           2,
           2,
           2,
           2,
           2,
           2,
           2,
           2,
           2,
           2,
           2,
           2,
           2,
           2,
           2,
           2,
           2,
           2,
           2
          ],
          "coloraxis": "coloraxis",
          "symbol": "circle"
         },
         "mode": "markers",
         "name": "",
         "scene": "scene",
         "showlegend": false,
         "type": "scatter3d",
         "x": [
          -2.6841256259695374,
          -2.7141416872943265,
          -2.888990569059297,
          -2.74534285564141,
          -2.7287165365545305,
          -2.2808596328444923,
          -2.820537750740609,
          -2.626144973146633,
          -2.8863827317805537,
          -2.672755797820954,
          -2.506947090651856,
          -2.6127552309087236,
          -2.786109266188018,
          -3.2238037438656533,
          -2.644750389942029,
          -2.3860390335311337,
          -2.6235278752244264,
          -2.6482967062543814,
          -2.1998203236175797,
          -2.5879863998787687,
          -2.3102562152425183,
          -2.5437052287571564,
          -3.215939415648612,
          -2.302733182226207,
          -2.3557540491237727,
          -2.5066689069258223,
          -2.468820073121339,
          -2.562319906196016,
          -2.639534715384543,
          -2.6319893872743467,
          -2.5873984766893527,
          -2.409932497002175,
          -2.6488623343499125,
          -2.598736749100587,
          -2.6369268781057995,
          -2.8662416521186698,
          -2.6252380498503722,
          -2.8006841154482225,
          -2.980502043781994,
          -2.590006313968096,
          -2.770102426027902,
          -2.8493687050431045,
          -2.9974065465949082,
          -2.405614485097486,
          -2.2094892377836794,
          -2.714451426757708,
          -2.53814825899894,
          -2.8394621676428504,
          -2.543085749830393,
          -2.70335978233516,
          1.2848256888583514,
          0.9324885323123177,
          1.4643023219913933,
          0.18331771995836976,
          1.0881032577116656,
          0.641669084258077,
          1.0950606626324462,
          -0.7491226698296582,
          1.044131826053435,
          -0.008745404082897042,
          -0.5078408838353267,
          0.5116985574475968,
          0.2649765081120461,
          0.9849345104708895,
          -0.17392537168176844,
          0.927860780944247,
          0.6602837616969361,
          0.23610499331767099,
          0.9447337280198124,
          0.045226976298699206,
          1.1162831773500488,
          0.35788841799730686,
          1.2981838753589126,
          0.9217289224470363,
          0.7148533259114113,
          0.900174373172167,
          1.3320244367220881,
          1.55780215506607,
          0.8132906498175407,
          -0.3055837780243095,
          -0.06812649206836435,
          -0.18962247237850266,
          0.13642871155801437,
          1.38002643591551,
          0.5880064433398624,
          0.8068583125004113,
          1.2206908824443523,
          0.8150952357665988,
          0.2459576798866916,
          0.16641321714545612,
          0.46480028840377846,
          0.8908151984694487,
          0.23054802355945478,
          -0.7045317592446643,
          0.3569814947010463,
          0.3319344799450577,
          0.3762156510666697,
          0.6425760075543374,
          -0.9064698649488365,
          0.29900084187814263,
          2.5311927278036266,
          1.4152358767039013,
          2.616676015995689,
          1.9715310530434347,
          2.3500059200446395,
          3.3970387360532572,
          0.5212322439097721,
          2.932587068993688,
          2.3212288165733765,
          2.916750966786071,
          1.661774153636531,
          1.8034019529650904,
          2.1655917960801445,
          1.3461635794584506,
          1.5859282238732197,
          1.9044563747934262,
          1.9496890593990686,
          3.4870553642902786,
          3.7956454220728832,
          1.300791712637656,
          2.427817913066045,
          1.1990011054655598,
          3.4999200389245373,
          1.3887661316914643,
          2.275430503872204,
          2.61409047381083,
          1.258508160511487,
          1.2911320591150202,
          2.1236087227738936,
          2.388003016003467,
          2.84167277810387,
          3.2306736614320926,
          2.159437642489049,
          1.4441612423295087,
          1.7812948100451111,
          3.076499931687187,
          2.1442433143020807,
          1.9050981488140746,
          1.1693263393414992,
          2.1076111432572415,
          2.314154705235599,
          1.9222678009026004,
          1.4152358767039013,
          2.5630133750774746,
          2.418746182732824,
          1.9441097945469674,
          1.5271666148145162,
          1.764345717044428,
          1.9009416142184223,
          1.3901888619479126
         ],
         "y": [
          0.3193972465851019,
          -0.17700122506478058,
          -0.1449494260855574,
          -0.318298979251916,
          0.32675451293491986,
          0.7413304490629148,
          -0.08946138452856865,
          0.16338495969832856,
          -0.5783117541867039,
          -0.11377424587411698,
          0.6450688986485738,
          0.014729939161374515,
          -0.23511200020171852,
          -0.5113945870063822,
          1.1787646364375748,
          1.3380623304006525,
          0.8106795141812576,
          0.3118491445933546,
          0.8728390389622105,
          0.5135603087492768,
          0.3913459356538939,
          0.4329960632790281,
          0.13346806953852594,
          0.09870885481409937,
          -0.037281859677382526,
          -0.14601688049526787,
          0.13095148943525023,
          0.36771885743419974,
          0.3120399802352826,
          -0.19696122492431453,
          -0.20431849127413348,
          0.4109242642295726,
          0.813363820296962,
          1.0931457594493568,
          -0.12132234786586331,
          0.06936447158008038,
          0.5993700213794233,
          0.2686437377979823,
          -0.48795834442861535,
          0.22904383682701246,
          0.26352753374425647,
          -0.9409605736411967,
          -0.3419260574716098,
          0.18887142893026038,
          0.43666314163918785,
          -0.25020820418521117,
          0.5037711444614376,
          -0.22794556949382755,
          0.5794100215198891,
          0.10770608249941152,
          0.6851604704673079,
          0.31833363826262856,
          0.5042628153092036,
          -0.8279590118206324,
          0.07459067519771567,
          -0.41824687156867885,
          0.28346827006152875,
          -1.0048909611818952,
          0.22836189978839502,
          -0.723081905004834,
          -1.2659711905263937,
          -0.10398123549904058,
          -0.5500364636804753,
          -0.12481785412635768,
          -0.2548542087025894,
          0.46717949444151,
          -0.3529696657238504,
          -0.3336107668249157,
          -0.543145550779767,
          -0.5838343774718646,
          -0.08461685219478804,
          -0.06892503165601431,
          -0.3277873083339178,
          -0.1827377936213678,
          0.14905594436978425,
          0.3285044738343227,
          0.2444408760163428,
          0.26749544731025426,
          -0.16335030068761647,
          -0.36826218975458824,
          -0.7051721317994655,
          -0.6802867635281334,
          -0.314032438249237,
          -0.42095428731388196,
          -0.48428741998121816,
          0.19418231471315078,
          0.4076195936110067,
          -0.3720370599095023,
          -0.268524396622015,
          -0.6819267248636268,
          -0.6707115445117204,
          -0.03446444436826912,
          -0.4043858480073254,
          -1.0122482275317142,
          -0.5049100933371088,
          -0.21265468378116997,
          -0.2932189292514191,
          0.017738190112415897,
          -0.7560933665990142,
          -0.3488978064503361,
          -0.009849109498801984,
          -0.5749163475464893,
          0.34390315134173377,
          -0.17972790435224573,
          -0.040260947142531284,
          0.5508366730280546,
          -1.1927587270006448,
          0.35550000297749557,
          -0.2438315023106911,
          0.7827919488152782,
          0.2422284077550668,
          -0.21563761733355571,
          0.21627558507402428,
          -0.7768183473443396,
          -0.5396407140267186,
          0.11925069209197256,
          0.04194325966321105,
          1.1757393297134286,
          0.2573229734204785,
          -0.7611496364350638,
          0.3781960126170504,
          -0.6060915277579304,
          0.4606740989118939,
          -0.20439932735215122,
          0.3349906058216771,
          0.560901355123077,
          -0.1797047947227469,
          -0.11666865117401161,
          -0.20972947667730293,
          0.46463980470873567,
          0.37526916719510245,
          1.3741650867930466,
          -0.21727757866904926,
          -0.1434134104575811,
          -0.49990168107813676,
          0.6880856775711748,
          0.14006420108978992,
          0.04930052601302995,
          -0.1649902620231097,
          0.37228787196079716,
          0.1836512791690187,
          0.40920346681606173,
          -0.5749163475464893,
          0.2778626029291944,
          0.3047981978546918,
          0.1875323028006049,
          -0.37531698258048873,
          0.07885885451847544,
          0.1166279585120237,
          -0.2826609379905506
         ],
         "z": [
          -0.027914827589415922,
          -0.2104642723782446,
          0.017900256320890217,
          0.03155937360568086,
          0.09007924055120108,
          0.1686776582091044,
          0.2578921582556178,
          -0.02187931788671982,
          0.020759570264780182,
          -0.19763272498814655,
          -0.07531800937912041,
          0.1021502599565897,
          -0.2068444304496446,
          0.06129967245709912,
          -0.15162752361780948,
          0.2777769027031353,
          0.13818322788071913,
          0.02666831561259374,
          -0.12030552339473123,
          0.21366517222471557,
          -0.23944404324495358,
          0.20845723241671485,
          0.2923967507452421,
          0.03912325874288064,
          0.12502108270287865,
          -0.25342004234465765,
          0.09491057609939167,
          -0.0784942051379244,
          -0.1459088957300293,
          0.04077107906717903,
          -0.07722298907343583,
          -0.14552497200513095,
          0.22566914972011914,
          0.1578108129582197,
          -0.14304958178613902,
          -0.1643323066530257,
          -0.26835037569393644,
          0.0936990824797999,
          0.07292704569269244,
          -0.08008230301732615,
          0.07724769316110373,
          -0.34923037730596634,
          0.19250921171270968,
          0.26386794551341536,
          0.29874274575510845,
          -0.09767814404562948,
          0.16670563660480434,
          0.08372684903359322,
          -0.01711502424851357,
          -0.08929400847882475,
          -0.4065680254676944,
          -0.01801418664624051,
          -0.33832576498089645,
          -0.17959139187535522,
          -0.3077578962347849,
          0.04107609082395585,
          0.16981023986057497,
          0.012302919237595331,
          -0.4153360847593978,
          0.2811414311764098,
          -0.2698171827688525,
          0.13054775024048604,
          -0.694146830144419,
          -0.062114408322261234,
          0.09045769072570443,
          -0.3146209758321725,
          0.32802752837859506,
          -0.27116183725106685,
          -0.4995190464851129,
          -0.23500210497205587,
          0.4596209913591038,
          -0.22985388760895153,
          -0.3478543522573082,
          -0.23107177773628498,
          -0.32180093724447406,
          -0.31620907371157425,
          -0.5217027796644194,
          -0.16492098374358052,
          0.03542450484616004,
          -0.318491580623047,
          -0.24421381043355445,
          -0.3064205612176583,
          -0.17724276601124433,
          0.016167127520728637,
          0.4444334986398076,
          0.38896306309821044,
          -0.237167009883876,
          -0.6147208425918221,
          0.1883668116461946,
          -0.06000922585533809,
          -0.024306855718951755,
          -0.009946932894349024,
          -0.22941024143915661,
          -0.10569114890301955,
          0.016617170198265408,
          0.08320429089567645,
          0.07799635108767548,
          -0.2053949669832609,
          -0.012599647557890057,
          0.010581660495570577,
          0.7601654272458953,
          0.2963225273879644,
          -0.11078788321910908,
          0.10842466246342275,
          0.28538956318444125,
          -0.34843755579746755,
          0.5456592956468127,
          -0.4202399357679682,
          -0.34830439493484516,
          0.42333541768255817,
          0.2424401897257689,
          -0.03764816823148248,
          0.033326641844325135,
          0.28190288211846487,
          0.6290293264080106,
          0.47963981962659047,
          0.0441861676301219,
          0.1338948739360979,
          -0.5137677638178045,
          -0.344995038313418,
          0.21911932430194317,
          0.511855508697001,
          -0.5731822425680028,
          -0.06452275663126839,
          0.2861500911691496,
          -0.20553452435362518,
          0.04584770392724995,
          0.23125646265997035,
          0.15418002392883004,
          -0.44953019194185,
          -0.498898075870769,
          -0.1145482054754195,
          0.20876316713083762,
          -0.15323388806309016,
          -0.17287518911342004,
          -0.335592292434541,
          0.7348789367255109,
          0.1621802357707368,
          0.2818358402084803,
          0.02729113214163061,
          0.32269374717305893,
          0.1135865957993566,
          0.2963225273879644,
          0.2925695245967426,
          0.5044826639771798,
          0.17782509063265742,
          -0.12189817186718173,
          0.13048163128784807,
          0.7232515634899168,
          0.3629096480853755
         ]
        }
       ],
       "layout": {
        "coloraxis": {
         "colorbar": {
          "title": {
           "text": "color"
          }
         },
         "colorscale": [
          [
           0,
           "#0d0887"
          ],
          [
           0.1111111111111111,
           "#46039f"
          ],
          [
           0.2222222222222222,
           "#7201a8"
          ],
          [
           0.3333333333333333,
           "#9c179e"
          ],
          [
           0.4444444444444444,
           "#bd3786"
          ],
          [
           0.5555555555555556,
           "#d8576b"
          ],
          [
           0.6666666666666666,
           "#ed7953"
          ],
          [
           0.7777777777777778,
           "#fb9f3a"
          ],
          [
           0.8888888888888888,
           "#fdca26"
          ],
          [
           1,
           "#f0f921"
          ]
         ]
        },
        "height": 500,
        "legend": {
         "tracegroupgap": 0
        },
        "scene": {
         "domain": {
          "x": [
           0,
           1
          ],
          "y": [
           0,
           1
          ]
         },
         "xaxis": {
          "title": {
           "text": "PC 1"
          }
         },
         "yaxis": {
          "title": {
           "text": "PC 2"
          }
         },
         "zaxis": {
          "title": {
           "text": "PC 3"
          }
         }
        },
        "template": {
         "data": {
          "bar": [
           {
            "error_x": {
             "color": "#2a3f5f"
            },
            "error_y": {
             "color": "#2a3f5f"
            },
            "marker": {
             "line": {
              "color": "#E5ECF6",
              "width": 0.5
             },
             "pattern": {
              "fillmode": "overlay",
              "size": 10,
              "solidity": 0.2
             }
            },
            "type": "bar"
           }
          ],
          "barpolar": [
           {
            "marker": {
             "line": {
              "color": "#E5ECF6",
              "width": 0.5
             },
             "pattern": {
              "fillmode": "overlay",
              "size": 10,
              "solidity": 0.2
             }
            },
            "type": "barpolar"
           }
          ],
          "carpet": [
           {
            "aaxis": {
             "endlinecolor": "#2a3f5f",
             "gridcolor": "white",
             "linecolor": "white",
             "minorgridcolor": "white",
             "startlinecolor": "#2a3f5f"
            },
            "baxis": {
             "endlinecolor": "#2a3f5f",
             "gridcolor": "white",
             "linecolor": "white",
             "minorgridcolor": "white",
             "startlinecolor": "#2a3f5f"
            },
            "type": "carpet"
           }
          ],
          "choropleth": [
           {
            "colorbar": {
             "outlinewidth": 0,
             "ticks": ""
            },
            "type": "choropleth"
           }
          ],
          "contour": [
           {
            "colorbar": {
             "outlinewidth": 0,
             "ticks": ""
            },
            "colorscale": [
             [
              0,
              "#0d0887"
             ],
             [
              0.1111111111111111,
              "#46039f"
             ],
             [
              0.2222222222222222,
              "#7201a8"
             ],
             [
              0.3333333333333333,
              "#9c179e"
             ],
             [
              0.4444444444444444,
              "#bd3786"
             ],
             [
              0.5555555555555556,
              "#d8576b"
             ],
             [
              0.6666666666666666,
              "#ed7953"
             ],
             [
              0.7777777777777778,
              "#fb9f3a"
             ],
             [
              0.8888888888888888,
              "#fdca26"
             ],
             [
              1,
              "#f0f921"
             ]
            ],
            "type": "contour"
           }
          ],
          "contourcarpet": [
           {
            "colorbar": {
             "outlinewidth": 0,
             "ticks": ""
            },
            "type": "contourcarpet"
           }
          ],
          "heatmap": [
           {
            "colorbar": {
             "outlinewidth": 0,
             "ticks": ""
            },
            "colorscale": [
             [
              0,
              "#0d0887"
             ],
             [
              0.1111111111111111,
              "#46039f"
             ],
             [
              0.2222222222222222,
              "#7201a8"
             ],
             [
              0.3333333333333333,
              "#9c179e"
             ],
             [
              0.4444444444444444,
              "#bd3786"
             ],
             [
              0.5555555555555556,
              "#d8576b"
             ],
             [
              0.6666666666666666,
              "#ed7953"
             ],
             [
              0.7777777777777778,
              "#fb9f3a"
             ],
             [
              0.8888888888888888,
              "#fdca26"
             ],
             [
              1,
              "#f0f921"
             ]
            ],
            "type": "heatmap"
           }
          ],
          "heatmapgl": [
           {
            "colorbar": {
             "outlinewidth": 0,
             "ticks": ""
            },
            "colorscale": [
             [
              0,
              "#0d0887"
             ],
             [
              0.1111111111111111,
              "#46039f"
             ],
             [
              0.2222222222222222,
              "#7201a8"
             ],
             [
              0.3333333333333333,
              "#9c179e"
             ],
             [
              0.4444444444444444,
              "#bd3786"
             ],
             [
              0.5555555555555556,
              "#d8576b"
             ],
             [
              0.6666666666666666,
              "#ed7953"
             ],
             [
              0.7777777777777778,
              "#fb9f3a"
             ],
             [
              0.8888888888888888,
              "#fdca26"
             ],
             [
              1,
              "#f0f921"
             ]
            ],
            "type": "heatmapgl"
           }
          ],
          "histogram": [
           {
            "marker": {
             "pattern": {
              "fillmode": "overlay",
              "size": 10,
              "solidity": 0.2
             }
            },
            "type": "histogram"
           }
          ],
          "histogram2d": [
           {
            "colorbar": {
             "outlinewidth": 0,
             "ticks": ""
            },
            "colorscale": [
             [
              0,
              "#0d0887"
             ],
             [
              0.1111111111111111,
              "#46039f"
             ],
             [
              0.2222222222222222,
              "#7201a8"
             ],
             [
              0.3333333333333333,
              "#9c179e"
             ],
             [
              0.4444444444444444,
              "#bd3786"
             ],
             [
              0.5555555555555556,
              "#d8576b"
             ],
             [
              0.6666666666666666,
              "#ed7953"
             ],
             [
              0.7777777777777778,
              "#fb9f3a"
             ],
             [
              0.8888888888888888,
              "#fdca26"
             ],
             [
              1,
              "#f0f921"
             ]
            ],
            "type": "histogram2d"
           }
          ],
          "histogram2dcontour": [
           {
            "colorbar": {
             "outlinewidth": 0,
             "ticks": ""
            },
            "colorscale": [
             [
              0,
              "#0d0887"
             ],
             [
              0.1111111111111111,
              "#46039f"
             ],
             [
              0.2222222222222222,
              "#7201a8"
             ],
             [
              0.3333333333333333,
              "#9c179e"
             ],
             [
              0.4444444444444444,
              "#bd3786"
             ],
             [
              0.5555555555555556,
              "#d8576b"
             ],
             [
              0.6666666666666666,
              "#ed7953"
             ],
             [
              0.7777777777777778,
              "#fb9f3a"
             ],
             [
              0.8888888888888888,
              "#fdca26"
             ],
             [
              1,
              "#f0f921"
             ]
            ],
            "type": "histogram2dcontour"
           }
          ],
          "mesh3d": [
           {
            "colorbar": {
             "outlinewidth": 0,
             "ticks": ""
            },
            "type": "mesh3d"
           }
          ],
          "parcoords": [
           {
            "line": {
             "colorbar": {
              "outlinewidth": 0,
              "ticks": ""
             }
            },
            "type": "parcoords"
           }
          ],
          "pie": [
           {
            "automargin": true,
            "type": "pie"
           }
          ],
          "scatter": [
           {
            "fillpattern": {
             "fillmode": "overlay",
             "size": 10,
             "solidity": 0.2
            },
            "type": "scatter"
           }
          ],
          "scatter3d": [
           {
            "line": {
             "colorbar": {
              "outlinewidth": 0,
              "ticks": ""
             }
            },
            "marker": {
             "colorbar": {
              "outlinewidth": 0,
              "ticks": ""
             }
            },
            "type": "scatter3d"
           }
          ],
          "scattercarpet": [
           {
            "marker": {
             "colorbar": {
              "outlinewidth": 0,
              "ticks": ""
             }
            },
            "type": "scattercarpet"
           }
          ],
          "scattergeo": [
           {
            "marker": {
             "colorbar": {
              "outlinewidth": 0,
              "ticks": ""
             }
            },
            "type": "scattergeo"
           }
          ],
          "scattergl": [
           {
            "marker": {
             "colorbar": {
              "outlinewidth": 0,
              "ticks": ""
             }
            },
            "type": "scattergl"
           }
          ],
          "scattermapbox": [
           {
            "marker": {
             "colorbar": {
              "outlinewidth": 0,
              "ticks": ""
             }
            },
            "type": "scattermapbox"
           }
          ],
          "scatterpolar": [
           {
            "marker": {
             "colorbar": {
              "outlinewidth": 0,
              "ticks": ""
             }
            },
            "type": "scatterpolar"
           }
          ],
          "scatterpolargl": [
           {
            "marker": {
             "colorbar": {
              "outlinewidth": 0,
              "ticks": ""
             }
            },
            "type": "scatterpolargl"
           }
          ],
          "scatterternary": [
           {
            "marker": {
             "colorbar": {
              "outlinewidth": 0,
              "ticks": ""
             }
            },
            "type": "scatterternary"
           }
          ],
          "surface": [
           {
            "colorbar": {
             "outlinewidth": 0,
             "ticks": ""
            },
            "colorscale": [
             [
              0,
              "#0d0887"
             ],
             [
              0.1111111111111111,
              "#46039f"
             ],
             [
              0.2222222222222222,
              "#7201a8"
             ],
             [
              0.3333333333333333,
              "#9c179e"
             ],
             [
              0.4444444444444444,
              "#bd3786"
             ],
             [
              0.5555555555555556,
              "#d8576b"
             ],
             [
              0.6666666666666666,
              "#ed7953"
             ],
             [
              0.7777777777777778,
              "#fb9f3a"
             ],
             [
              0.8888888888888888,
              "#fdca26"
             ],
             [
              1,
              "#f0f921"
             ]
            ],
            "type": "surface"
           }
          ],
          "table": [
           {
            "cells": {
             "fill": {
              "color": "#EBF0F8"
             },
             "line": {
              "color": "white"
             }
            },
            "header": {
             "fill": {
              "color": "#C8D4E3"
             },
             "line": {
              "color": "white"
             }
            },
            "type": "table"
           }
          ]
         },
         "layout": {
          "annotationdefaults": {
           "arrowcolor": "#2a3f5f",
           "arrowhead": 0,
           "arrowwidth": 1
          },
          "autotypenumbers": "strict",
          "coloraxis": {
           "colorbar": {
            "outlinewidth": 0,
            "ticks": ""
           }
          },
          "colorscale": {
           "diverging": [
            [
             0,
             "#8e0152"
            ],
            [
             0.1,
             "#c51b7d"
            ],
            [
             0.2,
             "#de77ae"
            ],
            [
             0.3,
             "#f1b6da"
            ],
            [
             0.4,
             "#fde0ef"
            ],
            [
             0.5,
             "#f7f7f7"
            ],
            [
             0.6,
             "#e6f5d0"
            ],
            [
             0.7,
             "#b8e186"
            ],
            [
             0.8,
             "#7fbc41"
            ],
            [
             0.9,
             "#4d9221"
            ],
            [
             1,
             "#276419"
            ]
           ],
           "sequential": [
            [
             0,
             "#0d0887"
            ],
            [
             0.1111111111111111,
             "#46039f"
            ],
            [
             0.2222222222222222,
             "#7201a8"
            ],
            [
             0.3333333333333333,
             "#9c179e"
            ],
            [
             0.4444444444444444,
             "#bd3786"
            ],
            [
             0.5555555555555556,
             "#d8576b"
            ],
            [
             0.6666666666666666,
             "#ed7953"
            ],
            [
             0.7777777777777778,
             "#fb9f3a"
            ],
            [
             0.8888888888888888,
             "#fdca26"
            ],
            [
             1,
             "#f0f921"
            ]
           ],
           "sequentialminus": [
            [
             0,
             "#0d0887"
            ],
            [
             0.1111111111111111,
             "#46039f"
            ],
            [
             0.2222222222222222,
             "#7201a8"
            ],
            [
             0.3333333333333333,
             "#9c179e"
            ],
            [
             0.4444444444444444,
             "#bd3786"
            ],
            [
             0.5555555555555556,
             "#d8576b"
            ],
            [
             0.6666666666666666,
             "#ed7953"
            ],
            [
             0.7777777777777778,
             "#fb9f3a"
            ],
            [
             0.8888888888888888,
             "#fdca26"
            ],
            [
             1,
             "#f0f921"
            ]
           ]
          },
          "colorway": [
           "#636efa",
           "#EF553B",
           "#00cc96",
           "#ab63fa",
           "#FFA15A",
           "#19d3f3",
           "#FF6692",
           "#B6E880",
           "#FF97FF",
           "#FECB52"
          ],
          "font": {
           "color": "#2a3f5f"
          },
          "geo": {
           "bgcolor": "white",
           "lakecolor": "white",
           "landcolor": "#E5ECF6",
           "showlakes": true,
           "showland": true,
           "subunitcolor": "white"
          },
          "hoverlabel": {
           "align": "left"
          },
          "hovermode": "closest",
          "mapbox": {
           "style": "light"
          },
          "paper_bgcolor": "white",
          "plot_bgcolor": "#E5ECF6",
          "polar": {
           "angularaxis": {
            "gridcolor": "white",
            "linecolor": "white",
            "ticks": ""
           },
           "bgcolor": "#E5ECF6",
           "radialaxis": {
            "gridcolor": "white",
            "linecolor": "white",
            "ticks": ""
           }
          },
          "scene": {
           "xaxis": {
            "backgroundcolor": "#E5ECF6",
            "gridcolor": "white",
            "gridwidth": 2,
            "linecolor": "white",
            "showbackground": true,
            "ticks": "",
            "zerolinecolor": "white"
           },
           "yaxis": {
            "backgroundcolor": "#E5ECF6",
            "gridcolor": "white",
            "gridwidth": 2,
            "linecolor": "white",
            "showbackground": true,
            "ticks": "",
            "zerolinecolor": "white"
           },
           "zaxis": {
            "backgroundcolor": "#E5ECF6",
            "gridcolor": "white",
            "gridwidth": 2,
            "linecolor": "white",
            "showbackground": true,
            "ticks": "",
            "zerolinecolor": "white"
           }
          },
          "shapedefaults": {
           "line": {
            "color": "#2a3f5f"
           }
          },
          "ternary": {
           "aaxis": {
            "gridcolor": "white",
            "linecolor": "white",
            "ticks": ""
           },
           "baxis": {
            "gridcolor": "white",
            "linecolor": "white",
            "ticks": ""
           },
           "bgcolor": "#E5ECF6",
           "caxis": {
            "gridcolor": "white",
            "linecolor": "white",
            "ticks": ""
           }
          },
          "title": {
           "x": 0.05
          },
          "xaxis": {
           "automargin": true,
           "gridcolor": "white",
           "linecolor": "white",
           "ticks": "",
           "title": {
            "standoff": 15
           },
           "zerolinecolor": "white",
           "zerolinewidth": 2
          },
          "yaxis": {
           "automargin": true,
           "gridcolor": "white",
           "linecolor": "white",
           "ticks": "",
           "title": {
            "standoff": 15
           },
           "zerolinecolor": "white",
           "zerolinewidth": 2
          }
         }
        },
        "title": {
         "text": "Total Explained Variance: 99.48%"
        }
       }
      }
     },
     "metadata": {},
     "output_type": "display_data"
    }
   ],
   "source": [
    "\n",
    "import plotly.express as px\n",
    "import matplotlib.pyplot as plt\n",
    "from sklearn.decomposition import PCA\n",
    "\n",
    "feature = irisDF[['sepal_length', 'sepal_width', 'petal_length', 'petal_width']]\n",
    "\n",
    "pca = PCA(n_components=3)\n",
    "components = pca.fit_transform(feature)\n",
    "\n",
    "total_var = pca.explained_variance_ratio_.sum() * 100\n",
    "\n",
    "fig = px.scatter_3d(components, x=0, y=1, z=2, color=irisDF['target'],\n",
    "                    title=f'Total Explained Variance: {total_var:.2f}%',\n",
    "                    labels={'0': 'PC 1', '1': 'PC 2', '2': 'PC 3'})\n",
    "fig.update_layout(height=500)\n",
    "fig.show()"
   ]
  },
  {
   "cell_type": "markdown",
   "metadata": {},
   "source": [
    "# LDA\n",
    "### PCA와 유사하나 클래스간 분산과 클래스 내부 분산 행렬을 생성한 뒤 , 이 행렬에 기반해 고유벡터를 구하고 입력 데이터를 투영한다는 점이 차이점"
   ]
  },
  {
   "cell_type": "code",
   "execution_count": 27,
   "metadata": {},
   "outputs": [],
   "source": [
    "from sklearn.discriminant_analysis import LinearDiscriminantAnalysis\n",
    "\n",
    "iris = load_iris()\n",
    "iris_scaled = StandardScaler().fit_transform(iris.data)"
   ]
  },
  {
   "cell_type": "code",
   "execution_count": 35,
   "metadata": {},
   "outputs": [
    {
     "name": "stdout",
     "output_type": "stream",
     "text": [
      "(150, 2)\n"
     ]
    },
    {
     "data": {
      "text/html": [
       "<div>\n",
       "<style scoped>\n",
       "    .dataframe tbody tr th:only-of-type {\n",
       "        vertical-align: middle;\n",
       "    }\n",
       "\n",
       "    .dataframe tbody tr th {\n",
       "        vertical-align: top;\n",
       "    }\n",
       "\n",
       "    .dataframe thead th {\n",
       "        text-align: right;\n",
       "    }\n",
       "</style>\n",
       "<table border=\"1\" class=\"dataframe\">\n",
       "  <thead>\n",
       "    <tr style=\"text-align: right;\">\n",
       "      <th></th>\n",
       "      <th>lda_1</th>\n",
       "      <th>lda_2</th>\n",
       "      <th>target</th>\n",
       "    </tr>\n",
       "  </thead>\n",
       "  <tbody>\n",
       "    <tr>\n",
       "      <th>0</th>\n",
       "      <td>8.061800</td>\n",
       "      <td>0.300421</td>\n",
       "      <td>0</td>\n",
       "    </tr>\n",
       "    <tr>\n",
       "      <th>1</th>\n",
       "      <td>7.128688</td>\n",
       "      <td>-0.786660</td>\n",
       "      <td>0</td>\n",
       "    </tr>\n",
       "    <tr>\n",
       "      <th>2</th>\n",
       "      <td>7.489828</td>\n",
       "      <td>-0.265384</td>\n",
       "      <td>0</td>\n",
       "    </tr>\n",
       "    <tr>\n",
       "      <th>3</th>\n",
       "      <td>6.813201</td>\n",
       "      <td>-0.670631</td>\n",
       "      <td>0</td>\n",
       "    </tr>\n",
       "    <tr>\n",
       "      <th>4</th>\n",
       "      <td>8.132309</td>\n",
       "      <td>0.514463</td>\n",
       "      <td>0</td>\n",
       "    </tr>\n",
       "    <tr>\n",
       "      <th>...</th>\n",
       "      <td>...</td>\n",
       "      <td>...</td>\n",
       "      <td>...</td>\n",
       "    </tr>\n",
       "    <tr>\n",
       "      <th>145</th>\n",
       "      <td>-5.645003</td>\n",
       "      <td>1.677717</td>\n",
       "      <td>2</td>\n",
       "    </tr>\n",
       "    <tr>\n",
       "      <th>146</th>\n",
       "      <td>-5.179565</td>\n",
       "      <td>-0.363475</td>\n",
       "      <td>2</td>\n",
       "    </tr>\n",
       "    <tr>\n",
       "      <th>147</th>\n",
       "      <td>-4.967741</td>\n",
       "      <td>0.821141</td>\n",
       "      <td>2</td>\n",
       "    </tr>\n",
       "    <tr>\n",
       "      <th>148</th>\n",
       "      <td>-5.886145</td>\n",
       "      <td>2.345091</td>\n",
       "      <td>2</td>\n",
       "    </tr>\n",
       "    <tr>\n",
       "      <th>149</th>\n",
       "      <td>-4.683154</td>\n",
       "      <td>0.332034</td>\n",
       "      <td>2</td>\n",
       "    </tr>\n",
       "  </tbody>\n",
       "</table>\n",
       "<p>150 rows × 3 columns</p>\n",
       "</div>"
      ],
      "text/plain": [
       "        lda_1     lda_2  target\n",
       "0    8.061800  0.300421       0\n",
       "1    7.128688 -0.786660       0\n",
       "2    7.489828 -0.265384       0\n",
       "3    6.813201 -0.670631       0\n",
       "4    8.132309  0.514463       0\n",
       "..        ...       ...     ...\n",
       "145 -5.645003  1.677717       2\n",
       "146 -5.179565 -0.363475       2\n",
       "147 -4.967741  0.821141       2\n",
       "148 -5.886145  2.345091       2\n",
       "149 -4.683154  0.332034       2\n",
       "\n",
       "[150 rows x 3 columns]"
      ]
     },
     "execution_count": 35,
     "metadata": {},
     "output_type": "execute_result"
    }
   ],
   "source": [
    "# Number of components (<= min(n_classes - 1, n_features)) for dimensionality reduction. If None, will be set to min(n_classes - 1, n_features). This parameter only affects the transform method.\n",
    "lda = LinearDiscriminantAnalysis(n_components=2)\n",
    "\n",
    "lda.fit(iris_scaled, iris.target)\n",
    "iris_lda = lda.transform(iris_scaled)\n",
    "print(iris_lda.shape)\n",
    "\n",
    "irisDF_lda = pd.DataFrame(iris_lda)\n",
    "irisDF_lda.columns = ['lda_1','lda_2']\n",
    "irisDF_lda['target'] =iris.target\n",
    "irisDF_lda"
   ]
  },
  {
   "cell_type": "code",
   "execution_count": 36,
   "metadata": {},
   "outputs": [
    {
     "data": {
      "image/png": "[encoded data removed]",
      "text/plain": [
       "<Figure size 800x800 with 1 Axes>"
      ]
     },
     "metadata": {},
     "output_type": "display_data"
    }
   ],
   "source": [
    "# 산점도 그래프 출력\n",
    "plt.figure(figsize = (8, 8))\n",
    "for i in range(0,3):\n",
    "    x_axis_data = irisDF_lda[irisDF_lda['target'] == i]['lda_1']\n",
    "    y_axis_data = irisDF_lda[irisDF_lda['target'] == i]['lda_2']\n",
    "    plt.scatter(x_axis_data, y_axis_data,label=iris.target_names[i])\n",
    "    \n",
    "plt.xlabel('Lda Component 1', fontsize = 15)\n",
    "plt.ylabel('Lda Component 2', fontsize = 15)\n",
    "plt.title('2 component Lda', fontsize=20)\n",
    "plt.legend(target)\n",
    "plt.grid()\n",
    "plt.show()"
   ]
  },
  {
   "cell_type": "code",
   "execution_count": null,
   "metadata": {},
   "outputs": [],
   "source": []
  }
 ],
 "metadata": {
  "kernelspec": {
   "display_name": "Python 3 (ipykernel)",
   "language": "python",
   "name": "python3"
  },
  "language_info": {
   "codemirror_mode": {
    "name": "ipython",
    "version": 3
   },
   "file_extension": ".py",
   "mimetype": "text/x-python",
   "name": "python",
   "nbconvert_exporter": "python",
   "pygments_lexer": "ipython3",
   "version": "3.9.13"
  },
  "vscode": {
   "interpreter": {
    "hash": "5ac3dc5204765ef4cf6034b88f5229e324b7e98f7affac00fee6f1eb9f99b4c7"
   }
  }
 },
 "nbformat": 4,
 "nbformat_minor": 2
}

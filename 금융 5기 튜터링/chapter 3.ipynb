{
 "cells": [
  {
   "cell_type": "code",
   "execution_count": 193,
   "metadata": {},
   "outputs": [
    {
     "name": "stderr",
     "output_type": "stream",
     "text": [
      "UsageError: Line magic function `%matlplotlib` not found.\n"
     ]
    }
   ],
   "source": [
    "import pandas as pd\n",
    "import numpy as np\n",
    "import matplotlib.pyplot as plt\n",
    "%matlplotlib inline\n"
   ]
  },
  {
   "cell_type": "code",
   "execution_count": 194,
   "metadata": {},
   "outputs": [
    {
     "data": {
      "text/plain": [
       "<matplotlib.collections.PathCollection at 0x2073ab76610>"
      ]
     },
     "execution_count": 194,
     "metadata": {},
     "output_type": "execute_result"
    },
    {
     "data": {
      "image/png": "[encoded data removed]",
      "text/plain": [
       "<Figure size 640x480 with 1 Axes>"
      ]
     },
     "metadata": {},
     "output_type": "display_data"
    }
   ],
   "source": [
    "np.random.seed(0)\n",
    "X = 2*np.random.rand(100,1)\n",
    "y = 6+4 * X+np.random.randn(100,1)\n",
    "\n",
    "plt.scatter(X,y)"
   ]
  },
  {
   "cell_type": "markdown",
   "metadata": {},
   "source": [
    "# 비용함수\n",
    "비용함수는 원래의 값과 가장 오차가 작은 가설함수 를 도출하기 위해 사용되는 함수입니다.\n",
    "가설함수의 형태를 결정짓는 것은 매개변수(parameter) 라 부르는 θ 입니다. 우리는 이 θ값을 적절하게 조정하여 실제값 y에 가장 근접한 가설함수* 를 Training set을 이용하여 도출해야 합니다.\n",
    "이것이 Cost Function입니다.\n",
    "\n",
    "h(x)-θ 은 '가설함수와 실제 y값의 차이'입니다. 이것을 최소화 하는 것이 목표이지만 그냥 사용하면 오차가 양수 혹은 음수가 될 수 있으므로 제곱을 해줍니다. 그리고 Training set은 1부터 m까지 존재하기에 각각의 차이를 모두 더하여 평균을 내어 이 평균이 최소가 되게 만드는 θ를 구하는 것이 Cost Function의 목적이 되겠습니다. "
   ]
  },
  {
   "cell_type": "markdown",
   "metadata": {},
   "source": [
    "##### 편미분 값이 너무 클 수 있기 때문에 보정계수를 곱하는데 이를 \"학습률\" 이라고 합니다 (learning_rate)"
   ]
  },
  {
   "cell_type": "code",
   "execution_count": 195,
   "metadata": {},
   "outputs": [],
   "source": [
    "def get_weight_updates(w1, w0, X, y, learning_rate=0.01):\n",
    "    N = len(y)\n",
    "    # 먼저 w1_update, w0_update를 각각 w1, w0의 shape 와 동일한 크기를 가진 0값으로 초기화\n",
    "    w1_update = np.zeros_like(w1)\n",
    "    w0_update = np.zeros_like(w0)\n",
    "    # dot 내적연산 \n",
    "    y_pred = np.dot(X, w1.T)+ w0\n",
    "    diff = y-y_pred\n",
    "    #w0_update를 dot 행렬 연산으로 구하기 위해 모두 1값을 가진 행렬 생성\n",
    "    w0_factors = np.ones((N,1))\n",
    "    # learning_rate : 학습 스텝의 크기 \n",
    "    w1_update = -(2/N)*learning_rate*(np.dot(X.T,diff))\n",
    "    w0_update = -(2/N)*learning_rate*(np.dot(w0_factors.T,diff))\n",
    "\n",
    "    return w1_update, w0_update\n"
   ]
  },
  {
   "cell_type": "code",
   "execution_count": 196,
   "metadata": {},
   "outputs": [],
   "source": [
    "w0 = np.zeros((1,1))\n",
    "w1 = np.zeros((1,1))\n"
   ]
  },
  {
   "cell_type": "code",
   "execution_count": 197,
   "metadata": {},
   "outputs": [
    {
     "data": {
      "text/plain": [
       "array([[0.],\n",
       "       [0.],\n",
       "       [0.],\n",
       "       [0.],\n",
       "       [0.],\n",
       "       [0.],\n",
       "       [0.],\n",
       "       [0.],\n",
       "       [0.],\n",
       "       [0.],\n",
       "       [0.],\n",
       "       [0.],\n",
       "       [0.],\n",
       "       [0.],\n",
       "       [0.],\n",
       "       [0.],\n",
       "       [0.],\n",
       "       [0.],\n",
       "       [0.],\n",
       "       [0.],\n",
       "       [0.],\n",
       "       [0.],\n",
       "       [0.],\n",
       "       [0.],\n",
       "       [0.],\n",
       "       [0.],\n",
       "       [0.],\n",
       "       [0.],\n",
       "       [0.],\n",
       "       [0.],\n",
       "       [0.],\n",
       "       [0.],\n",
       "       [0.],\n",
       "       [0.],\n",
       "       [0.],\n",
       "       [0.],\n",
       "       [0.],\n",
       "       [0.],\n",
       "       [0.],\n",
       "       [0.],\n",
       "       [0.],\n",
       "       [0.],\n",
       "       [0.],\n",
       "       [0.],\n",
       "       [0.],\n",
       "       [0.],\n",
       "       [0.],\n",
       "       [0.],\n",
       "       [0.],\n",
       "       [0.],\n",
       "       [0.],\n",
       "       [0.],\n",
       "       [0.],\n",
       "       [0.],\n",
       "       [0.],\n",
       "       [0.],\n",
       "       [0.],\n",
       "       [0.],\n",
       "       [0.],\n",
       "       [0.],\n",
       "       [0.],\n",
       "       [0.],\n",
       "       [0.],\n",
       "       [0.],\n",
       "       [0.],\n",
       "       [0.],\n",
       "       [0.],\n",
       "       [0.],\n",
       "       [0.],\n",
       "       [0.],\n",
       "       [0.],\n",
       "       [0.],\n",
       "       [0.],\n",
       "       [0.],\n",
       "       [0.],\n",
       "       [0.],\n",
       "       [0.],\n",
       "       [0.],\n",
       "       [0.],\n",
       "       [0.],\n",
       "       [0.],\n",
       "       [0.],\n",
       "       [0.],\n",
       "       [0.],\n",
       "       [0.],\n",
       "       [0.],\n",
       "       [0.],\n",
       "       [0.],\n",
       "       [0.],\n",
       "       [0.],\n",
       "       [0.],\n",
       "       [0.],\n",
       "       [0.],\n",
       "       [0.],\n",
       "       [0.],\n",
       "       [0.],\n",
       "       [0.],\n",
       "       [0.],\n",
       "       [0.],\n",
       "       [0.]])"
      ]
     },
     "execution_count": 197,
     "metadata": {},
     "output_type": "execute_result"
    }
   ],
   "source": [
    "y_pred = np.dot(X, w1.T)+ w0\n",
    "y_pred"
   ]
  },
  {
   "cell_type": "code",
   "execution_count": 198,
   "metadata": {},
   "outputs": [
    {
     "data": {
      "text/plain": [
       "array([[ 9.22535819],\n",
       "       [12.62234142],\n",
       "       [11.28776945],\n",
       "       [ 8.82282178],\n",
       "       [10.87749059],\n",
       "       [13.06304208],\n",
       "       [10.67947726],\n",
       "       [12.95425917],\n",
       "       [12.63854946],\n",
       "       [10.12198388],\n",
       "       [11.93062336],\n",
       "       [11.45360443],\n",
       "       [10.75263147],\n",
       "       [14.38141214],\n",
       "       [ 6.92465486],\n",
       "       [ 7.40360757],\n",
       "       [ 6.1722472 ],\n",
       "       [14.44682926],\n",
       "       [12.3521661 ],\n",
       "       [13.36208655],\n",
       "       [15.71209743],\n",
       "       [11.04550945],\n",
       "       [ 8.4213499 ],\n",
       "       [13.21363012],\n",
       "       [ 5.773072  ],\n",
       "       [13.06298936],\n",
       "       [ 6.73320732],\n",
       "       [12.80989652],\n",
       "       [12.0977286 ],\n",
       "       [10.79781031],\n",
       "       [ 9.98400386],\n",
       "       [13.09991417],\n",
       "       [ 8.78797697],\n",
       "       [12.45753654],\n",
       "       [ 5.88231503],\n",
       "       [11.74354037],\n",
       "       [11.84401775],\n",
       "       [10.78046188],\n",
       "       [14.164064  ],\n",
       "       [12.37676906],\n",
       "       [ 9.25248874],\n",
       "       [ 8.39685484],\n",
       "       [11.87928774],\n",
       "       [ 7.80818967],\n",
       "       [10.63956586],\n",
       "       [11.21546842],\n",
       "       [ 7.24790694],\n",
       "       [ 8.88067411],\n",
       "       [ 9.19572156],\n",
       "       [ 9.317148  ],\n",
       "       [ 9.79165809],\n",
       "       [10.0480613 ],\n",
       "       [13.23265804],\n",
       "       [ 6.84818904],\n",
       "       [ 7.03516797],\n",
       "       [ 7.96690944],\n",
       "       [11.80145742],\n",
       "       [ 7.81803406],\n",
       "       [10.1264929 ],\n",
       "       [ 6.86234323],\n",
       "       [ 5.78049908],\n",
       "       [ 7.32239283],\n",
       "       [11.41731021],\n",
       "       [ 7.74049505],\n",
       "       [ 9.95580367],\n",
       "       [ 9.89428085],\n",
       "       [11.65512361],\n",
       "       [ 7.89382649],\n",
       "       [11.38765185],\n",
       "       [ 6.30720266],\n",
       "       [13.74343411],\n",
       "       [11.46255233],\n",
       "       [13.06933388],\n",
       "       [10.01232562],\n",
       "       [11.81565611],\n",
       "       [ 5.65002405],\n",
       "       [ 9.38909162],\n",
       "       [ 5.88164098],\n",
       "       [ 7.22165293],\n",
       "       [ 6.51200171],\n",
       "       [ 8.04583298],\n",
       "       [11.24363601],\n",
       "       [ 7.46260078],\n",
       "       [11.6273282 ],\n",
       "       [ 9.30737611],\n",
       "       [ 8.9674789 ],\n",
       "       [ 9.18576908],\n",
       "       [ 5.20675299],\n",
       "       [11.79560176],\n",
       "       [13.75131219],\n",
       "       [ 9.46941044],\n",
       "       [11.65801069],\n",
       "       [ 7.91121351],\n",
       "       [11.07959204],\n",
       "       [ 7.2810059 ],\n",
       "       [ 8.14712541],\n",
       "       [ 9.88869381],\n",
       "       [ 5.47131059],\n",
       "       [12.17598773],\n",
       "       [ 6.05504297]])"
      ]
     },
     "execution_count": 198,
     "metadata": {},
     "output_type": "execute_result"
    }
   ],
   "source": [
    "y"
   ]
  },
  {
   "cell_type": "code",
   "execution_count": 199,
   "metadata": {},
   "outputs": [
    {
     "data": {
      "text/plain": [
       "array([[ 9.22535819],\n",
       "       [12.62234142],\n",
       "       [11.28776945],\n",
       "       [ 8.82282178],\n",
       "       [10.87749059],\n",
       "       [13.06304208],\n",
       "       [10.67947726],\n",
       "       [12.95425917],\n",
       "       [12.63854946],\n",
       "       [10.12198388],\n",
       "       [11.93062336],\n",
       "       [11.45360443],\n",
       "       [10.75263147],\n",
       "       [14.38141214],\n",
       "       [ 6.92465486],\n",
       "       [ 7.40360757],\n",
       "       [ 6.1722472 ],\n",
       "       [14.44682926],\n",
       "       [12.3521661 ],\n",
       "       [13.36208655],\n",
       "       [15.71209743],\n",
       "       [11.04550945],\n",
       "       [ 8.4213499 ],\n",
       "       [13.21363012],\n",
       "       [ 5.773072  ],\n",
       "       [13.06298936],\n",
       "       [ 6.73320732],\n",
       "       [12.80989652],\n",
       "       [12.0977286 ],\n",
       "       [10.79781031],\n",
       "       [ 9.98400386],\n",
       "       [13.09991417],\n",
       "       [ 8.78797697],\n",
       "       [12.45753654],\n",
       "       [ 5.88231503],\n",
       "       [11.74354037],\n",
       "       [11.84401775],\n",
       "       [10.78046188],\n",
       "       [14.164064  ],\n",
       "       [12.37676906],\n",
       "       [ 9.25248874],\n",
       "       [ 8.39685484],\n",
       "       [11.87928774],\n",
       "       [ 7.80818967],\n",
       "       [10.63956586],\n",
       "       [11.21546842],\n",
       "       [ 7.24790694],\n",
       "       [ 8.88067411],\n",
       "       [ 9.19572156],\n",
       "       [ 9.317148  ],\n",
       "       [ 9.79165809],\n",
       "       [10.0480613 ],\n",
       "       [13.23265804],\n",
       "       [ 6.84818904],\n",
       "       [ 7.03516797],\n",
       "       [ 7.96690944],\n",
       "       [11.80145742],\n",
       "       [ 7.81803406],\n",
       "       [10.1264929 ],\n",
       "       [ 6.86234323],\n",
       "       [ 5.78049908],\n",
       "       [ 7.32239283],\n",
       "       [11.41731021],\n",
       "       [ 7.74049505],\n",
       "       [ 9.95580367],\n",
       "       [ 9.89428085],\n",
       "       [11.65512361],\n",
       "       [ 7.89382649],\n",
       "       [11.38765185],\n",
       "       [ 6.30720266],\n",
       "       [13.74343411],\n",
       "       [11.46255233],\n",
       "       [13.06933388],\n",
       "       [10.01232562],\n",
       "       [11.81565611],\n",
       "       [ 5.65002405],\n",
       "       [ 9.38909162],\n",
       "       [ 5.88164098],\n",
       "       [ 7.22165293],\n",
       "       [ 6.51200171],\n",
       "       [ 8.04583298],\n",
       "       [11.24363601],\n",
       "       [ 7.46260078],\n",
       "       [11.6273282 ],\n",
       "       [ 9.30737611],\n",
       "       [ 8.9674789 ],\n",
       "       [ 9.18576908],\n",
       "       [ 5.20675299],\n",
       "       [11.79560176],\n",
       "       [13.75131219],\n",
       "       [ 9.46941044],\n",
       "       [11.65801069],\n",
       "       [ 7.91121351],\n",
       "       [11.07959204],\n",
       "       [ 7.2810059 ],\n",
       "       [ 8.14712541],\n",
       "       [ 9.88869381],\n",
       "       [ 5.47131059],\n",
       "       [12.17598773],\n",
       "       [ 6.05504297]])"
      ]
     },
     "execution_count": 199,
     "metadata": {},
     "output_type": "execute_result"
    }
   ],
   "source": [
    "diff = y-y_pred\n",
    "diff"
   ]
  },
  {
   "cell_type": "code",
   "execution_count": 200,
   "metadata": {},
   "outputs": [
    {
     "data": {
      "text/plain": [
       "array([[1.09762701],\n",
       "       [1.43037873],\n",
       "       [1.20552675],\n",
       "       [1.08976637],\n",
       "       [0.8473096 ],\n",
       "       [1.29178823],\n",
       "       [0.87517442],\n",
       "       [1.783546  ],\n",
       "       [1.92732552],\n",
       "       [0.76688304],\n",
       "       [1.58345008],\n",
       "       [1.05778984],\n",
       "       [1.13608912],\n",
       "       [1.85119328],\n",
       "       [0.14207212],\n",
       "       [0.1742586 ],\n",
       "       [0.04043679],\n",
       "       [1.66523969],\n",
       "       [1.5563135 ],\n",
       "       [1.7400243 ],\n",
       "       [1.95723668],\n",
       "       [1.59831713],\n",
       "       [0.92295872],\n",
       "       [1.56105835],\n",
       "       [0.23654885],\n",
       "       [1.27984204],\n",
       "       [0.28670657],\n",
       "       [1.88933783],\n",
       "       [1.04369664],\n",
       "       [0.82932388],\n",
       "       [0.52911122],\n",
       "       [1.54846738],\n",
       "       [0.91230066],\n",
       "       [1.1368679 ],\n",
       "       [0.0375796 ],\n",
       "       [1.23527099],\n",
       "       [1.22419145],\n",
       "       [1.23386799],\n",
       "       [1.88749616],\n",
       "       [1.3636406 ],\n",
       "       [0.7190158 ],\n",
       "       [0.87406391],\n",
       "       [1.39526239],\n",
       "       [0.12045094],\n",
       "       [1.33353343],\n",
       "       [1.34127574],\n",
       "       [0.42076512],\n",
       "       [0.2578526 ],\n",
       "       [0.6308567 ],\n",
       "       [0.72742154],\n",
       "       [1.14039354],\n",
       "       [0.87720303],\n",
       "       [1.97674768],\n",
       "       [0.20408962],\n",
       "       [0.41775351],\n",
       "       [0.32261904],\n",
       "       [1.30621665],\n",
       "       [0.50658321],\n",
       "       [0.93262155],\n",
       "       [0.48885118],\n",
       "       [0.31793917],\n",
       "       [0.22075028],\n",
       "       [1.31265918],\n",
       "       [0.2763659 ],\n",
       "       [0.39316472],\n",
       "       [0.73745034],\n",
       "       [1.64198646],\n",
       "       [0.19420255],\n",
       "       [1.67588981],\n",
       "       [0.19219682],\n",
       "       [1.95291893],\n",
       "       [0.9373024 ],\n",
       "       [1.95352218],\n",
       "       [1.20969104],\n",
       "       [1.47852716],\n",
       "       [0.07837558],\n",
       "       [0.56561393],\n",
       "       [0.24039312],\n",
       "       [0.5922804 ],\n",
       "       [0.23745544],\n",
       "       [0.63596636],\n",
       "       [0.82852599],\n",
       "       [0.12829499],\n",
       "       [1.38494424],\n",
       "       [1.13320291],\n",
       "       [0.53077898],\n",
       "       [1.04649611],\n",
       "       [0.18788102],\n",
       "       [1.15189299],\n",
       "       [1.8585924 ],\n",
       "       [0.6371379 ],\n",
       "       [1.33482076],\n",
       "       [0.26359572],\n",
       "       [1.43265441],\n",
       "       [0.57881219],\n",
       "       [0.36638272],\n",
       "       [1.17302587],\n",
       "       [0.04021509],\n",
       "       [1.65788006],\n",
       "       [0.00939095]])"
      ]
     },
     "execution_count": 200,
     "metadata": {},
     "output_type": "execute_result"
    }
   ],
   "source": [
    "X"
   ]
  },
  {
   "cell_type": "code",
   "execution_count": 201,
   "metadata": {},
   "outputs": [
    {
     "data": {
      "text/plain": [
       "array([[1.09762701, 1.43037873, 1.20552675, 1.08976637, 0.8473096 ,\n",
       "        1.29178823, 0.87517442, 1.783546  , 1.92732552, 0.76688304,\n",
       "        1.58345008, 1.05778984, 1.13608912, 1.85119328, 0.14207212,\n",
       "        0.1742586 , 0.04043679, 1.66523969, 1.5563135 , 1.7400243 ,\n",
       "        1.95723668, 1.59831713, 0.92295872, 1.56105835, 0.23654885,\n",
       "        1.27984204, 0.28670657, 1.88933783, 1.04369664, 0.82932388,\n",
       "        0.52911122, 1.54846738, 0.91230066, 1.1368679 , 0.0375796 ,\n",
       "        1.23527099, 1.22419145, 1.23386799, 1.88749616, 1.3636406 ,\n",
       "        0.7190158 , 0.87406391, 1.39526239, 0.12045094, 1.33353343,\n",
       "        1.34127574, 0.42076512, 0.2578526 , 0.6308567 , 0.72742154,\n",
       "        1.14039354, 0.87720303, 1.97674768, 0.20408962, 0.41775351,\n",
       "        0.32261904, 1.30621665, 0.50658321, 0.93262155, 0.48885118,\n",
       "        0.31793917, 0.22075028, 1.31265918, 0.2763659 , 0.39316472,\n",
       "        0.73745034, 1.64198646, 0.19420255, 1.67588981, 0.19219682,\n",
       "        1.95291893, 0.9373024 , 1.95352218, 1.20969104, 1.47852716,\n",
       "        0.07837558, 0.56561393, 0.24039312, 0.5922804 , 0.23745544,\n",
       "        0.63596636, 0.82852599, 0.12829499, 1.38494424, 1.13320291,\n",
       "        0.53077898, 1.04649611, 0.18788102, 1.15189299, 1.8585924 ,\n",
       "        0.6371379 , 1.33482076, 0.26359572, 1.43265441, 0.57881219,\n",
       "        0.36638272, 1.17302587, 0.04021509, 1.65788006, 0.00939095]])"
      ]
     },
     "execution_count": 201,
     "metadata": {},
     "output_type": "execute_result"
    }
   ],
   "source": [
    "X.T"
   ]
  },
  {
   "cell_type": "code",
   "execution_count": 202,
   "metadata": {},
   "outputs": [
    {
     "data": {
      "text/plain": [
       "array([[1075.13406958]])"
      ]
     },
     "execution_count": 202,
     "metadata": {},
     "output_type": "execute_result"
    }
   ],
   "source": [
    "np.dot(X.T, diff)"
   ]
  },
  {
   "cell_type": "code",
   "execution_count": 203,
   "metadata": {},
   "outputs": [
    {
     "data": {
      "text/plain": [
       "array([[-0.21502681]])"
      ]
     },
     "execution_count": 203,
     "metadata": {},
     "output_type": "execute_result"
    }
   ],
   "source": [
    "N = len(y)\n",
    "learning_rate =0.01\n",
    "w1_update= -(2/N)*learning_rate*np.dot(X.T, diff)\n",
    "w1_update"
   ]
  },
  {
   "cell_type": "code",
   "execution_count": 204,
   "metadata": {},
   "outputs": [],
   "source": [
    "w1 = w1 - w1_update\n"
   ]
  },
  {
   "cell_type": "code",
   "execution_count": 205,
   "metadata": {},
   "outputs": [
    {
     "data": {
      "text/plain": [
       "array([[0.21502681]])"
      ]
     },
     "execution_count": 205,
     "metadata": {},
     "output_type": "execute_result"
    }
   ],
   "source": [
    "w1 "
   ]
  },
  {
   "cell_type": "code",
   "execution_count": 206,
   "metadata": {},
   "outputs": [
    {
     "data": {
      "text/plain": [
       "array([[1.],\n",
       "       [1.],\n",
       "       [1.],\n",
       "       [1.],\n",
       "       [1.],\n",
       "       [1.],\n",
       "       [1.],\n",
       "       [1.],\n",
       "       [1.],\n",
       "       [1.],\n",
       "       [1.],\n",
       "       [1.],\n",
       "       [1.],\n",
       "       [1.],\n",
       "       [1.],\n",
       "       [1.],\n",
       "       [1.],\n",
       "       [1.],\n",
       "       [1.],\n",
       "       [1.],\n",
       "       [1.],\n",
       "       [1.],\n",
       "       [1.],\n",
       "       [1.],\n",
       "       [1.],\n",
       "       [1.],\n",
       "       [1.],\n",
       "       [1.],\n",
       "       [1.],\n",
       "       [1.],\n",
       "       [1.],\n",
       "       [1.],\n",
       "       [1.],\n",
       "       [1.],\n",
       "       [1.],\n",
       "       [1.],\n",
       "       [1.],\n",
       "       [1.],\n",
       "       [1.],\n",
       "       [1.],\n",
       "       [1.],\n",
       "       [1.],\n",
       "       [1.],\n",
       "       [1.],\n",
       "       [1.],\n",
       "       [1.],\n",
       "       [1.],\n",
       "       [1.],\n",
       "       [1.],\n",
       "       [1.],\n",
       "       [1.],\n",
       "       [1.],\n",
       "       [1.],\n",
       "       [1.],\n",
       "       [1.],\n",
       "       [1.],\n",
       "       [1.],\n",
       "       [1.],\n",
       "       [1.],\n",
       "       [1.],\n",
       "       [1.],\n",
       "       [1.],\n",
       "       [1.],\n",
       "       [1.],\n",
       "       [1.],\n",
       "       [1.],\n",
       "       [1.],\n",
       "       [1.],\n",
       "       [1.],\n",
       "       [1.],\n",
       "       [1.],\n",
       "       [1.],\n",
       "       [1.],\n",
       "       [1.],\n",
       "       [1.],\n",
       "       [1.],\n",
       "       [1.],\n",
       "       [1.],\n",
       "       [1.],\n",
       "       [1.],\n",
       "       [1.],\n",
       "       [1.],\n",
       "       [1.],\n",
       "       [1.],\n",
       "       [1.],\n",
       "       [1.],\n",
       "       [1.],\n",
       "       [1.],\n",
       "       [1.],\n",
       "       [1.],\n",
       "       [1.],\n",
       "       [1.],\n",
       "       [1.],\n",
       "       [1.],\n",
       "       [1.],\n",
       "       [1.],\n",
       "       [1.],\n",
       "       [1.],\n",
       "       [1.],\n",
       "       [1.]])"
      ]
     },
     "execution_count": 206,
     "metadata": {},
     "output_type": "execute_result"
    }
   ],
   "source": [
    "w0_factors = np.ones((100,1))\n",
    "w0_factors "
   ]
  },
  {
   "cell_type": "code",
   "execution_count": 207,
   "metadata": {},
   "outputs": [
    {
     "data": {
      "text/plain": [
       "array([[1., 1., 1., 1., 1., 1., 1., 1., 1., 1., 1., 1., 1., 1., 1., 1.,\n",
       "        1., 1., 1., 1., 1., 1., 1., 1., 1., 1., 1., 1., 1., 1., 1., 1.,\n",
       "        1., 1., 1., 1., 1., 1., 1., 1., 1., 1., 1., 1., 1., 1., 1., 1.,\n",
       "        1., 1., 1., 1., 1., 1., 1., 1., 1., 1., 1., 1., 1., 1., 1., 1.,\n",
       "        1., 1., 1., 1., 1., 1., 1., 1., 1., 1., 1., 1., 1., 1., 1., 1.,\n",
       "        1., 1., 1., 1., 1., 1., 1., 1., 1., 1., 1., 1., 1., 1., 1., 1.,\n",
       "        1., 1., 1., 1.]])"
      ]
     },
     "execution_count": 207,
     "metadata": {},
     "output_type": "execute_result"
    }
   ],
   "source": [
    "w0_factors.T"
   ]
  },
  {
   "cell_type": "code",
   "execution_count": 208,
   "metadata": {},
   "outputs": [
    {
     "data": {
      "text/plain": [
       "array([[-0.1994937]])"
      ]
     },
     "execution_count": 208,
     "metadata": {},
     "output_type": "execute_result"
    }
   ],
   "source": [
    "w0_update= -(2/N)*learning_rate*np.dot(w0_factors.T, diff)\n",
    "w0_update"
   ]
  },
  {
   "cell_type": "code",
   "execution_count": 209,
   "metadata": {},
   "outputs": [],
   "source": [
    "w0 = w0 -w0_update"
   ]
  },
  {
   "cell_type": "code",
   "execution_count": 210,
   "metadata": {},
   "outputs": [
    {
     "data": {
      "text/plain": [
       "array([[0.1994937]])"
      ]
     },
     "execution_count": 210,
     "metadata": {},
     "output_type": "execute_result"
    }
   ],
   "source": [
    "w0"
   ]
  },
  {
   "cell_type": "code",
   "execution_count": 211,
   "metadata": {},
   "outputs": [],
   "source": [
    "w1_update = np.zeros_like(w1)\n",
    "w0_update = np.zeros_like(w0)\n",
    "\n",
    "N = len(y)\n",
    "\n",
    "y_pred = np.dot(X, w1.T)+ w0\n",
    "diff = y-y_pred"
   ]
  },
  {
   "cell_type": "code",
   "execution_count": 212,
   "metadata": {},
   "outputs": [],
   "source": [
    "def qradient_descent_steps(X, y, iters=1000):\n",
    "    # w0와 w1을 모두 0으로 초기화.\n",
    "    w0 = np.zeros((1,1))\n",
    "    w1 = np.zeros((1,1))\n",
    "\n",
    "    # 인자로 주어진 iters 만큼 반복적으로 get_weight_updates ()호출하여 w1, w0 업데이트 수행\n",
    "    for ind in range(iters):\n",
    "        w1_update, w0_update = get_weight_updates(w1, w0, X, y, learning_rate=0.01)\n",
    "        w1 = w1 - w1_update\n",
    "        w0 = w0 - w0_update\n",
    "\n",
    "    return w1, w0"
   ]
  },
  {
   "cell_type": "code",
   "execution_count": 213,
   "metadata": {},
   "outputs": [
    {
     "name": "stdout",
     "output_type": "stream",
     "text": [
      "w1:4.022 w0:6.162\n",
      "Gradient Descent Total Coat:0.9935\n"
     ]
    }
   ],
   "source": [
    "def get_cost(y, y_pred):\n",
    "    N = len(y)\n",
    "    cost = np.sum(np.square(y- y_pred))/N\n",
    "    return cost\n",
    "w1, w0 = qradient_descent_steps(X, y, iters= 1000)\n",
    "print(\"w1:{0:.3f} w0:{1:.3f}\".format(w1[0,0],w0[0,0]))\n",
    "y_pred = w1[0,0]*X +w0\n",
    "print(\"Gradient Descent Total Coat:{0:.4f}\".format(get_cost(y,y_pred)))"
   ]
  },
  {
   "cell_type": "code",
   "execution_count": 214,
   "metadata": {},
   "outputs": [
    {
     "data": {
      "text/plain": [
       "array([[0.]])"
      ]
     },
     "execution_count": 214,
     "metadata": {},
     "output_type": "execute_result"
    }
   ],
   "source": [
    "y_pred =  np.zeros((1,1))\n",
    "y_pred"
   ]
  },
  {
   "cell_type": "code",
   "execution_count": 215,
   "metadata": {},
   "outputs": [
    {
     "name": "stdout",
     "output_type": "stream",
     "text": [
      "[67.30998637]\n"
     ]
    },
    {
     "data": {
      "image/png": "[encoded data removed]",
      "text/plain": [
       "<Figure size 640x480 with 1 Axes>"
      ]
     },
     "metadata": {},
     "output_type": "display_data"
    }
   ],
   "source": [
    "import matplotlib.pylab as plt\n",
    "from sklearn import linear_model\n",
    "\n",
    "reg = linear_model.LinearRegression()\n",
    "\n",
    "X = [[174],[152],[138],[128],[186]]\n",
    "y = [71,55,46,38,88]\n",
    "reg.fit(X,y)\n",
    "\n",
    "print(reg.predict([[165]]))\n",
    "\n",
    "plt.scatter(X,y, color='black')\n",
    "\n",
    "y_pred = reg.predict(X)\n",
    "plt.plot(X, y_pred, color='blue',linewidth=3)\n",
    "plt.show()"
   ]
  },
  {
   "cell_type": "code",
   "execution_count": 216,
   "metadata": {},
   "outputs": [
    {
     "data": {
      "text/plain": [
       "array([74.69188821, 56.64723926, 45.16428085, 36.96216769, 84.53442399])"
      ]
     },
     "execution_count": 216,
     "metadata": {},
     "output_type": "execute_result"
    }
   ],
   "source": [
    "y_pred"
   ]
  }
 ],
 "metadata": {
  "kernelspec": {
   "display_name": "Python 3.9.2 64-bit",
   "language": "python",
   "name": "python3"
  },
  "language_info": {
   "codemirror_mode": {
    "name": "ipython",
    "version": 3
   },
   "file_extension": ".py",
   "mimetype": "text/x-python",
   "name": "python",
   "nbconvert_exporter": "python",
   "pygments_lexer": "ipython3",
   "version": "3.9.2"
  },
  "orig_nbformat": 4,
  "vscode": {
   "interpreter": {
    "hash": "5ac3dc5204765ef4cf6034b88f5229e324b7e98f7affac00fee6f1eb9f99b4c7"
   }
  }
 },
 "nbformat": 4,
 "nbformat_minor": 2
}
